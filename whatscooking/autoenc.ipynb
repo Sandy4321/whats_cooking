{
 "cells": [
  {
   "cell_type": "code",
   "execution_count": 1,
   "metadata": {
    "collapsed": true
   },
   "outputs": [],
   "source": [
    "import numpy as np\n",
    "import pandas as pd\n",
    "import matplotlib.pyplot as plt\n",
    "%matplotlib inline"
   ]
  },
  {
   "cell_type": "code",
   "execution_count": 2,
   "metadata": {
    "collapsed": true
   },
   "outputs": [],
   "source": [
    "import json"
   ]
  },
  {
   "cell_type": "code",
   "execution_count": 3,
   "metadata": {
    "collapsed": true
   },
   "outputs": [],
   "source": [
    "import sys\n",
    "oldsysstdout = sys.stdout\n",
    "class flushfile():\n",
    "    def __init__(self, f):\n",
    "        self.f = f\n",
    "    def __getattr__(self,name): \n",
    "        return object.__getattribute__(self.f, name)\n",
    "    def write(self, x):\n",
    "        self.f.write(x)\n",
    "        self.f.flush()\n",
    "    def flush(self):\n",
    "        self.f.flush()\n",
    "sys.stdout = flushfile(sys.stdout)"
   ]
  },
  {
   "cell_type": "code",
   "execution_count": 4,
   "metadata": {
    "collapsed": true
   },
   "outputs": [],
   "source": [
    "with open('../train.json', 'r') as f:\n",
    "    train = json.load(f)\n",
    "with open('../test.json', 'r') as f:\n",
    "    test = json.load(f)"
   ]
  },
  {
   "cell_type": "code",
   "execution_count": 5,
   "metadata": {
    "collapsed": true
   },
   "outputs": [],
   "source": [
    "vec = []\n",
    "for i in train:\n",
    "    [vec.append(j) for j in i['ingredients']]"
   ]
  },
  {
   "cell_type": "code",
   "execution_count": 6,
   "metadata": {
    "collapsed": true
   },
   "outputs": [],
   "source": [
    "cats = np.unique((np.array(vec)))"
   ]
  },
  {
   "cell_type": "code",
   "execution_count": 7,
   "metadata": {
    "collapsed": true
   },
   "outputs": [],
   "source": [
    "from scipy.sparse import csr_matrix"
   ]
  },
  {
   "cell_type": "code",
   "execution_count": 8,
   "metadata": {
    "collapsed": true
   },
   "outputs": [],
   "source": [
    "X = csr_matrix(map(lambda y: np.array(map(lambda x: 1 if x in y['ingredients'] else 0, cats), dtype='int8'), train))"
   ]
  },
  {
   "cell_type": "code",
   "execution_count": 9,
   "metadata": {
    "collapsed": false
   },
   "outputs": [
    {
     "data": {
      "text/plain": [
       "(39774, 6714)"
      ]
     },
     "execution_count": 9,
     "metadata": {},
     "output_type": "execute_result"
    }
   ],
   "source": [
    "X.shape"
   ]
  },
  {
   "cell_type": "code",
   "execution_count": 10,
   "metadata": {
    "collapsed": true
   },
   "outputs": [],
   "source": [
    "target = map(lambda x: x['cuisine'], train)"
   ]
  },
  {
   "cell_type": "code",
   "execution_count": 11,
   "metadata": {
    "collapsed": true
   },
   "outputs": [],
   "source": [
    "b, y = np.unique(target, return_inverse=True)"
   ]
  },
  {
   "cell_type": "code",
   "execution_count": 12,
   "metadata": {
    "collapsed": true
   },
   "outputs": [],
   "source": [
    "test_sp = csr_matrix(map(lambda y: np.array(map(lambda x: 1 if x in y['ingredients'] else 0, cats), dtype='int8'), test))"
   ]
  },
  {
   "cell_type": "code",
   "execution_count": 13,
   "metadata": {
    "collapsed": false
   },
   "outputs": [
    {
     "name": "stderr",
     "output_type": "stream",
     "text": [
      "Using gpu device 0: GeForce GTX 670 (CNMeM is disabled)\n"
     ]
    }
   ],
   "source": [
    "import lasagne\n",
    "from lasagne.layers import InputLayer, DenseLayer, DropoutLayer\n",
    "from lasagne.utils import floatX\n",
    "import theano.tensor as T\n",
    "import theano"
   ]
  },
  {
   "cell_type": "code",
   "execution_count": 42,
   "metadata": {
    "collapsed": false
   },
   "outputs": [],
   "source": [
    "input_var = T.tensor3('inputs')\n",
    "target_var = T.tensor3('targets')"
   ]
  },
  {
   "cell_type": "code",
   "execution_count": 104,
   "metadata": {
    "collapsed": true
   },
   "outputs": [],
   "source": [
    "net = {}\n",
    "net['input'] = InputLayer((None, 1, 6714),input_var=input_var)\n",
    "net['fc1'] = DenseLayer(net['input'], num_units=200,\n",
    "                        nonlinearity = lasagne.nonlinearities.sigmoid)\n",
    "net['fc2'] = DenseLayer(net['fc1'], num_units=6714, nonlinearity=lasagne.nonlinearities.sigmoid, W = net['fc1'].W.T)\n",
    "output_layer = net['fc2']"
   ]
  },
  {
   "cell_type": "code",
   "execution_count": 105,
   "metadata": {
    "collapsed": true
   },
   "outputs": [],
   "source": [
    "def iterate_minibatches(inputs, targets, batchsize, shuffle=False):\n",
    "    assert len(inputs) == len(targets)\n",
    "    if shuffle:\n",
    "        indices = np.arange(inputs.shape[0])\n",
    "        np.random.shuffle(indices)\n",
    "    for start_idx in range(0, inputs.shape[0] - batchsize + 1, batchsize):\n",
    "        if shuffle:\n",
    "            excerpt = indices[start_idx:start_idx + batchsize]\n",
    "        else:\n",
    "            excerpt = slice(start_idx, start_idx + batchsize)\n",
    "        yield inputs[excerpt].reshape((-1, 1, 6714)), targets[excerpt]"
   ]
  },
  {
   "cell_type": "code",
   "execution_count": 106,
   "metadata": {
    "collapsed": false
   },
   "outputs": [],
   "source": [
    "prediction = lasagne.layers.get_output(output_layer).reshape((-1, 1, 6714))\n",
    "loss = lasagne.objectives.squared_error(prediction, input_var)\n",
    "loss = loss.mean() + lasagne.regularization.regularize_layer_params_weighted({net['fc1']: 0.1}, \n",
    "                                                                             lasagne.regularization.l2)\n",
    "\n",
    "params = lasagne.layers.get_all_params(net['fc1'], trainable=True)\n",
    "updates = lasagne.updates.nesterov_momentum(loss, params, learning_rate=0.5, momentum=0.9)\n",
    "\n",
    "test_prediction = lasagne.layers.get_output(output_layer, deterministic=True).reshape((-1, 1, 6714))\n",
    "test_loss = lasagne.objectives.squared_error(test_prediction, input_var)\n",
    "test_loss = test_loss.mean()\n",
    "\n",
    "train_fn = theano.function([input_var], loss, updates=updates)\n",
    "\n",
    "val_fn = theano.function([input_var], test_loss)\n",
    "\n",
    "test_fn = theano.function([input_var], test_prediction)"
   ]
  },
  {
   "cell_type": "code",
   "execution_count": 37,
   "metadata": {
    "collapsed": true
   },
   "outputs": [],
   "source": [
    "from sklearn.cross_validation import train_test_split\n",
    "import time"
   ]
  },
  {
   "cell_type": "code",
   "execution_count": 38,
   "metadata": {
    "collapsed": false
   },
   "outputs": [],
   "source": [
    "X_train, X_test, y_train, y_test = train_test_split(X, y, test_size = .15)"
   ]
  },
  {
   "cell_type": "code",
   "execution_count": 39,
   "metadata": {
    "collapsed": true
   },
   "outputs": [],
   "source": [
    "X_train = X_train.toarray()\n",
    "X_test = X_test.toarray()\n",
    "X_train = X_train.astype('float32')\n",
    "X_test = X_test.astype('float32')\n",
    "y_train = y_train.astype('int32')\n",
    "y_test = y_test.astype('int32')"
   ]
  },
  {
   "cell_type": "code",
   "execution_count": 40,
   "metadata": {
    "collapsed": false
   },
   "outputs": [
    {
     "data": {
      "text/plain": [
       "(33807, 6714)"
      ]
     },
     "execution_count": 40,
     "metadata": {},
     "output_type": "execute_result"
    }
   ],
   "source": [
    "X_train.shape"
   ]
  },
  {
   "cell_type": "code",
   "execution_count": 107,
   "metadata": {
    "collapsed": false,
    "scrolled": true
   },
   "outputs": [
    {
     "name": "stdout",
     "output_type": "stream",
     "text": [
      "Starting training...\n",
      "Epoch 1 of 1000 took 5.554s\n",
      "  training loss:\t\t3.734677\n",
      "  validation loss:\t\t0.247682\n",
      "Epoch 2 of 1000 took 5.459s\n",
      "  training loss:\t\t0.250913\n",
      "  validation loss:\t\t0.247701\n",
      "Epoch 3 of 1000 took 5.555s\n",
      "  training loss:\t\t0.248830\n",
      "  validation loss:\t\t0.247700\n",
      "Epoch 4 of 1000 took 5.435s\n",
      "  training loss:\t\t0.248833\n",
      "  validation loss:\t\t0.247698\n",
      "Epoch 5 of 1000 took 5.430s\n",
      "  training loss:\t\t0.248832\n",
      "  validation loss:\t\t0.247696\n",
      "Epoch 6 of 1000 took 5.465s\n",
      "  training loss:\t\t0.248797\n",
      "  validation loss:\t\t0.247694\n",
      "Epoch 7 of 1000 took 5.444s\n",
      "  training loss:\t\t0.248779\n",
      "  validation loss:\t\t0.247692\n",
      "Epoch 8 of 1000 took 5.434s\n",
      "  training loss:\t\t0.248774\n",
      "  validation loss:\t\t0.247689\n",
      "Epoch 9 of 1000 took 5.421s\n",
      "  training loss:\t\t0.248772\n",
      "  validation loss:\t\t0.247687\n",
      "Epoch 10 of 1000 took 5.443s\n",
      "  training loss:\t\t0.248771\n",
      "  validation loss:\t\t0.247685\n",
      "Epoch 11 of 1000 took 5.420s\n",
      "  training loss:\t\t0.248771\n",
      "  validation loss:\t\t0.247683\n",
      "Epoch 12 of 1000 took 5.425s\n",
      "  training loss:\t\t0.248771\n",
      "  validation loss:\t\t0.247681\n",
      "Epoch 13 of 1000 took 5.427s\n",
      "  training loss:\t\t0.248771\n",
      "  validation loss:\t\t0.247678\n",
      "Epoch 14 of 1000 took 5.412s\n",
      "  training loss:\t\t0.248771\n",
      "  validation loss:\t\t0.247676\n",
      "Epoch 15 of 1000 took 5.417s\n",
      "  training loss:\t\t0.248771\n",
      "  validation loss:\t\t0.247674\n",
      "Epoch 16 of 1000 took 5.423s\n",
      "  training loss:\t\t0.248772\n",
      "  validation loss:\t\t0.247672\n",
      "Epoch 17 of 1000 took 5.418s\n",
      "  training loss:\t\t0.248772\n",
      "  validation loss:\t\t0.247670\n",
      "Epoch 18 of 1000 took 5.437s\n",
      "  training loss:\t\t0.248773\n",
      "  validation loss:\t\t0.247668\n",
      "Epoch 19 of 1000 took 5.418s\n",
      "  training loss:\t\t0.248773\n",
      "  validation loss:\t\t0.247665\n",
      "Epoch 20 of 1000 took 5.441s\n",
      "  training loss:\t\t0.248772\n",
      "  validation loss:\t\t0.247663\n",
      "Epoch 21 of 1000 took 5.439s\n",
      "  training loss:\t\t0.248771\n",
      "  validation loss:\t\t0.247661\n",
      "Epoch 22 of 1000 took 5.438s\n",
      "  training loss:\t\t0.248772\n",
      "  validation loss:\t\t0.247659\n",
      "Epoch 23 of 1000 took 5.416s\n",
      "  training loss:\t\t0.248772\n",
      "  validation loss:\t\t0.247657\n",
      "Epoch 24 of 1000 took 5.416s\n",
      "  training loss:\t\t0.248773\n",
      "  validation loss:\t\t0.247654\n",
      "Epoch 25 of 1000 took 5.416s\n",
      "  training loss:\t\t0.248774\n",
      "  validation loss:\t\t0.247652\n",
      "Epoch 26 of 1000 took 5.422s\n",
      "  training loss:\t\t0.248774\n",
      "  validation loss:\t\t0.247650\n",
      "Epoch 27 of 1000 took 5.448s\n",
      "  training loss:\t\t0.248775\n",
      "  validation loss:\t\t0.247648\n",
      "Epoch 28 of 1000 took 5.439s\n",
      "  training loss:\t\t0.248775\n",
      "  validation loss:\t\t0.247646\n",
      "Epoch 29 of 1000 took 5.447s\n",
      "  training loss:\t\t0.248776\n",
      "  validation loss:\t\t0.247643\n",
      "Epoch 30 of 1000 took 5.422s\n",
      "  training loss:\t\t0.248777\n",
      "  validation loss:\t\t0.247641\n",
      "Epoch 31 of 1000 took 5.434s\n",
      "  training loss:\t\t0.248777\n",
      "  validation loss:\t\t0.247639\n",
      "Epoch 32 of 1000 took 5.438s\n",
      "  training loss:\t\t0.248778\n",
      "  validation loss:\t\t0.247637\n",
      "Epoch 33 of 1000 took 5.433s\n",
      "  training loss:\t\t0.248777\n",
      "  validation loss:\t\t0.247635\n",
      "Epoch 34 of 1000 took 5.451s\n",
      "  training loss:\t\t0.248768\n",
      "  validation loss:\t\t0.247632\n",
      "Epoch 35 of 1000 took 5.461s\n",
      "  training loss:\t\t0.248766\n",
      "  validation loss:\t\t0.247630\n",
      "Epoch 36 of 1000 took 5.450s\n",
      "  training loss:\t\t0.248766\n",
      "  validation loss:\t\t0.247628\n",
      "Epoch 37 of 1000 took 5.460s\n",
      "  training loss:\t\t0.248766\n",
      "  validation loss:\t\t0.247626\n",
      "Epoch 38 of 1000 took 5.427s\n",
      "  training loss:\t\t0.248767\n",
      "  validation loss:\t\t0.247623\n",
      "Epoch 39 of 1000 took 5.435s\n",
      "  training loss:\t\t0.248767\n",
      "  validation loss:\t\t0.247621\n",
      "Epoch 40 of 1000 took 5.431s\n",
      "  training loss:\t\t0.248768\n",
      "  validation loss:\t\t0.247619\n",
      "Epoch 41 of 1000 took 5.438s\n",
      "  training loss:\t\t0.248768\n",
      "  validation loss:\t\t0.247617\n",
      "Epoch 42 of 1000 took 5.422s\n",
      "  training loss:\t\t0.248769\n",
      "  validation loss:\t\t0.247615\n",
      "Epoch 43 of 1000 took 5.433s\n",
      "  training loss:\t\t0.248769\n",
      "  validation loss:\t\t0.247612\n",
      "Epoch 44 of 1000 took 5.440s\n",
      "  training loss:\t\t0.248770\n",
      "  validation loss:\t\t0.247610\n",
      "Epoch 45 of 1000 took 5.431s\n",
      "  training loss:\t\t0.248771\n",
      "  validation loss:\t\t0.247608\n",
      "Epoch 46 of 1000 took 5.459s\n",
      "  training loss:\t\t0.248772\n",
      "  validation loss:\t\t0.247606\n",
      "Epoch 47 of 1000 took 5.431s\n",
      "  training loss:\t\t0.248771\n",
      "  validation loss:\t\t0.247603\n",
      "Epoch 48 of 1000 took 5.449s\n",
      "  training loss:\t\t0.248770\n",
      "  validation loss:\t\t0.247601\n",
      "Epoch 49 of 1000 took 5.420s\n",
      "  training loss:\t\t0.248771\n",
      "  validation loss:\t\t0.247599\n",
      "Epoch 50 of 1000 took 5.420s\n",
      "  training loss:\t\t0.248772\n",
      "  validation loss:\t\t0.247597\n",
      "Epoch 51 of 1000 took 5.449s\n",
      "  training loss:\t\t0.248772\n",
      "  validation loss:\t\t0.247594\n",
      "Epoch 52 of 1000 took 5.418s\n",
      "  training loss:\t\t0.248773\n",
      "  validation loss:\t\t0.247592\n",
      "Epoch 53 of 1000 took 5.429s\n",
      "  training loss:\t\t0.248774\n",
      "  validation loss:\t\t0.247590\n",
      "Epoch 54 of 1000 took 5.457s\n",
      "  training loss:\t\t0.248774\n",
      "  validation loss:\t\t0.247588\n",
      "Epoch 55 of 1000 took 5.444s\n",
      "  training loss:\t\t0.248775\n",
      "  validation loss:\t\t0.247585\n",
      "Epoch 56 of 1000 took 5.419s\n",
      "  training loss:\t\t0.248776\n",
      "  validation loss:\t\t0.247583\n",
      "Epoch 57 of 1000 took 5.435s\n",
      "  training loss:\t\t0.248777\n",
      "  validation loss:\t\t0.247581\n",
      "Epoch 58 of 1000 took 5.438s\n",
      "  training loss:\t\t0.248777\n",
      "  validation loss:\t\t0.247579\n",
      "Epoch 59 of 1000 took 5.438s\n",
      "  training loss:\t\t0.248778\n",
      "  validation loss:\t\t0.247576\n",
      "Epoch 60 of 1000 took 5.431s\n",
      "  training loss:\t\t0.248779\n",
      "  validation loss:\t\t0.247574\n",
      "Epoch 61 of 1000 took 5.422s\n",
      "  training loss:\t\t0.248780\n",
      "  validation loss:\t\t0.247572\n",
      "Epoch 62 of 1000 took 5.417s\n",
      "  training loss:\t\t0.248781\n",
      "  validation loss:\t\t0.247569\n",
      "Epoch 63 of 1000 took 5.449s\n",
      "  training loss:\t\t0.248782\n",
      "  validation loss:\t\t0.247567\n",
      "Epoch 64 of 1000 took 5.444s\n",
      "  training loss:\t\t0.248783\n",
      "  validation loss:\t\t0.247565\n",
      "Epoch 65 of 1000 took 5.416s\n",
      "  training loss:\t\t0.248784\n",
      "  validation loss:\t\t0.247563\n",
      "Epoch 66 of 1000 took 5.439s\n",
      "  training loss:\t\t0.248785\n",
      "  validation loss:\t\t0.247560\n",
      "Epoch 67 of 1000 took 5.452s\n",
      "  training loss:\t\t0.248786\n",
      "  validation loss:\t\t0.247558\n",
      "Epoch 68 of 1000 took 5.446s\n",
      "  training loss:\t\t0.248786\n",
      "  validation loss:\t\t0.247556\n",
      "Epoch 69 of 1000 took 5.440s\n",
      "  training loss:\t\t0.248787\n",
      "  validation loss:\t\t0.247553\n",
      "Epoch 70 of 1000 took 5.444s\n",
      "  training loss:\t\t0.248788\n",
      "  validation loss:\t\t0.247551\n",
      "Epoch 71 of 1000 took 5.455s\n",
      "  training loss:\t\t0.248789\n",
      "  validation loss:\t\t0.247549\n",
      "Epoch 72 of 1000 took 5.426s\n",
      "  training loss:\t\t0.248790\n",
      "  validation loss:\t\t0.247547\n",
      "Epoch 73 of 1000 took 5.410s\n",
      "  training loss:\t\t0.248791\n",
      "  validation loss:\t\t0.247544\n",
      "Epoch 74 of 1000 took 5.445s\n",
      "  training loss:\t\t0.248790\n",
      "  validation loss:\t\t0.247542\n",
      "Epoch 75 of 1000 took 5.446s\n",
      "  training loss:\t\t0.248789\n",
      "  validation loss:\t\t0.247540\n",
      "Epoch 76 of 1000 took 5.433s\n",
      "  training loss:\t\t0.248790\n",
      "  validation loss:\t\t0.247538\n",
      "Epoch 77 of 1000 took 5.430s\n",
      "  training loss:\t\t0.248791\n",
      "  validation loss:\t\t0.247535\n",
      "Epoch 78 of 1000 took 5.431s\n",
      "  training loss:\t\t0.248792\n",
      "  validation loss:\t\t0.247533\n",
      "Epoch 79 of 1000 took 5.416s\n",
      "  training loss:\t\t0.248793\n",
      "  validation loss:\t\t0.247531\n",
      "Epoch 80 of 1000 took 5.640s\n",
      "  training loss:\t\t0.248793\n",
      "  validation loss:\t\t0.247528\n"
     ]
    },
    {
     "ename": "KeyboardInterrupt",
     "evalue": "",
     "output_type": "error",
     "traceback": [
      "\u001b[1;31m---------------------------------------------------------------------------\u001b[0m",
      "\u001b[1;31mKeyboardInterrupt\u001b[0m                         Traceback (most recent call last)",
      "\u001b[1;32m<ipython-input-107-1acb44868989>\u001b[0m in \u001b[0;36m<module>\u001b[1;34m()\u001b[0m\n\u001b[0;32m     27\u001b[0m     \u001b[1;32mfor\u001b[0m \u001b[0mbatch\u001b[0m \u001b[1;32min\u001b[0m \u001b[0miterate_minibatches\u001b[0m\u001b[1;33m(\u001b[0m\u001b[0mX_test\u001b[0m\u001b[1;33m,\u001b[0m \u001b[0my_test\u001b[0m\u001b[1;33m,\u001b[0m \u001b[1;36m1\u001b[0m\u001b[1;33m,\u001b[0m \u001b[0mshuffle\u001b[0m\u001b[1;33m=\u001b[0m\u001b[0mFalse\u001b[0m\u001b[1;33m)\u001b[0m\u001b[1;33m:\u001b[0m\u001b[1;33m\u001b[0m\u001b[0m\n\u001b[0;32m     28\u001b[0m         \u001b[0minputs\u001b[0m\u001b[1;33m,\u001b[0m \u001b[0mtargets\u001b[0m \u001b[1;33m=\u001b[0m \u001b[0mbatch\u001b[0m\u001b[1;33m\u001b[0m\u001b[0m\n\u001b[1;32m---> 29\u001b[1;33m         \u001b[0merr\u001b[0m \u001b[1;33m=\u001b[0m \u001b[0mval_fn\u001b[0m\u001b[1;33m(\u001b[0m\u001b[0minputs\u001b[0m\u001b[1;33m)\u001b[0m\u001b[1;33m\u001b[0m\u001b[0m\n\u001b[0m\u001b[0;32m     30\u001b[0m         \u001b[0mval_err\u001b[0m \u001b[1;33m+=\u001b[0m \u001b[0merr\u001b[0m\u001b[1;33m\u001b[0m\u001b[0m\n\u001b[0;32m     31\u001b[0m         \u001b[0mval_batches\u001b[0m \u001b[1;33m+=\u001b[0m \u001b[1;36m1\u001b[0m\u001b[1;33m\u001b[0m\u001b[0m\n",
      "\u001b[1;32m/home/libfun/.virtualenvs/main/local/lib/python2.7/site-packages/theano/compile/function_module.pyc\u001b[0m in \u001b[0;36m__call__\u001b[1;34m(self, *args, **kwargs)\u001b[0m\n\u001b[0;32m    857\u001b[0m         \u001b[0mt0_fn\u001b[0m \u001b[1;33m=\u001b[0m \u001b[0mtime\u001b[0m\u001b[1;33m.\u001b[0m\u001b[0mtime\u001b[0m\u001b[1;33m(\u001b[0m\u001b[1;33m)\u001b[0m\u001b[1;33m\u001b[0m\u001b[0m\n\u001b[0;32m    858\u001b[0m         \u001b[1;32mtry\u001b[0m\u001b[1;33m:\u001b[0m\u001b[1;33m\u001b[0m\u001b[0m\n\u001b[1;32m--> 859\u001b[1;33m             \u001b[0moutputs\u001b[0m \u001b[1;33m=\u001b[0m \u001b[0mself\u001b[0m\u001b[1;33m.\u001b[0m\u001b[0mfn\u001b[0m\u001b[1;33m(\u001b[0m\u001b[1;33m)\u001b[0m\u001b[1;33m\u001b[0m\u001b[0m\n\u001b[0m\u001b[0;32m    860\u001b[0m         \u001b[1;32mexcept\u001b[0m \u001b[0mException\u001b[0m\u001b[1;33m:\u001b[0m\u001b[1;33m\u001b[0m\u001b[0m\n\u001b[0;32m    861\u001b[0m             \u001b[1;32mif\u001b[0m \u001b[0mhasattr\u001b[0m\u001b[1;33m(\u001b[0m\u001b[0mself\u001b[0m\u001b[1;33m.\u001b[0m\u001b[0mfn\u001b[0m\u001b[1;33m,\u001b[0m \u001b[1;34m'position_of_error'\u001b[0m\u001b[1;33m)\u001b[0m\u001b[1;33m:\u001b[0m\u001b[1;33m\u001b[0m\u001b[0m\n",
      "\u001b[1;32m/home/libfun/.virtualenvs/main/local/lib/python2.7/site-packages/theano/gof/op.pyc\u001b[0m in \u001b[0;36mrval\u001b[1;34m(p, i, o, n)\u001b[0m\n\u001b[0;32m    862\u001b[0m         \u001b[1;32mif\u001b[0m \u001b[0mparams\u001b[0m \u001b[1;32mis\u001b[0m \u001b[0mgraph\u001b[0m\u001b[1;33m.\u001b[0m\u001b[0mNoParams\u001b[0m\u001b[1;33m:\u001b[0m\u001b[1;33m\u001b[0m\u001b[0m\n\u001b[0;32m    863\u001b[0m             \u001b[1;31m# default arguments are stored in the closure of `rval`\u001b[0m\u001b[1;33m\u001b[0m\u001b[1;33m\u001b[0m\u001b[0m\n\u001b[1;32m--> 864\u001b[1;33m             \u001b[1;32mdef\u001b[0m \u001b[0mrval\u001b[0m\u001b[1;33m(\u001b[0m\u001b[0mp\u001b[0m\u001b[1;33m=\u001b[0m\u001b[0mp\u001b[0m\u001b[1;33m,\u001b[0m \u001b[0mi\u001b[0m\u001b[1;33m=\u001b[0m\u001b[0mnode_input_storage\u001b[0m\u001b[1;33m,\u001b[0m \u001b[0mo\u001b[0m\u001b[1;33m=\u001b[0m\u001b[0mnode_output_storage\u001b[0m\u001b[1;33m,\u001b[0m \u001b[0mn\u001b[0m\u001b[1;33m=\u001b[0m\u001b[0mnode\u001b[0m\u001b[1;33m)\u001b[0m\u001b[1;33m:\u001b[0m\u001b[1;33m\u001b[0m\u001b[0m\n\u001b[0m\u001b[0;32m    865\u001b[0m                 \u001b[0mr\u001b[0m \u001b[1;33m=\u001b[0m \u001b[0mp\u001b[0m\u001b[1;33m(\u001b[0m\u001b[0mn\u001b[0m\u001b[1;33m,\u001b[0m \u001b[1;33m[\u001b[0m\u001b[0mx\u001b[0m\u001b[1;33m[\u001b[0m\u001b[1;36m0\u001b[0m\u001b[1;33m]\u001b[0m \u001b[1;32mfor\u001b[0m \u001b[0mx\u001b[0m \u001b[1;32min\u001b[0m \u001b[0mi\u001b[0m\u001b[1;33m]\u001b[0m\u001b[1;33m,\u001b[0m \u001b[0mo\u001b[0m\u001b[1;33m)\u001b[0m\u001b[1;33m\u001b[0m\u001b[0m\n\u001b[0;32m    866\u001b[0m                 \u001b[1;32mfor\u001b[0m \u001b[0mo\u001b[0m \u001b[1;32min\u001b[0m \u001b[0mnode\u001b[0m\u001b[1;33m.\u001b[0m\u001b[0moutputs\u001b[0m\u001b[1;33m:\u001b[0m\u001b[1;33m\u001b[0m\u001b[0m\n",
      "\u001b[1;31mKeyboardInterrupt\u001b[0m: "
     ]
    }
   ],
   "source": [
    "num_epochs = 1000\n",
    "batchsize = 1000\n",
    "\n",
    "terr = []\n",
    "tacc = []\n",
    "verr = []\n",
    "vacc = []\n",
    "eps = []\n",
    "\n",
    "# Finally, launch the training loop.\n",
    "print(\"Starting training...\")\n",
    "# We iterate over epochs:\n",
    "for epoch in range(num_epochs):\n",
    "    # In each epoch, we do a full pass over the training data:\n",
    "    train_err = 0\n",
    "    train_batches = 0\n",
    "    start_time = time.time()\n",
    "    for batch in iterate_minibatches(X_train, y_train, batchsize, shuffle=True):\n",
    "        inputs, targets = batch\n",
    "        train_err += train_fn(inputs)\n",
    "        train_batches += 1\n",
    "\n",
    "    # And a full pass over the validation data:\n",
    "    val_err = 0\n",
    "    val_acc = 0\n",
    "    val_batches = 0\n",
    "    for batch in iterate_minibatches(X_test, y_test, 1, shuffle=False):\n",
    "        inputs, targets = batch\n",
    "        err = val_fn(inputs)\n",
    "        val_err += err\n",
    "        val_batches += 1\n",
    "\n",
    "    # Then we print the results for this epoch:\n",
    "    print(\"Epoch {} of {} took {:.3f}s\".format(\n",
    "        epoch + 1, num_epochs, time.time() - start_time))\n",
    "    print(\"  training loss:\\t\\t{:.6f}\".format(train_err / train_batches))\n",
    "    print(\"  validation loss:\\t\\t{:.6f}\".format(val_err / val_batches))\n",
    "    \n",
    "    eps.append(epoch+1)\n",
    "    terr.append(train_err / float(train_batches))\n",
    "    verr.append(val_err / float(val_batches))"
   ]
  },
  {
   "cell_type": "code",
   "execution_count": null,
   "metadata": {
    "collapsed": true
   },
   "outputs": [],
   "source": []
  }
 ],
 "metadata": {
  "kernelspec": {
   "display_name": "Python 2",
   "language": "python",
   "name": "python2"
  },
  "language_info": {
   "codemirror_mode": {
    "name": "ipython",
    "version": 2
   },
   "file_extension": ".py",
   "mimetype": "text/x-python",
   "name": "python",
   "nbconvert_exporter": "python",
   "pygments_lexer": "ipython2",
   "version": "2.7.6"
  }
 },
 "nbformat": 4,
 "nbformat_minor": 0
}
