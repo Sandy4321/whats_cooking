{
 "cells": [
  {
   "cell_type": "code",
   "execution_count": 1,
   "metadata": {
    "collapsed": true
   },
   "outputs": [],
   "source": [
    "import numpy as np\n",
    "import pandas as pd\n",
    "import matplotlib.pyplot as plt\n",
    "%matplotlib inline"
   ]
  },
  {
   "cell_type": "code",
   "execution_count": 2,
   "metadata": {
    "collapsed": true
   },
   "outputs": [],
   "source": [
    "import sys\n",
    "oldsysstdout = sys.stdout\n",
    "class flushfile():\n",
    "    def __init__(self, f):\n",
    "        self.f = f\n",
    "    def __getattr__(self,name): \n",
    "        return object.__getattribute__(self.f, name)\n",
    "    def write(self, x):\n",
    "        self.f.write(x)\n",
    "        self.f.flush()\n",
    "    def flush(self):\n",
    "        self.f.flush()\n",
    "sys.stdout = flushfile(sys.stdout)"
   ]
  },
  {
   "cell_type": "code",
   "execution_count": 3,
   "metadata": {
    "collapsed": true
   },
   "outputs": [],
   "source": [
    "import json"
   ]
  },
  {
   "cell_type": "code",
   "execution_count": 4,
   "metadata": {
    "collapsed": true
   },
   "outputs": [],
   "source": [
    "with open('../train.json', 'r') as f:\n",
    "    train = json.load(f)\n",
    "with open('../test.json', 'r') as f:\n",
    "    test = json.load(f)"
   ]
  },
  {
   "cell_type": "code",
   "execution_count": 5,
   "metadata": {
    "collapsed": true
   },
   "outputs": [],
   "source": [
    "vec = []\n",
    "for i in train:\n",
    "    [vec.append(j) for j in i['ingredients']]"
   ]
  },
  {
   "cell_type": "code",
   "execution_count": 6,
   "metadata": {
    "collapsed": true
   },
   "outputs": [],
   "source": [
    "cats = np.unique((np.array(vec)))"
   ]
  },
  {
   "cell_type": "code",
   "execution_count": 7,
   "metadata": {
    "collapsed": true
   },
   "outputs": [],
   "source": [
    "from scipy.sparse import csr_matrix"
   ]
  },
  {
   "cell_type": "code",
   "execution_count": 8,
   "metadata": {
    "collapsed": true
   },
   "outputs": [],
   "source": [
    "X = csr_matrix(map(lambda y: np.array(map(lambda x: 1 if x in y['ingredients'] else 0, cats), dtype='int8'), train))"
   ]
  },
  {
   "cell_type": "code",
   "execution_count": 9,
   "metadata": {
    "collapsed": false
   },
   "outputs": [
    {
     "data": {
      "text/plain": [
       "(39774, 6714)"
      ]
     },
     "execution_count": 9,
     "metadata": {},
     "output_type": "execute_result"
    }
   ],
   "source": [
    "X.shape"
   ]
  },
  {
   "cell_type": "code",
   "execution_count": 10,
   "metadata": {
    "collapsed": true
   },
   "outputs": [],
   "source": [
    "target = map(lambda x: x['cuisine'], train)"
   ]
  },
  {
   "cell_type": "code",
   "execution_count": 11,
   "metadata": {
    "collapsed": true
   },
   "outputs": [],
   "source": [
    "b, y = np.unique(target, return_inverse=True)"
   ]
  },
  {
   "cell_type": "code",
   "execution_count": 12,
   "metadata": {
    "collapsed": true
   },
   "outputs": [],
   "source": [
    "test_sp = csr_matrix(map(lambda y: np.array(map(lambda x: 1 if x in y['ingredients'] else 0, cats), dtype='int8'), test))"
   ]
  },
  {
   "cell_type": "code",
   "execution_count": 13,
   "metadata": {
    "collapsed": true
   },
   "outputs": [],
   "source": [
    "from sklearn.cross_validation import train_test_split, StratifiedKFold"
   ]
  },
  {
   "cell_type": "code",
   "execution_count": 49,
   "metadata": {
    "collapsed": true
   },
   "outputs": [],
   "source": [
    "cv = StratifiedKFold(y, n_folds = 5, random_state = 0)"
   ]
  },
  {
   "cell_type": "code",
   "execution_count": 15,
   "metadata": {
    "collapsed": true
   },
   "outputs": [],
   "source": [
    "import xgboost as xgb"
   ]
  },
  {
   "cell_type": "code",
   "execution_count": 56,
   "metadata": {
    "collapsed": false
   },
   "outputs": [],
   "source": [
    "params = {\"objective\": [\"multi:softmax\"], \n",
    "          \"booster\": [\"gbtree\"],\n",
    "          \"nthread\": [3],\n",
    "          \"eta\": [0.5], \n",
    "          \"max_depth\": [3, 5, 10, 20], \n",
    "          \"subsample\": [0.5, 0.7, 0.9], \n",
    "          \"colsample_bytree\": [0.5, 0.7, 0.9],\n",
    "          \"num_class\": [20],\n",
    "          \"lambda\": [1., 10., 100.], \n",
    "          \"alpha\": [0., .1, 1.],\n",
    "          \"silent\": [1]\n",
    "         } \n",
    "num_trees = 5000"
   ]
  },
  {
   "cell_type": "code",
   "execution_count": 57,
   "metadata": {
    "collapsed": false
   },
   "outputs": [],
   "source": [
    "from itertools import product, izip, permutations\n",
    "grid = [dict(izip(params, x)) for x in product(*params.itervalues())]"
   ]
  },
  {
   "cell_type": "code",
   "execution_count": 58,
   "metadata": {
    "collapsed": false
   },
   "outputs": [
    {
     "data": {
      "text/plain": [
       "324"
      ]
     },
     "execution_count": 58,
     "metadata": {},
     "output_type": "execute_result"
    }
   ],
   "source": [
    "len(grid)"
   ]
  },
  {
   "cell_type": "code",
   "execution_count": 59,
   "metadata": {
    "collapsed": true
   },
   "outputs": [],
   "source": [
    "from sklearn.metrics import accuracy_score"
   ]
  },
  {
   "cell_type": "code",
   "execution_count": null,
   "metadata": {
    "collapsed": false,
    "scrolled": true
   },
   "outputs": [
    {
     "name": "stdout",
     "output_type": "stream",
     "text": [
      "Starting training 1 params of 324\n"
     ]
    },
    {
     "name": "stderr",
     "output_type": "stream",
     "text": [
      "Will train until valid error hasn't decreased in 50 rounds.\n",
      "Stopping. Best iteration:\n",
      "[154]\ttrain-merror:0.162941\tvalid-merror:0.234444\n",
      "\n",
      "Will train until valid error hasn't decreased in 50 rounds.\n",
      "Stopping. Best iteration:\n",
      "[261]\ttrain-merror:0.132954\tvalid-merror:0.231301\n",
      "\n",
      "Will train until valid error hasn't decreased in 50 rounds.\n",
      "Stopping. Best iteration:\n",
      "[223]\ttrain-merror:0.142303\tvalid-merror:0.230358\n",
      "\n",
      "Will train until valid error hasn't decreased in 50 rounds.\n",
      "Stopping. Best iteration:\n",
      "[249]\ttrain-merror:0.132542\tvalid-merror:0.236569\n",
      "\n",
      "Will train until valid error hasn't decreased in 50 rounds.\n",
      "Stopping. Best iteration:\n",
      "[198]\ttrain-merror:0.149874\tvalid-merror:0.234998\n",
      "\n"
     ]
    },
    {
     "name": "stdout",
     "output_type": "stream",
     "text": [
      "Accuracy: 0.7626 +/- 0.0040\n",
      "Starting training 2 params of 324\n"
     ]
    },
    {
     "name": "stderr",
     "output_type": "stream",
     "text": [
      "Will train until valid error hasn't decreased in 50 rounds.\n",
      "Stopping. Best iteration:\n",
      "[260]\ttrain-merror:0.182047\tvalid-merror:0.236644\n",
      "\n",
      "Will train until valid error hasn't decreased in 50 rounds.\n",
      "Stopping. Best iteration:\n",
      "[318]\ttrain-merror:0.170881\tvalid-merror:0.233815\n",
      "\n",
      "Will train until valid error hasn't decreased in 50 rounds.\n",
      "Stopping. Best iteration:\n",
      "[261]\ttrain-merror:0.181625\tvalid-merror:0.235387\n",
      "\n",
      "Will train until valid error hasn't decreased in 50 rounds.\n",
      "Stopping. Best iteration:\n",
      "[282]\ttrain-merror:0.175978\tvalid-merror:0.247251\n",
      "\n",
      "Will train until valid error hasn't decreased in 50 rounds.\n",
      "Stopping. Best iteration:\n",
      "[487]\ttrain-merror:0.143381\tvalid-merror:0.232171\n",
      "\n"
     ]
    },
    {
     "name": "stdout",
     "output_type": "stream",
     "text": [
      "Accuracy: 0.7562 +/- 0.0045\n",
      "Starting training 3 params of 324\n"
     ]
    },
    {
     "name": "stderr",
     "output_type": "stream",
     "text": [
      "Will train until valid error hasn't decreased in 50 rounds.\n",
      "Stopping. Best iteration:\n",
      "[356]\ttrain-merror:0.241984\tvalid-merror:0.269327\n",
      "\n",
      "Will train until valid error hasn't decreased in 50 rounds.\n",
      "Stopping. Best iteration:\n",
      "[577]\ttrain-merror:0.214535\tvalid-merror:0.259271\n",
      "\n",
      "Will train until valid error hasn't decreased in 50 rounds.\n",
      "Stopping. Best iteration:\n",
      "[567]\ttrain-merror:0.217384\tvalid-merror:0.253300\n",
      "\n",
      "Will train until valid error hasn't decreased in 50 rounds.\n",
      "Stopping. Best iteration:\n",
      "[582]\ttrain-merror:0.210440\tvalid-merror:0.262645\n",
      "\n",
      "Will train until valid error hasn't decreased in 50 rounds.\n",
      "Stopping. Best iteration:\n",
      "[625]\ttrain-merror:0.209398\tvalid-merror:0.259189\n",
      "\n"
     ]
    },
    {
     "name": "stdout",
     "output_type": "stream",
     "text": [
      "Accuracy: 0.7330 +/- 0.0074\n",
      "Starting training 4 params of 324\n"
     ]
    },
    {
     "name": "stderr",
     "output_type": "stream",
     "text": [
      "Will train until valid error hasn't decreased in 50 rounds.\n",
      "Stopping. Best iteration:\n",
      "[183]\ttrain-merror:0.102166\tvalid-merror:0.228473\n",
      "\n",
      "Will train until valid error hasn't decreased in 50 rounds.\n",
      "Stopping. Best iteration:\n",
      "[198]\ttrain-merror:0.099776\tvalid-merror:0.230358\n",
      "\n",
      "Will train until valid error hasn't decreased in 50 rounds.\n",
      "Stopping. Best iteration:\n",
      "[136]\ttrain-merror:0.122329\tvalid-merror:0.227530\n",
      "\n",
      "Will train until valid error hasn't decreased in 50 rounds.\n",
      "Stopping. Best iteration:\n",
      "[161]\ttrain-merror:0.111138\tvalid-merror:0.235941\n",
      "\n",
      "Will train until valid error hasn't decreased in 50 rounds.\n",
      "Stopping. Best iteration:\n",
      "[200]\ttrain-merror:0.097158\tvalid-merror:0.234370\n",
      "\n"
     ]
    },
    {
     "name": "stdout",
     "output_type": "stream",
     "text": [
      "Accuracy: 0.7620 +/- 0.0024\n",
      "Starting training 5 params of 324\n"
     ]
    },
    {
     "name": "stderr",
     "output_type": "stream",
     "text": [
      "Will train until valid error hasn't decreased in 50 rounds.\n",
      "Stopping. Best iteration:\n",
      "[211]\ttrain-merror:0.147223\tvalid-merror:0.230044\n",
      "\n",
      "Will train until valid error hasn't decreased in 50 rounds.\n",
      "Stopping. Best iteration:\n",
      "[317]\ttrain-merror:0.117867\tvalid-merror:0.232558\n",
      "\n",
      "Will train until valid error hasn't decreased in 50 rounds.\n",
      "Stopping. Best iteration:\n",
      "[190]\ttrain-merror:0.154631\tvalid-merror:0.227216\n",
      "\n",
      "Will train until valid error hasn't decreased in 50 rounds.\n",
      "Stopping. Best iteration:\n",
      "[250]\ttrain-merror:0.135649\tvalid-merror:0.241910\n",
      "\n",
      "Will train until valid error hasn't decreased in 50 rounds.\n",
      "Stopping. Best iteration:\n",
      "[295]\ttrain-merror:0.123761\tvalid-merror:0.233428\n",
      "\n"
     ]
    },
    {
     "name": "stdout",
     "output_type": "stream",
     "text": [
      "Accuracy: 0.7595 +/- 0.0039\n",
      "Starting training 6 params of 324\n"
     ]
    },
    {
     "name": "stderr",
     "output_type": "stream",
     "text": [
      "Will train until valid error hasn't decreased in 50 rounds.\n",
      "Stopping. Best iteration:\n",
      "[403]\ttrain-merror:0.187007\tvalid-merror:0.246700\n",
      "\n",
      "Will train until valid error hasn't decreased in 50 rounds.\n",
      "Stopping. Best iteration:\n",
      "[478]\ttrain-merror:0.177202\tvalid-merror:0.247957\n",
      "\n",
      "Will train until valid error hasn't decreased in 50 rounds.\n",
      "Stopping. Best iteration:\n",
      "[553]\ttrain-merror:0.165526\tvalid-merror:0.238529\n",
      "\n",
      "Will train until valid error hasn't decreased in 50 rounds.\n",
      "Stopping. Best iteration:\n",
      "[479]\ttrain-merror:0.175070\tvalid-merror:0.252278\n",
      "\n",
      "Will train until valid error hasn't decreased in 50 rounds.\n",
      "Stopping. Best iteration:\n",
      "[528]\ttrain-merror:0.167854\tvalid-merror:0.245366\n",
      "\n"
     ]
    },
    {
     "name": "stdout",
     "output_type": "stream",
     "text": [
      "Accuracy: 0.7470 +/- 0.0041\n",
      "Starting training 7 params of 324\n"
     ]
    },
    {
     "name": "stderr",
     "output_type": "stream",
     "text": [
      "Will train until valid error hasn't decreased in 50 rounds.\n",
      "Stopping. Best iteration:\n",
      "[116]\ttrain-merror:0.067342\tvalid-merror:0.231301\n",
      "\n",
      "Will train until valid error hasn't decreased in 50 rounds.\n",
      "Stopping. Best iteration:\n",
      "[202]\ttrain-merror:0.037368\tvalid-merror:0.234129\n",
      "\n",
      "Will train until valid error hasn't decreased in 50 rounds.\n",
      "Stopping. Best iteration:\n",
      "[89]\ttrain-merror:0.085452\tvalid-merror:0.232872\n",
      "\n",
      "Will train until valid error hasn't decreased in 50 rounds.\n",
      "Stopping. Best iteration:\n",
      "[129]\ttrain-merror:0.061453\tvalid-merror:0.239083\n",
      "\n",
      "Will train until valid error hasn't decreased in 50 rounds.\n",
      "Stopping. Best iteration:\n",
      "[179]\ttrain-merror:0.041928\tvalid-merror:0.234998\n",
      "\n"
     ]
    },
    {
     "name": "stdout",
     "output_type": "stream",
     "text": [
      "Accuracy: 0.7618 +/- 0.0019\n",
      "Starting training 8 params of 324\n"
     ]
    },
    {
     "name": "stderr",
     "output_type": "stream",
     "text": [
      "Will train until valid error hasn't decreased in 50 rounds.\n",
      "Stopping. Best iteration:\n",
      "[275]\ttrain-merror:0.060217\tvalid-merror:0.231930\n",
      "\n",
      "Will train until valid error hasn't decreased in 50 rounds.\n",
      "Stopping. Best iteration:\n",
      "[163]\ttrain-merror:0.099497\tvalid-merror:0.234758\n",
      "\n",
      "Will train until valid error hasn't decreased in 50 rounds.\n",
      "Stopping. Best iteration:\n",
      "[305]\ttrain-merror:0.052871\tvalid-merror:0.230673\n",
      "\n",
      "Will train until valid error hasn't decreased in 50 rounds.\n",
      "Stopping. Best iteration:\n",
      "[115]\ttrain-merror:0.124127\tvalid-merror:0.244109\n",
      "\n",
      "Will train until valid error hasn't decreased in 50 rounds.\n",
      "Stopping. Best iteration:\n",
      "[158]\ttrain-merror:0.102151\tvalid-merror:0.231543\n",
      "\n"
     ]
    },
    {
     "name": "stdout",
     "output_type": "stream",
     "text": [
      "Accuracy: 0.7585 +/- 0.0056\n",
      "Starting training 9 params of 324\n"
     ]
    },
    {
     "name": "stderr",
     "output_type": "stream",
     "text": [
      "Will train until valid error hasn't decreased in 50 rounds.\n",
      "Stopping. Best iteration:\n",
      "[231]\ttrain-merror:0.158610\tvalid-merror:0.239786\n",
      "\n",
      "Will train until valid error hasn't decreased in 50 rounds.\n",
      "Stopping. Best iteration:\n",
      "[248]\ttrain-merror:0.152301\tvalid-merror:0.239786\n",
      "\n",
      "Will train until valid error hasn't decreased in 50 rounds.\n",
      "Stopping. Best iteration:\n",
      "[299]\ttrain-merror:0.141151\tvalid-merror:0.234758\n",
      "\n",
      "Will train until valid error hasn't decreased in 50 rounds.\n",
      "Stopping. Best iteration:\n",
      "[308]\ttrain-merror:0.135684\tvalid-merror:0.241282\n",
      "\n",
      "Will train until valid error hasn't decreased in 50 rounds.\n",
      "Stopping. Best iteration:\n",
      "[320]\ttrain-merror:0.132000\tvalid-merror:0.239711\n",
      "\n"
     ]
    },
    {
     "name": "stdout",
     "output_type": "stream",
     "text": [
      "Accuracy: 0.7547 +/- 0.0039\n",
      "Starting training 10 params of 324\n"
     ]
    },
    {
     "name": "stderr",
     "output_type": "stream",
     "text": [
      "Will train until valid error hasn't decreased in 50 rounds.\n",
      "Stopping. Best iteration:\n",
      "[111]\ttrain-merror:0.025603\tvalid-merror:0.232872\n",
      "\n",
      "Will train until valid error hasn't decreased in 50 rounds.\n",
      "Stopping. Best iteration:\n",
      "[62]\ttrain-merror:0.057833\tvalid-merror:0.235387\n",
      "\n",
      "Will train until valid error hasn't decreased in 50 rounds.\n",
      "Stopping. Best iteration:\n",
      "[92]\ttrain-merror:0.032756\tvalid-merror:0.237901\n",
      "\n",
      "Will train until valid error hasn't decreased in 50 rounds.\n",
      "Stopping. Best iteration:\n",
      "[62]\ttrain-merror:0.055831\tvalid-merror:0.240025\n",
      "\n",
      "Will train until valid error hasn't decreased in 50 rounds.\n",
      "Stopping. Best iteration:\n",
      "[69]\ttrain-merror:0.050028\tvalid-merror:0.241596\n",
      "\n"
     ]
    },
    {
     "name": "stdout",
     "output_type": "stream",
     "text": [
      "Accuracy: 0.7598 +/- 0.0038\n",
      "Starting training 11 params of 324\n"
     ]
    },
    {
     "name": "stderr",
     "output_type": "stream",
     "text": [
      "Will train until valid error hasn't decreased in 50 rounds.\n",
      "Stopping. Best iteration:\n",
      "[74]\ttrain-merror:0.102200\tvalid-merror:0.232558\n",
      "\n",
      "Will train until valid error hasn't decreased in 50 rounds.\n",
      "Stopping. Best iteration:\n",
      "[125]\ttrain-merror:0.062792\tvalid-merror:0.229101\n",
      "\n",
      "Will train until valid error hasn't decreased in 50 rounds.\n",
      "Stopping. Best iteration:\n",
      "[167]\ttrain-merror:0.042359\tvalid-merror:0.230358\n",
      "\n",
      "Will train until valid error hasn't decreased in 50 rounds.\n",
      "Stopping. Best iteration:\n",
      "[100]\ttrain-merror:0.079399\tvalid-merror:0.244109\n",
      "\n",
      "Will train until valid error hasn't decreased in 50 rounds.\n",
      "Stopping. Best iteration:\n",
      "[194]\ttrain-merror:0.035994\tvalid-merror:0.231543\n",
      "\n"
     ]
    },
    {
     "name": "stdout",
     "output_type": "stream",
     "text": [
      "Accuracy: 0.7592 +/- 0.0040\n",
      "Starting training 12 params of 324\n"
     ]
    },
    {
     "name": "stderr",
     "output_type": "stream",
     "text": [
      "Will train until valid error hasn't decreased in 50 rounds.\n",
      "Stopping. Best iteration:\n",
      "[233]\ttrain-merror:0.096856\tvalid-merror:0.225330\n",
      "\n",
      "Will train until valid error hasn't decreased in 50 rounds.\n",
      "Stopping. Best iteration:\n",
      "[150]\ttrain-merror:0.131487\tvalid-merror:0.234444\n",
      "\n",
      "Will train until valid error hasn't decreased in 50 rounds.\n",
      "Stopping. Best iteration:\n",
      "[236]\ttrain-merror:0.095055\tvalid-merror:0.227216\n",
      "\n",
      "Will train until valid error hasn't decreased in 50 rounds.\n",
      "Stopping. Best iteration:\n",
      "[246]\ttrain-merror:0.092353\tvalid-merror:0.234370\n",
      "\n",
      "Will train until valid error hasn't decreased in 50 rounds.\n",
      "Stopping. Best iteration:\n",
      "[203]\ttrain-merror:0.106759\tvalid-merror:0.234370\n",
      "\n"
     ]
    },
    {
     "name": "stdout",
     "output_type": "stream",
     "text": [
      "Accuracy: 0.7627 +/- 0.0029\n",
      "Starting training 13 params of 324\n"
     ]
    },
    {
     "name": "stderr",
     "output_type": "stream",
     "text": [
      "Will train until valid error hasn't decreased in 50 rounds.\n",
      "Stopping. Best iteration:\n",
      "[328]\ttrain-merror:0.108103\tvalid-merror:0.222502\n",
      "\n",
      "Will train until valid error hasn't decreased in 50 rounds.\n",
      "Stopping. Best iteration:\n",
      "[278]\ttrain-merror:0.119264\tvalid-merror:0.227216\n",
      "\n",
      "Will train until valid error hasn't decreased in 50 rounds.\n",
      "Stopping. Best iteration:\n",
      "[335]\ttrain-merror:0.108709\tvalid-merror:0.220616\n",
      "\n",
      "Will train until valid error hasn't decreased in 50 rounds.\n",
      "Stopping. Best iteration:\n",
      "[217]\ttrain-merror:0.134497\tvalid-merror:0.235941\n",
      "\n",
      "Will train until valid error hasn't decreased in 50 rounds.\n",
      "Stopping. Best iteration:\n",
      "[176]\ttrain-merror:0.148967\tvalid-merror:0.231857\n",
      "\n"
     ]
    },
    {
     "name": "stdout",
     "output_type": "stream",
     "text": [
      "Accuracy: 0.7663 +/- 0.0035\n",
      "Starting training 14 params of 324\n"
     ]
    },
    {
     "name": "stderr",
     "output_type": "stream",
     "text": [
      "Will train until valid error hasn't decreased in 50 rounds.\n",
      "Stopping. Best iteration:\n",
      "[420]\ttrain-merror:0.145162\tvalid-merror:0.225330\n",
      "\n",
      "Will train until valid error hasn't decreased in 50 rounds.\n",
      "Stopping. Best iteration:\n",
      "[218]\ttrain-merror:0.185234\tvalid-merror:0.237272\n",
      "\n",
      "Will train until valid error hasn't decreased in 50 rounds.\n",
      "Stopping. Best iteration:\n",
      "[476]\ttrain-merror:0.138392\tvalid-merror:0.224073\n",
      "\n",
      "Will train until valid error hasn't decreased in 50 rounds.\n",
      "Stopping. Best iteration:\n",
      "[440]\ttrain-merror:0.143925\tvalid-merror:0.237826\n",
      "\n",
      "Will train until valid error hasn't decreased in 50 rounds.\n",
      "Stopping. Best iteration:\n",
      "[342]\ttrain-merror:0.157904\tvalid-merror:0.234684\n",
      "\n"
     ]
    },
    {
     "name": "stdout",
     "output_type": "stream",
     "text": [
      "Accuracy: 0.7625 +/- 0.0029\n",
      "Starting training 15 params of 324\n"
     ]
    },
    {
     "name": "stderr",
     "output_type": "stream",
     "text": [
      "Will train until valid error hasn't decreased in 50 rounds.\n",
      "Stopping. Best iteration:\n",
      "[733]\ttrain-merror:0.192281\tvalid-merror:0.245757\n",
      "\n",
      "Will train until valid error hasn't decreased in 50 rounds.\n",
      "Stopping. Best iteration:\n",
      "[672]\ttrain-merror:0.198296\tvalid-merror:0.251728\n",
      "\n",
      "Will train until valid error hasn't decreased in 50 rounds.\n",
      "Stopping. Best iteration:\n",
      "[561]\ttrain-merror:0.208933\tvalid-merror:0.247329\n",
      "\n",
      "Will train until valid error hasn't decreased in 50 rounds.\n",
      "Stopping. Best iteration:\n",
      "[507]\ttrain-merror:0.210370\tvalid-merror:0.259818\n",
      "\n",
      "Will train until valid error hasn't decreased in 50 rounds.\n",
      "Stopping. Best iteration:\n",
      "[641]\ttrain-merror:0.200077\tvalid-merror:0.252592\n",
      "\n"
     ]
    },
    {
     "name": "stdout",
     "output_type": "stream",
     "text": [
      "Accuracy: 0.7436 +/- 0.0062\n",
      "Starting training 16 params of 324\n"
     ]
    },
    {
     "name": "stderr",
     "output_type": "stream",
     "text": [
      "Will train until valid error hasn't decreased in 50 rounds.\n",
      "Stopping. Best iteration:\n",
      "[215]\ttrain-merror:0.081418\tvalid-merror:0.225330\n",
      "\n",
      "Will train until valid error hasn't decreased in 50 rounds.\n",
      "Stopping. Best iteration:\n",
      "[161]\ttrain-merror:0.102081\tvalid-merror:0.229101\n",
      "\n",
      "Will train until valid error hasn't decreased in 50 rounds.\n",
      "Stopping. Best iteration:\n",
      "[141]\ttrain-merror:0.110490\tvalid-merror:0.230044\n",
      "\n",
      "Will train until valid error hasn't decreased in 50 rounds.\n",
      "Stopping. Best iteration:\n",
      "[194]\ttrain-merror:0.088163\tvalid-merror:0.227773\n",
      "\n",
      "Will train until valid error hasn't decreased in 50 rounds.\n",
      "Stopping. Best iteration:\n",
      "[194]\ttrain-merror:0.091119\tvalid-merror:0.222432\n",
      "\n"
     ]
    },
    {
     "name": "stdout",
     "output_type": "stream",
     "text": [
      "Accuracy: 0.7662 +/- 0.0032\n",
      "Starting training 17 params of 324\n"
     ]
    },
    {
     "name": "stderr",
     "output_type": "stream",
     "text": [
      "Will train until valid error hasn't decreased in 50 rounds.\n",
      "Stopping. Best iteration:\n",
      "[216]\ttrain-merror:0.136395\tvalid-merror:0.229101\n",
      "\n",
      "Will train until valid error hasn't decreased in 50 rounds.\n",
      "Stopping. Best iteration:\n",
      "[197]\ttrain-merror:0.141929\tvalid-merror:0.233187\n",
      "\n",
      "Will train until valid error hasn't decreased in 50 rounds.\n",
      "Stopping. Best iteration:\n",
      "[338]\ttrain-merror:0.103960\tvalid-merror:0.224387\n",
      "\n",
      "Will train until valid error hasn't decreased in 50 rounds.\n",
      "Stopping. Best iteration:\n",
      "[202]\ttrain-merror:0.138897\tvalid-merror:0.242224\n",
      "\n",
      "Will train until valid error hasn't decreased in 50 rounds.\n",
      "Stopping. Best iteration:\n",
      "[282]\ttrain-merror:0.118943\tvalid-merror:0.228401\n",
      "\n"
     ]
    },
    {
     "name": "stdout",
     "output_type": "stream",
     "text": [
      "Accuracy: 0.7640 +/- 0.0035\n",
      "Starting training 18 params of 324\n"
     ]
    },
    {
     "name": "stderr",
     "output_type": "stream",
     "text": [
      "Will train until valid error hasn't decreased in 50 rounds.\n",
      "Stopping. Best iteration:\n",
      "[473]\ttrain-merror:0.167552\tvalid-merror:0.239786\n",
      "\n",
      "Will train until valid error hasn't decreased in 50 rounds.\n",
      "Stopping. Best iteration:\n",
      "[259]\ttrain-merror:0.204477\tvalid-merror:0.252043\n",
      "\n",
      "Will train until valid error hasn't decreased in 50 rounds.\n",
      "Stopping. Best iteration:\n",
      "[576]\ttrain-merror:0.153897\tvalid-merror:0.232244\n",
      "\n",
      "Will train until valid error hasn't decreased in 50 rounds.\n",
      "Stopping. Best iteration:\n",
      "[344]\ttrain-merror:0.186103\tvalid-merror:0.255419\n",
      "\n",
      "Will train until valid error hasn't decreased in 50 rounds.\n",
      "Stopping. Best iteration:\n",
      "[615]\ttrain-merror:0.147919\tvalid-merror:0.238454\n",
      "\n"
     ]
    },
    {
     "name": "stdout",
     "output_type": "stream",
     "text": [
      "Accuracy: 0.7491 +/- 0.0085\n",
      "Starting training 19 params of 324\n"
     ]
    },
    {
     "name": "stderr",
     "output_type": "stream",
     "text": [
      "Will train until valid error hasn't decreased in 50 rounds.\n",
      "Stopping. Best iteration:\n",
      "[209]\ttrain-merror:0.027873\tvalid-merror:0.225644\n",
      "\n",
      "Will train until valid error hasn't decreased in 50 rounds.\n",
      "Stopping. Best iteration:\n",
      "[91]\ttrain-merror:0.071454\tvalid-merror:0.234444\n",
      "\n",
      "Will train until valid error hasn't decreased in 50 rounds.\n",
      "Stopping. Best iteration:\n",
      "[54]\ttrain-merror:0.106474\tvalid-merror:0.231930\n",
      "\n",
      "Will train until valid error hasn't decreased in 50 rounds.\n",
      "Stopping. Best iteration:\n",
      "[176]\ttrain-merror:0.035475\tvalid-merror:0.231857\n",
      "\n",
      "Will train until valid error hasn't decreased in 50 rounds.\n",
      "Stopping. Best iteration:\n",
      "[131]\ttrain-merror:0.050726\tvalid-merror:0.231543\n",
      "\n"
     ]
    },
    {
     "name": "stdout",
     "output_type": "stream",
     "text": [
      "Accuracy: 0.7646 +/- 0.0031\n",
      "Starting training 20 params of 324\n"
     ]
    },
    {
     "name": "stderr",
     "output_type": "stream",
     "text": [
      "Will train until valid error hasn't decreased in 50 rounds.\n",
      "Stopping. Best iteration:\n",
      "[123]\ttrain-merror:0.107649\tvalid-merror:0.225644\n",
      "\n",
      "Will train until valid error hasn't decreased in 50 rounds.\n",
      "Stopping. Best iteration:\n",
      "[204]\ttrain-merror:0.071314\tvalid-merror:0.231930\n",
      "\n",
      "Will train until valid error hasn't decreased in 50 rounds.\n",
      "Stopping. Best iteration:\n",
      "[136]\ttrain-merror:0.098652\tvalid-merror:0.227216\n",
      "\n",
      "Will train until valid error hasn't decreased in 50 rounds.\n",
      "Stopping. Best iteration:\n",
      "[192]\ttrain-merror:0.075698\tvalid-merror:0.235627\n",
      "\n",
      "Will train until valid error hasn't decreased in 50 rounds.\n",
      "Stopping. Best iteration:\n",
      "[213]\ttrain-merror:0.067274\tvalid-merror:0.227773\n",
      "\n"
     ]
    },
    {
     "name": "stdout",
     "output_type": "stream",
     "text": [
      "Accuracy: 0.7637 +/- 0.0029\n",
      "Starting training 21 params of 324\n"
     ]
    },
    {
     "name": "stderr",
     "output_type": "stream",
     "text": [
      "Will train until valid error hasn't decreased in 50 rounds.\n",
      "Stopping. Best iteration:\n",
      "[216]\ttrain-merror:0.150227\tvalid-merror:0.235387\n",
      "\n",
      "Will train until valid error hasn't decreased in 50 rounds.\n",
      "Stopping. Best iteration:\n",
      "[284]\ttrain-merror:0.130544\tvalid-merror:0.236958\n",
      "\n",
      "Will train until valid error hasn't decreased in 50 rounds.\n",
      "Stopping. Best iteration:\n",
      "[269]\ttrain-merror:0.134202\tvalid-merror:0.232558\n",
      "\n",
      "Will train until valid error hasn't decreased in 50 rounds.\n",
      "Stopping. Best iteration:\n",
      "[351]\ttrain-merror:0.111383\tvalid-merror:0.240339\n",
      "\n",
      "Will train until valid error hasn't decreased in 50 rounds.\n",
      "Stopping. Best iteration:\n",
      "[426]\ttrain-merror:0.096844\tvalid-merror:0.231543\n",
      "\n"
     ]
    },
    {
     "name": "stdout",
     "output_type": "stream",
     "text": [
      "Accuracy: 0.7602 +/- 0.0045\n",
      "Starting training 22 params of 324\n"
     ]
    },
    {
     "name": "stderr",
     "output_type": "stream",
     "text": [
      "Will train until valid error hasn't decreased in 50 rounds.\n",
      "Stopping. Best iteration:\n",
      "[135]\ttrain-merror:0.012679\tvalid-merror:0.230358\n",
      "\n",
      "Will train until valid error hasn't decreased in 50 rounds.\n",
      "Stopping. Best iteration:\n",
      "[86]\ttrain-merror:0.027729\tvalid-merror:0.233187\n",
      "\n",
      "Will train until valid error hasn't decreased in 50 rounds.\n",
      "Stopping. Best iteration:\n",
      "[80]\ttrain-merror:0.029264\tvalid-merror:0.228787\n",
      "\n",
      "Will train until valid error hasn't decreased in 50 rounds.\n",
      "Stopping. Best iteration:\n",
      "[76]\ttrain-merror:0.031983\tvalid-merror:0.226830\n",
      "\n",
      "Will train until valid error hasn't decreased in 50 rounds.\n",
      "Stopping. Best iteration:\n",
      "[66]\ttrain-merror:0.038158\tvalid-merror:0.225888\n",
      "\n"
     ]
    },
    {
     "name": "stdout",
     "output_type": "stream",
     "text": [
      "Accuracy: 0.7612 +/- 0.0030\n",
      "Starting training 23 params of 324\n"
     ]
    },
    {
     "name": "stderr",
     "output_type": "stream",
     "text": [
      "Will train until valid error hasn't decreased in 50 rounds.\n",
      "Stopping. Best iteration:\n",
      "[116]\ttrain-merror:0.051100\tvalid-merror:0.221873\n",
      "\n",
      "Will train until valid error hasn't decreased in 50 rounds.\n",
      "Stopping. Best iteration:\n",
      "[95]\ttrain-merror:0.066599\tvalid-merror:0.230673\n",
      "\n",
      "Will train until valid error hasn't decreased in 50 rounds.\n",
      "Stopping. Best iteration:\n",
      "[154]\ttrain-merror:0.034258\tvalid-merror:0.223130\n",
      "\n",
      "Will train until valid error hasn't decreased in 50 rounds.\n",
      "Stopping. Best iteration:\n",
      "[179]\ttrain-merror:0.027723\tvalid-merror:0.234056\n",
      "\n",
      "Will train until valid error hasn't decreased in 50 rounds.\n",
      "Stopping. Best iteration:\n",
      "[63]\ttrain-merror:0.094540\tvalid-merror:0.231857\n",
      "\n"
     ]
    },
    {
     "name": "stdout",
     "output_type": "stream",
     "text": [
      "Accuracy: 0.7634 +/- 0.0038\n",
      "Starting training 24 params of 324\n"
     ]
    },
    {
     "name": "stderr",
     "output_type": "stream",
     "text": [
      "Will train until valid error hasn't decreased in 50 rounds.\n",
      "Stopping. Best iteration:\n",
      "[284]\ttrain-merror:0.061928\tvalid-merror:0.221873\n",
      "\n",
      "Will train until valid error hasn't decreased in 50 rounds.\n",
      "Stopping. Best iteration:\n",
      "[228]\ttrain-merror:0.079591\tvalid-merror:0.227844\n",
      "\n",
      "Will train until valid error hasn't decreased in 50 rounds.\n",
      "Stopping. Best iteration:\n",
      "[233]\ttrain-merror:0.075290\tvalid-merror:0.226273\n",
      "\n",
      "Will train until valid error hasn't decreased in 50 rounds.\n",
      "Stopping. Best iteration:\n",
      "[179]\ttrain-merror:0.096927\tvalid-merror:0.234684\n",
      "\n",
      "Will train until valid error hasn't decreased in 50 rounds.\n",
      "Stopping. Best iteration:\n",
      "[263]\ttrain-merror:0.066262\tvalid-merror:0.227144\n",
      "\n"
     ]
    },
    {
     "name": "stdout",
     "output_type": "stream",
     "text": [
      "Accuracy: 0.7680 +/- 0.0046\n",
      "Starting training 25 params of 324\n"
     ]
    },
    {
     "name": "stderr",
     "output_type": "stream",
     "text": [
      "Will train until valid error hasn't decreased in 50 rounds.\n",
      "Stopping. Best iteration:\n",
      "[388]\ttrain-merror:0.098149\tvalid-merror:0.217473\n",
      "\n",
      "Will train until valid error hasn't decreased in 50 rounds.\n",
      "Stopping. Best iteration:\n",
      "[385]\ttrain-merror:0.100999\tvalid-merror:0.217473\n",
      "\n",
      "Will train until valid error hasn't decreased in 50 rounds.\n",
      "Stopping. Best iteration:\n",
      "[348]\ttrain-merror:0.105566\tvalid-merror:0.218102\n",
      "\n",
      "Will train until valid error hasn't decreased in 50 rounds.\n",
      "Stopping. Best iteration:\n",
      "[203]\ttrain-merror:0.138966\tvalid-merror:0.233428\n",
      "\n",
      "Will train until valid error hasn't decreased in 50 rounds.\n",
      "Stopping. Best iteration:\n",
      "[310]\ttrain-merror:0.113811\tvalid-merror:0.224945\n",
      "\n"
     ]
    },
    {
     "name": "stdout",
     "output_type": "stream",
     "text": [
      "Accuracy: 0.7717 +/- 0.0065\n",
      "Starting training 26 params of 324\n"
     ]
    },
    {
     "name": "stderr",
     "output_type": "stream",
     "text": [
      "Will train until valid error hasn't decreased in 50 rounds.\n",
      "Stopping. Best iteration:\n",
      "[460]\ttrain-merror:0.140028\tvalid-merror:0.221873\n",
      "\n",
      "Will train until valid error hasn't decreased in 50 rounds.\n",
      "Stopping. Best iteration:\n",
      "[273]\ttrain-merror:0.170078\tvalid-merror:0.235072\n",
      "\n",
      "Will train until valid error hasn't decreased in 50 rounds.\n",
      "Stopping. Best iteration:\n",
      "[334]\ttrain-merror:0.159275\tvalid-merror:0.220616\n",
      "\n",
      "Will train until valid error hasn't decreased in 50 rounds.\n",
      "Stopping. Best iteration:\n",
      "[256]\ttrain-merror:0.171020\tvalid-merror:0.245052\n",
      "\n",
      "Will train until valid error hasn't decreased in 50 rounds.\n",
      "Stopping. Best iteration:\n",
      "[397]\ttrain-merror:0.148548\tvalid-merror:0.227458\n",
      "\n"
     ]
    },
    {
     "name": "stdout",
     "output_type": "stream",
     "text": [
      "Accuracy: 0.7636 +/- 0.0046\n",
      "Starting training 27 params of 324\n"
     ]
    },
    {
     "name": "stderr",
     "output_type": "stream",
     "text": [
      "Will train until valid error hasn't decreased in 50 rounds.\n",
      "Stopping. Best iteration:\n",
      "[670]\ttrain-merror:0.196577\tvalid-merror:0.239786\n",
      "\n",
      "Will train until valid error hasn't decreased in 50 rounds.\n",
      "Stopping. Best iteration:\n",
      "[426]\ttrain-merror:0.218028\tvalid-merror:0.253614\n",
      "\n",
      "Will train until valid error hasn't decreased in 50 rounds.\n",
      "Stopping. Best iteration:\n",
      "[579]\ttrain-merror:0.203555\tvalid-merror:0.246072\n",
      "\n",
      "Will train until valid error hasn't decreased in 50 rounds.\n",
      "Stopping. Best iteration:\n",
      "[447]\ttrain-merror:0.212710\tvalid-merror:0.258247\n",
      "\n",
      "Will train until valid error hasn't decreased in 50 rounds.\n",
      "Stopping. Best iteration:\n",
      "[405]\ttrain-merror:0.220849\tvalid-merror:0.259189\n",
      "\n"
     ]
    },
    {
     "name": "stdout",
     "output_type": "stream",
     "text": [
      "Accuracy: 0.7431 +/- 0.0055\n",
      "Starting training 28 params of 324\n"
     ]
    },
    {
     "name": "stderr",
     "output_type": "stream",
     "text": [
      "Will train until valid error hasn't decreased in 50 rounds.\n",
      "Stopping. Best iteration:\n",
      "[338]\ttrain-merror:0.055676\tvalid-merror:0.214645\n",
      "\n",
      "Will train until valid error hasn't decreased in 50 rounds.\n",
      "Stopping. Best iteration:\n",
      "[222]\ttrain-merror:0.080603\tvalid-merror:0.223444\n",
      "\n",
      "Will train until valid error hasn't decreased in 50 rounds.\n",
      "Stopping. Best iteration:\n",
      "[154]\ttrain-merror:0.103366\tvalid-merror:0.220302\n",
      "\n",
      "Will train until valid error hasn't decreased in 50 rounds.\n",
      "Stopping. Best iteration:\n",
      "[287]\ttrain-merror:0.065503\tvalid-merror:0.223688\n",
      "\n",
      "Will train until valid error hasn't decreased in 50 rounds.\n",
      "Stopping. Best iteration:\n",
      "[191]\ttrain-merror:0.088710\tvalid-merror:0.222117\n",
      "\n"
     ]
    },
    {
     "name": "stdout",
     "output_type": "stream",
     "text": [
      "Accuracy: 0.7717 +/- 0.0019\n",
      "Starting training 29 params of 324\n"
     ]
    },
    {
     "name": "stderr",
     "output_type": "stream",
     "text": [
      "Will train until valid error hasn't decreased in 50 rounds.\n",
      "Stopping. Best iteration:\n",
      "[256]\ttrain-merror:0.125428\tvalid-merror:0.230673\n",
      "\n",
      "Will train until valid error hasn't decreased in 50 rounds.\n",
      "Stopping. Best iteration:\n",
      "[210]\ttrain-merror:0.135398\tvalid-merror:0.227844\n",
      "\n",
      "Will train until valid error hasn't decreased in 50 rounds.\n",
      "Stopping. Best iteration:\n",
      "[273]\ttrain-merror:0.119500\tvalid-merror:0.220616\n",
      "\n",
      "Will train until valid error hasn't decreased in 50 rounds.\n",
      "Stopping. Best iteration:\n",
      "[259]\ttrain-merror:0.123499\tvalid-merror:0.238768\n",
      "\n",
      "Will train until valid error hasn't decreased in 50 rounds.\n",
      "Stopping. Best iteration:\n",
      "[297]\ttrain-merror:0.115452\tvalid-merror:0.222746\n",
      "\n"
     ]
    },
    {
     "name": "stdout",
     "output_type": "stream",
     "text": [
      "Accuracy: 0.7665 +/- 0.0035\n",
      "Starting training 30 params of 324\n"
     ]
    },
    {
     "name": "stderr",
     "output_type": "stream",
     "text": [
      "Will train until valid error hasn't decreased in 50 rounds.\n",
      "Stopping. Best iteration:\n",
      "[422]\ttrain-merror:0.173629\tvalid-merror:0.236958\n",
      "\n",
      "Will train until valid error hasn't decreased in 50 rounds.\n",
      "Stopping. Best iteration:\n",
      "[442]\ttrain-merror:0.174618\tvalid-merror:0.245757\n",
      "\n",
      "Will train until valid error hasn't decreased in 50 rounds.\n",
      "Stopping. Best iteration:\n",
      "[324]\ttrain-merror:0.189691\tvalid-merror:0.240729\n",
      "\n",
      "Will train until valid error hasn't decreased in 50 rounds.\n",
      "Stopping. Best iteration:\n",
      "[447]\ttrain-merror:0.169588\tvalid-merror:0.251964\n",
      "\n",
      "Will train until valid error hasn't decreased in 50 rounds.\n",
      "Stopping. Best iteration:\n",
      "[770]\ttrain-merror:0.136887\tvalid-merror:0.232485\n",
      "\n"
     ]
    },
    {
     "name": "stdout",
     "output_type": "stream",
     "text": [
      "Accuracy: 0.7546 +/- 0.0064\n",
      "Starting training 31 params of 324\n"
     ]
    },
    {
     "name": "stderr",
     "output_type": "stream",
     "text": [
      "Will train until valid error hasn't decreased in 50 rounds.\n",
      "Stopping. Best iteration:\n",
      "[199]\ttrain-merror:0.029095\tvalid-merror:0.214016\n",
      "\n",
      "Will train until valid error hasn't decreased in 50 rounds.\n",
      "Stopping. Best iteration:\n",
      "[121]\ttrain-merror:0.054411\tvalid-merror:0.228158\n",
      "\n",
      "Will train until valid error hasn't decreased in 50 rounds.\n",
      "Stopping. Best iteration:\n",
      "[214]\ttrain-merror:0.027029\tvalid-merror:0.223444\n",
      "\n",
      "Will train until valid error hasn't decreased in 50 rounds.\n",
      "Stopping. Best iteration:\n",
      "[158]\ttrain-merror:0.039525\tvalid-merror:0.224945\n",
      "\n",
      "Will train until valid error hasn't decreased in 50 rounds.\n",
      "Stopping. Best iteration:\n",
      "[195]\ttrain-merror:0.031630\tvalid-merror:0.226202\n",
      "\n"
     ]
    },
    {
     "name": "stdout",
     "output_type": "stream",
     "text": [
      "Accuracy: 0.7684 +/- 0.0018\n",
      "Starting training 32 params of 324\n"
     ]
    },
    {
     "name": "stderr",
     "output_type": "stream",
     "text": [
      "Will train until valid error hasn't decreased in 50 rounds.\n",
      "Stopping. Best iteration:\n",
      "[185]\ttrain-merror:0.078170\tvalid-merror:0.221873\n",
      "\n",
      "Will train until valid error hasn't decreased in 50 rounds.\n",
      "Stopping. Best iteration:\n",
      "[260]\ttrain-merror:0.059684\tvalid-merror:0.227530\n",
      "\n",
      "Will train until valid error hasn't decreased in 50 rounds.\n",
      "Stopping. Best iteration:\n",
      "[240]\ttrain-merror:0.061950\tvalid-merror:0.219987\n",
      "\n",
      "Will train until valid error hasn't decreased in 50 rounds.\n",
      "Stopping. Best iteration:\n",
      "[286]\ttrain-merror:0.053003\tvalid-merror:0.231857\n",
      "\n",
      "Will train until valid error hasn't decreased in 50 rounds.\n",
      "Stopping. Best iteration:\n",
      "[270]\ttrain-merror:0.056033\tvalid-merror:0.226830\n",
      "\n"
     ]
    },
    {
     "name": "stdout",
     "output_type": "stream",
     "text": [
      "Accuracy: 0.7693 +/- 0.0036\n",
      "Starting training 33 params of 324\n"
     ]
    },
    {
     "name": "stderr",
     "output_type": "stream",
     "text": [
      "Will train until valid error hasn't decreased in 50 rounds.\n",
      "Stopping. Best iteration:\n",
      "[449]\ttrain-merror:0.095739\tvalid-merror:0.221873\n",
      "\n",
      "Will train until valid error hasn't decreased in 50 rounds.\n",
      "Stopping. Best iteration:\n",
      "[256]\ttrain-merror:0.137634\tvalid-merror:0.238215\n",
      "\n",
      "Will train until valid error hasn't decreased in 50 rounds.\n",
      "Stopping. Best iteration:\n",
      "[336]\ttrain-merror:0.117440\tvalid-merror:0.225330\n",
      "\n",
      "Will train until valid error hasn't decreased in 50 rounds.\n",
      "Stopping. Best iteration:\n",
      "[502]\ttrain-merror:0.087465\tvalid-merror:0.235941\n",
      "\n"
     ]
    }
   ],
   "source": [
    "serch = []\n",
    "ite = 1\n",
    "for params in grid:\n",
    "    print(\"Starting training {} params of {}\".format(ite, 324))\n",
    "    ite += 1\n",
    "    accuracies = []\n",
    "    for train_index, test_index in cv:\n",
    "        X_train = X[train_index]\n",
    "        X_test = X[test_index]\n",
    "        y_train = y[train_index]\n",
    "        y_test = y[test_index]\n",
    "        \n",
    "        X_t, X_v, y_t, y_v = train_test_split(X_train, y_train, test_size=0.1, random_state=0)\n",
    "        \n",
    "        dtrain = xgb.DMatrix(X_t, y_t)\n",
    "        dvalid = xgb.DMatrix(X_v, y_v)\n",
    "        dtest = xgb.DMatrix(X_test)\n",
    "        watchlist = [(dtrain, 'train'), (dvalid, 'valid')]\n",
    "        gbm = xgb.train(params, dtrain, num_trees, evals=watchlist, early_stopping_rounds=50, verbose_eval=False)\n",
    "        \n",
    "        if hasattr(gbm, 'best_iteration'):\n",
    "            preds = gbm.predict(dtest, ntree_limit = gbm.best_iteration).astype('int64')\n",
    "        else:\n",
    "            preds = gbm.predict(dtest).astype('int64')\n",
    "        accuracies.append(accuracy_score(y_test, preds))\n",
    "    print(\"Accuracy: {:.4f} +/- {:.4f}\".format(np.mean(accuracies), np.std(accuracies)))\n",
    "    serch.append((np.mean(accuracies), np.std(accuracies), params))"
   ]
  }
 ],
 "metadata": {
  "kernelspec": {
   "display_name": "Python 2",
   "language": "python",
   "name": "python2"
  },
  "language_info": {
   "codemirror_mode": {
    "name": "ipython",
    "version": 2
   },
   "file_extension": ".py",
   "mimetype": "text/x-python",
   "name": "python",
   "nbconvert_exporter": "python",
   "pygments_lexer": "ipython2",
   "version": "2.7.6"
  }
 },
 "nbformat": 4,
 "nbformat_minor": 0
}
