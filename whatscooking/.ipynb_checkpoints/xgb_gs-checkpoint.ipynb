{
 "cells": [
  {
   "cell_type": "code",
   "execution_count": 1,
   "metadata": {
    "collapsed": true
   },
   "outputs": [],
   "source": [
    "import numpy as np\n",
    "import pandas as pd\n",
    "import matplotlib.pyplot as plt\n",
    "%matplotlib inline"
   ]
  },
  {
   "cell_type": "code",
   "execution_count": 2,
   "metadata": {
    "collapsed": true
   },
   "outputs": [],
   "source": [
    "import sys\n",
    "oldsysstdout = sys.stdout\n",
    "class flushfile():\n",
    "    def __init__(self, f):\n",
    "        self.f = f\n",
    "    def __getattr__(self,name): \n",
    "        return object.__getattribute__(self.f, name)\n",
    "    def write(self, x):\n",
    "        self.f.write(x)\n",
    "        self.f.flush()\n",
    "    def flush(self):\n",
    "        self.f.flush()\n",
    "sys.stdout = flushfile(sys.stdout)"
   ]
  },
  {
   "cell_type": "code",
   "execution_count": 3,
   "metadata": {
    "collapsed": true
   },
   "outputs": [],
   "source": [
    "import json"
   ]
  },
  {
   "cell_type": "code",
   "execution_count": 4,
   "metadata": {
    "collapsed": true
   },
   "outputs": [],
   "source": [
    "with open('../train.json', 'r') as f:\n",
    "    train = json.load(f)\n",
    "with open('../test.json', 'r') as f:\n",
    "    test = json.load(f)"
   ]
  },
  {
   "cell_type": "code",
   "execution_count": 5,
   "metadata": {
    "collapsed": true
   },
   "outputs": [],
   "source": [
    "vec = []\n",
    "for i in train:\n",
    "    [vec.append(j) for j in i['ingredients']]"
   ]
  },
  {
   "cell_type": "code",
   "execution_count": 6,
   "metadata": {
    "collapsed": true
   },
   "outputs": [],
   "source": [
    "cats = np.unique((np.array(vec)))"
   ]
  },
  {
   "cell_type": "code",
   "execution_count": 7,
   "metadata": {
    "collapsed": true
   },
   "outputs": [],
   "source": [
    "from scipy.sparse import csr_matrix"
   ]
  },
  {
   "cell_type": "code",
   "execution_count": 8,
   "metadata": {
    "collapsed": true
   },
   "outputs": [],
   "source": [
    "X = csr_matrix(map(lambda y: np.array(map(lambda x: 1 if x in y['ingredients'] else 0, cats), dtype='int8'), train))"
   ]
  },
  {
   "cell_type": "code",
   "execution_count": 9,
   "metadata": {
    "collapsed": false
   },
   "outputs": [
    {
     "data": {
      "text/plain": [
       "(39774, 6714)"
      ]
     },
     "execution_count": 9,
     "metadata": {},
     "output_type": "execute_result"
    }
   ],
   "source": [
    "X.shape"
   ]
  },
  {
   "cell_type": "code",
   "execution_count": 10,
   "metadata": {
    "collapsed": true
   },
   "outputs": [],
   "source": [
    "target = map(lambda x: x['cuisine'], train)"
   ]
  },
  {
   "cell_type": "code",
   "execution_count": 11,
   "metadata": {
    "collapsed": true
   },
   "outputs": [],
   "source": [
    "b, y = np.unique(target, return_inverse=True)"
   ]
  },
  {
   "cell_type": "code",
   "execution_count": 12,
   "metadata": {
    "collapsed": true
   },
   "outputs": [],
   "source": [
    "test_sp = csr_matrix(map(lambda y: np.array(map(lambda x: 1 if x in y['ingredients'] else 0, cats), dtype='int8'), test))"
   ]
  },
  {
   "cell_type": "code",
   "execution_count": 13,
   "metadata": {
    "collapsed": true
   },
   "outputs": [],
   "source": [
    "from sklearn.cross_validation import train_test_split, StratifiedKFold"
   ]
  },
  {
   "cell_type": "code",
   "execution_count": 49,
   "metadata": {
    "collapsed": true
   },
   "outputs": [],
   "source": [
    "cv = StratifiedKFold(y, n_folds = 5, random_state = 0)"
   ]
  },
  {
   "cell_type": "code",
   "execution_count": 15,
   "metadata": {
    "collapsed": true
   },
   "outputs": [],
   "source": [
    "import xgboost as xgb"
   ]
  },
  {
   "cell_type": "code",
   "execution_count": 56,
   "metadata": {
    "collapsed": false
   },
   "outputs": [],
   "source": [
    "params = {\"objective\": [\"multi:softmax\"], \n",
    "          \"booster\": [\"gbtree\"],\n",
    "          \"nthread\": [3],\n",
    "          \"eta\": [0.5], \n",
    "          \"max_depth\": [3, 5, 10, 20], \n",
    "          \"subsample\": [0.5, 0.7, 0.9], \n",
    "          \"colsample_bytree\": [0.5, 0.7, 0.9],\n",
    "          \"num_class\": [20],\n",
    "          \"lambda\": [1., 10., 100.], \n",
    "          \"alpha\": [0., .1, 1.],\n",
    "          \"silent\": [1]\n",
    "         } \n",
    "num_trees = 5000"
   ]
  },
  {
   "cell_type": "code",
   "execution_count": 57,
   "metadata": {
    "collapsed": false
   },
   "outputs": [],
   "source": [
    "from itertools import product, izip, permutations\n",
    "grid = [dict(izip(params, x)) for x in product(*params.itervalues())]"
   ]
  },
  {
   "cell_type": "code",
   "execution_count": 58,
   "metadata": {
    "collapsed": false
   },
   "outputs": [
    {
     "data": {
      "text/plain": [
       "324"
      ]
     },
     "execution_count": 58,
     "metadata": {},
     "output_type": "execute_result"
    }
   ],
   "source": [
    "len(grid)"
   ]
  },
  {
   "cell_type": "code",
   "execution_count": 59,
   "metadata": {
    "collapsed": true
   },
   "outputs": [],
   "source": [
    "from sklearn.metrics import accuracy_score"
   ]
  },
  {
   "cell_type": "code",
   "execution_count": null,
   "metadata": {
    "collapsed": false,
    "scrolled": true
   },
   "outputs": [
    {
     "name": "stdout",
     "output_type": "stream",
     "text": [
      "Starting training 1 params of 324\n"
     ]
    },
    {
     "name": "stderr",
     "output_type": "stream",
     "text": [
      "Will train until valid error hasn't decreased in 50 rounds.\n",
      "Stopping. Best iteration:\n",
      "[154]\ttrain-merror:0.162941\tvalid-merror:0.234444\n",
      "\n",
      "Will train until valid error hasn't decreased in 50 rounds.\n",
      "Stopping. Best iteration:\n",
      "[261]\ttrain-merror:0.132954\tvalid-merror:0.231301\n",
      "\n",
      "Will train until valid error hasn't decreased in 50 rounds.\n",
      "Stopping. Best iteration:\n",
      "[223]\ttrain-merror:0.142303\tvalid-merror:0.230358\n",
      "\n",
      "Will train until valid error hasn't decreased in 50 rounds.\n",
      "Stopping. Best iteration:\n",
      "[249]\ttrain-merror:0.132542\tvalid-merror:0.236569\n",
      "\n",
      "Will train until valid error hasn't decreased in 50 rounds.\n",
      "Stopping. Best iteration:\n",
      "[198]\ttrain-merror:0.149874\tvalid-merror:0.234998\n",
      "\n"
     ]
    },
    {
     "name": "stdout",
     "output_type": "stream",
     "text": [
      "Accuracy: 0.7626 +/- 0.0040\n",
      "Starting training 2 params of 324\n"
     ]
    },
    {
     "name": "stderr",
     "output_type": "stream",
     "text": [
      "Will train until valid error hasn't decreased in 50 rounds.\n",
      "Stopping. Best iteration:\n",
      "[260]\ttrain-merror:0.182047\tvalid-merror:0.236644\n",
      "\n",
      "Will train until valid error hasn't decreased in 50 rounds.\n",
      "Stopping. Best iteration:\n",
      "[318]\ttrain-merror:0.170881\tvalid-merror:0.233815\n",
      "\n",
      "Will train until valid error hasn't decreased in 50 rounds.\n",
      "Stopping. Best iteration:\n",
      "[261]\ttrain-merror:0.181625\tvalid-merror:0.235387\n",
      "\n",
      "Will train until valid error hasn't decreased in 50 rounds.\n",
      "Stopping. Best iteration:\n",
      "[282]\ttrain-merror:0.175978\tvalid-merror:0.247251\n",
      "\n",
      "Will train until valid error hasn't decreased in 50 rounds.\n",
      "Stopping. Best iteration:\n",
      "[487]\ttrain-merror:0.143381\tvalid-merror:0.232171\n",
      "\n"
     ]
    },
    {
     "name": "stdout",
     "output_type": "stream",
     "text": [
      "Accuracy: 0.7562 +/- 0.0045\n",
      "Starting training 3 params of 324\n"
     ]
    },
    {
     "name": "stderr",
     "output_type": "stream",
     "text": [
      "Will train until valid error hasn't decreased in 50 rounds.\n",
      "Stopping. Best iteration:\n",
      "[356]\ttrain-merror:0.241984\tvalid-merror:0.269327\n",
      "\n",
      "Will train until valid error hasn't decreased in 50 rounds.\n",
      "Stopping. Best iteration:\n",
      "[577]\ttrain-merror:0.214535\tvalid-merror:0.259271\n",
      "\n",
      "Will train until valid error hasn't decreased in 50 rounds.\n",
      "Stopping. Best iteration:\n",
      "[567]\ttrain-merror:0.217384\tvalid-merror:0.253300\n",
      "\n",
      "Will train until valid error hasn't decreased in 50 rounds.\n",
      "Stopping. Best iteration:\n",
      "[582]\ttrain-merror:0.210440\tvalid-merror:0.262645\n",
      "\n",
      "Will train until valid error hasn't decreased in 50 rounds.\n",
      "Stopping. Best iteration:\n",
      "[625]\ttrain-merror:0.209398\tvalid-merror:0.259189\n",
      "\n"
     ]
    },
    {
     "name": "stdout",
     "output_type": "stream",
     "text": [
      "Accuracy: 0.7330 +/- 0.0074\n",
      "Starting training 4 params of 324\n"
     ]
    },
    {
     "name": "stderr",
     "output_type": "stream",
     "text": [
      "Will train until valid error hasn't decreased in 50 rounds.\n",
      "Stopping. Best iteration:\n",
      "[183]\ttrain-merror:0.102166\tvalid-merror:0.228473\n",
      "\n",
      "Will train until valid error hasn't decreased in 50 rounds.\n",
      "Stopping. Best iteration:\n",
      "[198]\ttrain-merror:0.099776\tvalid-merror:0.230358\n",
      "\n",
      "Will train until valid error hasn't decreased in 50 rounds.\n",
      "Stopping. Best iteration:\n",
      "[136]\ttrain-merror:0.122329\tvalid-merror:0.227530\n",
      "\n",
      "Will train until valid error hasn't decreased in 50 rounds.\n",
      "Stopping. Best iteration:\n",
      "[161]\ttrain-merror:0.111138\tvalid-merror:0.235941\n",
      "\n",
      "Will train until valid error hasn't decreased in 50 rounds.\n",
      "Stopping. Best iteration:\n",
      "[200]\ttrain-merror:0.097158\tvalid-merror:0.234370\n",
      "\n"
     ]
    },
    {
     "name": "stdout",
     "output_type": "stream",
     "text": [
      "Accuracy: 0.7620 +/- 0.0024\n",
      "Starting training 5 params of 324\n"
     ]
    },
    {
     "name": "stderr",
     "output_type": "stream",
     "text": [
      "Will train until valid error hasn't decreased in 50 rounds.\n",
      "Stopping. Best iteration:\n",
      "[211]\ttrain-merror:0.147223\tvalid-merror:0.230044\n",
      "\n",
      "Will train until valid error hasn't decreased in 50 rounds.\n",
      "Stopping. Best iteration:\n",
      "[317]\ttrain-merror:0.117867\tvalid-merror:0.232558\n",
      "\n",
      "Will train until valid error hasn't decreased in 50 rounds.\n",
      "Stopping. Best iteration:\n",
      "[190]\ttrain-merror:0.154631\tvalid-merror:0.227216\n",
      "\n",
      "Will train until valid error hasn't decreased in 50 rounds.\n",
      "Stopping. Best iteration:\n",
      "[250]\ttrain-merror:0.135649\tvalid-merror:0.241910\n",
      "\n",
      "Will train until valid error hasn't decreased in 50 rounds.\n",
      "Stopping. Best iteration:\n",
      "[295]\ttrain-merror:0.123761\tvalid-merror:0.233428\n",
      "\n"
     ]
    },
    {
     "name": "stdout",
     "output_type": "stream",
     "text": [
      "Accuracy: 0.7595 +/- 0.0039\n",
      "Starting training 6 params of 324\n"
     ]
    },
    {
     "name": "stderr",
     "output_type": "stream",
     "text": [
      "Will train until valid error hasn't decreased in 50 rounds.\n",
      "Stopping. Best iteration:\n",
      "[403]\ttrain-merror:0.187007\tvalid-merror:0.246700\n",
      "\n",
      "Will train until valid error hasn't decreased in 50 rounds.\n",
      "Stopping. Best iteration:\n",
      "[478]\ttrain-merror:0.177202\tvalid-merror:0.247957\n",
      "\n",
      "Will train until valid error hasn't decreased in 50 rounds.\n",
      "Stopping. Best iteration:\n",
      "[553]\ttrain-merror:0.165526\tvalid-merror:0.238529\n",
      "\n",
      "Will train until valid error hasn't decreased in 50 rounds.\n",
      "Stopping. Best iteration:\n",
      "[479]\ttrain-merror:0.175070\tvalid-merror:0.252278\n",
      "\n",
      "Will train until valid error hasn't decreased in 50 rounds.\n",
      "Stopping. Best iteration:\n",
      "[528]\ttrain-merror:0.167854\tvalid-merror:0.245366\n",
      "\n"
     ]
    },
    {
     "name": "stdout",
     "output_type": "stream",
     "text": [
      "Accuracy: 0.7470 +/- 0.0041\n",
      "Starting training 7 params of 324\n"
     ]
    },
    {
     "name": "stderr",
     "output_type": "stream",
     "text": [
      "Will train until valid error hasn't decreased in 50 rounds.\n",
      "Stopping. Best iteration:\n",
      "[116]\ttrain-merror:0.067342\tvalid-merror:0.231301\n",
      "\n",
      "Will train until valid error hasn't decreased in 50 rounds.\n",
      "Stopping. Best iteration:\n",
      "[202]\ttrain-merror:0.037368\tvalid-merror:0.234129\n",
      "\n",
      "Will train until valid error hasn't decreased in 50 rounds.\n",
      "Stopping. Best iteration:\n",
      "[89]\ttrain-merror:0.085452\tvalid-merror:0.232872\n",
      "\n",
      "Will train until valid error hasn't decreased in 50 rounds.\n",
      "Stopping. Best iteration:\n",
      "[129]\ttrain-merror:0.061453\tvalid-merror:0.239083\n",
      "\n",
      "Will train until valid error hasn't decreased in 50 rounds.\n",
      "Stopping. Best iteration:\n",
      "[179]\ttrain-merror:0.041928\tvalid-merror:0.234998\n",
      "\n"
     ]
    },
    {
     "name": "stdout",
     "output_type": "stream",
     "text": [
      "Accuracy: 0.7618 +/- 0.0019\n",
      "Starting training 8 params of 324\n"
     ]
    },
    {
     "name": "stderr",
     "output_type": "stream",
     "text": [
      "Will train until valid error hasn't decreased in 50 rounds.\n",
      "Stopping. Best iteration:\n",
      "[275]\ttrain-merror:0.060217\tvalid-merror:0.231930\n",
      "\n",
      "Will train until valid error hasn't decreased in 50 rounds.\n",
      "Stopping. Best iteration:\n",
      "[163]\ttrain-merror:0.099497\tvalid-merror:0.234758\n",
      "\n",
      "Will train until valid error hasn't decreased in 50 rounds.\n",
      "Stopping. Best iteration:\n",
      "[305]\ttrain-merror:0.052871\tvalid-merror:0.230673\n",
      "\n",
      "Will train until valid error hasn't decreased in 50 rounds.\n",
      "Stopping. Best iteration:\n",
      "[115]\ttrain-merror:0.124127\tvalid-merror:0.244109\n",
      "\n",
      "Will train until valid error hasn't decreased in 50 rounds.\n",
      "Stopping. Best iteration:\n",
      "[158]\ttrain-merror:0.102151\tvalid-merror:0.231543\n",
      "\n"
     ]
    },
    {
     "name": "stdout",
     "output_type": "stream",
     "text": [
      "Accuracy: 0.7585 +/- 0.0056\n",
      "Starting training 9 params of 324\n"
     ]
    },
    {
     "name": "stderr",
     "output_type": "stream",
     "text": [
      "Will train until valid error hasn't decreased in 50 rounds.\n",
      "Stopping. Best iteration:\n",
      "[231]\ttrain-merror:0.158610\tvalid-merror:0.239786\n",
      "\n",
      "Will train until valid error hasn't decreased in 50 rounds.\n",
      "Stopping. Best iteration:\n",
      "[248]\ttrain-merror:0.152301\tvalid-merror:0.239786\n",
      "\n",
      "Will train until valid error hasn't decreased in 50 rounds.\n",
      "Stopping. Best iteration:\n",
      "[299]\ttrain-merror:0.141151\tvalid-merror:0.234758\n",
      "\n",
      "Will train until valid error hasn't decreased in 50 rounds.\n",
      "Stopping. Best iteration:\n",
      "[308]\ttrain-merror:0.135684\tvalid-merror:0.241282\n",
      "\n",
      "Will train until valid error hasn't decreased in 50 rounds.\n",
      "Stopping. Best iteration:\n",
      "[320]\ttrain-merror:0.132000\tvalid-merror:0.239711\n",
      "\n"
     ]
    },
    {
     "name": "stdout",
     "output_type": "stream",
     "text": [
      "Accuracy: 0.7547 +/- 0.0039\n",
      "Starting training 10 params of 324\n"
     ]
    },
    {
     "name": "stderr",
     "output_type": "stream",
     "text": [
      "Will train until valid error hasn't decreased in 50 rounds.\n",
      "Stopping. Best iteration:\n",
      "[111]\ttrain-merror:0.025603\tvalid-merror:0.232872\n",
      "\n",
      "Will train until valid error hasn't decreased in 50 rounds.\n",
      "Stopping. Best iteration:\n",
      "[62]\ttrain-merror:0.057833\tvalid-merror:0.235387\n",
      "\n",
      "Will train until valid error hasn't decreased in 50 rounds.\n",
      "Stopping. Best iteration:\n",
      "[92]\ttrain-merror:0.032756\tvalid-merror:0.237901\n",
      "\n",
      "Will train until valid error hasn't decreased in 50 rounds.\n",
      "Stopping. Best iteration:\n",
      "[62]\ttrain-merror:0.055831\tvalid-merror:0.240025\n",
      "\n",
      "Will train until valid error hasn't decreased in 50 rounds.\n",
      "Stopping. Best iteration:\n",
      "[69]\ttrain-merror:0.050028\tvalid-merror:0.241596\n",
      "\n"
     ]
    },
    {
     "name": "stdout",
     "output_type": "stream",
     "text": [
      "Accuracy: 0.7598 +/- 0.0038\n",
      "Starting training 11 params of 324\n"
     ]
    },
    {
     "name": "stderr",
     "output_type": "stream",
     "text": [
      "Will train until valid error hasn't decreased in 50 rounds.\n",
      "Stopping. Best iteration:\n",
      "[74]\ttrain-merror:0.102200\tvalid-merror:0.232558\n",
      "\n",
      "Will train until valid error hasn't decreased in 50 rounds.\n",
      "Stopping. Best iteration:\n",
      "[125]\ttrain-merror:0.062792\tvalid-merror:0.229101\n",
      "\n",
      "Will train until valid error hasn't decreased in 50 rounds.\n",
      "Stopping. Best iteration:\n",
      "[167]\ttrain-merror:0.042359\tvalid-merror:0.230358\n",
      "\n",
      "Will train until valid error hasn't decreased in 50 rounds.\n",
      "Stopping. Best iteration:\n",
      "[100]\ttrain-merror:0.079399\tvalid-merror:0.244109\n",
      "\n",
      "Will train until valid error hasn't decreased in 50 rounds.\n",
      "Stopping. Best iteration:\n",
      "[194]\ttrain-merror:0.035994\tvalid-merror:0.231543\n",
      "\n"
     ]
    },
    {
     "name": "stdout",
     "output_type": "stream",
     "text": [
      "Accuracy: 0.7592 +/- 0.0040\n",
      "Starting training 12 params of 324\n"
     ]
    },
    {
     "name": "stderr",
     "output_type": "stream",
     "text": [
      "Will train until valid error hasn't decreased in 50 rounds.\n",
      "Stopping. Best iteration:\n",
      "[233]\ttrain-merror:0.096856\tvalid-merror:0.225330\n",
      "\n",
      "Will train until valid error hasn't decreased in 50 rounds.\n",
      "Stopping. Best iteration:\n",
      "[150]\ttrain-merror:0.131487\tvalid-merror:0.234444\n",
      "\n",
      "Will train until valid error hasn't decreased in 50 rounds.\n",
      "Stopping. Best iteration:\n",
      "[236]\ttrain-merror:0.095055\tvalid-merror:0.227216\n",
      "\n",
      "Will train until valid error hasn't decreased in 50 rounds.\n",
      "Stopping. Best iteration:\n",
      "[246]\ttrain-merror:0.092353\tvalid-merror:0.234370\n",
      "\n",
      "Will train until valid error hasn't decreased in 50 rounds.\n",
      "Stopping. Best iteration:\n",
      "[203]\ttrain-merror:0.106759\tvalid-merror:0.234370\n",
      "\n"
     ]
    },
    {
     "name": "stdout",
     "output_type": "stream",
     "text": [
      "Accuracy: 0.7627 +/- 0.0029\n",
      "Starting training 13 params of 324\n"
     ]
    },
    {
     "name": "stderr",
     "output_type": "stream",
     "text": [
      "Will train until valid error hasn't decreased in 50 rounds.\n",
      "Stopping. Best iteration:\n",
      "[328]\ttrain-merror:0.108103\tvalid-merror:0.222502\n",
      "\n",
      "Will train until valid error hasn't decreased in 50 rounds.\n",
      "Stopping. Best iteration:\n",
      "[278]\ttrain-merror:0.119264\tvalid-merror:0.227216\n",
      "\n",
      "Will train until valid error hasn't decreased in 50 rounds.\n",
      "Stopping. Best iteration:\n",
      "[335]\ttrain-merror:0.108709\tvalid-merror:0.220616\n",
      "\n",
      "Will train until valid error hasn't decreased in 50 rounds.\n",
      "Stopping. Best iteration:\n",
      "[217]\ttrain-merror:0.134497\tvalid-merror:0.235941\n",
      "\n",
      "Will train until valid error hasn't decreased in 50 rounds.\n",
      "Stopping. Best iteration:\n",
      "[176]\ttrain-merror:0.148967\tvalid-merror:0.231857\n",
      "\n"
     ]
    },
    {
     "name": "stdout",
     "output_type": "stream",
     "text": [
      "Accuracy: 0.7663 +/- 0.0035\n",
      "Starting training 14 params of 324\n"
     ]
    },
    {
     "name": "stderr",
     "output_type": "stream",
     "text": [
      "Will train until valid error hasn't decreased in 50 rounds.\n",
      "Stopping. Best iteration:\n",
      "[420]\ttrain-merror:0.145162\tvalid-merror:0.225330\n",
      "\n",
      "Will train until valid error hasn't decreased in 50 rounds.\n",
      "Stopping. Best iteration:\n",
      "[218]\ttrain-merror:0.185234\tvalid-merror:0.237272\n",
      "\n",
      "Will train until valid error hasn't decreased in 50 rounds.\n",
      "Stopping. Best iteration:\n",
      "[476]\ttrain-merror:0.138392\tvalid-merror:0.224073\n",
      "\n",
      "Will train until valid error hasn't decreased in 50 rounds.\n",
      "Stopping. Best iteration:\n",
      "[440]\ttrain-merror:0.143925\tvalid-merror:0.237826\n",
      "\n",
      "Will train until valid error hasn't decreased in 50 rounds.\n",
      "Stopping. Best iteration:\n",
      "[342]\ttrain-merror:0.157904\tvalid-merror:0.234684\n",
      "\n"
     ]
    },
    {
     "name": "stdout",
     "output_type": "stream",
     "text": [
      "Accuracy: 0.7625 +/- 0.0029\n",
      "Starting training 15 params of 324\n"
     ]
    },
    {
     "name": "stderr",
     "output_type": "stream",
     "text": [
      "Will train until valid error hasn't decreased in 50 rounds.\n",
      "Stopping. Best iteration:\n",
      "[733]\ttrain-merror:0.192281\tvalid-merror:0.245757\n",
      "\n",
      "Will train until valid error hasn't decreased in 50 rounds.\n",
      "Stopping. Best iteration:\n",
      "[672]\ttrain-merror:0.198296\tvalid-merror:0.251728\n",
      "\n",
      "Will train until valid error hasn't decreased in 50 rounds.\n",
      "Stopping. Best iteration:\n",
      "[561]\ttrain-merror:0.208933\tvalid-merror:0.247329\n",
      "\n",
      "Will train until valid error hasn't decreased in 50 rounds.\n",
      "Stopping. Best iteration:\n",
      "[507]\ttrain-merror:0.210370\tvalid-merror:0.259818\n",
      "\n",
      "Will train until valid error hasn't decreased in 50 rounds.\n",
      "Stopping. Best iteration:\n",
      "[641]\ttrain-merror:0.200077\tvalid-merror:0.252592\n",
      "\n"
     ]
    },
    {
     "name": "stdout",
     "output_type": "stream",
     "text": [
      "Accuracy: 0.7436 +/- 0.0062\n",
      "Starting training 16 params of 324\n"
     ]
    },
    {
     "name": "stderr",
     "output_type": "stream",
     "text": [
      "Will train until valid error hasn't decreased in 50 rounds.\n",
      "Stopping. Best iteration:\n",
      "[215]\ttrain-merror:0.081418\tvalid-merror:0.225330\n",
      "\n",
      "Will train until valid error hasn't decreased in 50 rounds.\n",
      "Stopping. Best iteration:\n",
      "[161]\ttrain-merror:0.102081\tvalid-merror:0.229101\n",
      "\n",
      "Will train until valid error hasn't decreased in 50 rounds.\n",
      "Stopping. Best iteration:\n",
      "[141]\ttrain-merror:0.110490\tvalid-merror:0.230044\n",
      "\n",
      "Will train until valid error hasn't decreased in 50 rounds.\n",
      "Stopping. Best iteration:\n",
      "[194]\ttrain-merror:0.088163\tvalid-merror:0.227773\n",
      "\n",
      "Will train until valid error hasn't decreased in 50 rounds.\n",
      "Stopping. Best iteration:\n",
      "[194]\ttrain-merror:0.091119\tvalid-merror:0.222432\n",
      "\n"
     ]
    },
    {
     "name": "stdout",
     "output_type": "stream",
     "text": [
      "Accuracy: 0.7662 +/- 0.0032\n",
      "Starting training 17 params of 324\n"
     ]
    },
    {
     "name": "stderr",
     "output_type": "stream",
     "text": [
      "Will train until valid error hasn't decreased in 50 rounds.\n",
      "Stopping. Best iteration:\n",
      "[216]\ttrain-merror:0.136395\tvalid-merror:0.229101\n",
      "\n",
      "Will train until valid error hasn't decreased in 50 rounds.\n",
      "Stopping. Best iteration:\n",
      "[197]\ttrain-merror:0.141929\tvalid-merror:0.233187\n",
      "\n",
      "Will train until valid error hasn't decreased in 50 rounds.\n",
      "Stopping. Best iteration:\n",
      "[338]\ttrain-merror:0.103960\tvalid-merror:0.224387\n",
      "\n",
      "Will train until valid error hasn't decreased in 50 rounds.\n",
      "Stopping. Best iteration:\n",
      "[202]\ttrain-merror:0.138897\tvalid-merror:0.242224\n",
      "\n",
      "Will train until valid error hasn't decreased in 50 rounds.\n",
      "Stopping. Best iteration:\n",
      "[282]\ttrain-merror:0.118943\tvalid-merror:0.228401\n",
      "\n"
     ]
    },
    {
     "name": "stdout",
     "output_type": "stream",
     "text": [
      "Accuracy: 0.7640 +/- 0.0035\n",
      "Starting training 18 params of 324\n"
     ]
    },
    {
     "name": "stderr",
     "output_type": "stream",
     "text": [
      "Will train until valid error hasn't decreased in 50 rounds.\n",
      "Stopping. Best iteration:\n",
      "[473]\ttrain-merror:0.167552\tvalid-merror:0.239786\n",
      "\n",
      "Will train until valid error hasn't decreased in 50 rounds.\n",
      "Stopping. Best iteration:\n",
      "[259]\ttrain-merror:0.204477\tvalid-merror:0.252043\n",
      "\n",
      "Will train until valid error hasn't decreased in 50 rounds.\n",
      "Stopping. Best iteration:\n",
      "[576]\ttrain-merror:0.153897\tvalid-merror:0.232244\n",
      "\n",
      "Will train until valid error hasn't decreased in 50 rounds.\n",
      "Stopping. Best iteration:\n",
      "[344]\ttrain-merror:0.186103\tvalid-merror:0.255419\n",
      "\n",
      "Will train until valid error hasn't decreased in 50 rounds.\n",
      "Stopping. Best iteration:\n",
      "[615]\ttrain-merror:0.147919\tvalid-merror:0.238454\n",
      "\n"
     ]
    },
    {
     "name": "stdout",
     "output_type": "stream",
     "text": [
      "Accuracy: 0.7491 +/- 0.0085\n",
      "Starting training 19 params of 324\n"
     ]
    },
    {
     "name": "stderr",
     "output_type": "stream",
     "text": [
      "Will train until valid error hasn't decreased in 50 rounds.\n",
      "Stopping. Best iteration:\n",
      "[209]\ttrain-merror:0.027873\tvalid-merror:0.225644\n",
      "\n",
      "Will train until valid error hasn't decreased in 50 rounds.\n",
      "Stopping. Best iteration:\n",
      "[91]\ttrain-merror:0.071454\tvalid-merror:0.234444\n",
      "\n",
      "Will train until valid error hasn't decreased in 50 rounds.\n",
      "Stopping. Best iteration:\n",
      "[54]\ttrain-merror:0.106474\tvalid-merror:0.231930\n",
      "\n",
      "Will train until valid error hasn't decreased in 50 rounds.\n",
      "Stopping. Best iteration:\n",
      "[176]\ttrain-merror:0.035475\tvalid-merror:0.231857\n",
      "\n",
      "Will train until valid error hasn't decreased in 50 rounds.\n",
      "Stopping. Best iteration:\n",
      "[131]\ttrain-merror:0.050726\tvalid-merror:0.231543\n",
      "\n"
     ]
    },
    {
     "name": "stdout",
     "output_type": "stream",
     "text": [
      "Accuracy: 0.7646 +/- 0.0031\n",
      "Starting training 20 params of 324\n"
     ]
    },
    {
     "name": "stderr",
     "output_type": "stream",
     "text": [
      "Will train until valid error hasn't decreased in 50 rounds.\n",
      "Stopping. Best iteration:\n",
      "[123]\ttrain-merror:0.107649\tvalid-merror:0.225644\n",
      "\n",
      "Will train until valid error hasn't decreased in 50 rounds.\n",
      "Stopping. Best iteration:\n",
      "[204]\ttrain-merror:0.071314\tvalid-merror:0.231930\n",
      "\n",
      "Will train until valid error hasn't decreased in 50 rounds.\n",
      "Stopping. Best iteration:\n",
      "[136]\ttrain-merror:0.098652\tvalid-merror:0.227216\n",
      "\n",
      "Will train until valid error hasn't decreased in 50 rounds.\n",
      "Stopping. Best iteration:\n",
      "[192]\ttrain-merror:0.075698\tvalid-merror:0.235627\n",
      "\n",
      "Will train until valid error hasn't decreased in 50 rounds.\n",
      "Stopping. Best iteration:\n",
      "[213]\ttrain-merror:0.067274\tvalid-merror:0.227773\n",
      "\n"
     ]
    },
    {
     "name": "stdout",
     "output_type": "stream",
     "text": [
      "Accuracy: 0.7637 +/- 0.0029\n",
      "Starting training 21 params of 324\n"
     ]
    },
    {
     "name": "stderr",
     "output_type": "stream",
     "text": [
      "Will train until valid error hasn't decreased in 50 rounds.\n",
      "Stopping. Best iteration:\n",
      "[216]\ttrain-merror:0.150227\tvalid-merror:0.235387\n",
      "\n",
      "Will train until valid error hasn't decreased in 50 rounds.\n",
      "Stopping. Best iteration:\n",
      "[284]\ttrain-merror:0.130544\tvalid-merror:0.236958\n",
      "\n",
      "Will train until valid error hasn't decreased in 50 rounds.\n",
      "Stopping. Best iteration:\n",
      "[269]\ttrain-merror:0.134202\tvalid-merror:0.232558\n",
      "\n",
      "Will train until valid error hasn't decreased in 50 rounds.\n",
      "Stopping. Best iteration:\n",
      "[351]\ttrain-merror:0.111383\tvalid-merror:0.240339\n",
      "\n",
      "Will train until valid error hasn't decreased in 50 rounds.\n",
      "Stopping. Best iteration:\n",
      "[426]\ttrain-merror:0.096844\tvalid-merror:0.231543\n",
      "\n"
     ]
    },
    {
     "name": "stdout",
     "output_type": "stream",
     "text": [
      "Accuracy: 0.7602 +/- 0.0045\n",
      "Starting training 22 params of 324\n"
     ]
    },
    {
     "name": "stderr",
     "output_type": "stream",
     "text": [
      "Will train until valid error hasn't decreased in 50 rounds.\n",
      "Stopping. Best iteration:\n",
      "[135]\ttrain-merror:0.012679\tvalid-merror:0.230358\n",
      "\n",
      "Will train until valid error hasn't decreased in 50 rounds.\n",
      "Stopping. Best iteration:\n",
      "[86]\ttrain-merror:0.027729\tvalid-merror:0.233187\n",
      "\n",
      "Will train until valid error hasn't decreased in 50 rounds.\n",
      "Stopping. Best iteration:\n",
      "[80]\ttrain-merror:0.029264\tvalid-merror:0.228787\n",
      "\n",
      "Will train until valid error hasn't decreased in 50 rounds.\n",
      "Stopping. Best iteration:\n",
      "[76]\ttrain-merror:0.031983\tvalid-merror:0.226830\n",
      "\n",
      "Will train until valid error hasn't decreased in 50 rounds.\n",
      "Stopping. Best iteration:\n",
      "[66]\ttrain-merror:0.038158\tvalid-merror:0.225888\n",
      "\n"
     ]
    },
    {
     "name": "stdout",
     "output_type": "stream",
     "text": [
      "Accuracy: 0.7612 +/- 0.0030\n",
      "Starting training 23 params of 324\n"
     ]
    },
    {
     "name": "stderr",
     "output_type": "stream",
     "text": [
      "Will train until valid error hasn't decreased in 50 rounds.\n",
      "Stopping. Best iteration:\n",
      "[116]\ttrain-merror:0.051100\tvalid-merror:0.221873\n",
      "\n",
      "Will train until valid error hasn't decreased in 50 rounds.\n",
      "Stopping. Best iteration:\n",
      "[95]\ttrain-merror:0.066599\tvalid-merror:0.230673\n",
      "\n",
      "Will train until valid error hasn't decreased in 50 rounds.\n",
      "Stopping. Best iteration:\n",
      "[154]\ttrain-merror:0.034258\tvalid-merror:0.223130\n",
      "\n",
      "Will train until valid error hasn't decreased in 50 rounds.\n",
      "Stopping. Best iteration:\n",
      "[179]\ttrain-merror:0.027723\tvalid-merror:0.234056\n",
      "\n",
      "Will train until valid error hasn't decreased in 50 rounds.\n",
      "Stopping. Best iteration:\n",
      "[63]\ttrain-merror:0.094540\tvalid-merror:0.231857\n",
      "\n"
     ]
    },
    {
     "name": "stdout",
     "output_type": "stream",
     "text": [
      "Accuracy: 0.7634 +/- 0.0038\n",
      "Starting training 24 params of 324\n"
     ]
    },
    {
     "name": "stderr",
     "output_type": "stream",
     "text": [
      "Will train until valid error hasn't decreased in 50 rounds.\n",
      "Stopping. Best iteration:\n",
      "[284]\ttrain-merror:0.061928\tvalid-merror:0.221873\n",
      "\n",
      "Will train until valid error hasn't decreased in 50 rounds.\n",
      "Stopping. Best iteration:\n",
      "[228]\ttrain-merror:0.079591\tvalid-merror:0.227844\n",
      "\n",
      "Will train until valid error hasn't decreased in 50 rounds.\n",
      "Stopping. Best iteration:\n",
      "[233]\ttrain-merror:0.075290\tvalid-merror:0.226273\n",
      "\n",
      "Will train until valid error hasn't decreased in 50 rounds.\n",
      "Stopping. Best iteration:\n",
      "[179]\ttrain-merror:0.096927\tvalid-merror:0.234684\n",
      "\n",
      "Will train until valid error hasn't decreased in 50 rounds.\n",
      "Stopping. Best iteration:\n",
      "[263]\ttrain-merror:0.066262\tvalid-merror:0.227144\n",
      "\n"
     ]
    },
    {
     "name": "stdout",
     "output_type": "stream",
     "text": [
      "Accuracy: 0.7680 +/- 0.0046\n",
      "Starting training 25 params of 324\n"
     ]
    },
    {
     "name": "stderr",
     "output_type": "stream",
     "text": [
      "Will train until valid error hasn't decreased in 50 rounds.\n",
      "Stopping. Best iteration:\n",
      "[388]\ttrain-merror:0.098149\tvalid-merror:0.217473\n",
      "\n",
      "Will train until valid error hasn't decreased in 50 rounds.\n",
      "Stopping. Best iteration:\n",
      "[385]\ttrain-merror:0.100999\tvalid-merror:0.217473\n",
      "\n",
      "Will train until valid error hasn't decreased in 50 rounds.\n",
      "Stopping. Best iteration:\n",
      "[348]\ttrain-merror:0.105566\tvalid-merror:0.218102\n",
      "\n",
      "Will train until valid error hasn't decreased in 50 rounds.\n",
      "Stopping. Best iteration:\n",
      "[203]\ttrain-merror:0.138966\tvalid-merror:0.233428\n",
      "\n",
      "Will train until valid error hasn't decreased in 50 rounds.\n",
      "Stopping. Best iteration:\n",
      "[310]\ttrain-merror:0.113811\tvalid-merror:0.224945\n",
      "\n"
     ]
    },
    {
     "name": "stdout",
     "output_type": "stream",
     "text": [
      "Accuracy: 0.7717 +/- 0.0065\n",
      "Starting training 26 params of 324\n"
     ]
    },
    {
     "name": "stderr",
     "output_type": "stream",
     "text": [
      "Will train until valid error hasn't decreased in 50 rounds.\n",
      "Stopping. Best iteration:\n",
      "[460]\ttrain-merror:0.140028\tvalid-merror:0.221873\n",
      "\n",
      "Will train until valid error hasn't decreased in 50 rounds.\n",
      "Stopping. Best iteration:\n",
      "[273]\ttrain-merror:0.170078\tvalid-merror:0.235072\n",
      "\n",
      "Will train until valid error hasn't decreased in 50 rounds.\n",
      "Stopping. Best iteration:\n",
      "[334]\ttrain-merror:0.159275\tvalid-merror:0.220616\n",
      "\n",
      "Will train until valid error hasn't decreased in 50 rounds.\n",
      "Stopping. Best iteration:\n",
      "[256]\ttrain-merror:0.171020\tvalid-merror:0.245052\n",
      "\n",
      "Will train until valid error hasn't decreased in 50 rounds.\n",
      "Stopping. Best iteration:\n",
      "[397]\ttrain-merror:0.148548\tvalid-merror:0.227458\n",
      "\n"
     ]
    },
    {
     "name": "stdout",
     "output_type": "stream",
     "text": [
      "Accuracy: 0.7636 +/- 0.0046\n",
      "Starting training 27 params of 324\n"
     ]
    },
    {
     "name": "stderr",
     "output_type": "stream",
     "text": [
      "Will train until valid error hasn't decreased in 50 rounds.\n",
      "Stopping. Best iteration:\n",
      "[670]\ttrain-merror:0.196577\tvalid-merror:0.239786\n",
      "\n",
      "Will train until valid error hasn't decreased in 50 rounds.\n",
      "Stopping. Best iteration:\n",
      "[426]\ttrain-merror:0.218028\tvalid-merror:0.253614\n",
      "\n",
      "Will train until valid error hasn't decreased in 50 rounds.\n",
      "Stopping. Best iteration:\n",
      "[579]\ttrain-merror:0.203555\tvalid-merror:0.246072\n",
      "\n",
      "Will train until valid error hasn't decreased in 50 rounds.\n",
      "Stopping. Best iteration:\n",
      "[447]\ttrain-merror:0.212710\tvalid-merror:0.258247\n",
      "\n",
      "Will train until valid error hasn't decreased in 50 rounds.\n",
      "Stopping. Best iteration:\n",
      "[405]\ttrain-merror:0.220849\tvalid-merror:0.259189\n",
      "\n"
     ]
    },
    {
     "name": "stdout",
     "output_type": "stream",
     "text": [
      "Accuracy: 0.7431 +/- 0.0055\n",
      "Starting training 28 params of 324\n"
     ]
    },
    {
     "name": "stderr",
     "output_type": "stream",
     "text": [
      "Will train until valid error hasn't decreased in 50 rounds.\n",
      "Stopping. Best iteration:\n",
      "[338]\ttrain-merror:0.055676\tvalid-merror:0.214645\n",
      "\n",
      "Will train until valid error hasn't decreased in 50 rounds.\n",
      "Stopping. Best iteration:\n",
      "[222]\ttrain-merror:0.080603\tvalid-merror:0.223444\n",
      "\n",
      "Will train until valid error hasn't decreased in 50 rounds.\n",
      "Stopping. Best iteration:\n",
      "[154]\ttrain-merror:0.103366\tvalid-merror:0.220302\n",
      "\n",
      "Will train until valid error hasn't decreased in 50 rounds.\n",
      "Stopping. Best iteration:\n",
      "[287]\ttrain-merror:0.065503\tvalid-merror:0.223688\n",
      "\n",
      "Will train until valid error hasn't decreased in 50 rounds.\n",
      "Stopping. Best iteration:\n",
      "[191]\ttrain-merror:0.088710\tvalid-merror:0.222117\n",
      "\n"
     ]
    },
    {
     "name": "stdout",
     "output_type": "stream",
     "text": [
      "Accuracy: 0.7717 +/- 0.0019\n",
      "Starting training 29 params of 324\n"
     ]
    },
    {
     "name": "stderr",
     "output_type": "stream",
     "text": [
      "Will train until valid error hasn't decreased in 50 rounds.\n",
      "Stopping. Best iteration:\n",
      "[256]\ttrain-merror:0.125428\tvalid-merror:0.230673\n",
      "\n",
      "Will train until valid error hasn't decreased in 50 rounds.\n",
      "Stopping. Best iteration:\n",
      "[210]\ttrain-merror:0.135398\tvalid-merror:0.227844\n",
      "\n",
      "Will train until valid error hasn't decreased in 50 rounds.\n",
      "Stopping. Best iteration:\n",
      "[273]\ttrain-merror:0.119500\tvalid-merror:0.220616\n",
      "\n",
      "Will train until valid error hasn't decreased in 50 rounds.\n",
      "Stopping. Best iteration:\n",
      "[259]\ttrain-merror:0.123499\tvalid-merror:0.238768\n",
      "\n",
      "Will train until valid error hasn't decreased in 50 rounds.\n",
      "Stopping. Best iteration:\n",
      "[297]\ttrain-merror:0.115452\tvalid-merror:0.222746\n",
      "\n"
     ]
    },
    {
     "name": "stdout",
     "output_type": "stream",
     "text": [
      "Accuracy: 0.7665 +/- 0.0035\n",
      "Starting training 30 params of 324\n"
     ]
    },
    {
     "name": "stderr",
     "output_type": "stream",
     "text": [
      "Will train until valid error hasn't decreased in 50 rounds.\n",
      "Stopping. Best iteration:\n",
      "[422]\ttrain-merror:0.173629\tvalid-merror:0.236958\n",
      "\n",
      "Will train until valid error hasn't decreased in 50 rounds.\n",
      "Stopping. Best iteration:\n",
      "[442]\ttrain-merror:0.174618\tvalid-merror:0.245757\n",
      "\n",
      "Will train until valid error hasn't decreased in 50 rounds.\n",
      "Stopping. Best iteration:\n",
      "[324]\ttrain-merror:0.189691\tvalid-merror:0.240729\n",
      "\n",
      "Will train until valid error hasn't decreased in 50 rounds.\n",
      "Stopping. Best iteration:\n",
      "[447]\ttrain-merror:0.169588\tvalid-merror:0.251964\n",
      "\n",
      "Will train until valid error hasn't decreased in 50 rounds.\n",
      "Stopping. Best iteration:\n",
      "[770]\ttrain-merror:0.136887\tvalid-merror:0.232485\n",
      "\n"
     ]
    },
    {
     "name": "stdout",
     "output_type": "stream",
     "text": [
      "Accuracy: 0.7546 +/- 0.0064\n",
      "Starting training 31 params of 324\n"
     ]
    },
    {
     "name": "stderr",
     "output_type": "stream",
     "text": [
      "Will train until valid error hasn't decreased in 50 rounds.\n",
      "Stopping. Best iteration:\n",
      "[199]\ttrain-merror:0.029095\tvalid-merror:0.214016\n",
      "\n",
      "Will train until valid error hasn't decreased in 50 rounds.\n",
      "Stopping. Best iteration:\n",
      "[121]\ttrain-merror:0.054411\tvalid-merror:0.228158\n",
      "\n",
      "Will train until valid error hasn't decreased in 50 rounds.\n",
      "Stopping. Best iteration:\n",
      "[214]\ttrain-merror:0.027029\tvalid-merror:0.223444\n",
      "\n",
      "Will train until valid error hasn't decreased in 50 rounds.\n",
      "Stopping. Best iteration:\n",
      "[158]\ttrain-merror:0.039525\tvalid-merror:0.224945\n",
      "\n",
      "Will train until valid error hasn't decreased in 50 rounds.\n",
      "Stopping. Best iteration:\n",
      "[195]\ttrain-merror:0.031630\tvalid-merror:0.226202\n",
      "\n"
     ]
    },
    {
     "name": "stdout",
     "output_type": "stream",
     "text": [
      "Accuracy: 0.7684 +/- 0.0018\n",
      "Starting training 32 params of 324\n"
     ]
    },
    {
     "name": "stderr",
     "output_type": "stream",
     "text": [
      "Will train until valid error hasn't decreased in 50 rounds.\n",
      "Stopping. Best iteration:\n",
      "[185]\ttrain-merror:0.078170\tvalid-merror:0.221873\n",
      "\n",
      "Will train until valid error hasn't decreased in 50 rounds.\n",
      "Stopping. Best iteration:\n",
      "[260]\ttrain-merror:0.059684\tvalid-merror:0.227530\n",
      "\n",
      "Will train until valid error hasn't decreased in 50 rounds.\n",
      "Stopping. Best iteration:\n",
      "[240]\ttrain-merror:0.061950\tvalid-merror:0.219987\n",
      "\n",
      "Will train until valid error hasn't decreased in 50 rounds.\n",
      "Stopping. Best iteration:\n",
      "[286]\ttrain-merror:0.053003\tvalid-merror:0.231857\n",
      "\n",
      "Will train until valid error hasn't decreased in 50 rounds.\n",
      "Stopping. Best iteration:\n",
      "[270]\ttrain-merror:0.056033\tvalid-merror:0.226830\n",
      "\n"
     ]
    },
    {
     "name": "stdout",
     "output_type": "stream",
     "text": [
      "Accuracy: 0.7693 +/- 0.0036\n",
      "Starting training 33 params of 324\n"
     ]
    },
    {
     "name": "stderr",
     "output_type": "stream",
     "text": [
      "Will train until valid error hasn't decreased in 50 rounds.\n",
      "Stopping. Best iteration:\n",
      "[449]\ttrain-merror:0.095739\tvalid-merror:0.221873\n",
      "\n",
      "Will train until valid error hasn't decreased in 50 rounds.\n",
      "Stopping. Best iteration:\n",
      "[256]\ttrain-merror:0.137634\tvalid-merror:0.238215\n",
      "\n",
      "Will train until valid error hasn't decreased in 50 rounds.\n",
      "Stopping. Best iteration:\n",
      "[336]\ttrain-merror:0.117440\tvalid-merror:0.225330\n",
      "\n",
      "Will train until valid error hasn't decreased in 50 rounds.\n",
      "Stopping. Best iteration:\n",
      "[502]\ttrain-merror:0.087465\tvalid-merror:0.235941\n",
      "\n",
      "Will train until valid error hasn't decreased in 50 rounds.\n",
      "Stopping. Best iteration:\n",
      "[446]\ttrain-merror:0.097717\tvalid-merror:0.228715\n",
      "\n"
     ]
    },
    {
     "name": "stdout",
     "output_type": "stream",
     "text": [
      "Accuracy: 0.7647 +/- 0.0036\n",
      "Starting training 34 params of 324\n"
     ]
    },
    {
     "name": "stderr",
     "output_type": "stream",
     "text": [
      "Will train until valid error hasn't decreased in 50 rounds.\n",
      "Stopping. Best iteration:\n",
      "[97]\ttrain-merror:0.019280\tvalid-merror:0.222187\n",
      "\n",
      "Will train until valid error hasn't decreased in 50 rounds.\n",
      "Stopping. Best iteration:\n",
      "[50]\ttrain-merror:0.048579\tvalid-merror:0.234129\n",
      "\n",
      "Will train until valid error hasn't decreased in 50 rounds.\n",
      "Stopping. Best iteration:\n",
      "[80]\ttrain-merror:0.026121\tvalid-merror:0.224073\n",
      "\n",
      "Will train until valid error hasn't decreased in 50 rounds.\n",
      "Stopping. Best iteration:\n",
      "[123]\ttrain-merror:0.012744\tvalid-merror:0.229029\n",
      "\n",
      "Will train until valid error hasn't decreased in 50 rounds.\n",
      "Stopping. Best iteration:\n",
      "[113]\ttrain-merror:0.015920\tvalid-merror:0.229029\n",
      "\n"
     ]
    },
    {
     "name": "stdout",
     "output_type": "stream",
     "text": [
      "Accuracy: 0.7640 +/- 0.0020\n",
      "Starting training 35 params of 324\n"
     ]
    },
    {
     "name": "stderr",
     "output_type": "stream",
     "text": [
      "Will train until valid error hasn't decreased in 50 rounds.\n",
      "Stopping. Best iteration:\n",
      "[158]\ttrain-merror:0.031505\tvalid-merror:0.223759\n",
      "\n",
      "Will train until valid error hasn't decreased in 50 rounds.\n",
      "Stopping. Best iteration:\n",
      "[136]\ttrain-merror:0.039953\tvalid-merror:0.227216\n",
      "\n",
      "Will train until valid error hasn't decreased in 50 rounds.\n",
      "Stopping. Best iteration:\n",
      "[105]\ttrain-merror:0.053010\tvalid-merror:0.225644\n",
      "\n",
      "Will train until valid error hasn't decreased in 50 rounds.\n",
      "Stopping. Best iteration:\n",
      "[273]\ttrain-merror:0.012535\tvalid-merror:0.229658\n",
      "\n",
      "Will train until valid error hasn't decreased in 50 rounds.\n",
      "Stopping. Best iteration:\n",
      "[78]\ttrain-merror:0.072301\tvalid-merror:0.229658\n",
      "\n"
     ]
    },
    {
     "name": "stdout",
     "output_type": "stream",
     "text": [
      "Accuracy: 0.7668 +/- 0.0037\n",
      "Starting training 36 params of 324\n"
     ]
    },
    {
     "name": "stderr",
     "output_type": "stream",
     "text": [
      "Will train until valid error hasn't decreased in 50 rounds.\n",
      "Stopping. Best iteration:\n",
      "[260]\ttrain-merror:0.063814\tvalid-merror:0.219673\n",
      "\n",
      "Will train until valid error hasn't decreased in 50 rounds.\n",
      "Stopping. Best iteration:\n",
      "[114]\ttrain-merror:0.125131\tvalid-merror:0.230987\n",
      "\n",
      "Will train until valid error hasn't decreased in 50 rounds.\n",
      "Stopping. Best iteration:\n",
      "[250]\ttrain-merror:0.067118\tvalid-merror:0.222816\n",
      "\n",
      "Will train until valid error hasn't decreased in 50 rounds.\n",
      "Stopping. Best iteration:\n",
      "[249]\ttrain-merror:0.067703\tvalid-merror:0.227458\n",
      "\n",
      "Will train until valid error hasn't decreased in 50 rounds.\n",
      "Stopping. Best iteration:\n",
      "[180]\ttrain-merror:0.090700\tvalid-merror:0.227773\n",
      "\n"
     ]
    },
    {
     "name": "stdout",
     "output_type": "stream",
     "text": [
      "Accuracy: 0.7687 +/- 0.0026\n",
      "Starting training 37 params of 324\n"
     ]
    },
    {
     "name": "stderr",
     "output_type": "stream",
     "text": [
      "Will train until valid error hasn't decreased in 50 rounds.\n",
      "Stopping. Best iteration:\n",
      "[255]\ttrain-merror:0.125987\tvalid-merror:0.230673\n",
      "\n",
      "Will train until valid error hasn't decreased in 50 rounds.\n",
      "Stopping. Best iteration:\n",
      "[264]\ttrain-merror:0.125445\tvalid-merror:0.229415\n",
      "\n",
      "Will train until valid error hasn't decreased in 50 rounds.\n",
      "Stopping. Best iteration:\n",
      "[182]\ttrain-merror:0.149113\tvalid-merror:0.230987\n",
      "\n",
      "Will train until valid error hasn't decreased in 50 rounds.\n",
      "Stopping. Best iteration:\n",
      "[235]\ttrain-merror:0.131774\tvalid-merror:0.234056\n",
      "\n",
      "Will train until valid error hasn't decreased in 50 rounds.\n",
      "Stopping. Best iteration:\n",
      "[180]\ttrain-merror:0.147396\tvalid-merror:0.233742\n",
      "\n"
     ]
    },
    {
     "name": "stdout",
     "output_type": "stream",
     "text": [
      "Accuracy: 0.7630 +/- 0.0030\n",
      "Starting training 38 params of 324\n"
     ]
    },
    {
     "name": "stderr",
     "output_type": "stream",
     "text": [
      "Will train until valid error hasn't decreased in 50 rounds.\n",
      "Stopping. Best iteration:\n",
      "[431]\ttrain-merror:0.145407\tvalid-merror:0.226587\n",
      "\n",
      "Will train until valid error hasn't decreased in 50 rounds.\n",
      "Stopping. Best iteration:\n",
      "[221]\ttrain-merror:0.188133\tvalid-merror:0.242300\n",
      "\n",
      "Will train until valid error hasn't decreased in 50 rounds.\n",
      "Stopping. Best iteration:\n",
      "[257]\ttrain-merror:0.177748\tvalid-merror:0.235387\n",
      "\n",
      "Will train until valid error hasn't decreased in 50 rounds.\n",
      "Stopping. Best iteration:\n",
      "[145]\ttrain-merror:0.208834\tvalid-merror:0.255105\n",
      "\n",
      "Will train until valid error hasn't decreased in 50 rounds.\n",
      "Stopping. Best iteration:\n",
      "[351]\ttrain-merror:0.159091\tvalid-merror:0.238768\n",
      "\n"
     ]
    },
    {
     "name": "stdout",
     "output_type": "stream",
     "text": [
      "Accuracy: 0.7512 +/- 0.0085\n",
      "Starting training 39 params of 324\n"
     ]
    },
    {
     "name": "stderr",
     "output_type": "stream",
     "text": [
      "Will train until valid error hasn't decreased in 50 rounds.\n",
      "Stopping. Best iteration:\n",
      "[503]\ttrain-merror:0.219280\tvalid-merror:0.259899\n",
      "\n",
      "Will train until valid error hasn't decreased in 50 rounds.\n",
      "Stopping. Best iteration:\n",
      "[445]\ttrain-merror:0.225501\tvalid-merror:0.263671\n",
      "\n",
      "Will train until valid error hasn't decreased in 50 rounds.\n",
      "Stopping. Best iteration:\n",
      "[552]\ttrain-merror:0.213158\tvalid-merror:0.255500\n",
      "\n",
      "Will train until valid error hasn't decreased in 50 rounds.\n",
      "Stopping. Best iteration:\n",
      "[439]\ttrain-merror:0.222730\tvalid-merror:0.269871\n",
      "\n",
      "Will train until valid error hasn't decreased in 50 rounds.\n",
      "Stopping. Best iteration:\n",
      "[826]\ttrain-merror:0.187823\tvalid-merror:0.251649\n",
      "\n"
     ]
    },
    {
     "name": "stdout",
     "output_type": "stream",
     "text": [
      "Accuracy: 0.7327 +/- 0.0069\n",
      "Starting training 40 params of 324\n"
     ]
    },
    {
     "name": "stderr",
     "output_type": "stream",
     "text": [
      "Will train until valid error hasn't decreased in 50 rounds.\n",
      "Stopping. Best iteration:\n",
      "[152]\ttrain-merror:0.105414\tvalid-merror:0.238844\n",
      "\n",
      "Will train until valid error hasn't decreased in 50 rounds.\n",
      "Stopping. Best iteration:\n",
      "[141]\ttrain-merror:0.114025\tvalid-merror:0.234444\n",
      "\n",
      "Will train until valid error hasn't decreased in 50 rounds.\n",
      "Stopping. Best iteration:\n",
      "[150]\ttrain-merror:0.110386\tvalid-merror:0.225959\n",
      "\n",
      "Will train until valid error hasn't decreased in 50 rounds.\n",
      "Stopping. Best iteration:\n",
      "[189]\ttrain-merror:0.090608\tvalid-merror:0.235313\n",
      "\n",
      "Will train until valid error hasn't decreased in 50 rounds.\n",
      "Stopping. Best iteration:\n",
      "[164]\ttrain-merror:0.101033\tvalid-merror:0.228401\n",
      "\n"
     ]
    },
    {
     "name": "stdout",
     "output_type": "stream",
     "text": [
      "Accuracy: 0.7597 +/- 0.0018\n",
      "Starting training 41 params of 324\n"
     ]
    },
    {
     "name": "stderr",
     "output_type": "stream",
     "text": [
      "Will train until valid error hasn't decreased in 50 rounds.\n",
      "Stopping. Best iteration:\n",
      "[188]\ttrain-merror:0.147328\tvalid-merror:0.233815\n",
      "\n",
      "Will train until valid error hasn't decreased in 50 rounds.\n",
      "Stopping. Best iteration:\n",
      "[206]\ttrain-merror:0.140707\tvalid-merror:0.240415\n",
      "\n",
      "Will train until valid error hasn't decreased in 50 rounds.\n",
      "Stopping. Best iteration:\n",
      "[220]\ttrain-merror:0.136821\tvalid-merror:0.233815\n",
      "\n",
      "Will train until valid error hasn't decreased in 50 rounds.\n",
      "Stopping. Best iteration:\n",
      "[273]\ttrain-merror:0.119169\tvalid-merror:0.241910\n",
      "\n",
      "Will train until valid error hasn't decreased in 50 rounds.\n",
      "Stopping. Best iteration:\n",
      "[281]\ttrain-merror:0.117686\tvalid-merror:0.232799\n",
      "\n"
     ]
    },
    {
     "name": "stdout",
     "output_type": "stream",
     "text": [
      "Accuracy: 0.7576 +/- 0.0032\n",
      "Starting training 42 params of 324\n"
     ]
    },
    {
     "name": "stderr",
     "output_type": "stream",
     "text": [
      "Will train until valid error hasn't decreased in 50 rounds.\n",
      "Stopping. Best iteration:\n",
      "[457]\ttrain-merror:0.171603\tvalid-merror:0.242615\n",
      "\n",
      "Will train until valid error hasn't decreased in 50 rounds.\n",
      "Stopping. Best iteration:\n",
      "[449]\ttrain-merror:0.172871\tvalid-merror:0.251100\n",
      "\n",
      "Will train until valid error hasn't decreased in 50 rounds.\n",
      "Stopping. Best iteration:\n",
      "[544]\ttrain-merror:0.159205\tvalid-merror:0.242615\n",
      "\n",
      "Will train until valid error hasn't decreased in 50 rounds.\n",
      "Stopping. Best iteration:\n",
      "[187]\ttrain-merror:0.227689\tvalid-merror:0.273641\n",
      "\n",
      "Will train until valid error hasn't decreased in 50 rounds.\n",
      "Stopping. Best iteration:\n",
      "[265]\ttrain-merror:0.205348\tvalid-merror:0.263902\n",
      "\n"
     ]
    },
    {
     "name": "stdout",
     "output_type": "stream",
     "text": [
      "Accuracy: 0.7378 +/- 0.0112\n",
      "Starting training 43 params of 324\n"
     ]
    },
    {
     "name": "stderr",
     "output_type": "stream",
     "text": [
      "Will train until valid error hasn't decreased in 50 rounds.\n",
      "Stopping. Best iteration:\n",
      "[121]\ttrain-merror:0.057073\tvalid-merror:0.228787\n",
      "\n",
      "Will train until valid error hasn't decreased in 50 rounds.\n",
      "Stopping. Best iteration:\n",
      "[194]\ttrain-merror:0.032549\tvalid-merror:0.239472\n",
      "\n",
      "Will train until valid error hasn't decreased in 50 rounds.\n",
      "Stopping. Best iteration:\n",
      "[130]\ttrain-merror:0.051823\tvalid-merror:0.231930\n",
      "\n",
      "Will train until valid error hasn't decreased in 50 rounds.\n",
      "Stopping. Best iteration:\n",
      "[92]\ttrain-merror:0.073534\tvalid-merror:0.233113\n",
      "\n",
      "Will train until valid error hasn't decreased in 50 rounds.\n",
      "Stopping. Best iteration:\n",
      "[163]\ttrain-merror:0.038996\tvalid-merror:0.229972\n",
      "\n"
     ]
    },
    {
     "name": "stdout",
     "output_type": "stream",
     "text": [
      "Accuracy: 0.7584 +/- 0.0020\n",
      "Starting training 44 params of 324\n"
     ]
    },
    {
     "name": "stderr",
     "output_type": "stream",
     "text": [
      "Will train until valid error hasn't decreased in 50 rounds.\n",
      "Stopping. Best iteration:\n",
      "[163]\ttrain-merror:0.085295\tvalid-merror:0.231930\n",
      "\n",
      "Will train until valid error hasn't decreased in 50 rounds.\n",
      "Stopping. Best iteration:\n",
      "[173]\ttrain-merror:0.081791\tvalid-merror:0.237586\n",
      "\n",
      "Will train until valid error hasn't decreased in 50 rounds.\n",
      "Stopping. Best iteration:\n",
      "[141]\ttrain-merror:0.097395\tvalid-merror:0.234444\n",
      "\n",
      "Will train until valid error hasn't decreased in 50 rounds.\n",
      "Stopping. Best iteration:\n",
      "[144]\ttrain-merror:0.093715\tvalid-merror:0.237512\n",
      "\n",
      "Will train until valid error hasn't decreased in 50 rounds.\n",
      "Stopping. Best iteration:\n",
      "[227]\ttrain-merror:0.060536\tvalid-merror:0.237198\n",
      "\n"
     ]
    },
    {
     "name": "stdout",
     "output_type": "stream",
     "text": [
      "Accuracy: 0.7575 +/- 0.0022\n",
      "Starting training 45 params of 324\n"
     ]
    },
    {
     "name": "stderr",
     "output_type": "stream",
     "text": [
      "Will train until valid error hasn't decreased in 50 rounds.\n",
      "Stopping. Best iteration:\n",
      "[302]\ttrain-merror:0.123437\tvalid-merror:0.235701\n",
      "\n",
      "Will train until valid error hasn't decreased in 50 rounds.\n",
      "Stopping. Best iteration:\n",
      "[181]\ttrain-merror:0.164560\tvalid-merror:0.246386\n",
      "\n",
      "Will train until valid error hasn't decreased in 50 rounds.\n",
      "Stopping. Best iteration:\n",
      "[288]\ttrain-merror:0.129138\tvalid-merror:0.233187\n",
      "\n",
      "Will train until valid error hasn't decreased in 50 rounds.\n",
      "Stopping. Best iteration:\n",
      "[350]\ttrain-merror:0.110580\tvalid-merror:0.247251\n",
      "\n",
      "Will train until valid error hasn't decreased in 50 rounds.\n",
      "Stopping. Best iteration:\n",
      "[442]\ttrain-merror:0.094191\tvalid-merror:0.235313\n",
      "\n"
     ]
    },
    {
     "name": "stdout",
     "output_type": "stream",
     "text": [
      "Accuracy: 0.7544 +/- 0.0052\n",
      "Starting training 46 params of 324\n"
     ]
    },
    {
     "name": "stderr",
     "output_type": "stream",
     "text": [
      "Will train until valid error hasn't decreased in 50 rounds.\n",
      "Stopping. Best iteration:\n",
      "[180]\ttrain-merror:0.007440\tvalid-merror:0.231615\n",
      "\n",
      "Will train until valid error hasn't decreased in 50 rounds.\n",
      "Stopping. Best iteration:\n",
      "[62]\ttrain-merror:0.046483\tvalid-merror:0.241043\n",
      "\n",
      "Will train until valid error hasn't decreased in 50 rounds.\n",
      "Stopping. Best iteration:\n",
      "[82]\ttrain-merror:0.030626\tvalid-merror:0.239158\n",
      "\n",
      "Will train until valid error hasn't decreased in 50 rounds.\n",
      "Stopping. Best iteration:\n",
      "[41]\ttrain-merror:0.069972\tvalid-merror:0.238140\n",
      "\n",
      "Will train until valid error hasn't decreased in 50 rounds.\n",
      "Stopping. Best iteration:\n",
      "[96]\ttrain-merror:0.022902\tvalid-merror:0.236883\n",
      "\n"
     ]
    },
    {
     "name": "stdout",
     "output_type": "stream",
     "text": [
      "Accuracy: 0.7517 +/- 0.0029\n",
      "Starting training 47 params of 324\n"
     ]
    },
    {
     "name": "stderr",
     "output_type": "stream",
     "text": [
      "Will train until valid error hasn't decreased in 50 rounds.\n",
      "Stopping. Best iteration:\n",
      "[80]\ttrain-merror:0.077820\tvalid-merror:0.235701\n",
      "\n",
      "Will train until valid error hasn't decreased in 50 rounds.\n",
      "Stopping. Best iteration:\n",
      "[63]\ttrain-merror:0.099637\tvalid-merror:0.240101\n",
      "\n",
      "Will train until valid error hasn't decreased in 50 rounds.\n",
      "Stopping. Best iteration:\n",
      "[112]\ttrain-merror:0.053499\tvalid-merror:0.234444\n",
      "\n",
      "Will train until valid error hasn't decreased in 50 rounds.\n",
      "Stopping. Best iteration:\n",
      "[115]\ttrain-merror:0.051990\tvalid-merror:0.238140\n",
      "\n",
      "Will train until valid error hasn't decreased in 50 rounds.\n",
      "Stopping. Best iteration:\n",
      "[126]\ttrain-merror:0.046397\tvalid-merror:0.236569\n",
      "\n"
     ]
    },
    {
     "name": "stdout",
     "output_type": "stream",
     "text": [
      "Accuracy: 0.7573 +/- 0.0023\n",
      "Starting training 48 params of 324\n"
     ]
    },
    {
     "name": "stderr",
     "output_type": "stream",
     "text": [
      "Will train until valid error hasn't decreased in 50 rounds.\n",
      "Stopping. Best iteration:\n",
      "[172]\ttrain-merror:0.103982\tvalid-merror:0.224387\n",
      "\n",
      "Will train until valid error hasn't decreased in 50 rounds.\n",
      "Stopping. Best iteration:\n",
      "[178]\ttrain-merror:0.101558\tvalid-merror:0.233501\n",
      "\n",
      "Will train until valid error hasn't decreased in 50 rounds.\n",
      "Stopping. Best iteration:\n",
      "[196]\ttrain-merror:0.092960\tvalid-merror:0.226273\n",
      "\n",
      "Will train until valid error hasn't decreased in 50 rounds.\n",
      "Stopping. Best iteration:\n",
      "[153]\ttrain-merror:0.112116\tvalid-merror:0.243481\n",
      "\n",
      "Will train until valid error hasn't decreased in 50 rounds.\n",
      "Stopping. Best iteration:\n",
      "[316]\ttrain-merror:0.056207\tvalid-merror:0.231543\n",
      "\n"
     ]
    },
    {
     "name": "stdout",
     "output_type": "stream",
     "text": [
      "Accuracy: 0.7589 +/- 0.0052\n",
      "Starting training 49 params of 324\n"
     ]
    },
    {
     "name": "stderr",
     "output_type": "stream",
     "text": [
      "Will train until valid error hasn't decreased in 50 rounds.\n",
      "Stopping. Best iteration:\n",
      "[345]\ttrain-merror:0.100035\tvalid-merror:0.223444\n",
      "\n",
      "Will train until valid error hasn't decreased in 50 rounds.\n",
      "Stopping. Best iteration:\n",
      "[269]\ttrain-merror:0.117622\tvalid-merror:0.227530\n",
      "\n",
      "Will train until valid error hasn't decreased in 50 rounds.\n",
      "Stopping. Best iteration:\n",
      "[215]\ttrain-merror:0.130884\tvalid-merror:0.224701\n",
      "\n",
      "Will train until valid error hasn't decreased in 50 rounds.\n",
      "Stopping. Best iteration:\n",
      "[231]\ttrain-merror:0.124686\tvalid-merror:0.235627\n",
      "\n",
      "Will train until valid error hasn't decreased in 50 rounds.\n",
      "Stopping. Best iteration:\n",
      "[295]\ttrain-merror:0.110739\tvalid-merror:0.218347\n",
      "\n"
     ]
    },
    {
     "name": "stdout",
     "output_type": "stream",
     "text": [
      "Accuracy: 0.7663 +/- 0.0046\n",
      "Starting training 50 params of 324\n"
     ]
    },
    {
     "name": "stderr",
     "output_type": "stream",
     "text": [
      "Will train until valid error hasn't decreased in 50 rounds.\n",
      "Stopping. Best iteration:\n",
      "[264]\ttrain-merror:0.168634\tvalid-merror:0.233187\n",
      "\n",
      "Will train until valid error hasn't decreased in 50 rounds.\n",
      "Stopping. Best iteration:\n",
      "[290]\ttrain-merror:0.163966\tvalid-merror:0.235387\n",
      "\n",
      "Will train until valid error hasn't decreased in 50 rounds.\n",
      "Stopping. Best iteration:\n",
      "[263]\ttrain-merror:0.168529\tvalid-merror:0.229101\n",
      "\n",
      "Will train until valid error hasn't decreased in 50 rounds.\n",
      "Stopping. Best iteration:\n",
      "[426]\ttrain-merror:0.138303\tvalid-merror:0.241910\n",
      "\n",
      "Will train until valid error hasn't decreased in 50 rounds.\n",
      "Stopping. Best iteration:\n",
      "[452]\ttrain-merror:0.137236\tvalid-merror:0.229343\n",
      "\n"
     ]
    },
    {
     "name": "stdout",
     "output_type": "stream",
     "text": [
      "Accuracy: 0.7596 +/- 0.0033\n",
      "Starting training 51 params of 324\n"
     ]
    },
    {
     "name": "stderr",
     "output_type": "stream",
     "text": [
      "Will train until valid error hasn't decreased in 50 rounds.\n",
      "Stopping. Best iteration:\n",
      "[753]\ttrain-merror:0.186832\tvalid-merror:0.242929\n",
      "\n",
      "Will train until valid error hasn't decreased in 50 rounds.\n",
      "Stopping. Best iteration:\n",
      "[728]\ttrain-merror:0.189076\tvalid-merror:0.249843\n",
      "\n",
      "Will train until valid error hasn't decreased in 50 rounds.\n",
      "Stopping. Best iteration:\n",
      "[581]\ttrain-merror:0.201809\tvalid-merror:0.246072\n",
      "\n",
      "Will train until valid error hasn't decreased in 50 rounds.\n",
      "Stopping. Best iteration:\n",
      "[490]\ttrain-merror:0.208240\tvalid-merror:0.260132\n",
      "\n",
      "Will train until valid error hasn't decreased in 50 rounds.\n",
      "Stopping. Best iteration:\n",
      "[571]\ttrain-merror:0.201648\tvalid-merror:0.257304\n",
      "\n"
     ]
    },
    {
     "name": "stdout",
     "output_type": "stream",
     "text": [
      "Accuracy: 0.7436 +/- 0.0057\n",
      "Starting training 52 params of 324\n"
     ]
    },
    {
     "name": "stderr",
     "output_type": "stream",
     "text": [
      "Will train until valid error hasn't decreased in 50 rounds.\n",
      "Stopping. Best iteration:\n",
      "[208]\ttrain-merror:0.076004\tvalid-merror:0.225330\n",
      "\n",
      "Will train until valid error hasn't decreased in 50 rounds.\n",
      "Stopping. Best iteration:\n",
      "[137]\ttrain-merror:0.106412\tvalid-merror:0.225016\n",
      "\n",
      "Will train until valid error hasn't decreased in 50 rounds.\n",
      "Stopping. Best iteration:\n",
      "[313]\ttrain-merror:0.052626\tvalid-merror:0.220930\n",
      "\n",
      "Will train until valid error hasn't decreased in 50 rounds.\n",
      "Stopping. Best iteration:\n",
      "[218]\ttrain-merror:0.072940\tvalid-merror:0.232799\n",
      "\n",
      "Will train until valid error hasn't decreased in 50 rounds.\n",
      "Stopping. Best iteration:\n",
      "[160]\ttrain-merror:0.095064\tvalid-merror:0.230600\n",
      "\n"
     ]
    },
    {
     "name": "stdout",
     "output_type": "stream",
     "text": [
      "Accuracy: 0.7674 +/- 0.0031\n",
      "Starting training 53 params of 324\n"
     ]
    },
    {
     "name": "stderr",
     "output_type": "stream",
     "text": [
      "Will train until valid error hasn't decreased in 50 rounds.\n",
      "Stopping. Best iteration:\n",
      "[202]\ttrain-merror:0.133496\tvalid-merror:0.224701\n",
      "\n",
      "Will train until valid error hasn't decreased in 50 rounds.\n",
      "Stopping. Best iteration:\n",
      "[385]\ttrain-merror:0.087274\tvalid-merror:0.226587\n",
      "\n",
      "Will train until valid error hasn't decreased in 50 rounds.\n",
      "Stopping. Best iteration:\n",
      "[185]\ttrain-merror:0.139964\tvalid-merror:0.226587\n",
      "\n",
      "Will train until valid error hasn't decreased in 50 rounds.\n",
      "Stopping. Best iteration:\n",
      "[118]\ttrain-merror:0.168645\tvalid-merror:0.248194\n",
      "\n",
      "Will train until valid error hasn't decreased in 50 rounds.\n",
      "Stopping. Best iteration:\n",
      "[178]\ttrain-merror:0.142264\tvalid-merror:0.230600\n",
      "\n"
     ]
    },
    {
     "name": "stdout",
     "output_type": "stream",
     "text": [
      "Accuracy: 0.7583 +/- 0.0087\n",
      "Starting training 54 params of 324\n"
     ]
    },
    {
     "name": "stderr",
     "output_type": "stream",
     "text": [
      "Will train until valid error hasn't decreased in 50 rounds.\n",
      "Stopping. Best iteration:\n",
      "[326]\ttrain-merror:0.185016\tvalid-merror:0.242929\n",
      "\n",
      "Will train until valid error hasn't decreased in 50 rounds.\n",
      "Stopping. Best iteration:\n",
      "[397]\ttrain-merror:0.171719\tvalid-merror:0.248272\n",
      "\n",
      "Will train until valid error hasn't decreased in 50 rounds.\n",
      "Stopping. Best iteration:\n",
      "[309]\ttrain-merror:0.187875\tvalid-merror:0.246700\n",
      "\n",
      "Will train until valid error hasn't decreased in 50 rounds.\n",
      "Stopping. Best iteration:\n",
      "[531]\ttrain-merror:0.149860\tvalid-merror:0.243795\n",
      "\n",
      "Will train until valid error hasn't decreased in 50 rounds.\n",
      "Stopping. Best iteration:\n",
      "[251]\ttrain-merror:0.202974\tvalid-merror:0.257619\n",
      "\n"
     ]
    },
    {
     "name": "stdout",
     "output_type": "stream",
     "text": [
      "Accuracy: 0.7460 +/- 0.0046\n",
      "Starting training 55 params of 324\n"
     ]
    },
    {
     "name": "stderr",
     "output_type": "stream",
     "text": [
      "Will train until valid error hasn't decreased in 50 rounds.\n",
      "Stopping. Best iteration:\n",
      "[99]\ttrain-merror:0.057283\tvalid-merror:0.235387\n",
      "\n",
      "Will train until valid error hasn't decreased in 50 rounds.\n",
      "Stopping. Best iteration:\n",
      "[156]\ttrain-merror:0.033876\tvalid-merror:0.227530\n",
      "\n",
      "Will train until valid error hasn't decreased in 50 rounds.\n",
      "Stopping. Best iteration:\n",
      "[135]\ttrain-merror:0.041242\tvalid-merror:0.223444\n",
      "\n",
      "Will train until valid error hasn't decreased in 50 rounds.\n",
      "Stopping. Best iteration:\n",
      "[204]\ttrain-merror:0.021858\tvalid-merror:0.228401\n",
      "\n",
      "Will train until valid error hasn't decreased in 50 rounds.\n",
      "Stopping. Best iteration:\n",
      "[103]\ttrain-merror:0.055928\tvalid-merror:0.231543\n",
      "\n"
     ]
    },
    {
     "name": "stdout",
     "output_type": "stream",
     "text": [
      "Accuracy: 0.7632 +/- 0.0033\n",
      "Starting training 56 params of 324\n"
     ]
    },
    {
     "name": "stderr",
     "output_type": "stream",
     "text": [
      "Will train until valid error hasn't decreased in 50 rounds.\n",
      "Stopping. Best iteration:\n",
      "[156]\ttrain-merror:0.078379\tvalid-merror:0.229730\n",
      "\n",
      "Will train until valid error hasn't decreased in 50 rounds.\n",
      "Stopping. Best iteration:\n",
      "[231]\ttrain-merror:0.052595\tvalid-merror:0.233187\n",
      "\n",
      "Will train until valid error hasn't decreased in 50 rounds.\n",
      "Stopping. Best iteration:\n",
      "[139]\ttrain-merror:0.085731\tvalid-merror:0.230358\n",
      "\n",
      "Will train until valid error hasn't decreased in 50 rounds.\n",
      "Stopping. Best iteration:\n",
      "[209]\ttrain-merror:0.058101\tvalid-merror:0.237826\n",
      "\n",
      "Will train until valid error hasn't decreased in 50 rounds.\n",
      "Stopping. Best iteration:\n",
      "[245]\ttrain-merror:0.048143\tvalid-merror:0.230286\n",
      "\n"
     ]
    },
    {
     "name": "stdout",
     "output_type": "stream",
     "text": [
      "Accuracy: 0.7618 +/- 0.0026\n",
      "Starting training 57 params of 324\n"
     ]
    },
    {
     "name": "stderr",
     "output_type": "stream",
     "text": [
      "Will train until valid error hasn't decreased in 50 rounds.\n",
      "Stopping. Best iteration:\n",
      "[290]\ttrain-merror:0.111911\tvalid-merror:0.234444\n",
      "\n",
      "Will train until valid error hasn't decreased in 50 rounds.\n",
      "Stopping. Best iteration:\n",
      "[225]\ttrain-merror:0.135887\tvalid-merror:0.239158\n",
      "\n",
      "Will train until valid error hasn't decreased in 50 rounds.\n",
      "Stopping. Best iteration:\n",
      "[497]\ttrain-merror:0.069598\tvalid-merror:0.230358\n",
      "\n",
      "Will train until valid error hasn't decreased in 50 rounds.\n",
      "Stopping. Best iteration:\n",
      "[296]\ttrain-merror:0.110440\tvalid-merror:0.240653\n",
      "\n",
      "Will train until valid error hasn't decreased in 50 rounds.\n",
      "Stopping. Best iteration:\n",
      "[140]\ttrain-merror:0.169774\tvalid-merror:0.245052\n",
      "\n"
     ]
    },
    {
     "name": "stdout",
     "output_type": "stream",
     "text": [
      "Accuracy: 0.7560 +/- 0.0047\n",
      "Starting training 58 params of 324\n"
     ]
    },
    {
     "name": "stderr",
     "output_type": "stream",
     "text": [
      "Will train until valid error hasn't decreased in 50 rounds.\n",
      "Stopping. Best iteration:\n",
      "[109]\ttrain-merror:0.012714\tvalid-merror:0.229730\n",
      "\n",
      "Will train until valid error hasn't decreased in 50 rounds.\n",
      "Stopping. Best iteration:\n",
      "[116]\ttrain-merror:0.012607\tvalid-merror:0.234129\n",
      "\n",
      "Will train until valid error hasn't decreased in 50 rounds.\n",
      "Stopping. Best iteration:\n",
      "[90]\ttrain-merror:0.018159\tvalid-merror:0.228158\n",
      "\n",
      "Will train until valid error hasn't decreased in 50 rounds.\n",
      "Stopping. Best iteration:\n",
      "[111]\ttrain-merror:0.011208\tvalid-merror:0.236569\n",
      "\n",
      "Will train until valid error hasn't decreased in 50 rounds.\n",
      "Stopping. Best iteration:\n",
      "[68]\ttrain-merror:0.030128\tvalid-merror:0.235941\n",
      "\n"
     ]
    },
    {
     "name": "stdout",
     "output_type": "stream",
     "text": [
      "Accuracy: 0.7580 +/- 0.0049\n",
      "Starting training 59 params of 324\n"
     ]
    },
    {
     "name": "stderr",
     "output_type": "stream",
     "text": [
      "Will train until valid error hasn't decreased in 50 rounds.\n",
      "Stopping. Best iteration:\n",
      "[123]\ttrain-merror:0.036360\tvalid-merror:0.225330\n",
      "\n",
      "Will train until valid error hasn't decreased in 50 rounds.\n",
      "Stopping. Best iteration:\n",
      "[106]\ttrain-merror:0.045470\tvalid-merror:0.233815\n",
      "\n",
      "Will train until valid error hasn't decreased in 50 rounds.\n",
      "Stopping. Best iteration:\n",
      "[113]\ttrain-merror:0.038762\tvalid-merror:0.228787\n",
      "\n",
      "Will train until valid error hasn't decreased in 50 rounds.\n",
      "Stopping. Best iteration:\n",
      "[212]\ttrain-merror:0.013897\tvalid-merror:0.237512\n",
      "\n",
      "Will train until valid error hasn't decreased in 50 rounds.\n",
      "Stopping. Best iteration:\n",
      "[63]\ttrain-merror:0.081518\tvalid-merror:0.233113\n",
      "\n"
     ]
    },
    {
     "name": "stdout",
     "output_type": "stream",
     "text": [
      "Accuracy: 0.7601 +/- 0.0042\n",
      "Starting training 60 params of 324\n"
     ]
    },
    {
     "name": "stderr",
     "output_type": "stream",
     "text": [
      "Will train until valid error hasn't decreased in 50 rounds.\n",
      "Stopping. Best iteration:\n",
      "[218]\ttrain-merror:0.065037\tvalid-merror:0.227530\n",
      "\n",
      "Will train until valid error hasn't decreased in 50 rounds.\n",
      "Stopping. Best iteration:\n",
      "[206]\ttrain-merror:0.070685\tvalid-merror:0.228473\n",
      "\n",
      "Will train until valid error hasn't decreased in 50 rounds.\n",
      "Stopping. Best iteration:\n",
      "[167]\ttrain-merror:0.085557\tvalid-merror:0.223759\n",
      "\n",
      "Will train until valid error hasn't decreased in 50 rounds.\n",
      "Stopping. Best iteration:\n",
      "[194]\ttrain-merror:0.072346\tvalid-merror:0.240025\n",
      "\n",
      "Will train until valid error hasn't decreased in 50 rounds.\n",
      "Stopping. Best iteration:\n",
      "[132]\ttrain-merror:0.103966\tvalid-merror:0.235313\n",
      "\n"
     ]
    },
    {
     "name": "stdout",
     "output_type": "stream",
     "text": [
      "Accuracy: 0.7653 +/- 0.0027\n",
      "Starting training 61 params of 324\n"
     ]
    },
    {
     "name": "stderr",
     "output_type": "stream",
     "text": [
      "Will train until valid error hasn't decreased in 50 rounds.\n",
      "Stopping. Best iteration:\n",
      "[259]\ttrain-merror:0.119280\tvalid-merror:0.222816\n",
      "\n",
      "Will train until valid error hasn't decreased in 50 rounds.\n",
      "Stopping. Best iteration:\n",
      "[294]\ttrain-merror:0.113501\tvalid-merror:0.222816\n",
      "\n",
      "Will train until valid error hasn't decreased in 50 rounds.\n",
      "Stopping. Best iteration:\n",
      "[188]\ttrain-merror:0.141745\tvalid-merror:0.224701\n",
      "\n",
      "Will train until valid error hasn't decreased in 50 rounds.\n",
      "Stopping. Best iteration:\n",
      "[258]\ttrain-merror:0.118750\tvalid-merror:0.231228\n",
      "\n",
      "Will train until valid error hasn't decreased in 50 rounds.\n",
      "Stopping. Best iteration:\n",
      "[273]\ttrain-merror:0.115522\tvalid-merror:0.228401\n",
      "\n"
     ]
    },
    {
     "name": "stdout",
     "output_type": "stream",
     "text": [
      "Accuracy: 0.7692 +/- 0.0036\n",
      "Starting training 62 params of 324\n"
     ]
    },
    {
     "name": "stderr",
     "output_type": "stream",
     "text": [
      "Will train until valid error hasn't decreased in 50 rounds.\n",
      "Stopping. Best iteration:\n",
      "[450]\ttrain-merror:0.135243\tvalid-merror:0.218416\n",
      "\n",
      "Will train until valid error hasn't decreased in 50 rounds.\n",
      "Stopping. Best iteration:\n",
      "[349]\ttrain-merror:0.151778\tvalid-merror:0.227844\n",
      "\n",
      "Will train until valid error hasn't decreased in 50 rounds.\n",
      "Stopping. Best iteration:\n",
      "[287]\ttrain-merror:0.162907\tvalid-merror:0.225959\n",
      "\n",
      "Will train until valid error hasn't decreased in 50 rounds.\n",
      "Stopping. Best iteration:\n",
      "[264]\ttrain-merror:0.163932\tvalid-merror:0.245680\n",
      "\n",
      "Will train until valid error hasn't decreased in 50 rounds.\n",
      "Stopping. Best iteration:\n",
      "[313]\ttrain-merror:0.158393\tvalid-merror:0.229029\n",
      "\n"
     ]
    },
    {
     "name": "stdout",
     "output_type": "stream",
     "text": [
      "Accuracy: 0.7627 +/- 0.0062\n",
      "Starting training 63 params of 324\n"
     ]
    },
    {
     "name": "stderr",
     "output_type": "stream",
     "text": [
      "Will train until valid error hasn't decreased in 50 rounds.\n",
      "Stopping. Best iteration:\n",
      "[938]\ttrain-merror:0.174782\tvalid-merror:0.231301\n",
      "\n",
      "Will train until valid error hasn't decreased in 50 rounds.\n",
      "Stopping. Best iteration:\n",
      "[561]\ttrain-merror:0.203185\tvalid-merror:0.252357\n",
      "\n",
      "Will train until valid error hasn't decreased in 50 rounds.\n",
      "Stopping. Best iteration:\n",
      "[518]\ttrain-merror:0.205336\tvalid-merror:0.246386\n",
      "\n",
      "Will train until valid error hasn't decreased in 50 rounds.\n",
      "Stopping. Best iteration:\n",
      "[470]\ttrain-merror:0.206145\tvalid-merror:0.256990\n",
      "\n",
      "Will train until valid error hasn't decreased in 50 rounds.\n",
      "Stopping. Best iteration:\n",
      "[397]\ttrain-merror:0.218021\tvalid-merror:0.262645\n",
      "\n"
     ]
    },
    {
     "name": "stdout",
     "output_type": "stream",
     "text": [
      "Accuracy: 0.7446 +/- 0.0062\n",
      "Starting training 64 params of 324\n"
     ]
    },
    {
     "name": "stderr",
     "output_type": "stream",
     "text": [
      "Will train until valid error hasn't decreased in 50 rounds.\n",
      "Stopping. Best iteration:\n",
      "[399]\ttrain-merror:0.042543\tvalid-merror:0.216530\n",
      "\n",
      "Will train until valid error hasn't decreased in 50 rounds.\n",
      "Stopping. Best iteration:\n",
      "[227]\ttrain-merror:0.074282\tvalid-merror:0.226901\n",
      "\n",
      "Will train until valid error hasn't decreased in 50 rounds.\n",
      "Stopping. Best iteration:\n",
      "[155]\ttrain-merror:0.096452\tvalid-merror:0.225644\n",
      "\n",
      "Will train until valid error hasn't decreased in 50 rounds.\n",
      "Stopping. Best iteration:\n",
      "[182]\ttrain-merror:0.084358\tvalid-merror:0.230286\n",
      "\n",
      "Will train until valid error hasn't decreased in 50 rounds.\n",
      "Stopping. Best iteration:\n",
      "[314]\ttrain-merror:0.056556\tvalid-merror:0.228401\n",
      "\n"
     ]
    },
    {
     "name": "stdout",
     "output_type": "stream",
     "text": [
      "Accuracy: 0.7704 +/- 0.0035\n",
      "Starting training 65 params of 324\n"
     ]
    },
    {
     "name": "stderr",
     "output_type": "stream",
     "text": [
      "Will train until valid error hasn't decreased in 50 rounds.\n",
      "Stopping. Best iteration:\n",
      "[256]\ttrain-merror:0.118268\tvalid-merror:0.227216\n",
      "\n",
      "Will train until valid error hasn't decreased in 50 rounds.\n",
      "Stopping. Best iteration:\n",
      "[354]\ttrain-merror:0.098589\tvalid-merror:0.225959\n",
      "\n",
      "Will train until valid error hasn't decreased in 50 rounds.\n",
      "Stopping. Best iteration:\n",
      "[207]\ttrain-merror:0.132037\tvalid-merror:0.221873\n",
      "\n",
      "Will train until valid error hasn't decreased in 50 rounds.\n",
      "Stopping. Best iteration:\n",
      "[383]\ttrain-merror:0.092563\tvalid-merror:0.230286\n",
      "\n",
      "Will train until valid error hasn't decreased in 50 rounds.\n",
      "Stopping. Best iteration:\n",
      "[283]\ttrain-merror:0.112310\tvalid-merror:0.226516\n",
      "\n"
     ]
    },
    {
     "name": "stdout",
     "output_type": "stream",
     "text": [
      "Accuracy: 0.7670 +/- 0.0030\n",
      "Starting training 66 params of 324\n"
     ]
    },
    {
     "name": "stderr",
     "output_type": "stream",
     "text": [
      "Will train until valid error hasn't decreased in 50 rounds.\n",
      "Stopping. Best iteration:\n",
      "[220]\ttrain-merror:0.205589\tvalid-merror:0.250786\n",
      "\n",
      "Will train until valid error hasn't decreased in 50 rounds.\n",
      "Stopping. Best iteration:\n",
      "[423]\ttrain-merror:0.172173\tvalid-merror:0.245129\n",
      "\n",
      "Will train until valid error hasn't decreased in 50 rounds.\n",
      "Stopping. Best iteration:\n",
      "[385]\ttrain-merror:0.174955\tvalid-merror:0.239158\n",
      "\n",
      "Will train until valid error hasn't decreased in 50 rounds.\n",
      "Stopping. Best iteration:\n",
      "[321]\ttrain-merror:0.182856\tvalid-merror:0.252906\n",
      "\n",
      "Will train until valid error hasn't decreased in 50 rounds.\n",
      "Stopping. Best iteration:\n",
      "[725]\ttrain-merror:0.134583\tvalid-merror:0.234684\n",
      "\n"
     ]
    },
    {
     "name": "stdout",
     "output_type": "stream",
     "text": [
      "Accuracy: 0.7504 +/- 0.0105\n",
      "Starting training 67 params of 324\n"
     ]
    },
    {
     "name": "stderr",
     "output_type": "stream",
     "text": [
      "Will train until valid error hasn't decreased in 50 rounds.\n",
      "Stopping. Best iteration:\n",
      "[189]\ttrain-merror:0.026196\tvalid-merror:0.219987\n",
      "\n",
      "Will train until valid error hasn't decreased in 50 rounds.\n",
      "Stopping. Best iteration:\n",
      "[133]\ttrain-merror:0.042257\tvalid-merror:0.229101\n",
      "\n",
      "Will train until valid error hasn't decreased in 50 rounds.\n",
      "Stopping. Best iteration:\n",
      "[150]\ttrain-merror:0.037470\tvalid-merror:0.225959\n",
      "\n",
      "Will train until valid error hasn't decreased in 50 rounds.\n",
      "Stopping. Best iteration:\n",
      "[186]\ttrain-merror:0.027200\tvalid-merror:0.225888\n",
      "\n",
      "Will train until valid error hasn't decreased in 50 rounds.\n",
      "Stopping. Best iteration:\n",
      "[83]\ttrain-merror:0.067379\tvalid-merror:0.227144\n",
      "\n"
     ]
    },
    {
     "name": "stdout",
     "output_type": "stream",
     "text": [
      "Accuracy: 0.7666 +/- 0.0036\n",
      "Starting training 68 params of 324\n"
     ]
    },
    {
     "name": "stderr",
     "output_type": "stream",
     "text": [
      "Will train until valid error hasn't decreased in 50 rounds.\n",
      "Stopping. Best iteration:\n",
      "[253]\ttrain-merror:0.050576\tvalid-merror:0.225016\n",
      "\n",
      "Will train until valid error hasn't decreased in 50 rounds.\n",
      "Stopping. Best iteration:\n",
      "[186]\ttrain-merror:0.070790\tvalid-merror:0.232244\n",
      "\n",
      "Will train until valid error hasn't decreased in 50 rounds.\n",
      "Stopping. Best iteration:\n",
      "[145]\ttrain-merror:0.084055\tvalid-merror:0.223759\n",
      "\n",
      "Will train until valid error hasn't decreased in 50 rounds.\n",
      "Stopping. Best iteration:\n",
      "[164]\ttrain-merror:0.075803\tvalid-merror:0.233113\n",
      "\n",
      "Will train until valid error hasn't decreased in 50 rounds.\n",
      "Stopping. Best iteration:\n",
      "[135]\ttrain-merror:0.090420\tvalid-merror:0.229343\n",
      "\n"
     ]
    },
    {
     "name": "stdout",
     "output_type": "stream",
     "text": [
      "Accuracy: 0.7661 +/- 0.0028\n",
      "Starting training 69 params of 324\n"
     ]
    },
    {
     "name": "stderr",
     "output_type": "stream",
     "text": [
      "Will train until valid error hasn't decreased in 50 rounds.\n",
      "Stopping. Best iteration:\n",
      "[649]\ttrain-merror:0.056689\tvalid-merror:0.224073\n",
      "\n",
      "Will train until valid error hasn't decreased in 50 rounds.\n",
      "Stopping. Best iteration:\n",
      "[215]\ttrain-merror:0.140847\tvalid-merror:0.242615\n",
      "\n",
      "Will train until valid error hasn't decreased in 50 rounds.\n",
      "Stopping. Best iteration:\n",
      "[337]\ttrain-merror:0.106754\tvalid-merror:0.222502\n",
      "\n",
      "Will train until valid error hasn't decreased in 50 rounds.\n",
      "Stopping. Best iteration:\n",
      "[443]\ttrain-merror:0.084358\tvalid-merror:0.234998\n",
      "\n",
      "Will train until valid error hasn't decreased in 50 rounds.\n",
      "Stopping. Best iteration:\n",
      "[362]\ttrain-merror:0.101662\tvalid-merror:0.229029\n",
      "\n"
     ]
    },
    {
     "name": "stdout",
     "output_type": "stream",
     "text": [
      "Accuracy: 0.7641 +/- 0.0037\n",
      "Starting training 70 params of 324\n"
     ]
    },
    {
     "name": "stderr",
     "output_type": "stream",
     "text": [
      "Will train until valid error hasn't decreased in 50 rounds.\n",
      "Stopping. Best iteration:\n",
      "[114]\ttrain-merror:0.011072\tvalid-merror:0.224701\n",
      "\n",
      "Will train until valid error hasn't decreased in 50 rounds.\n",
      "Stopping. Best iteration:\n",
      "[100]\ttrain-merror:0.014877\tvalid-merror:0.232558\n",
      "\n",
      "Will train until valid error hasn't decreased in 50 rounds.\n",
      "Stopping. Best iteration:\n",
      "[122]\ttrain-merror:0.009324\tvalid-merror:0.230987\n",
      "\n",
      "Will train until valid error hasn't decreased in 50 rounds.\n",
      "Stopping. Best iteration:\n",
      "[101]\ttrain-merror:0.013582\tvalid-merror:0.229972\n",
      "\n",
      "Will train until valid error hasn't decreased in 50 rounds.\n",
      "Stopping. Best iteration:\n",
      "[61]\ttrain-merror:0.032049\tvalid-merror:0.232485\n",
      "\n"
     ]
    },
    {
     "name": "stdout",
     "output_type": "stream",
     "text": [
      "Accuracy: 0.7617 +/- 0.0027\n",
      "Starting training 71 params of 324\n"
     ]
    },
    {
     "name": "stderr",
     "output_type": "stream",
     "text": [
      "Will train until valid error hasn't decreased in 50 rounds.\n",
      "Stopping. Best iteration:\n",
      "[187]\ttrain-merror:0.018268\tvalid-merror:0.220302\n",
      "\n",
      "Will train until valid error hasn't decreased in 50 rounds.\n",
      "Stopping. Best iteration:\n",
      "[117]\ttrain-merror:0.038171\tvalid-merror:0.229101\n",
      "\n",
      "Will train until valid error hasn't decreased in 50 rounds.\n",
      "Stopping. Best iteration:\n",
      "[121]\ttrain-merror:0.035445\tvalid-merror:0.225330\n",
      "\n",
      "Will train until valid error hasn't decreased in 50 rounds.\n",
      "Stopping. Best iteration:\n",
      "[125]\ttrain-merror:0.034811\tvalid-merror:0.234684\n",
      "\n",
      "Will train until valid error hasn't decreased in 50 rounds.\n",
      "Stopping. Best iteration:\n",
      "[65]\ttrain-merror:0.072336\tvalid-merror:0.228401\n",
      "\n"
     ]
    },
    {
     "name": "stdout",
     "output_type": "stream",
     "text": [
      "Accuracy: 0.7637 +/- 0.0030\n",
      "Starting training 72 params of 324\n"
     ]
    },
    {
     "name": "stderr",
     "output_type": "stream",
     "text": [
      "Will train until valid error hasn't decreased in 50 rounds.\n",
      "Stopping. Best iteration:\n",
      "[125]\ttrain-merror:0.103702\tvalid-merror:0.228787\n",
      "\n",
      "Will train until valid error hasn't decreased in 50 rounds.\n",
      "Stopping. Best iteration:\n",
      "[313]\ttrain-merror:0.038870\tvalid-merror:0.228473\n",
      "\n",
      "Will train until valid error hasn't decreased in 50 rounds.\n",
      "Stopping. Best iteration:\n",
      "[150]\ttrain-merror:0.091214\tvalid-merror:0.220302\n",
      "\n",
      "Will train until valid error hasn't decreased in 50 rounds.\n",
      "Stopping. Best iteration:\n",
      "[247]\ttrain-merror:0.053352\tvalid-merror:0.232485\n",
      "\n",
      "Will train until valid error hasn't decreased in 50 rounds.\n",
      "Stopping. Best iteration:\n",
      "[162]\ttrain-merror:0.085114\tvalid-merror:0.230600\n",
      "\n"
     ]
    },
    {
     "name": "stdout",
     "output_type": "stream",
     "text": [
      "Accuracy: 0.7658 +/- 0.0042\n",
      "Starting training 73 params of 324\n"
     ]
    },
    {
     "name": "stderr",
     "output_type": "stream",
     "text": [
      "Will train until valid error hasn't decreased in 50 rounds.\n",
      "Stopping. Best iteration:\n",
      "[381]\ttrain-merror:0.095424\tvalid-merror:0.229415\n",
      "\n",
      "Will train until valid error hasn't decreased in 50 rounds.\n",
      "Stopping. Best iteration:\n",
      "[208]\ttrain-merror:0.136726\tvalid-merror:0.227530\n",
      "\n",
      "Will train until valid error hasn't decreased in 50 rounds.\n",
      "Stopping. Best iteration:\n",
      "[261]\ttrain-merror:0.120792\tvalid-merror:0.227530\n",
      "\n",
      "Will train until valid error hasn't decreased in 50 rounds.\n",
      "Stopping. Best iteration:\n",
      "[286]\ttrain-merror:0.114490\tvalid-merror:0.234370\n",
      "\n",
      "Will train until valid error hasn't decreased in 50 rounds.\n",
      "Stopping. Best iteration:\n",
      "[212]\ttrain-merror:0.136573\tvalid-merror:0.235313\n",
      "\n"
     ]
    },
    {
     "name": "stdout",
     "output_type": "stream",
     "text": [
      "Accuracy: 0.7636 +/- 0.0017\n",
      "Starting training 74 params of 324\n"
     ]
    },
    {
     "name": "stderr",
     "output_type": "stream",
     "text": [
      "Will train until valid error hasn't decreased in 50 rounds.\n",
      "Stopping. Best iteration:\n",
      "[334]\ttrain-merror:0.159064\tvalid-merror:0.233501\n",
      "\n",
      "Will train until valid error hasn't decreased in 50 rounds.\n",
      "Stopping. Best iteration:\n",
      "[232]\ttrain-merror:0.180729\tvalid-merror:0.244815\n",
      "\n",
      "Will train until valid error hasn't decreased in 50 rounds.\n",
      "Stopping. Best iteration:\n",
      "[287]\ttrain-merror:0.167062\tvalid-merror:0.236958\n",
      "\n",
      "Will train until valid error hasn't decreased in 50 rounds.\n",
      "Stopping. Best iteration:\n",
      "[254]\ttrain-merror:0.173883\tvalid-merror:0.250079\n",
      "\n",
      "Will train until valid error hasn't decreased in 50 rounds.\n",
      "Stopping. Best iteration:\n",
      "[353]\ttrain-merror:0.153959\tvalid-merror:0.237512\n",
      "\n"
     ]
    },
    {
     "name": "stdout",
     "output_type": "stream",
     "text": [
      "Accuracy: 0.7540 +/- 0.0050\n",
      "Starting training 75 params of 324\n"
     ]
    },
    {
     "name": "stderr",
     "output_type": "stream",
     "text": [
      "Will train until valid error hasn't decreased in 50 rounds.\n",
      "Stopping. Best iteration:\n",
      "[455]\ttrain-merror:0.221236\tvalid-merror:0.262414\n",
      "\n",
      "Will train until valid error hasn't decreased in 50 rounds.\n",
      "Stopping. Best iteration:\n",
      "[380]\ttrain-merror:0.229727\tvalid-merror:0.265242\n",
      "\n",
      "Will train until valid error hasn't decreased in 50 rounds.\n",
      "Stopping. Best iteration:\n",
      "[553]\ttrain-merror:0.211342\tvalid-merror:0.253928\n",
      "\n",
      "Will train until valid error hasn't decreased in 50 rounds.\n",
      "Stopping. Best iteration:\n",
      "[482]\ttrain-merror:0.214735\tvalid-merror:0.266730\n",
      "\n",
      "Will train until valid error hasn't decreased in 50 rounds.\n",
      "Stopping. Best iteration:\n",
      "[464]\ttrain-merror:0.220186\tvalid-merror:0.263274\n",
      "\n"
     ]
    },
    {
     "name": "stdout",
     "output_type": "stream",
     "text": [
      "Accuracy: 0.7313 +/- 0.0038\n",
      "Starting training 76 params of 324\n"
     ]
    },
    {
     "name": "stderr",
     "output_type": "stream",
     "text": [
      "Will train until valid error hasn't decreased in 50 rounds.\n",
      "Stopping. Best iteration:\n",
      "[166]\ttrain-merror:0.093433\tvalid-merror:0.228787\n",
      "\n",
      "Will train until valid error hasn't decreased in 50 rounds.\n",
      "Stopping. Best iteration:\n",
      "[177]\ttrain-merror:0.091465\tvalid-merror:0.232558\n",
      "\n",
      "Will train until valid error hasn't decreased in 50 rounds.\n",
      "Stopping. Best iteration:\n",
      "[160]\ttrain-merror:0.097465\tvalid-merror:0.231301\n",
      "\n",
      "Will train until valid error hasn't decreased in 50 rounds.\n",
      "Stopping. Best iteration:\n",
      "[264]\ttrain-merror:0.064700\tvalid-merror:0.234998\n",
      "\n",
      "Will train until valid error hasn't decreased in 50 rounds.\n",
      "Stopping. Best iteration:\n",
      "[117]\ttrain-merror:0.122294\tvalid-merror:0.230286\n",
      "\n"
     ]
    },
    {
     "name": "stdout",
     "output_type": "stream",
     "text": [
      "Accuracy: 0.7590 +/- 0.0022\n",
      "Starting training 77 params of 324\n"
     ]
    },
    {
     "name": "stderr",
     "output_type": "stream",
     "text": [
      "Will train until valid error hasn't decreased in 50 rounds.\n",
      "Stopping. Best iteration:\n",
      "[237]\ttrain-merror:0.124869\tvalid-merror:0.232872\n",
      "\n",
      "Will train until valid error hasn't decreased in 50 rounds.\n",
      "Stopping. Best iteration:\n",
      "[276]\ttrain-merror:0.113571\tvalid-merror:0.235072\n",
      "\n",
      "Will train until valid error hasn't decreased in 50 rounds.\n",
      "Stopping. Best iteration:\n",
      "[264]\ttrain-merror:0.116252\tvalid-merror:0.236644\n",
      "\n",
      "Will train until valid error hasn't decreased in 50 rounds.\n",
      "Stopping. Best iteration:\n",
      "[153]\ttrain-merror:0.155831\tvalid-merror:0.249764\n",
      "\n",
      "Will train until valid error hasn't decreased in 50 rounds.\n",
      "Stopping. Best iteration:\n",
      "[267]\ttrain-merror:0.115941\tvalid-merror:0.231228\n",
      "\n"
     ]
    },
    {
     "name": "stdout",
     "output_type": "stream",
     "text": [
      "Accuracy: 0.7555 +/- 0.0052\n",
      "Starting training 78 params of 324\n"
     ]
    },
    {
     "name": "stderr",
     "output_type": "stream",
     "text": [
      "Will train until valid error hasn't decreased in 50 rounds.\n",
      "Stopping. Best iteration:\n",
      "[480]\ttrain-merror:0.161369\tvalid-merror:0.242615\n",
      "\n",
      "Will train until valid error hasn't decreased in 50 rounds.\n",
      "Stopping. Best iteration:\n",
      "[364]\ttrain-merror:0.181009\tvalid-merror:0.251100\n",
      "\n",
      "Will train until valid error hasn't decreased in 50 rounds.\n",
      "Stopping. Best iteration:\n",
      "[380]\ttrain-merror:0.179110\tvalid-merror:0.248586\n",
      "\n",
      "Will train until valid error hasn't decreased in 50 rounds.\n",
      "Stopping. Best iteration:\n",
      "[509]\ttrain-merror:0.155622\tvalid-merror:0.252592\n",
      "\n",
      "Will train until valid error hasn't decreased in 50 rounds.\n",
      "Stopping. Best iteration:\n",
      "[464]\ttrain-merror:0.163560\tvalid-merror:0.247251\n",
      "\n"
     ]
    },
    {
     "name": "stdout",
     "output_type": "stream",
     "text": [
      "Accuracy: 0.7443 +/- 0.0030\n",
      "Starting training 79 params of 324\n"
     ]
    },
    {
     "name": "stderr",
     "output_type": "stream",
     "text": [
      "Will train until valid error hasn't decreased in 50 rounds.\n",
      "Stopping. Best iteration:\n",
      "[82]\ttrain-merror:0.074677\tvalid-merror:0.237901\n",
      "\n",
      "Will train until valid error hasn't decreased in 50 rounds.\n",
      "Stopping. Best iteration:\n",
      "[148]\ttrain-merror:0.039813\tvalid-merror:0.238529\n",
      "\n",
      "Will train until valid error hasn't decreased in 50 rounds.\n",
      "Stopping. Best iteration:\n",
      "[182]\ttrain-merror:0.027029\tvalid-merror:0.238529\n",
      "\n",
      "Will train until valid error hasn't decreased in 50 rounds.\n",
      "Stopping. Best iteration:\n",
      "[141]\ttrain-merror:0.040922\tvalid-merror:0.235941\n",
      "\n",
      "Will train until valid error hasn't decreased in 50 rounds.\n",
      "Stopping. Best iteration:\n",
      "[115]\ttrain-merror:0.051040\tvalid-merror:0.238768\n",
      "\n"
     ]
    },
    {
     "name": "stdout",
     "output_type": "stream",
     "text": [
      "Accuracy: 0.7535 +/- 0.0040\n",
      "Starting training 80 params of 324\n"
     ]
    },
    {
     "name": "stderr",
     "output_type": "stream",
     "text": [
      "Will train until valid error hasn't decreased in 50 rounds.\n",
      "Stopping. Best iteration:\n",
      "[189]\ttrain-merror:0.064443\tvalid-merror:0.231615\n",
      "\n",
      "Will train until valid error hasn't decreased in 50 rounds.\n",
      "Stopping. Best iteration:\n",
      "[193]\ttrain-merror:0.065796\tvalid-merror:0.236958\n",
      "\n",
      "Will train until valid error hasn't decreased in 50 rounds.\n",
      "Stopping. Best iteration:\n",
      "[102]\ttrain-merror:0.115135\tvalid-merror:0.236329\n",
      "\n",
      "Will train until valid error hasn't decreased in 50 rounds.\n",
      "Stopping. Best iteration:\n",
      "[168]\ttrain-merror:0.072521\tvalid-merror:0.240339\n",
      "\n",
      "Will train until valid error hasn't decreased in 50 rounds.\n",
      "Stopping. Best iteration:\n",
      "[157]\ttrain-merror:0.079423\tvalid-merror:0.238454\n",
      "\n"
     ]
    },
    {
     "name": "stdout",
     "output_type": "stream",
     "text": [
      "Accuracy: 0.7550 +/- 0.0035\n",
      "Starting training 81 params of 324\n"
     ]
    },
    {
     "name": "stderr",
     "output_type": "stream",
     "text": [
      "Will train until valid error hasn't decreased in 50 rounds.\n",
      "Stopping. Best iteration:\n",
      "[311]\ttrain-merror:0.111946\tvalid-merror:0.234758\n",
      "\n",
      "Will train until valid error hasn't decreased in 50 rounds.\n",
      "Stopping. Best iteration:\n",
      "[232]\ttrain-merror:0.135538\tvalid-merror:0.244186\n",
      "\n",
      "Will train until valid error hasn't decreased in 50 rounds.\n",
      "Stopping. Best iteration:\n",
      "[271]\ttrain-merror:0.123970\tvalid-merror:0.236644\n",
      "\n",
      "Will train until valid error hasn't decreased in 50 rounds.\n",
      "Stopping. Best iteration:\n",
      "[247]\ttrain-merror:0.130482\tvalid-merror:0.244738\n",
      "\n",
      "Will train until valid error hasn't decreased in 50 rounds.\n",
      "Stopping. Best iteration:\n",
      "[401]\ttrain-merror:0.091956\tvalid-merror:0.235941\n",
      "\n"
     ]
    },
    {
     "name": "stdout",
     "output_type": "stream",
     "text": [
      "Accuracy: 0.7514 +/- 0.0044\n",
      "Starting training 82 params of 324\n"
     ]
    },
    {
     "name": "stderr",
     "output_type": "stream",
     "text": [
      "Will train until valid error hasn't decreased in 50 rounds.\n",
      "Stopping. Best iteration:\n",
      "[96]\ttrain-merror:0.018547\tvalid-merror:0.244186\n",
      "\n",
      "Will train until valid error hasn't decreased in 50 rounds.\n",
      "Stopping. Best iteration:\n",
      "[128]\ttrain-merror:0.011245\tvalid-merror:0.240101\n",
      "\n",
      "Will train until valid error hasn't decreased in 50 rounds.\n",
      "Stopping. Best iteration:\n",
      "[56]\ttrain-merror:0.042778\tvalid-merror:0.236644\n",
      "\n",
      "Will train until valid error hasn't decreased in 50 rounds.\n",
      "Stopping. Best iteration:\n",
      "[30]\ttrain-merror:0.088408\tvalid-merror:0.245052\n",
      "\n",
      "Will train until valid error hasn't decreased in 50 rounds.\n",
      "Stopping. Best iteration:\n",
      "[69]\ttrain-merror:0.032118\tvalid-merror:0.246309\n",
      "\n"
     ]
    },
    {
     "name": "stdout",
     "output_type": "stream",
     "text": [
      "Accuracy: 0.7490 +/- 0.0064\n",
      "Starting training 83 params of 324\n"
     ]
    },
    {
     "name": "stderr",
     "output_type": "stream",
     "text": [
      "Will train until valid error hasn't decreased in 50 rounds.\n",
      "Stopping. Best iteration:\n",
      "[84]\ttrain-merror:0.064722\tvalid-merror:0.237586\n",
      "\n",
      "Will train until valid error hasn't decreased in 50 rounds.\n",
      "Stopping. Best iteration:\n",
      "[108]\ttrain-merror:0.048055\tvalid-merror:0.239786\n",
      "\n",
      "Will train until valid error hasn't decreased in 50 rounds.\n",
      "Stopping. Best iteration:\n",
      "[94]\ttrain-merror:0.055874\tvalid-merror:0.236329\n",
      "\n",
      "Will train until valid error hasn't decreased in 50 rounds.\n",
      "Stopping. Best iteration:\n",
      "[91]\ttrain-merror:0.059043\tvalid-merror:0.241282\n",
      "\n",
      "Will train until valid error hasn't decreased in 50 rounds.\n",
      "Stopping. Best iteration:\n",
      "[112]\ttrain-merror:0.044652\tvalid-merror:0.243795\n",
      "\n"
     ]
    },
    {
     "name": "stdout",
     "output_type": "stream",
     "text": [
      "Accuracy: 0.7535 +/- 0.0022\n",
      "Starting training 84 params of 324\n"
     ]
    },
    {
     "name": "stderr",
     "output_type": "stream",
     "text": [
      "Will train until valid error hasn't decreased in 50 rounds.\n",
      "Stopping. Best iteration:\n",
      "[150]\ttrain-merror:0.102620\tvalid-merror:0.229101\n",
      "\n",
      "Will train until valid error hasn't decreased in 50 rounds.\n",
      "Stopping. Best iteration:\n",
      "[195]\ttrain-merror:0.081686\tvalid-merror:0.233815\n",
      "\n",
      "Will train until valid error hasn't decreased in 50 rounds.\n",
      "Stopping. Best iteration:\n",
      "[261]\ttrain-merror:0.058772\tvalid-merror:0.231301\n",
      "\n",
      "Will train until valid error hasn't decreased in 50 rounds.\n",
      "Stopping. Best iteration:\n",
      "[210]\ttrain-merror:0.075035\tvalid-merror:0.237512\n",
      "\n",
      "Will train until valid error hasn't decreased in 50 rounds.\n",
      "Stopping. Best iteration:\n",
      "[167]\ttrain-merror:0.094784\tvalid-merror:0.236255\n",
      "\n"
     ]
    },
    {
     "name": "stdout",
     "output_type": "stream",
     "text": [
      "Accuracy: 0.7586 +/- 0.0018\n",
      "Starting training 85 params of 324\n"
     ]
    },
    {
     "name": "stderr",
     "output_type": "stream",
     "text": [
      "Will train until valid error hasn't decreased in 50 rounds.\n",
      "Stopping. Best iteration:\n",
      "[290]\ttrain-merror:0.107300\tvalid-merror:0.230044\n",
      "\n",
      "Will train until valid error hasn't decreased in 50 rounds.\n",
      "Stopping. Best iteration:\n",
      "[276]\ttrain-merror:0.110777\tvalid-merror:0.226587\n",
      "\n",
      "Will train until valid error hasn't decreased in 50 rounds.\n",
      "Stopping. Best iteration:\n",
      "[220]\ttrain-merror:0.125122\tvalid-merror:0.223759\n",
      "\n",
      "Will train until valid error hasn't decreased in 50 rounds.\n",
      "Stopping. Best iteration:\n",
      "[255]\ttrain-merror:0.114735\tvalid-merror:0.228087\n",
      "\n",
      "Will train until valid error hasn't decreased in 50 rounds.\n",
      "Stopping. Best iteration:\n",
      "[178]\ttrain-merror:0.140169\tvalid-merror:0.230600\n",
      "\n"
     ]
    },
    {
     "name": "stdout",
     "output_type": "stream",
     "text": [
      "Accuracy: 0.7661 +/- 0.0028\n",
      "Starting training 86 params of 324\n"
     ]
    },
    {
     "name": "stderr",
     "output_type": "stream",
     "text": [
      "Will train until valid error hasn't decreased in 50 rounds.\n",
      "Stopping. Best iteration:\n",
      "[334]\ttrain-merror:0.151205\tvalid-merror:0.230044\n",
      "\n",
      "Will train until valid error hasn't decreased in 50 rounds.\n",
      "Stopping. Best iteration:\n",
      "[262]\ttrain-merror:0.166376\tvalid-merror:0.234129\n",
      "\n",
      "Will train until valid error hasn't decreased in 50 rounds.\n",
      "Stopping. Best iteration:\n",
      "[341]\ttrain-merror:0.149253\tvalid-merror:0.228158\n",
      "\n",
      "Will train until valid error hasn't decreased in 50 rounds.\n",
      "Stopping. Best iteration:\n",
      "[266]\ttrain-merror:0.165747\tvalid-merror:0.246309\n",
      "\n",
      "Will train until valid error hasn't decreased in 50 rounds.\n",
      "Stopping. Best iteration:\n",
      "[315]\ttrain-merror:0.152981\tvalid-merror:0.232799\n",
      "\n"
     ]
    },
    {
     "name": "stdout",
     "output_type": "stream",
     "text": [
      "Accuracy: 0.7584 +/- 0.0041\n",
      "Starting training 87 params of 324\n"
     ]
    },
    {
     "name": "stderr",
     "output_type": "stream",
     "text": [
      "Will train until valid error hasn't decreased in 50 rounds.\n",
      "Stopping. Best iteration:\n",
      "[463]\ttrain-merror:0.212609\tvalid-merror:0.252671\n",
      "\n",
      "Will train until valid error hasn't decreased in 50 rounds.\n",
      "Stopping. Best iteration:\n",
      "[504]\ttrain-merror:0.207201\tvalid-merror:0.256128\n",
      "\n",
      "Will train until valid error hasn't decreased in 50 rounds.\n",
      "Stopping. Best iteration:\n",
      "[535]\ttrain-merror:0.203834\tvalid-merror:0.248586\n",
      "\n",
      "Will train until valid error hasn't decreased in 50 rounds.\n",
      "Stopping. Best iteration:\n",
      "[491]\ttrain-merror:0.206145\tvalid-merror:0.259504\n",
      "\n",
      "Will train until valid error hasn't decreased in 50 rounds.\n",
      "Stopping. Best iteration:\n",
      "[796]\ttrain-merror:0.177943\tvalid-merror:0.251649\n",
      "\n"
     ]
    },
    {
     "name": "stdout",
     "output_type": "stream",
     "text": [
      "Accuracy: 0.7408 +/- 0.0054\n",
      "Starting training 88 params of 324\n"
     ]
    },
    {
     "name": "stderr",
     "output_type": "stream",
     "text": [
      "Will train until valid error hasn't decreased in 50 rounds.\n",
      "Stopping. Best iteration:\n",
      "[111]\ttrain-merror:0.114251\tvalid-merror:0.232872\n",
      "\n",
      "Will train until valid error hasn't decreased in 50 rounds.\n",
      "Stopping. Best iteration:\n",
      "[201]\ttrain-merror:0.075679\tvalid-merror:0.231301\n",
      "\n",
      "Will train until valid error hasn't decreased in 50 rounds.\n",
      "Stopping. Best iteration:\n",
      "[184]\ttrain-merror:0.078677\tvalid-merror:0.226587\n",
      "\n",
      "Will train until valid error hasn't decreased in 50 rounds.\n",
      "Stopping. Best iteration:\n",
      "[238]\ttrain-merror:0.063757\tvalid-merror:0.225888\n",
      "\n",
      "Will train until valid error hasn't decreased in 50 rounds.\n",
      "Stopping. Best iteration:\n",
      "[173]\ttrain-merror:0.084904\tvalid-merror:0.224631\n",
      "\n"
     ]
    },
    {
     "name": "stdout",
     "output_type": "stream",
     "text": [
      "Accuracy: 0.7651 +/- 0.0024\n",
      "Starting training 89 params of 324\n"
     ]
    },
    {
     "name": "stderr",
     "output_type": "stream",
     "text": [
      "Will train until valid error hasn't decreased in 50 rounds.\n",
      "Stopping. Best iteration:\n",
      "[201]\ttrain-merror:0.128222\tvalid-merror:0.232244\n",
      "\n",
      "Will train until valid error hasn't decreased in 50 rounds.\n",
      "Stopping. Best iteration:\n",
      "[190]\ttrain-merror:0.133024\tvalid-merror:0.237272\n",
      "\n",
      "Will train until valid error hasn't decreased in 50 rounds.\n",
      "Stopping. Best iteration:\n",
      "[188]\ttrain-merror:0.134062\tvalid-merror:0.230044\n",
      "\n",
      "Will train until valid error hasn't decreased in 50 rounds.\n",
      "Stopping. Best iteration:\n",
      "[310]\ttrain-merror:0.095182\tvalid-merror:0.242538\n",
      "\n",
      "Will train until valid error hasn't decreased in 50 rounds.\n",
      "Stopping. Best iteration:\n",
      "[187]\ttrain-merror:0.134025\tvalid-merror:0.229972\n",
      "\n"
     ]
    },
    {
     "name": "stdout",
     "output_type": "stream",
     "text": [
      "Accuracy: 0.7615 +/- 0.0025\n",
      "Starting training 90 params of 324\n"
     ]
    },
    {
     "name": "stderr",
     "output_type": "stream",
     "text": [
      "Will train until valid error hasn't decreased in 50 rounds.\n",
      "Stopping. Best iteration:\n",
      "[398]\ttrain-merror:0.168390\tvalid-merror:0.244186\n",
      "\n",
      "Will train until valid error hasn't decreased in 50 rounds.\n",
      "Stopping. Best iteration:\n",
      "[303]\ttrain-merror:0.185653\tvalid-merror:0.252043\n",
      "\n",
      "Will train until valid error hasn't decreased in 50 rounds.\n",
      "Stopping. Best iteration:\n",
      "[564]\ttrain-merror:0.139614\tvalid-merror:0.235701\n",
      "\n",
      "Will train until valid error hasn't decreased in 50 rounds.\n",
      "Stopping. Best iteration:\n",
      "[333]\ttrain-merror:0.177619\tvalid-merror:0.251335\n",
      "\n",
      "Will train until valid error hasn't decreased in 50 rounds.\n",
      "Stopping. Best iteration:\n",
      "[352]\ttrain-merror:0.173684\tvalid-merror:0.248822\n",
      "\n"
     ]
    },
    {
     "name": "stdout",
     "output_type": "stream",
     "text": [
      "Accuracy: 0.7472 +/- 0.0051\n",
      "Starting training 91 params of 324\n"
     ]
    },
    {
     "name": "stderr",
     "output_type": "stream",
     "text": [
      "Will train until valid error hasn't decreased in 50 rounds.\n",
      "Stopping. Best iteration:\n",
      "[154]\ttrain-merror:0.030143\tvalid-merror:0.233187\n",
      "\n",
      "Will train until valid error hasn't decreased in 50 rounds.\n",
      "Stopping. Best iteration:\n",
      "[88]\ttrain-merror:0.061780\tvalid-merror:0.234444\n",
      "\n",
      "Will train until valid error hasn't decreased in 50 rounds.\n",
      "Stopping. Best iteration:\n",
      "[156]\ttrain-merror:0.029683\tvalid-merror:0.230987\n",
      "\n",
      "Will train until valid error hasn't decreased in 50 rounds.\n",
      "Stopping. Best iteration:\n",
      "[105]\ttrain-merror:0.048673\tvalid-merror:0.233428\n",
      "\n",
      "Will train until valid error hasn't decreased in 50 rounds.\n",
      "Stopping. Best iteration:\n",
      "[119]\ttrain-merror:0.042592\tvalid-merror:0.231228\n",
      "\n"
     ]
    },
    {
     "name": "stdout",
     "output_type": "stream",
     "text": [
      "Accuracy: 0.7617 +/- 0.0035\n",
      "Starting training 92 params of 324\n"
     ]
    },
    {
     "name": "stderr",
     "output_type": "stream",
     "text": [
      "Will train until valid error hasn't decreased in 50 rounds.\n",
      "Stopping. Best iteration:\n",
      "[118]\ttrain-merror:0.090709\tvalid-merror:0.230358\n",
      "\n",
      "Will train until valid error hasn't decreased in 50 rounds.\n",
      "Stopping. Best iteration:\n",
      "[98]\ttrain-merror:0.105958\tvalid-merror:0.239472\n",
      "\n",
      "Will train until valid error hasn't decreased in 50 rounds.\n",
      "Stopping. Best iteration:\n",
      "[120]\ttrain-merror:0.091144\tvalid-merror:0.225959\n",
      "\n",
      "Will train until valid error hasn't decreased in 50 rounds.\n",
      "Stopping. Best iteration:\n",
      "[170]\ttrain-merror:0.064106\tvalid-merror:0.242853\n",
      "\n",
      "Will train until valid error hasn't decreased in 50 rounds.\n",
      "Stopping. Best iteration:\n",
      "[163]\ttrain-merror:0.067169\tvalid-merror:0.233428\n",
      "\n"
     ]
    },
    {
     "name": "stdout",
     "output_type": "stream",
     "text": [
      "Accuracy: 0.7591 +/- 0.0033\n",
      "Starting training 93 params of 324\n"
     ]
    },
    {
     "name": "stderr",
     "output_type": "stream",
     "text": [
      "Will train until valid error hasn't decreased in 50 rounds.\n",
      "Stopping. Best iteration:\n",
      "[273]\ttrain-merror:0.108034\tvalid-merror:0.233187\n",
      "\n",
      "Will train until valid error hasn't decreased in 50 rounds.\n",
      "Stopping. Best iteration:\n",
      "[264]\ttrain-merror:0.114060\tvalid-merror:0.239786\n",
      "\n",
      "Will train until valid error hasn't decreased in 50 rounds.\n",
      "Stopping. Best iteration:\n",
      "[248]\ttrain-merror:0.118836\tvalid-merror:0.234129\n",
      "\n",
      "Will train until valid error hasn't decreased in 50 rounds.\n",
      "Stopping. Best iteration:\n",
      "[455]\ttrain-merror:0.067737\tvalid-merror:0.238768\n",
      "\n",
      "Will train until valid error hasn't decreased in 50 rounds.\n",
      "Stopping. Best iteration:\n",
      "[232]\ttrain-merror:0.122259\tvalid-merror:0.238454\n",
      "\n"
     ]
    },
    {
     "name": "stdout",
     "output_type": "stream",
     "text": [
      "Accuracy: 0.7563 +/- 0.0013\n",
      "Starting training 94 params of 324\n"
     ]
    },
    {
     "name": "stderr",
     "output_type": "stream",
     "text": [
      "Will train until valid error hasn't decreased in 50 rounds.\n",
      "Stopping. Best iteration:\n",
      "[98]\ttrain-merror:0.012015\tvalid-merror:0.229415\n",
      "\n",
      "Will train until valid error hasn't decreased in 50 rounds.\n",
      "Stopping. Best iteration:\n",
      "[55]\ttrain-merror:0.032968\tvalid-merror:0.240415\n",
      "\n",
      "Will train until valid error hasn't decreased in 50 rounds.\n",
      "Stopping. Best iteration:\n",
      "[71]\ttrain-merror:0.021965\tvalid-merror:0.237586\n",
      "\n",
      "Will train until valid error hasn't decreased in 50 rounds.\n",
      "Stopping. Best iteration:\n",
      "[83]\ttrain-merror:0.015503\tvalid-merror:0.247251\n",
      "\n",
      "Will train until valid error hasn't decreased in 50 rounds.\n",
      "Stopping. Best iteration:\n",
      "[86]\ttrain-merror:0.016234\tvalid-merror:0.239711\n",
      "\n"
     ]
    },
    {
     "name": "stdout",
     "output_type": "stream",
     "text": [
      "Accuracy: 0.7552 +/- 0.0028\n",
      "Starting training 95 params of 324\n"
     ]
    },
    {
     "name": "stderr",
     "output_type": "stream",
     "text": [
      "Will train until valid error hasn't decreased in 50 rounds.\n",
      "Stopping. Best iteration:\n",
      "[88]\ttrain-merror:0.047398\tvalid-merror:0.231930\n",
      "\n",
      "Will train until valid error hasn't decreased in 50 rounds.\n",
      "Stopping. Best iteration:\n",
      "[97]\ttrain-merror:0.042153\tvalid-merror:0.230987\n",
      "\n",
      "Will train until valid error hasn't decreased in 50 rounds.\n",
      "Stopping. Best iteration:\n",
      "[54]\ttrain-merror:0.081576\tvalid-merror:0.233501\n",
      "\n",
      "Will train until valid error hasn't decreased in 50 rounds.\n",
      "Stopping. Best iteration:\n",
      "[100]\ttrain-merror:0.040642\tvalid-merror:0.240968\n",
      "\n",
      "Will train until valid error hasn't decreased in 50 rounds.\n",
      "Stopping. Best iteration:\n",
      "[108]\ttrain-merror:0.035714\tvalid-merror:0.232485\n",
      "\n"
     ]
    },
    {
     "name": "stdout",
     "output_type": "stream",
     "text": [
      "Accuracy: 0.7567 +/- 0.0050\n",
      "Starting training 96 params of 324\n"
     ]
    },
    {
     "name": "stderr",
     "output_type": "stream",
     "text": [
      "Will train until valid error hasn't decreased in 50 rounds.\n",
      "Stopping. Best iteration:\n",
      "[376]\ttrain-merror:0.023402\tvalid-merror:0.225330\n",
      "\n",
      "Will train until valid error hasn't decreased in 50 rounds.\n",
      "Stopping. Best iteration:\n",
      "[198]\ttrain-merror:0.062164\tvalid-merror:0.233187\n",
      "\n",
      "Will train until valid error hasn't decreased in 50 rounds.\n",
      "Stopping. Best iteration:\n",
      "[218]\ttrain-merror:0.052975\tvalid-merror:0.225959\n",
      "\n",
      "Will train until valid error hasn't decreased in 50 rounds.\n",
      "Stopping. Best iteration:\n",
      "[171]\ttrain-merror:0.071508\tvalid-merror:0.238140\n",
      "\n",
      "Will train until valid error hasn't decreased in 50 rounds.\n",
      "Stopping. Best iteration:\n",
      "[159]\ttrain-merror:0.076875\tvalid-merror:0.231228\n",
      "\n"
     ]
    },
    {
     "name": "stdout",
     "output_type": "stream",
     "text": [
      "Accuracy: 0.7635 +/- 0.0029\n",
      "Starting training 97 params of 324\n"
     ]
    },
    {
     "name": "stderr",
     "output_type": "stream",
     "text": [
      "Will train until valid error hasn't decreased in 50 rounds.\n",
      "Stopping. Best iteration:\n",
      "[424]\ttrain-merror:0.086273\tvalid-merror:0.213074\n",
      "\n",
      "Will train until valid error hasn't decreased in 50 rounds.\n",
      "Stopping. Best iteration:\n",
      "[173]\ttrain-merror:0.142243\tvalid-merror:0.230044\n",
      "\n",
      "Will train until valid error hasn't decreased in 50 rounds.\n",
      "Stopping. Best iteration:\n",
      "[176]\ttrain-merror:0.142338\tvalid-merror:0.233187\n",
      "\n",
      "Will train until valid error hasn't decreased in 50 rounds.\n",
      "Stopping. Best iteration:\n",
      "[222]\ttrain-merror:0.124860\tvalid-merror:0.233742\n",
      "\n",
      "Will train until valid error hasn't decreased in 50 rounds.\n",
      "Stopping. Best iteration:\n",
      "[271]\ttrain-merror:0.114579\tvalid-merror:0.219290\n",
      "\n"
     ]
    },
    {
     "name": "stdout",
     "output_type": "stream",
     "text": [
      "Accuracy: 0.7663 +/- 0.0031\n",
      "Starting training 98 params of 324\n"
     ]
    },
    {
     "name": "stderr",
     "output_type": "stream",
     "text": [
      "Will train until valid error hasn't decreased in 50 rounds.\n",
      "Stopping. Best iteration:\n",
      "[361]\ttrain-merror:0.146664\tvalid-merror:0.226901\n",
      "\n",
      "Will train until valid error hasn't decreased in 50 rounds.\n",
      "Stopping. Best iteration:\n",
      "[356]\ttrain-merror:0.147761\tvalid-merror:0.228787\n",
      "\n",
      "Will train until valid error hasn't decreased in 50 rounds.\n",
      "Stopping. Best iteration:\n",
      "[286]\ttrain-merror:0.160462\tvalid-merror:0.228158\n",
      "\n",
      "Will train until valid error hasn't decreased in 50 rounds.\n",
      "Stopping. Best iteration:\n",
      "[276]\ttrain-merror:0.160649\tvalid-merror:0.245366\n",
      "\n",
      "Will train until valid error hasn't decreased in 50 rounds.\n",
      "Stopping. Best iteration:\n",
      "[428]\ttrain-merror:0.138354\tvalid-merror:0.229029\n",
      "\n"
     ]
    },
    {
     "name": "stdout",
     "output_type": "stream",
     "text": [
      "Accuracy: 0.7647 +/- 0.0044\n",
      "Starting training 99 params of 324\n"
     ]
    },
    {
     "name": "stderr",
     "output_type": "stream",
     "text": [
      "Will train until valid error hasn't decreased in 50 rounds.\n",
      "Stopping. Best iteration:\n",
      "[506]\ttrain-merror:0.205798\tvalid-merror:0.247014\n",
      "\n",
      "Will train until valid error hasn't decreased in 50 rounds.\n",
      "Stopping. Best iteration:\n",
      "[574]\ttrain-merror:0.199413\tvalid-merror:0.248900\n",
      "\n",
      "Will train until valid error hasn't decreased in 50 rounds.\n",
      "Stopping. Best iteration:\n",
      "[483]\ttrain-merror:0.207082\tvalid-merror:0.246072\n",
      "\n",
      "Will train until valid error hasn't decreased in 50 rounds.\n",
      "Stopping. Best iteration:\n",
      "[509]\ttrain-merror:0.200698\tvalid-merror:0.257619\n",
      "\n",
      "Will train until valid error hasn't decreased in 50 rounds.\n",
      "Stopping. Best iteration:\n",
      "[418]\ttrain-merror:0.214495\tvalid-merror:0.261074\n",
      "\n"
     ]
    },
    {
     "name": "stdout",
     "output_type": "stream",
     "text": [
      "Accuracy: 0.7427 +/- 0.0028\n",
      "Starting training 100 params of 324\n"
     ]
    },
    {
     "name": "stderr",
     "output_type": "stream",
     "text": [
      "Will train until valid error hasn't decreased in 50 rounds.\n",
      "Stopping. Best iteration:\n",
      "[459]\ttrain-merror:0.032239\tvalid-merror:0.206474\n",
      "\n",
      "Will train until valid error hasn't decreased in 50 rounds.\n",
      "Stopping. Best iteration:\n",
      "[181]\ttrain-merror:0.082524\tvalid-merror:0.227530\n",
      "\n",
      "Will train until valid error hasn't decreased in 50 rounds.\n",
      "Stopping. Best iteration:\n",
      "[204]\ttrain-merror:0.075325\tvalid-merror:0.225330\n",
      "\n",
      "Will train until valid error hasn't decreased in 50 rounds.\n",
      "Stopping. Best iteration:\n",
      "[177]\ttrain-merror:0.083799\tvalid-merror:0.231857\n",
      "\n",
      "Will train until valid error hasn't decreased in 50 rounds.\n",
      "Stopping. Best iteration:\n",
      "[157]\ttrain-merror:0.092166\tvalid-merror:0.224945\n",
      "\n"
     ]
    },
    {
     "name": "stdout",
     "output_type": "stream",
     "text": [
      "Accuracy: 0.7691 +/- 0.0049\n",
      "Starting training 101 params of 324\n"
     ]
    },
    {
     "name": "stderr",
     "output_type": "stream",
     "text": [
      "Will train until valid error hasn't decreased in 50 rounds.\n",
      "Stopping. Best iteration:\n",
      "[234]\ttrain-merror:0.118652\tvalid-merror:0.228787\n",
      "\n",
      "Will train until valid error hasn't decreased in 50 rounds.\n",
      "Stopping. Best iteration:\n",
      "[338]\ttrain-merror:0.098100\tvalid-merror:0.228787\n",
      "\n",
      "Will train until valid error hasn't decreased in 50 rounds.\n",
      "Stopping. Best iteration:\n",
      "[352]\ttrain-merror:0.094217\tvalid-merror:0.219359\n",
      "\n",
      "Will train until valid error hasn't decreased in 50 rounds.\n",
      "Stopping. Best iteration:\n",
      "[285]\ttrain-merror:0.107961\tvalid-merror:0.235941\n",
      "\n",
      "Will train until valid error hasn't decreased in 50 rounds.\n",
      "Stopping. Best iteration:\n",
      "[283]\ttrain-merror:0.109133\tvalid-merror:0.226830\n",
      "\n"
     ]
    },
    {
     "name": "stdout",
     "output_type": "stream",
     "text": [
      "Accuracy: 0.7668 +/- 0.0047\n",
      "Starting training 102 params of 324\n"
     ]
    },
    {
     "name": "stderr",
     "output_type": "stream",
     "text": [
      "Will train until valid error hasn't decreased in 50 rounds.\n",
      "Stopping. Best iteration:\n",
      "[454]\ttrain-merror:0.161160\tvalid-merror:0.240101\n",
      "\n",
      "Will train until valid error hasn't decreased in 50 rounds.\n",
      "Stopping. Best iteration:\n",
      "[422]\ttrain-merror:0.166341\tvalid-merror:0.243872\n",
      "\n",
      "Will train until valid error hasn't decreased in 50 rounds.\n",
      "Stopping. Best iteration:\n",
      "[538]\ttrain-merror:0.151383\tvalid-merror:0.231930\n",
      "\n",
      "Will train until valid error hasn't decreased in 50 rounds.\n",
      "Stopping. Best iteration:\n",
      "[429]\ttrain-merror:0.163338\tvalid-merror:0.247879\n",
      "\n",
      "Will train until valid error hasn't decreased in 50 rounds.\n",
      "Stopping. Best iteration:\n",
      "[381]\ttrain-merror:0.171135\tvalid-merror:0.249136\n",
      "\n"
     ]
    },
    {
     "name": "stdout",
     "output_type": "stream",
     "text": [
      "Accuracy: 0.7541 +/- 0.0036\n",
      "Starting training 103 params of 324\n"
     ]
    },
    {
     "name": "stderr",
     "output_type": "stream",
     "text": [
      "Will train until valid error hasn't decreased in 50 rounds.\n",
      "Stopping. Best iteration:\n",
      "[141]\ttrain-merror:0.034265\tvalid-merror:0.225330\n",
      "\n",
      "Will train until valid error hasn't decreased in 50 rounds.\n",
      "Stopping. Best iteration:\n",
      "[155]\ttrain-merror:0.032968\tvalid-merror:0.229101\n",
      "\n",
      "Will train until valid error hasn't decreased in 50 rounds.\n",
      "Stopping. Best iteration:\n",
      "[179]\ttrain-merror:0.025702\tvalid-merror:0.232244\n",
      "\n",
      "Will train until valid error hasn't decreased in 50 rounds.\n",
      "Stopping. Best iteration:\n",
      "[147]\ttrain-merror:0.032612\tvalid-merror:0.229658\n",
      "\n",
      "Will train until valid error hasn't decreased in 50 rounds.\n",
      "Stopping. Best iteration:\n",
      "[121]\ttrain-merror:0.042138\tvalid-merror:0.231228\n",
      "\n"
     ]
    },
    {
     "name": "stdout",
     "output_type": "stream",
     "text": [
      "Accuracy: 0.7630 +/- 0.0034\n",
      "Starting training 104 params of 324\n"
     ]
    },
    {
     "name": "stderr",
     "output_type": "stream",
     "text": [
      "Will train until valid error hasn't decreased in 50 rounds.\n",
      "Stopping. Best iteration:\n",
      "[180]\ttrain-merror:0.065351\tvalid-merror:0.225959\n",
      "\n",
      "Will train until valid error hasn't decreased in 50 rounds.\n",
      "Stopping. Best iteration:\n",
      "[256]\ttrain-merror:0.045715\tvalid-merror:0.227216\n",
      "\n",
      "Will train until valid error hasn't decreased in 50 rounds.\n",
      "Stopping. Best iteration:\n",
      "[300]\ttrain-merror:0.036527\tvalid-merror:0.225330\n",
      "\n",
      "Will train until valid error hasn't decreased in 50 rounds.\n",
      "Stopping. Best iteration:\n",
      "[200]\ttrain-merror:0.060265\tvalid-merror:0.232799\n",
      "\n",
      "Will train until valid error hasn't decreased in 50 rounds.\n",
      "Stopping. Best iteration:\n",
      "[207]\ttrain-merror:0.058197\tvalid-merror:0.227144\n",
      "\n"
     ]
    },
    {
     "name": "stdout",
     "output_type": "stream",
     "text": [
      "Accuracy: 0.7660 +/- 0.0021\n",
      "Starting training 105 params of 324\n"
     ]
    },
    {
     "name": "stderr",
     "output_type": "stream",
     "text": [
      "Will train until valid error hasn't decreased in 50 rounds.\n",
      "Stopping. Best iteration:\n",
      "[289]\ttrain-merror:0.111491\tvalid-merror:0.232872\n",
      "\n",
      "Will train until valid error hasn't decreased in 50 rounds.\n",
      "Stopping. Best iteration:\n",
      "[322]\ttrain-merror:0.103443\tvalid-merror:0.239158\n",
      "\n",
      "Will train until valid error hasn't decreased in 50 rounds.\n",
      "Stopping. Best iteration:\n",
      "[224]\ttrain-merror:0.130605\tvalid-merror:0.229415\n",
      "\n",
      "Will train until valid error hasn't decreased in 50 rounds.\n",
      "Stopping. Best iteration:\n",
      "[317]\ttrain-merror:0.104050\tvalid-merror:0.237826\n",
      "\n",
      "Will train until valid error hasn't decreased in 50 rounds.\n",
      "Stopping. Best iteration:\n",
      "[382]\ttrain-merror:0.088570\tvalid-merror:0.232799\n",
      "\n"
     ]
    },
    {
     "name": "stdout",
     "output_type": "stream",
     "text": [
      "Accuracy: 0.7615 +/- 0.0043\n",
      "Starting training 106 params of 324\n"
     ]
    },
    {
     "name": "stderr",
     "output_type": "stream",
     "text": [
      "Will train until valid error hasn't decreased in 50 rounds.\n",
      "Stopping. Best iteration:\n",
      "[166]\ttrain-merror:0.004191\tvalid-merror:0.227530\n",
      "\n",
      "Will train until valid error hasn't decreased in 50 rounds.\n",
      "Stopping. Best iteration:\n",
      "[104]\ttrain-merror:0.011210\tvalid-merror:0.234129\n",
      "\n",
      "Will train until valid error hasn't decreased in 50 rounds.\n",
      "Stopping. Best iteration:\n",
      "[94]\ttrain-merror:0.012781\tvalid-merror:0.237272\n",
      "\n",
      "Will train until valid error hasn't decreased in 50 rounds.\n",
      "Stopping. Best iteration:\n",
      "[52]\ttrain-merror:0.033066\tvalid-merror:0.235941\n",
      "\n",
      "Will train until valid error hasn't decreased in 50 rounds.\n",
      "Stopping. Best iteration:\n",
      "[105]\ttrain-merror:0.010578\tvalid-merror:0.234684\n",
      "\n"
     ]
    },
    {
     "name": "stdout",
     "output_type": "stream",
     "text": [
      "Accuracy: 0.7573 +/- 0.0053\n",
      "Starting training 107 params of 324\n"
     ]
    },
    {
     "name": "stderr",
     "output_type": "stream",
     "text": [
      "Will train until valid error hasn't decreased in 50 rounds.\n",
      "Stopping. Best iteration:\n",
      "[160]\ttrain-merror:0.019385\tvalid-merror:0.228787\n",
      "\n",
      "Will train until valid error hasn't decreased in 50 rounds.\n",
      "Stopping. Best iteration:\n",
      "[148]\ttrain-merror:0.022875\tvalid-merror:0.226587\n",
      "\n",
      "Will train until valid error hasn't decreased in 50 rounds.\n",
      "Stopping. Best iteration:\n",
      "[166]\ttrain-merror:0.017146\tvalid-merror:0.228473\n",
      "\n",
      "Will train until valid error hasn't decreased in 50 rounds.\n",
      "Stopping. Best iteration:\n",
      "[142]\ttrain-merror:0.023568\tvalid-merror:0.233428\n",
      "\n",
      "Will train until valid error hasn't decreased in 50 rounds.\n",
      "Stopping. Best iteration:\n",
      "[124]\ttrain-merror:0.030443\tvalid-merror:0.232799\n",
      "\n"
     ]
    },
    {
     "name": "stdout",
     "output_type": "stream",
     "text": [
      "Accuracy: 0.7618 +/- 0.0038\n",
      "Starting training 108 params of 324\n"
     ]
    },
    {
     "name": "stderr",
     "output_type": "stream",
     "text": [
      "Will train until valid error hasn't decreased in 50 rounds.\n",
      "Stopping. Best iteration:\n",
      "[286]\ttrain-merror:0.035557\tvalid-merror:0.221244\n",
      "\n",
      "Will train until valid error hasn't decreased in 50 rounds.\n",
      "Stopping. Best iteration:\n",
      "[147]\ttrain-merror:0.085248\tvalid-merror:0.231615\n",
      "\n",
      "Will train until valid error hasn't decreased in 50 rounds.\n",
      "Stopping. Best iteration:\n",
      "[193]\ttrain-merror:0.061147\tvalid-merror:0.222187\n",
      "\n",
      "Will train until valid error hasn't decreased in 50 rounds.\n",
      "Stopping. Best iteration:\n",
      "[206]\ttrain-merror:0.057193\tvalid-merror:0.232485\n",
      "\n",
      "Will train until valid error hasn't decreased in 50 rounds.\n",
      "Stopping. Best iteration:\n",
      "[208]\ttrain-merror:0.055928\tvalid-merror:0.227458\n",
      "\n"
     ]
    },
    {
     "name": "stdout",
     "output_type": "stream",
     "text": [
      "Accuracy: 0.7670 +/- 0.0036\n",
      "Starting training 109 params of 324\n"
     ]
    },
    {
     "name": "stderr",
     "output_type": "stream",
     "text": [
      "Will train until valid error hasn't decreased in 50 rounds.\n",
      "Stopping. Best iteration:\n",
      "[308]\ttrain-merror:0.122634\tvalid-merror:0.225330\n",
      "\n",
      "Will train until valid error hasn't decreased in 50 rounds.\n",
      "Stopping. Best iteration:\n",
      "[196]\ttrain-merror:0.152651\tvalid-merror:0.236015\n",
      "\n",
      "Will train until valid error hasn't decreased in 50 rounds.\n",
      "Stopping. Best iteration:\n",
      "[363]\ttrain-merror:0.112725\tvalid-merror:0.224387\n",
      "\n",
      "Will train until valid error hasn't decreased in 50 rounds.\n",
      "Stopping. Best iteration:\n",
      "[207]\ttrain-merror:0.146543\tvalid-merror:0.236883\n",
      "\n",
      "Will train until valid error hasn't decreased in 50 rounds.\n",
      "Stopping. Best iteration:\n",
      "[212]\ttrain-merror:0.146488\tvalid-merror:0.235941\n",
      "\n"
     ]
    },
    {
     "name": "stdout",
     "output_type": "stream",
     "text": [
      "Accuracy: 0.7632 +/- 0.0027\n",
      "Starting training 110 params of 324\n"
     ]
    },
    {
     "name": "stderr",
     "output_type": "stream",
     "text": [
      "Will train until valid error hasn't decreased in 50 rounds.\n",
      "Stopping. Best iteration:\n",
      "[176]\ttrain-merror:0.205169\tvalid-merror:0.242929\n",
      "\n",
      "Will train until valid error hasn't decreased in 50 rounds.\n",
      "Stopping. Best iteration:\n",
      "[440]\ttrain-merror:0.151952\tvalid-merror:0.235701\n",
      "\n",
      "Will train until valid error hasn't decreased in 50 rounds.\n",
      "Stopping. Best iteration:\n",
      "[289]\ttrain-merror:0.176631\tvalid-merror:0.233815\n",
      "\n",
      "Will train until valid error hasn't decreased in 50 rounds.\n",
      "Stopping. Best iteration:\n",
      "[436]\ttrain-merror:0.151885\tvalid-merror:0.240653\n",
      "\n",
      "Will train until valid error hasn't decreased in 50 rounds.\n",
      "Stopping. Best iteration:\n",
      "[364]\ttrain-merror:0.163629\tvalid-merror:0.234684\n",
      "\n"
     ]
    },
    {
     "name": "stdout",
     "output_type": "stream",
     "text": [
      "Accuracy: 0.7547 +/- 0.0072\n",
      "Starting training 111 params of 324\n"
     ]
    },
    {
     "name": "stderr",
     "output_type": "stream",
     "text": [
      "Will train until valid error hasn't decreased in 50 rounds.\n",
      "Stopping. Best iteration:\n",
      "[681]\ttrain-merror:0.206287\tvalid-merror:0.253614\n",
      "\n",
      "Will train until valid error hasn't decreased in 50 rounds.\n",
      "Stopping. Best iteration:\n",
      "[462]\ttrain-merror:0.228470\tvalid-merror:0.263356\n",
      "\n",
      "Will train until valid error hasn't decreased in 50 rounds.\n",
      "Stopping. Best iteration:\n",
      "[465]\ttrain-merror:0.228454\tvalid-merror:0.258328\n",
      "\n",
      "Will train until valid error hasn't decreased in 50 rounds.\n",
      "Stopping. Best iteration:\n",
      "[417]\ttrain-merror:0.229714\tvalid-merror:0.272385\n",
      "\n",
      "Will train until valid error hasn't decreased in 50 rounds.\n",
      "Stopping. Best iteration:\n",
      "[384]\ttrain-merror:0.237013\tvalid-merror:0.267986\n",
      "\n"
     ]
    },
    {
     "name": "stdout",
     "output_type": "stream",
     "text": [
      "Accuracy: 0.7294 +/- 0.0047\n",
      "Starting training 112 params of 324\n"
     ]
    },
    {
     "name": "stderr",
     "output_type": "stream",
     "text": [
      "Will train until valid error hasn't decreased in 50 rounds.\n",
      "Stopping. Best iteration:\n",
      "[144]\ttrain-merror:0.121656\tvalid-merror:0.234129\n",
      "\n",
      "Will train until valid error hasn't decreased in 50 rounds.\n",
      "Stopping. Best iteration:\n",
      "[192]\ttrain-merror:0.103688\tvalid-merror:0.231301\n",
      "\n",
      "Will train until valid error hasn't decreased in 50 rounds.\n",
      "Stopping. Best iteration:\n",
      "[153]\ttrain-merror:0.117963\tvalid-merror:0.225016\n",
      "\n",
      "Will train until valid error hasn't decreased in 50 rounds.\n",
      "Stopping. Best iteration:\n",
      "[196]\ttrain-merror:0.099616\tvalid-merror:0.235627\n",
      "\n",
      "Will train until valid error hasn't decreased in 50 rounds.\n",
      "Stopping. Best iteration:\n",
      "[115]\ttrain-merror:0.136783\tvalid-merror:0.234056\n",
      "\n"
     ]
    },
    {
     "name": "stdout",
     "output_type": "stream",
     "text": [
      "Accuracy: 0.7621 +/- 0.0033\n",
      "Starting training 113 params of 324\n"
     ]
    },
    {
     "name": "stderr",
     "output_type": "stream",
     "text": [
      "Will train until valid error hasn't decreased in 50 rounds.\n",
      "Stopping. Best iteration:\n",
      "[191]\ttrain-merror:0.155781\tvalid-merror:0.234758\n",
      "\n",
      "Will train until valid error hasn't decreased in 50 rounds.\n",
      "Stopping. Best iteration:\n",
      "[170]\ttrain-merror:0.161417\tvalid-merror:0.241672\n",
      "\n",
      "Will train until valid error hasn't decreased in 50 rounds.\n",
      "Stopping. Best iteration:\n",
      "[191]\ttrain-merror:0.155678\tvalid-merror:0.229101\n",
      "\n",
      "Will train until valid error hasn't decreased in 50 rounds.\n",
      "Stopping. Best iteration:\n",
      "[181]\ttrain-merror:0.157193\tvalid-merror:0.245680\n",
      "\n",
      "Will train until valid error hasn't decreased in 50 rounds.\n",
      "Stopping. Best iteration:\n",
      "[414]\ttrain-merror:0.101033\tvalid-merror:0.231228\n",
      "\n"
     ]
    },
    {
     "name": "stdout",
     "output_type": "stream",
     "text": [
      "Accuracy: 0.7557 +/- 0.0049\n",
      "Starting training 114 params of 324\n"
     ]
    },
    {
     "name": "stderr",
     "output_type": "stream",
     "text": [
      "Will train until valid error hasn't decreased in 50 rounds.\n",
      "Stopping. Best iteration:\n",
      "[634]\ttrain-merror:0.156829\tvalid-merror:0.237901\n",
      "\n",
      "Will train until valid error hasn't decreased in 50 rounds.\n",
      "Stopping. Best iteration:\n",
      "[416]\ttrain-merror:0.185828\tvalid-merror:0.249529\n",
      "\n",
      "Will train until valid error hasn't decreased in 50 rounds.\n",
      "Stopping. Best iteration:\n",
      "[560]\ttrain-merror:0.166818\tvalid-merror:0.243558\n",
      "\n",
      "Will train until valid error hasn't decreased in 50 rounds.\n",
      "Stopping. Best iteration:\n",
      "[481]\ttrain-merror:0.175070\tvalid-merror:0.251964\n",
      "\n",
      "Will train until valid error hasn't decreased in 50 rounds.\n",
      "Stopping. Best iteration:\n",
      "[195]\ttrain-merror:0.234185\tvalid-merror:0.269243\n",
      "\n"
     ]
    },
    {
     "name": "stdout",
     "output_type": "stream",
     "text": [
      "Accuracy: 0.7420 +/- 0.0081\n",
      "Starting training 115 params of 324\n"
     ]
    },
    {
     "name": "stderr",
     "output_type": "stream",
     "text": [
      "Will train until valid error hasn't decreased in 50 rounds.\n",
      "Stopping. Best iteration:\n",
      "[200]\ttrain-merror:0.038247\tvalid-merror:0.227844\n",
      "\n",
      "Will train until valid error hasn't decreased in 50 rounds.\n",
      "Stopping. Best iteration:\n",
      "[183]\ttrain-merror:0.045261\tvalid-merror:0.232244\n",
      "\n",
      "Will train until valid error hasn't decreased in 50 rounds.\n",
      "Stopping. Best iteration:\n",
      "[115]\ttrain-merror:0.071449\tvalid-merror:0.230358\n",
      "\n",
      "Will train until valid error hasn't decreased in 50 rounds.\n",
      "Stopping. Best iteration:\n",
      "[81]\ttrain-merror:0.093506\tvalid-merror:0.242224\n",
      "\n",
      "Will train until valid error hasn't decreased in 50 rounds.\n",
      "Stopping. Best iteration:\n",
      "[91]\ttrain-merror:0.087837\tvalid-merror:0.237198\n",
      "\n"
     ]
    },
    {
     "name": "stdout",
     "output_type": "stream",
     "text": [
      "Accuracy: 0.7609 +/- 0.0025\n",
      "Starting training 116 params of 324\n"
     ]
    },
    {
     "name": "stderr",
     "output_type": "stream",
     "text": [
      "Will train until valid error hasn't decreased in 50 rounds.\n",
      "Stopping. Best iteration:\n",
      "[179]\ttrain-merror:0.093853\tvalid-merror:0.230673\n",
      "\n",
      "Will train until valid error hasn't decreased in 50 rounds.\n",
      "Stopping. Best iteration:\n",
      "[95]\ttrain-merror:0.141196\tvalid-merror:0.237901\n",
      "\n",
      "Will train until valid error hasn't decreased in 50 rounds.\n",
      "Stopping. Best iteration:\n",
      "[170]\ttrain-merror:0.096487\tvalid-merror:0.230673\n",
      "\n",
      "Will train until valid error hasn't decreased in 50 rounds.\n",
      "Stopping. Best iteration:\n",
      "[128]\ttrain-merror:0.117668\tvalid-merror:0.245994\n",
      "\n",
      "Will train until valid error hasn't decreased in 50 rounds.\n",
      "Stopping. Best iteration:\n",
      "[127]\ttrain-merror:0.117756\tvalid-merror:0.234056\n",
      "\n"
     ]
    },
    {
     "name": "stdout",
     "output_type": "stream",
     "text": [
      "Accuracy: 0.7590 +/- 0.0034\n",
      "Starting training 117 params of 324\n"
     ]
    },
    {
     "name": "stderr",
     "output_type": "stream",
     "text": [
      "Will train until valid error hasn't decreased in 50 rounds.\n",
      "Stopping. Best iteration:\n",
      "[385]\ttrain-merror:0.117953\tvalid-merror:0.233187\n",
      "\n",
      "Will train until valid error hasn't decreased in 50 rounds.\n",
      "Stopping. Best iteration:\n",
      "[274]\ttrain-merror:0.147272\tvalid-merror:0.236015\n",
      "\n",
      "Will train until valid error hasn't decreased in 50 rounds.\n",
      "Stopping. Best iteration:\n",
      "[263]\ttrain-merror:0.149392\tvalid-merror:0.239786\n",
      "\n",
      "Will train until valid error hasn't decreased in 50 rounds.\n",
      "Stopping. Best iteration:\n",
      "[346]\ttrain-merror:0.127758\tvalid-merror:0.241596\n",
      "\n",
      "Will train until valid error hasn't decreased in 50 rounds.\n",
      "Stopping. Best iteration:\n",
      "[427]\ttrain-merror:0.111227\tvalid-merror:0.234056\n",
      "\n"
     ]
    },
    {
     "name": "stdout",
     "output_type": "stream",
     "text": [
      "Accuracy: 0.7558 +/- 0.0045\n",
      "Starting training 118 params of 324\n"
     ]
    },
    {
     "name": "stderr",
     "output_type": "stream",
     "text": [
      "Will train until valid error hasn't decreased in 50 rounds.\n",
      "Stopping. Best iteration:\n",
      "[80]\ttrain-merror:0.043486\tvalid-merror:0.228158\n",
      "\n",
      "Will train until valid error hasn't decreased in 50 rounds.\n",
      "Stopping. Best iteration:\n",
      "[89]\ttrain-merror:0.039394\tvalid-merror:0.239158\n",
      "\n",
      "Will train until valid error hasn't decreased in 50 rounds.\n",
      "Stopping. Best iteration:\n",
      "[95]\ttrain-merror:0.033524\tvalid-merror:0.237901\n",
      "\n",
      "Will train until valid error hasn't decreased in 50 rounds.\n",
      "Stopping. Best iteration:\n",
      "[102]\ttrain-merror:0.030901\tvalid-merror:0.241910\n",
      "\n",
      "Will train until valid error hasn't decreased in 50 rounds.\n",
      "Stopping. Best iteration:\n",
      "[98]\ttrain-merror:0.033829\tvalid-merror:0.237826\n",
      "\n"
     ]
    },
    {
     "name": "stdout",
     "output_type": "stream",
     "text": [
      "Accuracy: 0.7571 +/- 0.0033\n",
      "Starting training 119 params of 324\n"
     ]
    },
    {
     "name": "stderr",
     "output_type": "stream",
     "text": [
      "Will train until valid error hasn't decreased in 50 rounds.\n",
      "Stopping. Best iteration:\n",
      "[68]\ttrain-merror:0.110653\tvalid-merror:0.234444\n",
      "\n",
      "Will train until valid error hasn't decreased in 50 rounds.\n",
      "Stopping. Best iteration:\n",
      "[138]\ttrain-merror:0.059545\tvalid-merror:0.232558\n",
      "\n",
      "Will train until valid error hasn't decreased in 50 rounds.\n",
      "Stopping. Best iteration:\n",
      "[103]\ttrain-merror:0.078712\tvalid-merror:0.231615\n",
      "\n",
      "Will train until valid error hasn't decreased in 50 rounds.\n",
      "Stopping. Best iteration:\n",
      "[189]\ttrain-merror:0.038163\tvalid-merror:0.239083\n",
      "\n",
      "Will train until valid error hasn't decreased in 50 rounds.\n",
      "Stopping. Best iteration:\n",
      "[111]\ttrain-merror:0.071324\tvalid-merror:0.235627\n",
      "\n"
     ]
    },
    {
     "name": "stdout",
     "output_type": "stream",
     "text": [
      "Accuracy: 0.7593 +/- 0.0052\n",
      "Starting training 120 params of 324\n"
     ]
    },
    {
     "name": "stderr",
     "output_type": "stream",
     "text": [
      "Will train until valid error hasn't decreased in 50 rounds.\n",
      "Stopping. Best iteration:\n",
      "[203]\ttrain-merror:0.107649\tvalid-merror:0.227216\n",
      "\n",
      "Will train until valid error hasn't decreased in 50 rounds.\n",
      "Stopping. Best iteration:\n",
      "[208]\ttrain-merror:0.106517\tvalid-merror:0.231301\n",
      "\n",
      "Will train until valid error hasn't decreased in 50 rounds.\n",
      "Stopping. Best iteration:\n",
      "[256]\ttrain-merror:0.088979\tvalid-merror:0.228787\n",
      "\n",
      "Will train until valid error hasn't decreased in 50 rounds.\n",
      "Stopping. Best iteration:\n",
      "[280]\ttrain-merror:0.082786\tvalid-merror:0.240339\n",
      "\n",
      "Will train until valid error hasn't decreased in 50 rounds.\n",
      "Stopping. Best iteration:\n",
      "[285]\ttrain-merror:0.081274\tvalid-merror:0.230600\n",
      "\n"
     ]
    },
    {
     "name": "stdout",
     "output_type": "stream",
     "text": [
      "Accuracy: 0.7648 +/- 0.0031\n",
      "Starting training 121 params of 324\n"
     ]
    },
    {
     "name": "stderr",
     "output_type": "stream",
     "text": [
      "Will train until valid error hasn't decreased in 50 rounds.\n",
      "Stopping. Best iteration:\n",
      "[461]\ttrain-merror:0.089801\tvalid-merror:0.217159\n",
      "\n",
      "Will train until valid error hasn't decreased in 50 rounds.\n",
      "Stopping. Best iteration:\n",
      "[320]\ttrain-merror:0.113990\tvalid-merror:0.223759\n",
      "\n",
      "Will train until valid error hasn't decreased in 50 rounds.\n",
      "Stopping. Best iteration:\n",
      "[332]\ttrain-merror:0.109862\tvalid-merror:0.218102\n",
      "\n",
      "Will train until valid error hasn't decreased in 50 rounds.\n",
      "Stopping. Best iteration:\n",
      "[135]\ttrain-merror:0.165398\tvalid-merror:0.242224\n",
      "\n",
      "Will train until valid error hasn't decreased in 50 rounds.\n",
      "Stopping. Best iteration:\n",
      "[291]\ttrain-merror:0.119676\tvalid-merror:0.226516\n",
      "\n"
     ]
    },
    {
     "name": "stdout",
     "output_type": "stream",
     "text": [
      "Accuracy: 0.7661 +/- 0.0079\n",
      "Starting training 122 params of 324\n"
     ]
    },
    {
     "name": "stderr",
     "output_type": "stream",
     "text": [
      "Will train until valid error hasn't decreased in 50 rounds.\n",
      "Stopping. Best iteration:\n",
      "[396]\ttrain-merror:0.149983\tvalid-merror:0.229415\n",
      "\n",
      "Will train until valid error hasn't decreased in 50 rounds.\n",
      "Stopping. Best iteration:\n",
      "[285]\ttrain-merror:0.172033\tvalid-merror:0.235387\n",
      "\n",
      "Will train until valid error hasn't decreased in 50 rounds.\n",
      "Stopping. Best iteration:\n",
      "[311]\ttrain-merror:0.164339\tvalid-merror:0.223130\n",
      "\n",
      "Will train until valid error hasn't decreased in 50 rounds.\n",
      "Stopping. Best iteration:\n",
      "[303]\ttrain-merror:0.164351\tvalid-merror:0.246623\n",
      "\n",
      "Will train until valid error hasn't decreased in 50 rounds.\n",
      "Stopping. Best iteration:\n",
      "[389]\ttrain-merror:0.150957\tvalid-merror:0.231228\n",
      "\n"
     ]
    },
    {
     "name": "stdout",
     "output_type": "stream",
     "text": [
      "Accuracy: 0.7605 +/- 0.0031\n",
      "Starting training 123 params of 324\n"
     ]
    },
    {
     "name": "stderr",
     "output_type": "stream",
     "text": [
      "Will train until valid error hasn't decreased in 50 rounds.\n",
      "Stopping. Best iteration:\n",
      "[646]\ttrain-merror:0.201467\tvalid-merror:0.249529\n",
      "\n",
      "Will train until valid error hasn't decreased in 50 rounds.\n",
      "Stopping. Best iteration:\n",
      "[371]\ttrain-merror:0.231298\tvalid-merror:0.261471\n",
      "\n",
      "Will train until valid error hasn't decreased in 50 rounds.\n",
      "Stopping. Best iteration:\n",
      "[513]\ttrain-merror:0.214450\tvalid-merror:0.248272\n",
      "\n",
      "Will train until valid error hasn't decreased in 50 rounds.\n",
      "Stopping. Best iteration:\n",
      "[473]\ttrain-merror:0.213862\tvalid-merror:0.260446\n",
      "\n",
      "Will train until valid error hasn't decreased in 50 rounds.\n",
      "Stopping. Best iteration:\n",
      "[627]\ttrain-merror:0.201648\tvalid-merror:0.253220\n",
      "\n"
     ]
    },
    {
     "name": "stdout",
     "output_type": "stream",
     "text": [
      "Accuracy: 0.7394 +/- 0.0063\n",
      "Starting training 124 params of 324\n"
     ]
    },
    {
     "name": "stderr",
     "output_type": "stream",
     "text": [
      "Will train until valid error hasn't decreased in 50 rounds.\n",
      "Stopping. Best iteration:\n",
      "[145]\ttrain-merror:0.112295\tvalid-merror:0.229730\n",
      "\n",
      "Will train until valid error hasn't decreased in 50 rounds.\n",
      "Stopping. Best iteration:\n",
      "[178]\ttrain-merror:0.098624\tvalid-merror:0.227216\n",
      "\n",
      "Will train until valid error hasn't decreased in 50 rounds.\n",
      "Stopping. Best iteration:\n",
      "[175]\ttrain-merror:0.100677\tvalid-merror:0.225644\n",
      "\n",
      "Will train until valid error hasn't decreased in 50 rounds.\n",
      "Stopping. Best iteration:\n",
      "[187]\ttrain-merror:0.092772\tvalid-merror:0.229029\n",
      "\n",
      "Will train until valid error hasn't decreased in 50 rounds.\n",
      "Stopping. Best iteration:\n",
      "[135]\ttrain-merror:0.115312\tvalid-merror:0.223374\n",
      "\n"
     ]
    },
    {
     "name": "stdout",
     "output_type": "stream",
     "text": [
      "Accuracy: 0.7661 +/- 0.0045\n",
      "Starting training 125 params of 324\n"
     ]
    },
    {
     "name": "stderr",
     "output_type": "stream",
     "text": [
      "Will train until valid error hasn't decreased in 50 rounds.\n",
      "Stopping. Best iteration:\n",
      "[191]\ttrain-merror:0.146210\tvalid-merror:0.229101\n",
      "\n",
      "Will train until valid error hasn't decreased in 50 rounds.\n",
      "Stopping. Best iteration:\n",
      "[236]\ttrain-merror:0.130928\tvalid-merror:0.233501\n",
      "\n",
      "Will train until valid error hasn't decreased in 50 rounds.\n",
      "Stopping. Best iteration:\n",
      "[254]\ttrain-merror:0.126519\tvalid-merror:0.224387\n",
      "\n",
      "Will train until valid error hasn't decreased in 50 rounds.\n",
      "Stopping. Best iteration:\n",
      "[285]\ttrain-merror:0.118296\tvalid-merror:0.238768\n",
      "\n",
      "Will train until valid error hasn't decreased in 50 rounds.\n",
      "Stopping. Best iteration:\n",
      "[236]\ttrain-merror:0.131825\tvalid-merror:0.229029\n",
      "\n"
     ]
    },
    {
     "name": "stdout",
     "output_type": "stream",
     "text": [
      "Accuracy: 0.7625 +/- 0.0039\n",
      "Starting training 126 params of 324\n"
     ]
    },
    {
     "name": "stderr",
     "output_type": "stream",
     "text": [
      "Will train until valid error hasn't decreased in 50 rounds.\n",
      "Stopping. Best iteration:\n",
      "[447]\ttrain-merror:0.171533\tvalid-merror:0.240729\n",
      "\n",
      "Will train until valid error hasn't decreased in 50 rounds.\n",
      "Stopping. Best iteration:\n",
      "[503]\ttrain-merror:0.165223\tvalid-merror:0.240729\n",
      "\n",
      "Will train until valid error hasn't decreased in 50 rounds.\n",
      "Stopping. Best iteration:\n",
      "[463]\ttrain-merror:0.170799\tvalid-merror:0.240101\n",
      "\n",
      "Will train until valid error hasn't decreased in 50 rounds.\n",
      "Stopping. Best iteration:\n",
      "[697]\ttrain-merror:0.140852\tvalid-merror:0.241282\n",
      "\n",
      "Will train until valid error hasn't decreased in 50 rounds.\n",
      "Stopping. Best iteration:\n",
      "[537]\ttrain-merror:0.157974\tvalid-merror:0.239083\n",
      "\n"
     ]
    },
    {
     "name": "stdout",
     "output_type": "stream",
     "text": [
      "Accuracy: 0.7538 +/- 0.0015\n",
      "Starting training 127 params of 324\n"
     ]
    },
    {
     "name": "stderr",
     "output_type": "stream",
     "text": [
      "Will train until valid error hasn't decreased in 50 rounds.\n",
      "Stopping. Best iteration:\n",
      "[283]\ttrain-merror:0.018757\tvalid-merror:0.221873\n",
      "\n",
      "Will train until valid error hasn't decreased in 50 rounds.\n",
      "Stopping. Best iteration:\n",
      "[131]\ttrain-merror:0.054097\tvalid-merror:0.227844\n",
      "\n",
      "Will train until valid error hasn't decreased in 50 rounds.\n",
      "Stopping. Best iteration:\n",
      "[149]\ttrain-merror:0.045921\tvalid-merror:0.224073\n",
      "\n",
      "Will train until valid error hasn't decreased in 50 rounds.\n",
      "Stopping. Best iteration:\n",
      "[132]\ttrain-merror:0.053317\tvalid-merror:0.233742\n",
      "\n",
      "Will train until valid error hasn't decreased in 50 rounds.\n",
      "Stopping. Best iteration:\n",
      "[68]\ttrain-merror:0.095727\tvalid-merror:0.229972\n",
      "\n"
     ]
    },
    {
     "name": "stdout",
     "output_type": "stream",
     "text": [
      "Accuracy: 0.7634 +/- 0.0045\n",
      "Starting training 128 params of 324\n"
     ]
    },
    {
     "name": "stderr",
     "output_type": "stream",
     "text": [
      "Will train until valid error hasn't decreased in 50 rounds.\n",
      "Stopping. Best iteration:\n",
      "[131]\ttrain-merror:0.105239\tvalid-merror:0.226273\n",
      "\n",
      "Will train until valid error hasn't decreased in 50 rounds.\n",
      "Stopping. Best iteration:\n",
      "[262]\ttrain-merror:0.056017\tvalid-merror:0.229101\n",
      "\n",
      "Will train until valid error hasn't decreased in 50 rounds.\n",
      "Stopping. Best iteration:\n",
      "[141]\ttrain-merror:0.098827\tvalid-merror:0.227844\n",
      "\n",
      "Will train until valid error hasn't decreased in 50 rounds.\n",
      "Stopping. Best iteration:\n",
      "[182]\ttrain-merror:0.080447\tvalid-merror:0.235941\n",
      "\n",
      "Will train until valid error hasn't decreased in 50 rounds.\n",
      "Stopping. Best iteration:\n",
      "[234]\ttrain-merror:0.062805\tvalid-merror:0.231228\n",
      "\n"
     ]
    },
    {
     "name": "stdout",
     "output_type": "stream",
     "text": [
      "Accuracy: 0.7653 +/- 0.0027\n",
      "Starting training 129 params of 324\n"
     ]
    },
    {
     "name": "stderr",
     "output_type": "stream",
     "text": [
      "Will train until valid error hasn't decreased in 50 rounds.\n",
      "Stopping. Best iteration:\n",
      "[292]\ttrain-merror:0.127628\tvalid-merror:0.232872\n",
      "\n",
      "Will train until valid error hasn't decreased in 50 rounds.\n",
      "Stopping. Best iteration:\n",
      "[297]\ttrain-merror:0.127785\tvalid-merror:0.236958\n",
      "\n",
      "Will train until valid error hasn't decreased in 50 rounds.\n",
      "Stopping. Best iteration:\n",
      "[377]\ttrain-merror:0.108325\tvalid-merror:0.229101\n",
      "\n",
      "Will train until valid error hasn't decreased in 50 rounds.\n",
      "Stopping. Best iteration:\n",
      "[330]\ttrain-merror:0.117703\tvalid-merror:0.242538\n",
      "\n",
      "Will train until valid error hasn't decreased in 50 rounds.\n",
      "Stopping. Best iteration:\n",
      "[275]\ttrain-merror:0.130080\tvalid-merror:0.235941\n",
      "\n"
     ]
    },
    {
     "name": "stdout",
     "output_type": "stream",
     "text": [
      "Accuracy: 0.7606 +/- 0.0021\n",
      "Starting training 130 params of 324\n"
     ]
    },
    {
     "name": "stderr",
     "output_type": "stream",
     "text": [
      "Will train until valid error hasn't decreased in 50 rounds.\n",
      "Stopping. Best iteration:\n",
      "[146]\ttrain-merror:0.012260\tvalid-merror:0.221244\n",
      "\n",
      "Will train until valid error hasn't decreased in 50 rounds.\n",
      "Stopping. Best iteration:\n",
      "[155]\ttrain-merror:0.011420\tvalid-merror:0.230358\n",
      "\n",
      "Will train until valid error hasn't decreased in 50 rounds.\n",
      "Stopping. Best iteration:\n",
      "[91]\ttrain-merror:0.025667\tvalid-merror:0.229101\n",
      "\n",
      "Will train until valid error hasn't decreased in 50 rounds.\n",
      "Stopping. Best iteration:\n",
      "[77]\ttrain-merror:0.033589\tvalid-merror:0.230600\n",
      "\n",
      "Will train until valid error hasn't decreased in 50 rounds.\n",
      "Stopping. Best iteration:\n",
      "[103]\ttrain-merror:0.021889\tvalid-merror:0.226516\n",
      "\n"
     ]
    },
    {
     "name": "stdout",
     "output_type": "stream",
     "text": [
      "Accuracy: 0.7618 +/- 0.0028\n",
      "Starting training 131 params of 324\n"
     ]
    },
    {
     "name": "stderr",
     "output_type": "stream",
     "text": [
      "Will train until valid error hasn't decreased in 50 rounds.\n",
      "Stopping. Best iteration:\n",
      "[119]\ttrain-merror:0.050367\tvalid-merror:0.222502\n",
      "\n",
      "Will train until valid error hasn't decreased in 50 rounds.\n",
      "Stopping. Best iteration:\n",
      "[116]\ttrain-merror:0.055039\tvalid-merror:0.229101\n",
      "\n",
      "Will train until valid error hasn't decreased in 50 rounds.\n",
      "Stopping. Best iteration:\n",
      "[164]\ttrain-merror:0.031953\tvalid-merror:0.227530\n",
      "\n",
      "Will train until valid error hasn't decreased in 50 rounds.\n",
      "Stopping. Best iteration:\n",
      "[99]\ttrain-merror:0.062989\tvalid-merror:0.233428\n",
      "\n",
      "Will train until valid error hasn't decreased in 50 rounds.\n",
      "Stopping. Best iteration:\n",
      "[79]\ttrain-merror:0.080645\tvalid-merror:0.230914\n",
      "\n"
     ]
    },
    {
     "name": "stdout",
     "output_type": "stream",
     "text": [
      "Accuracy: 0.7647 +/- 0.0038\n",
      "Starting training 132 params of 324\n"
     ]
    },
    {
     "name": "stderr",
     "output_type": "stream",
     "text": [
      "Will train until valid error hasn't decreased in 50 rounds.\n",
      "Stopping. Best iteration:\n",
      "[209]\ttrain-merror:0.084736\tvalid-merror:0.222502\n",
      "\n",
      "Will train until valid error hasn't decreased in 50 rounds.\n",
      "Stopping. Best iteration:\n",
      "[237]\ttrain-merror:0.076203\tvalid-merror:0.229730\n",
      "\n",
      "Will train until valid error hasn't decreased in 50 rounds.\n",
      "Stopping. Best iteration:\n",
      "[272]\ttrain-merror:0.065337\tvalid-merror:0.224387\n",
      "\n",
      "Will train until valid error hasn't decreased in 50 rounds.\n",
      "Stopping. Best iteration:\n",
      "[213]\ttrain-merror:0.082926\tvalid-merror:0.234998\n",
      "\n",
      "Will train until valid error hasn't decreased in 50 rounds.\n",
      "Stopping. Best iteration:\n",
      "[251]\ttrain-merror:0.071743\tvalid-merror:0.227458\n",
      "\n"
     ]
    },
    {
     "name": "stdout",
     "output_type": "stream",
     "text": [
      "Accuracy: 0.7681 +/- 0.0037\n",
      "Starting training 133 params of 324\n"
     ]
    },
    {
     "name": "stderr",
     "output_type": "stream",
     "text": [
      "Will train until valid error hasn't decreased in 50 rounds.\n",
      "Stopping. Best iteration:\n",
      "[424]\ttrain-merror:0.095250\tvalid-merror:0.212445\n",
      "\n",
      "Will train until valid error hasn't decreased in 50 rounds.\n",
      "Stopping. Best iteration:\n",
      "[297]\ttrain-merror:0.118740\tvalid-merror:0.225959\n",
      "\n",
      "Will train until valid error hasn't decreased in 50 rounds.\n",
      "Stopping. Best iteration:\n",
      "[230]\ttrain-merror:0.133713\tvalid-merror:0.219673\n",
      "\n",
      "Will train until valid error hasn't decreased in 50 rounds.\n",
      "Stopping. Best iteration:\n",
      "[291]\ttrain-merror:0.118680\tvalid-merror:0.228401\n",
      "\n",
      "Will train until valid error hasn't decreased in 50 rounds.\n",
      "Stopping. Best iteration:\n",
      "[225]\ttrain-merror:0.134199\tvalid-merror:0.229029\n",
      "\n"
     ]
    },
    {
     "name": "stdout",
     "output_type": "stream",
     "text": [
      "Accuracy: 0.7696 +/- 0.0021\n",
      "Starting training 134 params of 324\n"
     ]
    },
    {
     "name": "stderr",
     "output_type": "stream",
     "text": [
      "Will train until valid error hasn't decreased in 50 rounds.\n",
      "Stopping. Best iteration:\n",
      "[378]\ttrain-merror:0.151729\tvalid-merror:0.223444\n",
      "\n",
      "Will train until valid error hasn't decreased in 50 rounds.\n",
      "Stopping. Best iteration:\n",
      "[453]\ttrain-merror:0.143117\tvalid-merror:0.227530\n",
      "\n",
      "Will train until valid error hasn't decreased in 50 rounds.\n",
      "Stopping. Best iteration:\n",
      "[392]\ttrain-merror:0.151767\tvalid-merror:0.219673\n",
      "\n",
      "Will train until valid error hasn't decreased in 50 rounds.\n",
      "Stopping. Best iteration:\n",
      "[392]\ttrain-merror:0.149686\tvalid-merror:0.236569\n",
      "\n",
      "Will train until valid error hasn't decreased in 50 rounds.\n",
      "Stopping. Best iteration:\n",
      "[515]\ttrain-merror:0.135037\tvalid-merror:0.222746\n",
      "\n"
     ]
    },
    {
     "name": "stdout",
     "output_type": "stream",
     "text": [
      "Accuracy: 0.7682 +/- 0.0050\n",
      "Starting training 135 params of 324\n"
     ]
    },
    {
     "name": "stderr",
     "output_type": "stream",
     "text": [
      "Will train until valid error hasn't decreased in 50 rounds.\n",
      "Stopping. Best iteration:\n",
      "[955]\ttrain-merror:0.178344\tvalid-merror:0.236015\n",
      "\n",
      "Will train until valid error hasn't decreased in 50 rounds.\n",
      "Stopping. Best iteration:\n",
      "[441]\ttrain-merror:0.217434\tvalid-merror:0.250471\n",
      "\n",
      "Will train until valid error hasn't decreased in 50 rounds.\n",
      "Stopping. Best iteration:\n",
      "[555]\ttrain-merror:0.206488\tvalid-merror:0.244815\n",
      "\n",
      "Will train until valid error hasn't decreased in 50 rounds.\n",
      "Stopping. Best iteration:\n",
      "[476]\ttrain-merror:0.210091\tvalid-merror:0.256990\n",
      "\n",
      "Will train until valid error hasn't decreased in 50 rounds.\n",
      "Stopping. Best iteration:\n",
      "[683]\ttrain-merror:0.193898\tvalid-merror:0.252906\n",
      "\n"
     ]
    },
    {
     "name": "stdout",
     "output_type": "stream",
     "text": [
      "Accuracy: 0.7462 +/- 0.0071\n",
      "Starting training 136 params of 324\n"
     ]
    },
    {
     "name": "stderr",
     "output_type": "stream",
     "text": [
      "Will train until valid error hasn't decreased in 50 rounds.\n",
      "Stopping. Best iteration:\n",
      "[210]\ttrain-merror:0.085225\tvalid-merror:0.219045\n",
      "\n",
      "Will train until valid error hasn't decreased in 50 rounds.\n",
      "Stopping. Best iteration:\n",
      "[199]\ttrain-merror:0.089649\tvalid-merror:0.225016\n",
      "\n",
      "Will train until valid error hasn't decreased in 50 rounds.\n",
      "Stopping. Best iteration:\n",
      "[196]\ttrain-merror:0.090411\tvalid-merror:0.220616\n",
      "\n",
      "Will train until valid error hasn't decreased in 50 rounds.\n",
      "Stopping. Best iteration:\n",
      "[153]\ttrain-merror:0.104888\tvalid-merror:0.224003\n",
      "\n",
      "Will train until valid error hasn't decreased in 50 rounds.\n",
      "Stopping. Best iteration:\n",
      "[201]\ttrain-merror:0.089582\tvalid-merror:0.223688\n",
      "\n"
     ]
    },
    {
     "name": "stdout",
     "output_type": "stream",
     "text": [
      "Accuracy: 0.7693 +/- 0.0042\n",
      "Starting training 137 params of 324\n"
     ]
    },
    {
     "name": "stderr",
     "output_type": "stream",
     "text": [
      "Will train until valid error hasn't decreased in 50 rounds.\n",
      "Stopping. Best iteration:\n",
      "[259]\ttrain-merror:0.126511\tvalid-merror:0.228473\n",
      "\n",
      "Will train until valid error hasn't decreased in 50 rounds.\n",
      "Stopping. Best iteration:\n",
      "[176]\ttrain-merror:0.148669\tvalid-merror:0.230673\n",
      "\n",
      "Will train until valid error hasn't decreased in 50 rounds.\n",
      "Stopping. Best iteration:\n",
      "[337]\ttrain-merror:0.108639\tvalid-merror:0.215588\n",
      "\n",
      "Will train until valid error hasn't decreased in 50 rounds.\n",
      "Stopping. Best iteration:\n",
      "[180]\ttrain-merror:0.145985\tvalid-merror:0.242224\n",
      "\n",
      "Will train until valid error hasn't decreased in 50 rounds.\n",
      "Stopping. Best iteration:\n",
      "[280]\ttrain-merror:0.121177\tvalid-merror:0.223060\n",
      "\n"
     ]
    },
    {
     "name": "stdout",
     "output_type": "stream",
     "text": [
      "Accuracy: 0.7662 +/- 0.0053\n",
      "Starting training 138 params of 324\n"
     ]
    },
    {
     "name": "stderr",
     "output_type": "stream",
     "text": [
      "Will train until valid error hasn't decreased in 50 rounds.\n",
      "Stopping. Best iteration:\n",
      "[503]\ttrain-merror:0.164897\tvalid-merror:0.232558\n",
      "\n",
      "Will train until valid error hasn't decreased in 50 rounds.\n",
      "Stopping. Best iteration:\n",
      "[370]\ttrain-merror:0.184431\tvalid-merror:0.244186\n",
      "\n",
      "Will train until valid error hasn't decreased in 50 rounds.\n",
      "Stopping. Best iteration:\n",
      "[541]\ttrain-merror:0.161859\tvalid-merror:0.232872\n",
      "\n",
      "Will train until valid error hasn't decreased in 50 rounds.\n",
      "Stopping. Best iteration:\n",
      "[525]\ttrain-merror:0.162290\tvalid-merror:0.247565\n",
      "\n",
      "Will train until valid error hasn't decreased in 50 rounds.\n",
      "Stopping. Best iteration:\n",
      "[412]\ttrain-merror:0.176721\tvalid-merror:0.245994\n",
      "\n"
     ]
    },
    {
     "name": "stdout",
     "output_type": "stream",
     "text": [
      "Accuracy: 0.7546 +/- 0.0023\n",
      "Starting training 139 params of 324\n"
     ]
    },
    {
     "name": "stderr",
     "output_type": "stream",
     "text": [
      "Will train until valid error hasn't decreased in 50 rounds.\n",
      "Stopping. Best iteration:\n",
      "[175]\ttrain-merror:0.036046\tvalid-merror:0.218102\n",
      "\n",
      "Will train until valid error hasn't decreased in 50 rounds.\n",
      "Stopping. Best iteration:\n",
      "[122]\ttrain-merror:0.056157\tvalid-merror:0.231615\n",
      "\n",
      "Will train until valid error hasn't decreased in 50 rounds.\n",
      "Stopping. Best iteration:\n",
      "[149]\ttrain-merror:0.044769\tvalid-merror:0.226273\n",
      "\n",
      "Will train until valid error hasn't decreased in 50 rounds.\n",
      "Stopping. Best iteration:\n",
      "[201]\ttrain-merror:0.030901\tvalid-merror:0.223688\n",
      "\n",
      "Will train until valid error hasn't decreased in 50 rounds.\n",
      "Stopping. Best iteration:\n",
      "[231]\ttrain-merror:0.026009\tvalid-merror:0.221175\n",
      "\n"
     ]
    },
    {
     "name": "stdout",
     "output_type": "stream",
     "text": [
      "Accuracy: 0.7695 +/- 0.0037\n",
      "Starting training 140 params of 324\n"
     ]
    },
    {
     "name": "stderr",
     "output_type": "stream",
     "text": [
      "Will train until valid error hasn't decreased in 50 rounds.\n",
      "Stopping. Best iteration:\n",
      "[188]\ttrain-merror:0.079183\tvalid-merror:0.223759\n",
      "\n",
      "Will train until valid error hasn't decreased in 50 rounds.\n",
      "Stopping. Best iteration:\n",
      "[194]\ttrain-merror:0.079241\tvalid-merror:0.229415\n",
      "\n",
      "Will train until valid error hasn't decreased in 50 rounds.\n",
      "Stopping. Best iteration:\n",
      "[167]\ttrain-merror:0.085871\tvalid-merror:0.221244\n",
      "\n",
      "Will train until valid error hasn't decreased in 50 rounds.\n",
      "Stopping. Best iteration:\n",
      "[264]\ttrain-merror:0.059008\tvalid-merror:0.233113\n",
      "\n",
      "Will train until valid error hasn't decreased in 50 rounds.\n",
      "Stopping. Best iteration:\n",
      "[134]\ttrain-merror:0.100545\tvalid-merror:0.233742\n",
      "\n"
     ]
    },
    {
     "name": "stdout",
     "output_type": "stream",
     "text": [
      "Accuracy: 0.7683 +/- 0.0027\n",
      "Starting training 141 params of 324\n"
     ]
    },
    {
     "name": "stderr",
     "output_type": "stream",
     "text": [
      "Will train until valid error hasn't decreased in 50 rounds.\n",
      "Stopping. Best iteration:\n",
      "[374]\ttrain-merror:0.110723\tvalid-merror:0.225330\n",
      "\n",
      "Will train until valid error hasn't decreased in 50 rounds.\n",
      "Stopping. Best iteration:\n",
      "[286]\ttrain-merror:0.131417\tvalid-merror:0.236644\n",
      "\n",
      "Will train until valid error hasn't decreased in 50 rounds.\n",
      "Stopping. Best iteration:\n",
      "[492]\ttrain-merror:0.090236\tvalid-merror:0.221873\n",
      "\n",
      "Will train until valid error hasn't decreased in 50 rounds.\n",
      "Stopping. Best iteration:\n",
      "[204]\ttrain-merror:0.153212\tvalid-merror:0.245052\n",
      "\n",
      "Will train until valid error hasn't decreased in 50 rounds.\n",
      "Stopping. Best iteration:\n",
      "[346]\ttrain-merror:0.117232\tvalid-merror:0.230286\n",
      "\n"
     ]
    },
    {
     "name": "stdout",
     "output_type": "stream",
     "text": [
      "Accuracy: 0.7634 +/- 0.0064\n",
      "Starting training 142 params of 324\n"
     ]
    },
    {
     "name": "stderr",
     "output_type": "stream",
     "text": [
      "Will train until valid error hasn't decreased in 50 rounds.\n",
      "Stopping. Best iteration:\n",
      "[142]\ttrain-merror:0.010618\tvalid-merror:0.222187\n",
      "\n",
      "Will train until valid error hasn't decreased in 50 rounds.\n",
      "Stopping. Best iteration:\n",
      "[117]\ttrain-merror:0.017043\tvalid-merror:0.225644\n",
      "\n",
      "Will train until valid error hasn't decreased in 50 rounds.\n",
      "Stopping. Best iteration:\n",
      "[105]\ttrain-merror:0.018857\tvalid-merror:0.223444\n",
      "\n",
      "Will train until valid error hasn't decreased in 50 rounds.\n",
      "Stopping. Best iteration:\n",
      "[186]\ttrain-merror:0.006355\tvalid-merror:0.226202\n",
      "\n",
      "Will train until valid error hasn't decreased in 50 rounds.\n",
      "Stopping. Best iteration:\n",
      "[95]\ttrain-merror:0.022378\tvalid-merror:0.229029\n",
      "\n"
     ]
    },
    {
     "name": "stdout",
     "output_type": "stream",
     "text": [
      "Accuracy: 0.7657 +/- 0.0022\n",
      "Starting training 143 params of 324\n"
     ]
    },
    {
     "name": "stderr",
     "output_type": "stream",
     "text": [
      "Will train until valid error hasn't decreased in 50 rounds.\n",
      "Stopping. Best iteration:\n",
      "[197]\ttrain-merror:0.024485\tvalid-merror:0.220616\n",
      "\n",
      "Will train until valid error hasn't decreased in 50 rounds.\n",
      "Stopping. Best iteration:\n",
      "[113]\ttrain-merror:0.052525\tvalid-merror:0.225959\n",
      "\n",
      "Will train until valid error hasn't decreased in 50 rounds.\n",
      "Stopping. Best iteration:\n",
      "[102]\ttrain-merror:0.057061\tvalid-merror:0.223444\n",
      "\n",
      "Will train until valid error hasn't decreased in 50 rounds.\n",
      "Stopping. Best iteration:\n",
      "[107]\ttrain-merror:0.053946\tvalid-merror:0.232171\n",
      "\n",
      "Will train until valid error hasn't decreased in 50 rounds.\n",
      "Stopping. Best iteration:\n",
      "[84]\ttrain-merror:0.070311\tvalid-merror:0.226202\n",
      "\n"
     ]
    },
    {
     "name": "stdout",
     "output_type": "stream",
     "text": [
      "Accuracy: 0.7664 +/- 0.0007\n",
      "Starting training 144 params of 324\n"
     ]
    },
    {
     "name": "stderr",
     "output_type": "stream",
     "text": [
      "Will train until valid error hasn't decreased in 50 rounds.\n",
      "Stopping. Best iteration:\n",
      "[322]\ttrain-merror:0.050856\tvalid-merror:0.219045\n",
      "\n",
      "Will train until valid error hasn't decreased in 50 rounds.\n",
      "Stopping. Best iteration:\n",
      "[241]\ttrain-merror:0.071663\tvalid-merror:0.228787\n",
      "\n",
      "Will train until valid error hasn't decreased in 50 rounds.\n",
      "Stopping. Best iteration:\n",
      "[277]\ttrain-merror:0.059366\tvalid-merror:0.221244\n",
      "\n",
      "Will train until valid error hasn't decreased in 50 rounds.\n",
      "Stopping. Best iteration:\n",
      "[226]\ttrain-merror:0.074721\tvalid-merror:0.228087\n",
      "\n",
      "Will train until valid error hasn't decreased in 50 rounds.\n",
      "Stopping. Best iteration:\n",
      "[252]\ttrain-merror:0.068077\tvalid-merror:0.224003\n",
      "\n"
     ]
    },
    {
     "name": "stdout",
     "output_type": "stream",
     "text": [
      "Accuracy: 0.7715 +/- 0.0027\n",
      "Starting training 145 params of 324\n"
     ]
    },
    {
     "name": "stderr",
     "output_type": "stream",
     "text": [
      "Will train until valid error hasn't decreased in 50 rounds.\n",
      "Stopping. Best iteration:\n",
      "[299]\ttrain-merror:0.117534\tvalid-merror:0.230987\n",
      "\n",
      "Will train until valid error hasn't decreased in 50 rounds.\n",
      "Stopping. Best iteration:\n",
      "[200]\ttrain-merror:0.145212\tvalid-merror:0.239472\n",
      "\n",
      "Will train until valid error hasn't decreased in 50 rounds.\n",
      "Stopping. Best iteration:\n",
      "[294]\ttrain-merror:0.120443\tvalid-merror:0.225330\n",
      "\n",
      "Will train until valid error hasn't decreased in 50 rounds.\n",
      "Stopping. Best iteration:\n",
      "[279]\ttrain-merror:0.122870\tvalid-merror:0.238140\n",
      "\n",
      "Will train until valid error hasn't decreased in 50 rounds.\n",
      "Stopping. Best iteration:\n",
      "[215]\ttrain-merror:0.139645\tvalid-merror:0.234684\n",
      "\n"
     ]
    },
    {
     "name": "stdout",
     "output_type": "stream",
     "text": [
      "Accuracy: 0.7621 +/- 0.0012\n",
      "Starting training 146 params of 324\n"
     ]
    },
    {
     "name": "stderr",
     "output_type": "stream",
     "text": [
      "Will train until valid error hasn't decreased in 50 rounds.\n",
      "Stopping. Best iteration:\n",
      "[367]\ttrain-merror:0.156689\tvalid-merror:0.226587\n",
      "\n",
      "Will train until valid error hasn't decreased in 50 rounds.\n",
      "Stopping. Best iteration:\n",
      "[289]\ttrain-merror:0.173116\tvalid-merror:0.241986\n",
      "\n",
      "Will train until valid error hasn't decreased in 50 rounds.\n",
      "Stopping. Best iteration:\n",
      "[356]\ttrain-merror:0.160358\tvalid-merror:0.231301\n",
      "\n",
      "Will train until valid error hasn't decreased in 50 rounds.\n",
      "Stopping. Best iteration:\n",
      "[157]\ttrain-merror:0.203352\tvalid-merror:0.254163\n",
      "\n",
      "Will train until valid error hasn't decreased in 50 rounds.\n",
      "Stopping. Best iteration:\n",
      "[288]\ttrain-merror:0.172986\tvalid-merror:0.239711\n",
      "\n"
     ]
    },
    {
     "name": "stdout",
     "output_type": "stream",
     "text": [
      "Accuracy: 0.7530 +/- 0.0090\n",
      "Starting training 147 params of 324\n"
     ]
    },
    {
     "name": "stderr",
     "output_type": "stream",
     "text": [
      "Will train until valid error hasn't decreased in 50 rounds.\n",
      "Stopping. Best iteration:\n",
      "[837]\ttrain-merror:0.190465\tvalid-merror:0.246072\n",
      "\n",
      "Will train until valid error hasn't decreased in 50 rounds.\n",
      "Stopping. Best iteration:\n",
      "[500]\ttrain-merror:0.218970\tvalid-merror:0.262099\n",
      "\n",
      "Will train until valid error hasn't decreased in 50 rounds.\n",
      "Stopping. Best iteration:\n",
      "[628]\ttrain-merror:0.205755\tvalid-merror:0.251728\n",
      "\n",
      "Will train until valid error hasn't decreased in 50 rounds.\n",
      "Stopping. Best iteration:\n",
      "[535]\ttrain-merror:0.213582\tvalid-merror:0.266415\n",
      "\n",
      "Will train until valid error hasn't decreased in 50 rounds.\n",
      "Stopping. Best iteration:\n",
      "[611]\ttrain-merror:0.206570\tvalid-merror:0.256048\n",
      "\n"
     ]
    },
    {
     "name": "stdout",
     "output_type": "stream",
     "text": [
      "Accuracy: 0.7377 +/- 0.0049\n",
      "Starting training 148 params of 324\n"
     ]
    },
    {
     "name": "stderr",
     "output_type": "stream",
     "text": [
      "Will train until valid error hasn't decreased in 50 rounds.\n",
      "Stopping. Best iteration:\n",
      "[191]\ttrain-merror:0.090779\tvalid-merror:0.230673\n",
      "\n",
      "Will train until valid error hasn't decreased in 50 rounds.\n",
      "Stopping. Best iteration:\n",
      "[205]\ttrain-merror:0.090976\tvalid-merror:0.229730\n",
      "\n",
      "Will train until valid error hasn't decreased in 50 rounds.\n",
      "Stopping. Best iteration:\n",
      "[188]\ttrain-merror:0.094182\tvalid-merror:0.224073\n",
      "\n",
      "Will train until valid error hasn't decreased in 50 rounds.\n",
      "Stopping. Best iteration:\n",
      "[97]\ttrain-merror:0.139071\tvalid-merror:0.241282\n",
      "\n",
      "Will train until valid error hasn't decreased in 50 rounds.\n",
      "Stopping. Best iteration:\n",
      "[176]\ttrain-merror:0.099009\tvalid-merror:0.230600\n",
      "\n"
     ]
    },
    {
     "name": "stdout",
     "output_type": "stream",
     "text": [
      "Accuracy: 0.7601 +/- 0.0063\n",
      "Starting training 149 params of 324\n"
     ]
    },
    {
     "name": "stderr",
     "output_type": "stream",
     "text": [
      "Will train until valid error hasn't decreased in 50 rounds.\n",
      "Stopping. Best iteration:\n",
      "[176]\ttrain-merror:0.152428\tvalid-merror:0.236015\n",
      "\n",
      "Will train until valid error hasn't decreased in 50 rounds.\n",
      "Stopping. Best iteration:\n",
      "[238]\ttrain-merror:0.132046\tvalid-merror:0.237586\n",
      "\n",
      "Will train until valid error hasn't decreased in 50 rounds.\n",
      "Stopping. Best iteration:\n",
      "[236]\ttrain-merror:0.132840\tvalid-merror:0.233815\n",
      "\n",
      "Will train until valid error hasn't decreased in 50 rounds.\n",
      "Stopping. Best iteration:\n",
      "[195]\ttrain-merror:0.146020\tvalid-merror:0.244738\n",
      "\n",
      "Will train until valid error hasn't decreased in 50 rounds.\n",
      "Stopping. Best iteration:\n",
      "[152]\ttrain-merror:0.164083\tvalid-merror:0.241910\n",
      "\n"
     ]
    },
    {
     "name": "stdout",
     "output_type": "stream",
     "text": [
      "Accuracy: 0.7562 +/- 0.0034\n",
      "Starting training 150 params of 324\n"
     ]
    },
    {
     "name": "stderr",
     "output_type": "stream",
     "text": [
      "Will train until valid error hasn't decreased in 50 rounds.\n",
      "Stopping. Best iteration:\n",
      "[441]\ttrain-merror:0.175096\tvalid-merror:0.248900\n",
      "\n",
      "Will train until valid error hasn't decreased in 50 rounds.\n",
      "Stopping. Best iteration:\n",
      "[409]\ttrain-merror:0.178983\tvalid-merror:0.250157\n",
      "\n",
      "Will train until valid error hasn't decreased in 50 rounds.\n",
      "Stopping. Best iteration:\n",
      "[555]\ttrain-merror:0.160113\tvalid-merror:0.240101\n",
      "\n",
      "Will train until valid error hasn't decreased in 50 rounds.\n",
      "Stopping. Best iteration:\n",
      "[205]\ttrain-merror:0.223324\tvalid-merror:0.272070\n",
      "\n",
      "Will train until valid error hasn't decreased in 50 rounds.\n",
      "Stopping. Best iteration:\n",
      "[453]\ttrain-merror:0.171729\tvalid-merror:0.248194\n",
      "\n"
     ]
    },
    {
     "name": "stdout",
     "output_type": "stream",
     "text": [
      "Accuracy: 0.7409 +/- 0.0102\n",
      "Starting training 151 params of 324\n"
     ]
    },
    {
     "name": "stderr",
     "output_type": "stream",
     "text": [
      "Will train until valid error hasn't decreased in 50 rounds.\n",
      "Stopping. Best iteration:\n",
      "[210]\ttrain-merror:0.028502\tvalid-merror:0.230987\n",
      "\n",
      "Will train until valid error hasn't decreased in 50 rounds.\n",
      "Stopping. Best iteration:\n",
      "[177]\ttrain-merror:0.037089\tvalid-merror:0.240415\n",
      "\n",
      "Will train until valid error hasn't decreased in 50 rounds.\n",
      "Stopping. Best iteration:\n",
      "[76]\ttrain-merror:0.087931\tvalid-merror:0.237901\n",
      "\n",
      "Will train until valid error hasn't decreased in 50 rounds.\n",
      "Stopping. Best iteration:\n",
      "[145]\ttrain-merror:0.047311\tvalid-merror:0.234056\n",
      "\n",
      "Will train until valid error hasn't decreased in 50 rounds.\n",
      "Stopping. Best iteration:\n",
      "[76]\ttrain-merror:0.090281\tvalid-merror:0.239711\n",
      "\n"
     ]
    },
    {
     "name": "stdout",
     "output_type": "stream",
     "text": [
      "Accuracy: 0.7565 +/- 0.0028\n",
      "Starting training 152 params of 324\n"
     ]
    },
    {
     "name": "stderr",
     "output_type": "stream",
     "text": [
      "Will train until valid error hasn't decreased in 50 rounds.\n",
      "Stopping. Best iteration:\n",
      "[127]\ttrain-merror:0.107370\tvalid-merror:0.236644\n",
      "\n",
      "Will train until valid error hasn't decreased in 50 rounds.\n",
      "Stopping. Best iteration:\n",
      "[224]\ttrain-merror:0.065482\tvalid-merror:0.238529\n",
      "\n",
      "Will train until valid error hasn't decreased in 50 rounds.\n",
      "Stopping. Best iteration:\n",
      "[139]\ttrain-merror:0.099141\tvalid-merror:0.235072\n",
      "\n",
      "Will train until valid error hasn't decreased in 50 rounds.\n",
      "Stopping. Best iteration:\n",
      "[154]\ttrain-merror:0.089560\tvalid-merror:0.242538\n",
      "\n",
      "Will train until valid error hasn't decreased in 50 rounds.\n",
      "Stopping. Best iteration:\n",
      "[131]\ttrain-merror:0.103931\tvalid-merror:0.238768\n",
      "\n"
     ]
    },
    {
     "name": "stdout",
     "output_type": "stream",
     "text": [
      "Accuracy: 0.7576 +/- 0.0021\n",
      "Starting training 153 params of 324\n"
     ]
    },
    {
     "name": "stderr",
     "output_type": "stream",
     "text": [
      "Will train until valid error hasn't decreased in 50 rounds.\n",
      "Stopping. Best iteration:\n",
      "[296]\ttrain-merror:0.126231\tvalid-merror:0.235387\n",
      "\n",
      "Will train until valid error hasn't decreased in 50 rounds.\n",
      "Stopping. Best iteration:\n",
      "[224]\ttrain-merror:0.149089\tvalid-merror:0.241986\n",
      "\n",
      "Will train until valid error hasn't decreased in 50 rounds.\n",
      "Stopping. Best iteration:\n",
      "[272]\ttrain-merror:0.134726\tvalid-merror:0.236015\n",
      "\n",
      "Will train until valid error hasn't decreased in 50 rounds.\n",
      "Stopping. Best iteration:\n",
      "[308]\ttrain-merror:0.120775\tvalid-merror:0.245366\n",
      "\n",
      "Will train until valid error hasn't decreased in 50 rounds.\n",
      "Stopping. Best iteration:\n",
      "[369]\ttrain-merror:0.109028\tvalid-merror:0.237198\n",
      "\n"
     ]
    },
    {
     "name": "stdout",
     "output_type": "stream",
     "text": [
      "Accuracy: 0.7541 +/- 0.0040\n",
      "Starting training 154 params of 324\n"
     ]
    },
    {
     "name": "stderr",
     "output_type": "stream",
     "text": [
      "Will train until valid error hasn't decreased in 50 rounds.\n",
      "Stopping. Best iteration:\n",
      "[61]\ttrain-merror:0.048516\tvalid-merror:0.239472\n",
      "\n",
      "Will train until valid error hasn't decreased in 50 rounds.\n",
      "Stopping. Best iteration:\n",
      "[94]\ttrain-merror:0.026786\tvalid-merror:0.238215\n",
      "\n",
      "Will train until valid error hasn't decreased in 50 rounds.\n",
      "Stopping. Best iteration:\n",
      "[61]\ttrain-merror:0.048191\tvalid-merror:0.234444\n",
      "\n",
      "Will train until valid error hasn't decreased in 50 rounds.\n",
      "Stopping. Best iteration:\n",
      "[109]\ttrain-merror:0.020461\tvalid-merror:0.237198\n",
      "\n",
      "Will train until valid error hasn't decreased in 50 rounds.\n",
      "Stopping. Best iteration:\n",
      "[69]\ttrain-merror:0.041160\tvalid-merror:0.239083\n",
      "\n"
     ]
    },
    {
     "name": "stdout",
     "output_type": "stream",
     "text": [
      "Accuracy: 0.7514 +/- 0.0031\n",
      "Starting training 155 params of 324\n"
     ]
    },
    {
     "name": "stderr",
     "output_type": "stream",
     "text": [
      "Will train until valid error hasn't decreased in 50 rounds.\n",
      "Stopping. Best iteration:\n",
      "[139]\ttrain-merror:0.043102\tvalid-merror:0.233815\n",
      "\n",
      "Will train until valid error hasn't decreased in 50 rounds.\n",
      "Stopping. Best iteration:\n",
      "[96]\ttrain-merror:0.069079\tvalid-merror:0.240101\n",
      "\n",
      "Will train until valid error hasn't decreased in 50 rounds.\n",
      "Stopping. Best iteration:\n",
      "[68]\ttrain-merror:0.094846\tvalid-merror:0.230987\n",
      "\n",
      "Will train until valid error hasn't decreased in 50 rounds.\n",
      "Stopping. Best iteration:\n",
      "[97]\ttrain-merror:0.066865\tvalid-merror:0.244738\n",
      "\n",
      "Will train until valid error hasn't decreased in 50 rounds.\n",
      "Stopping. Best iteration:\n",
      "[163]\ttrain-merror:0.034388\tvalid-merror:0.236883\n",
      "\n"
     ]
    },
    {
     "name": "stdout",
     "output_type": "stream",
     "text": [
      "Accuracy: 0.7564 +/- 0.0021\n",
      "Starting training 156 params of 324\n"
     ]
    },
    {
     "name": "stderr",
     "output_type": "stream",
     "text": [
      "Will train until valid error hasn't decreased in 50 rounds.\n",
      "Stopping. Best iteration:\n",
      "[203]\ttrain-merror:0.091093\tvalid-merror:0.225959\n",
      "\n",
      "Will train until valid error hasn't decreased in 50 rounds.\n",
      "Stopping. Best iteration:\n",
      "[156]\ttrain-merror:0.114305\tvalid-merror:0.236329\n",
      "\n",
      "Will train until valid error hasn't decreased in 50 rounds.\n",
      "Stopping. Best iteration:\n",
      "[167]\ttrain-merror:0.105601\tvalid-merror:0.225959\n",
      "\n",
      "Will train until valid error hasn't decreased in 50 rounds.\n",
      "Stopping. Best iteration:\n",
      "[132]\ttrain-merror:0.125838\tvalid-merror:0.245680\n",
      "\n",
      "Will train until valid error hasn't decreased in 50 rounds.\n",
      "Stopping. Best iteration:\n",
      "[226]\ttrain-merror:0.082810\tvalid-merror:0.232171\n",
      "\n"
     ]
    },
    {
     "name": "stdout",
     "output_type": "stream",
     "text": [
      "Accuracy: 0.7609 +/- 0.0043\n",
      "Starting training 157 params of 324\n"
     ]
    },
    {
     "name": "stderr",
     "output_type": "stream",
     "text": [
      "Will train until valid error hasn't decreased in 50 rounds.\n",
      "Stopping. Best iteration:\n",
      "[176]\ttrain-merror:0.143975\tvalid-merror:0.230358\n",
      "\n",
      "Will train until valid error hasn't decreased in 50 rounds.\n",
      "Stopping. Best iteration:\n",
      "[169]\ttrain-merror:0.148460\tvalid-merror:0.231301\n",
      "\n",
      "Will train until valid error hasn't decreased in 50 rounds.\n",
      "Stopping. Best iteration:\n",
      "[166]\ttrain-merror:0.150440\tvalid-merror:0.227216\n",
      "\n",
      "Will train until valid error hasn't decreased in 50 rounds.\n",
      "Stopping. Best iteration:\n",
      "[164]\ttrain-merror:0.149092\tvalid-merror:0.240968\n",
      "\n",
      "Will train until valid error hasn't decreased in 50 rounds.\n",
      "Stopping. Best iteration:\n",
      "[282]\ttrain-merror:0.114788\tvalid-merror:0.224631\n",
      "\n"
     ]
    },
    {
     "name": "stdout",
     "output_type": "stream",
     "text": [
      "Accuracy: 0.7640 +/- 0.0043\n",
      "Starting training 158 params of 324\n"
     ]
    },
    {
     "name": "stderr",
     "output_type": "stream",
     "text": [
      "Will train until valid error hasn't decreased in 50 rounds.\n",
      "Stopping. Best iteration:\n",
      "[401]\ttrain-merror:0.142508\tvalid-merror:0.229101\n",
      "\n",
      "Will train until valid error hasn't decreased in 50 rounds.\n",
      "Stopping. Best iteration:\n",
      "[424]\ttrain-merror:0.142802\tvalid-merror:0.231930\n",
      "\n",
      "Will train until valid error hasn't decreased in 50 rounds.\n",
      "Stopping. Best iteration:\n",
      "[229]\ttrain-merror:0.177085\tvalid-merror:0.230358\n",
      "\n",
      "Will train until valid error hasn't decreased in 50 rounds.\n",
      "Stopping. Best iteration:\n",
      "[249]\ttrain-merror:0.171788\tvalid-merror:0.248508\n",
      "\n",
      "Will train until valid error hasn't decreased in 50 rounds.\n",
      "Stopping. Best iteration:\n",
      "[324]\ttrain-merror:0.156787\tvalid-merror:0.231857\n",
      "\n"
     ]
    },
    {
     "name": "stdout",
     "output_type": "stream",
     "text": [
      "Accuracy: 0.7582 +/- 0.0050\n",
      "Starting training 159 params of 324\n"
     ]
    },
    {
     "name": "stderr",
     "output_type": "stream",
     "text": [
      "Will train until valid error hasn't decreased in 50 rounds.\n",
      "Stopping. Best iteration:\n",
      "[615]\ttrain-merror:0.199441\tvalid-merror:0.247014\n",
      "\n",
      "Will train until valid error hasn't decreased in 50 rounds.\n",
      "Stopping. Best iteration:\n",
      "[378]\ttrain-merror:0.226584\tvalid-merror:0.262728\n",
      "\n",
      "Will train until valid error hasn't decreased in 50 rounds.\n",
      "Stopping. Best iteration:\n",
      "[544]\ttrain-merror:0.206034\tvalid-merror:0.247329\n",
      "\n",
      "Will train until valid error hasn't decreased in 50 rounds.\n",
      "Stopping. Best iteration:\n",
      "[463]\ttrain-merror:0.211906\tvalid-merror:0.262017\n",
      "\n",
      "Will train until valid error hasn't decreased in 50 rounds.\n",
      "Stopping. Best iteration:\n",
      "[570]\ttrain-merror:0.203254\tvalid-merror:0.255419\n",
      "\n"
     ]
    },
    {
     "name": "stdout",
     "output_type": "stream",
     "text": [
      "Accuracy: 0.7395 +/- 0.0057\n",
      "Starting training 160 params of 324\n"
     ]
    },
    {
     "name": "stderr",
     "output_type": "stream",
     "text": [
      "Will train until valid error hasn't decreased in 50 rounds.\n",
      "Stopping. Best iteration:\n",
      "[223]\ttrain-merror:0.073315\tvalid-merror:0.224701\n",
      "\n",
      "Will train until valid error hasn't decreased in 50 rounds.\n",
      "Stopping. Best iteration:\n",
      "[185]\ttrain-merror:0.088741\tvalid-merror:0.232244\n",
      "\n",
      "Will train until valid error hasn't decreased in 50 rounds.\n",
      "Stopping. Best iteration:\n",
      "[260]\ttrain-merror:0.064499\tvalid-merror:0.222816\n",
      "\n",
      "Will train until valid error hasn't decreased in 50 rounds.\n",
      "Stopping. Best iteration:\n",
      "[209]\ttrain-merror:0.078387\tvalid-merror:0.232171\n",
      "\n",
      "Will train until valid error hasn't decreased in 50 rounds.\n",
      "Stopping. Best iteration:\n",
      "[218]\ttrain-merror:0.076526\tvalid-merror:0.225259\n",
      "\n"
     ]
    },
    {
     "name": "stdout",
     "output_type": "stream",
     "text": [
      "Accuracy: 0.7665 +/- 0.0032\n",
      "Starting training 161 params of 324\n"
     ]
    },
    {
     "name": "stderr",
     "output_type": "stream",
     "text": [
      "Will train until valid error hasn't decreased in 50 rounds.\n",
      "Stopping. Best iteration:\n",
      "[202]\ttrain-merror:0.134125\tvalid-merror:0.229730\n",
      "\n",
      "Will train until valid error hasn't decreased in 50 rounds.\n",
      "Stopping. Best iteration:\n",
      "[232]\ttrain-merror:0.124677\tvalid-merror:0.237901\n",
      "\n",
      "Will train until valid error hasn't decreased in 50 rounds.\n",
      "Stopping. Best iteration:\n",
      "[240]\ttrain-merror:0.123551\tvalid-merror:0.227530\n",
      "\n",
      "Will train until valid error hasn't decreased in 50 rounds.\n",
      "Stopping. Best iteration:\n",
      "[243]\ttrain-merror:0.121404\tvalid-merror:0.233742\n",
      "\n",
      "Will train until valid error hasn't decreased in 50 rounds.\n",
      "Stopping. Best iteration:\n",
      "[187]\ttrain-merror:0.140169\tvalid-merror:0.236569\n",
      "\n"
     ]
    },
    {
     "name": "stdout",
     "output_type": "stream",
     "text": [
      "Accuracy: 0.7594 +/- 0.0013\n",
      "Starting training 162 params of 324\n"
     ]
    },
    {
     "name": "stderr",
     "output_type": "stream",
     "text": [
      "Will train until valid error hasn't decreased in 50 rounds.\n",
      "Stopping. Best iteration:\n",
      "[316]\ttrain-merror:0.188753\tvalid-merror:0.244815\n",
      "\n",
      "Will train until valid error hasn't decreased in 50 rounds.\n",
      "Stopping. Best iteration:\n",
      "[493]\ttrain-merror:0.157435\tvalid-merror:0.246700\n",
      "\n",
      "Will train until valid error hasn't decreased in 50 rounds.\n",
      "Stopping. Best iteration:\n",
      "[442]\ttrain-merror:0.165351\tvalid-merror:0.240415\n",
      "\n",
      "Will train until valid error hasn't decreased in 50 rounds.\n",
      "Stopping. Best iteration:\n",
      "[342]\ttrain-merror:0.180866\tvalid-merror:0.249450\n",
      "\n",
      "Will train until valid error hasn't decreased in 50 rounds.\n",
      "Stopping. Best iteration:\n",
      "[380]\ttrain-merror:0.175185\tvalid-merror:0.249136\n",
      "\n"
     ]
    },
    {
     "name": "stdout",
     "output_type": "stream",
     "text": [
      "Accuracy: 0.7473 +/- 0.0071\n",
      "Starting training 163 params of 324\n"
     ]
    },
    {
     "name": "stderr",
     "output_type": "stream",
     "text": [
      "Will train until valid error hasn't decreased in 50 rounds.\n",
      "Stopping. Best iteration:\n",
      "[62]\ttrain-merror:0.089242\tvalid-merror:0.234758\n",
      "\n",
      "Will train until valid error hasn't decreased in 50 rounds.\n",
      "Stopping. Best iteration:\n",
      "[166]\ttrain-merror:0.033003\tvalid-merror:0.227216\n",
      "\n",
      "Will train until valid error hasn't decreased in 50 rounds.\n",
      "Stopping. Best iteration:\n",
      "[129]\ttrain-merror:0.045118\tvalid-merror:0.228787\n",
      "\n",
      "Will train until valid error hasn't decreased in 50 rounds.\n",
      "Stopping. Best iteration:\n",
      "[103]\ttrain-merror:0.057647\tvalid-merror:0.229343\n",
      "\n",
      "Will train until valid error hasn't decreased in 50 rounds.\n",
      "Stopping. Best iteration:\n",
      "[109]\ttrain-merror:0.055649\tvalid-merror:0.235627\n",
      "\n"
     ]
    },
    {
     "name": "stdout",
     "output_type": "stream",
     "text": [
      "Accuracy: 0.7616 +/- 0.0049\n",
      "Starting training 164 params of 324\n"
     ]
    },
    {
     "name": "stderr",
     "output_type": "stream",
     "text": [
      "Will train until valid error hasn't decreased in 50 rounds.\n",
      "Stopping. Best iteration:\n",
      "[163]\ttrain-merror:0.075725\tvalid-merror:0.229101\n",
      "\n",
      "Will train until valid error hasn't decreased in 50 rounds.\n",
      "Stopping. Best iteration:\n",
      "[196]\ttrain-merror:0.065482\tvalid-merror:0.231615\n",
      "\n",
      "Will train until valid error hasn't decreased in 50 rounds.\n",
      "Stopping. Best iteration:\n",
      "[168]\ttrain-merror:0.073090\tvalid-merror:0.226273\n",
      "\n",
      "Will train until valid error hasn't decreased in 50 rounds.\n",
      "Stopping. Best iteration:\n",
      "[140]\ttrain-merror:0.085719\tvalid-merror:0.235941\n",
      "\n",
      "Will train until valid error hasn't decreased in 50 rounds.\n",
      "Stopping. Best iteration:\n",
      "[139]\ttrain-merror:0.087732\tvalid-merror:0.235941\n",
      "\n"
     ]
    },
    {
     "name": "stdout",
     "output_type": "stream",
     "text": [
      "Accuracy: 0.7613 +/- 0.0028\n",
      "Starting training 165 params of 324\n"
     ]
    },
    {
     "name": "stderr",
     "output_type": "stream",
     "text": [
      "Will train until valid error hasn't decreased in 50 rounds.\n",
      "Stopping. Best iteration:\n",
      "[301]\ttrain-merror:0.110269\tvalid-merror:0.232872\n",
      "\n",
      "Will train until valid error hasn't decreased in 50 rounds.\n",
      "Stopping. Best iteration:\n",
      "[217]\ttrain-merror:0.138402\tvalid-merror:0.243243\n",
      "\n",
      "Will train until valid error hasn't decreased in 50 rounds.\n",
      "Stopping. Best iteration:\n",
      "[345]\ttrain-merror:0.100747\tvalid-merror:0.230044\n",
      "\n",
      "Will train until valid error hasn't decreased in 50 rounds.\n",
      "Stopping. Best iteration:\n",
      "[278]\ttrain-merror:0.115957\tvalid-merror:0.243795\n",
      "\n",
      "Will train until valid error hasn't decreased in 50 rounds.\n",
      "Stopping. Best iteration:\n",
      "[272]\ttrain-merror:0.119536\tvalid-merror:0.237512\n",
      "\n"
     ]
    },
    {
     "name": "stdout",
     "output_type": "stream",
     "text": [
      "Accuracy: 0.7582 +/- 0.0034\n",
      "Starting training 166 params of 324\n"
     ]
    },
    {
     "name": "stderr",
     "output_type": "stream",
     "text": [
      "Will train until valid error hasn't decreased in 50 rounds.\n",
      "Stopping. Best iteration:\n",
      "[106]\ttrain-merror:0.015089\tvalid-merror:0.224073\n",
      "\n",
      "Will train until valid error hasn't decreased in 50 rounds.\n",
      "Stopping. Best iteration:\n",
      "[84]\ttrain-merror:0.022351\tvalid-merror:0.232558\n",
      "\n",
      "Will train until valid error hasn't decreased in 50 rounds.\n",
      "Stopping. Best iteration:\n",
      "[123]\ttrain-merror:0.010756\tvalid-merror:0.225644\n",
      "\n",
      "Will train until valid error hasn't decreased in 50 rounds.\n",
      "Stopping. Best iteration:\n",
      "[119]\ttrain-merror:0.010929\tvalid-merror:0.237826\n",
      "\n",
      "Will train until valid error hasn't decreased in 50 rounds.\n",
      "Stopping. Best iteration:\n",
      "[63]\ttrain-merror:0.035644\tvalid-merror:0.230914\n",
      "\n"
     ]
    },
    {
     "name": "stdout",
     "output_type": "stream",
     "text": [
      "Accuracy: 0.7578 +/- 0.0035\n",
      "Starting training 167 params of 324\n"
     ]
    },
    {
     "name": "stderr",
     "output_type": "stream",
     "text": [
      "Will train until valid error hasn't decreased in 50 rounds.\n",
      "Stopping. Best iteration:\n",
      "[115]\ttrain-merror:0.040761\tvalid-merror:0.228473\n",
      "\n",
      "Will train until valid error hasn't decreased in 50 rounds.\n",
      "Stopping. Best iteration:\n",
      "[79]\ttrain-merror:0.065132\tvalid-merror:0.233815\n",
      "\n",
      "Will train until valid error hasn't decreased in 50 rounds.\n",
      "Stopping. Best iteration:\n",
      "[123]\ttrain-merror:0.036318\tvalid-merror:0.228787\n",
      "\n",
      "Will train until valid error hasn't decreased in 50 rounds.\n",
      "Stopping. Best iteration:\n",
      "[118]\ttrain-merror:0.039316\tvalid-merror:0.239711\n",
      "\n",
      "Will train until valid error hasn't decreased in 50 rounds.\n",
      "Stopping. Best iteration:\n",
      "[79]\ttrain-merror:0.066297\tvalid-merror:0.231228\n",
      "\n"
     ]
    },
    {
     "name": "stdout",
     "output_type": "stream",
     "text": [
      "Accuracy: 0.7601 +/- 0.0035\n",
      "Starting training 168 params of 324\n"
     ]
    },
    {
     "name": "stderr",
     "output_type": "stream",
     "text": [
      "Will train until valid error hasn't decreased in 50 rounds.\n",
      "Stopping. Best iteration:\n",
      "[186]\ttrain-merror:0.077611\tvalid-merror:0.227530\n",
      "\n",
      "Will train until valid error hasn't decreased in 50 rounds.\n",
      "Stopping. Best iteration:\n",
      "[129]\ttrain-merror:0.108123\tvalid-merror:0.232872\n",
      "\n",
      "Will train until valid error hasn't decreased in 50 rounds.\n",
      "Stopping. Best iteration:\n",
      "[164]\ttrain-merror:0.087058\tvalid-merror:0.221873\n",
      "\n",
      "Will train until valid error hasn't decreased in 50 rounds.\n",
      "Stopping. Best iteration:\n",
      "[198]\ttrain-merror:0.071962\tvalid-merror:0.235627\n",
      "\n",
      "Will train until valid error hasn't decreased in 50 rounds.\n",
      "Stopping. Best iteration:\n",
      "[140]\ttrain-merror:0.100580\tvalid-merror:0.229343\n",
      "\n"
     ]
    },
    {
     "name": "stdout",
     "output_type": "stream",
     "text": [
      "Accuracy: 0.7641 +/- 0.0020\n",
      "Starting training 169 params of 324\n"
     ]
    },
    {
     "name": "stderr",
     "output_type": "stream",
     "text": [
      "Will train until valid error hasn't decreased in 50 rounds.\n",
      "Stopping. Best iteration:\n",
      "[230]\ttrain-merror:0.129619\tvalid-merror:0.225959\n",
      "\n",
      "Will train until valid error hasn't decreased in 50 rounds.\n",
      "Stopping. Best iteration:\n",
      "[354]\ttrain-merror:0.104072\tvalid-merror:0.221873\n",
      "\n",
      "Will train until valid error hasn't decreased in 50 rounds.\n",
      "Stopping. Best iteration:\n",
      "[256]\ttrain-merror:0.123411\tvalid-merror:0.220616\n",
      "\n",
      "Will train until valid error hasn't decreased in 50 rounds.\n",
      "Stopping. Best iteration:\n",
      "[265]\ttrain-merror:0.120007\tvalid-merror:0.229972\n",
      "\n",
      "Will train until valid error hasn't decreased in 50 rounds.\n",
      "Stopping. Best iteration:\n",
      "[222]\ttrain-merror:0.130254\tvalid-merror:0.225888\n",
      "\n"
     ]
    },
    {
     "name": "stdout",
     "output_type": "stream",
     "text": [
      "Accuracy: 0.7689 +/- 0.0052\n",
      "Starting training 170 params of 324\n"
     ]
    },
    {
     "name": "stderr",
     "output_type": "stream",
     "text": [
      "Will train until valid error hasn't decreased in 50 rounds.\n",
      "Stopping. Best iteration:\n",
      "[372]\ttrain-merror:0.147188\tvalid-merror:0.227530\n",
      "\n",
      "Will train until valid error hasn't decreased in 50 rounds.\n",
      "Stopping. Best iteration:\n",
      "[518]\ttrain-merror:0.130719\tvalid-merror:0.228787\n",
      "\n",
      "Will train until valid error hasn't decreased in 50 rounds.\n",
      "Stopping. Best iteration:\n",
      "[514]\ttrain-merror:0.132386\tvalid-merror:0.219359\n",
      "\n",
      "Will train until valid error hasn't decreased in 50 rounds.\n",
      "Stopping. Best iteration:\n",
      "[421]\ttrain-merror:0.141306\tvalid-merror:0.240025\n",
      "\n",
      "Will train until valid error hasn't decreased in 50 rounds.\n",
      "Stopping. Best iteration:\n",
      "[299]\ttrain-merror:0.161116\tvalid-merror:0.231857\n",
      "\n"
     ]
    },
    {
     "name": "stdout",
     "output_type": "stream",
     "text": [
      "Accuracy: 0.7681 +/- 0.0038\n",
      "Starting training 171 params of 324\n"
     ]
    },
    {
     "name": "stderr",
     "output_type": "stream",
     "text": [
      "Will train until valid error hasn't decreased in 50 rounds.\n",
      "Stopping. Best iteration:\n",
      "[848]\ttrain-merror:0.180964\tvalid-merror:0.232872\n",
      "\n",
      "Will train until valid error hasn't decreased in 50 rounds.\n",
      "Stopping. Best iteration:\n",
      "[399]\ttrain-merror:0.220437\tvalid-merror:0.258957\n",
      "\n",
      "Will train until valid error hasn't decreased in 50 rounds.\n",
      "Stopping. Best iteration:\n",
      "[441]\ttrain-merror:0.213682\tvalid-merror:0.249843\n",
      "\n",
      "Will train until valid error hasn't decreased in 50 rounds.\n",
      "Stopping. Best iteration:\n",
      "[218]\ttrain-merror:0.245077\tvalid-merror:0.271442\n",
      "\n",
      "Will train until valid error hasn't decreased in 50 rounds.\n",
      "Stopping. Best iteration:\n",
      "[291]\ttrain-merror:0.232649\tvalid-merror:0.266415\n",
      "\n"
     ]
    },
    {
     "name": "stdout",
     "output_type": "stream",
     "text": [
      "Accuracy: 0.7349 +/- 0.0118\n",
      "Starting training 172 params of 324\n"
     ]
    },
    {
     "name": "stderr",
     "output_type": "stream",
     "text": [
      "Will train until valid error hasn't decreased in 50 rounds.\n",
      "Stopping. Best iteration:\n",
      "[361]\ttrain-merror:0.048550\tvalid-merror:0.215902\n",
      "\n",
      "Will train until valid error hasn't decreased in 50 rounds.\n",
      "Stopping. Best iteration:\n",
      "[337]\ttrain-merror:0.054097\tvalid-merror:0.219987\n",
      "\n",
      "Will train until valid error hasn't decreased in 50 rounds.\n",
      "Stopping. Best iteration:\n",
      "[272]\ttrain-merror:0.065512\tvalid-merror:0.220930\n",
      "\n",
      "Will train until valid error hasn't decreased in 50 rounds.\n",
      "Stopping. Best iteration:\n",
      "[232]\ttrain-merror:0.073534\tvalid-merror:0.230600\n",
      "\n",
      "Will train until valid error hasn't decreased in 50 rounds.\n",
      "Stopping. Best iteration:\n",
      "[185]\ttrain-merror:0.088046\tvalid-merror:0.228087\n",
      "\n"
     ]
    },
    {
     "name": "stdout",
     "output_type": "stream",
     "text": [
      "Accuracy: 0.7713 +/- 0.0052\n",
      "Starting training 173 params of 324\n"
     ]
    },
    {
     "name": "stderr",
     "output_type": "stream",
     "text": [
      "Will train until valid error hasn't decreased in 50 rounds.\n",
      "Stopping. Best iteration:\n",
      "[405]\ttrain-merror:0.090884\tvalid-merror:0.220302\n",
      "\n",
      "Will train until valid error hasn't decreased in 50 rounds.\n",
      "Stopping. Best iteration:\n",
      "[249]\ttrain-merror:0.121918\tvalid-merror:0.227216\n",
      "\n",
      "Will train until valid error hasn't decreased in 50 rounds.\n",
      "Stopping. Best iteration:\n",
      "[235]\ttrain-merror:0.125821\tvalid-merror:0.225644\n",
      "\n",
      "Will train until valid error hasn't decreased in 50 rounds.\n",
      "Stopping. Best iteration:\n",
      "[274]\ttrain-merror:0.115503\tvalid-merror:0.234998\n",
      "\n",
      "Will train until valid error hasn't decreased in 50 rounds.\n",
      "Stopping. Best iteration:\n",
      "[273]\ttrain-merror:0.117721\tvalid-merror:0.227773\n",
      "\n"
     ]
    },
    {
     "name": "stdout",
     "output_type": "stream",
     "text": [
      "Accuracy: 0.7654 +/- 0.0024\n",
      "Starting training 174 params of 324\n"
     ]
    },
    {
     "name": "stderr",
     "output_type": "stream",
     "text": [
      "Will train until valid error hasn't decreased in 50 rounds.\n",
      "Stopping. Best iteration:\n",
      "[670]\ttrain-merror:0.141739\tvalid-merror:0.228473\n",
      "\n",
      "Will train until valid error hasn't decreased in 50 rounds.\n",
      "Stopping. Best iteration:\n",
      "[377]\ttrain-merror:0.179297\tvalid-merror:0.246386\n",
      "\n",
      "Will train until valid error hasn't decreased in 50 rounds.\n",
      "Stopping. Best iteration:\n",
      "[572]\ttrain-merror:0.152570\tvalid-merror:0.231930\n",
      "\n",
      "Will train until valid error hasn't decreased in 50 rounds.\n",
      "Stopping. Best iteration:\n",
      "[340]\ttrain-merror:0.180656\tvalid-merror:0.253849\n",
      "\n",
      "Will train until valid error hasn't decreased in 50 rounds.\n",
      "Stopping. Best iteration:\n",
      "[576]\ttrain-merror:0.151061\tvalid-merror:0.239397\n",
      "\n"
     ]
    },
    {
     "name": "stdout",
     "output_type": "stream",
     "text": [
      "Accuracy: 0.7550 +/- 0.0063\n",
      "Starting training 175 params of 324\n"
     ]
    },
    {
     "name": "stderr",
     "output_type": "stream",
     "text": [
      "Will train until valid error hasn't decreased in 50 rounds.\n",
      "Stopping. Best iteration:\n",
      "[238]\ttrain-merror:0.019211\tvalid-merror:0.217159\n",
      "\n",
      "Will train until valid error hasn't decreased in 50 rounds.\n",
      "Stopping. Best iteration:\n",
      "[148]\ttrain-merror:0.039010\tvalid-merror:0.227844\n",
      "\n",
      "Will train until valid error hasn't decreased in 50 rounds.\n",
      "Stopping. Best iteration:\n",
      "[167]\ttrain-merror:0.033489\tvalid-merror:0.229730\n",
      "\n",
      "Will train until valid error hasn't decreased in 50 rounds.\n",
      "Stopping. Best iteration:\n",
      "[75]\ttrain-merror:0.073848\tvalid-merror:0.229343\n",
      "\n",
      "Will train until valid error hasn't decreased in 50 rounds.\n",
      "Stopping. Best iteration:\n",
      "[119]\ttrain-merror:0.051320\tvalid-merror:0.225888\n",
      "\n"
     ]
    },
    {
     "name": "stdout",
     "output_type": "stream",
     "text": [
      "Accuracy: 0.7650 +/- 0.0061\n",
      "Starting training 176 params of 324\n"
     ]
    },
    {
     "name": "stderr",
     "output_type": "stream",
     "text": [
      "Will train until valid error hasn't decreased in 50 rounds.\n",
      "Stopping. Best iteration:\n",
      "[362]\ttrain-merror:0.031575\tvalid-merror:0.219987\n",
      "\n",
      "Will train until valid error hasn't decreased in 50 rounds.\n",
      "Stopping. Best iteration:\n",
      "[164]\ttrain-merror:0.080010\tvalid-merror:0.231301\n",
      "\n",
      "Will train until valid error hasn't decreased in 50 rounds.\n",
      "Stopping. Best iteration:\n",
      "[175]\ttrain-merror:0.075080\tvalid-merror:0.224073\n",
      "\n",
      "Will train until valid error hasn't decreased in 50 rounds.\n",
      "Stopping. Best iteration:\n",
      "[226]\ttrain-merror:0.059462\tvalid-merror:0.233742\n",
      "\n",
      "Will train until valid error hasn't decreased in 50 rounds.\n",
      "Stopping. Best iteration:\n",
      "[152]\ttrain-merror:0.084974\tvalid-merror:0.229972\n",
      "\n"
     ]
    },
    {
     "name": "stdout",
     "output_type": "stream",
     "text": [
      "Accuracy: 0.7653 +/- 0.0015\n",
      "Starting training 177 params of 324\n"
     ]
    },
    {
     "name": "stderr",
     "output_type": "stream",
     "text": [
      "Will train until valid error hasn't decreased in 50 rounds.\n",
      "Stopping. Best iteration:\n",
      "[221]\ttrain-merror:0.138596\tvalid-merror:0.233815\n",
      "\n",
      "Will train until valid error hasn't decreased in 50 rounds.\n",
      "Stopping. Best iteration:\n",
      "[205]\ttrain-merror:0.146015\tvalid-merror:0.240415\n",
      "\n",
      "Will train until valid error hasn't decreased in 50 rounds.\n",
      "Stopping. Best iteration:\n",
      "[258]\ttrain-merror:0.125716\tvalid-merror:0.227844\n",
      "\n",
      "Will train until valid error hasn't decreased in 50 rounds.\n",
      "Stopping. Best iteration:\n",
      "[489]\ttrain-merror:0.078282\tvalid-merror:0.235941\n",
      "\n",
      "Will train until valid error hasn't decreased in 50 rounds.\n",
      "Stopping. Best iteration:\n",
      "[294]\ttrain-merror:0.118733\tvalid-merror:0.234056\n",
      "\n"
     ]
    },
    {
     "name": "stdout",
     "output_type": "stream",
     "text": [
      "Accuracy: 0.7604 +/- 0.0039\n",
      "Starting training 178 params of 324\n"
     ]
    },
    {
     "name": "stderr",
     "output_type": "stream",
     "text": [
      "Will train until valid error hasn't decreased in 50 rounds.\n",
      "Stopping. Best iteration:\n",
      "[130]\ttrain-merror:0.009535\tvalid-merror:0.226587\n",
      "\n",
      "Will train until valid error hasn't decreased in 50 rounds.\n",
      "Stopping. Best iteration:\n",
      "[154]\ttrain-merror:0.006915\tvalid-merror:0.232244\n",
      "\n",
      "Will train until valid error hasn't decreased in 50 rounds.\n",
      "Stopping. Best iteration:\n",
      "[94]\ttrain-merror:0.017146\tvalid-merror:0.224073\n",
      "\n",
      "Will train until valid error hasn't decreased in 50 rounds.\n",
      "Stopping. Best iteration:\n",
      "[152]\ttrain-merror:0.006704\tvalid-merror:0.232171\n",
      "\n",
      "Will train until valid error hasn't decreased in 50 rounds.\n",
      "Stopping. Best iteration:\n",
      "[77]\ttrain-merror:0.023949\tvalid-merror:0.225573\n",
      "\n"
     ]
    },
    {
     "name": "stdout",
     "output_type": "stream",
     "text": [
      "Accuracy: 0.7625 +/- 0.0058\n",
      "Starting training 179 params of 324\n"
     ]
    },
    {
     "name": "stderr",
     "output_type": "stream",
     "text": [
      "Will train until valid error hasn't decreased in 50 rounds.\n",
      "Stopping. Best iteration:\n",
      "[137]\ttrain-merror:0.031470\tvalid-merror:0.219673\n",
      "\n",
      "Will train until valid error hasn't decreased in 50 rounds.\n",
      "Stopping. Best iteration:\n",
      "[119]\ttrain-merror:0.039498\tvalid-merror:0.226273\n",
      "\n",
      "Will train until valid error hasn't decreased in 50 rounds.\n",
      "Stopping. Best iteration:\n",
      "[165]\ttrain-merror:0.022454\tvalid-merror:0.225016\n",
      "\n",
      "Will train until valid error hasn't decreased in 50 rounds.\n",
      "Stopping. Best iteration:\n",
      "[123]\ttrain-merror:0.036138\tvalid-merror:0.236569\n",
      "\n",
      "Will train until valid error hasn't decreased in 50 rounds.\n",
      "Stopping. Best iteration:\n",
      "[109]\ttrain-merror:0.043011\tvalid-merror:0.226202\n",
      "\n"
     ]
    },
    {
     "name": "stdout",
     "output_type": "stream",
     "text": [
      "Accuracy: 0.7660 +/- 0.0015\n",
      "Starting training 180 params of 324\n"
     ]
    },
    {
     "name": "stderr",
     "output_type": "stream",
     "text": [
      "Will train until valid error hasn't decreased in 50 rounds.\n",
      "Stopping. Best iteration:\n",
      "[231]\ttrain-merror:0.059064\tvalid-merror:0.222502\n",
      "\n",
      "Will train until valid error hasn't decreased in 50 rounds.\n",
      "Stopping. Best iteration:\n",
      "[188]\ttrain-merror:0.075609\tvalid-merror:0.233187\n",
      "\n",
      "Will train until valid error hasn't decreased in 50 rounds.\n",
      "Stopping. Best iteration:\n",
      "[155]\ttrain-merror:0.088385\tvalid-merror:0.220616\n",
      "\n",
      "Will train until valid error hasn't decreased in 50 rounds.\n",
      "Stopping. Best iteration:\n",
      "[249]\ttrain-merror:0.053247\tvalid-merror:0.230286\n",
      "\n",
      "Will train until valid error hasn't decreased in 50 rounds.\n",
      "Stopping. Best iteration:\n",
      "[167]\ttrain-merror:0.083543\tvalid-merror:0.228087\n",
      "\n"
     ]
    },
    {
     "name": "stdout",
     "output_type": "stream",
     "text": [
      "Accuracy: 0.7683 +/- 0.0023\n",
      "Starting training 181 params of 324\n"
     ]
    },
    {
     "name": "stderr",
     "output_type": "stream",
     "text": [
      "Will train until valid error hasn't decreased in 50 rounds.\n",
      "Stopping. Best iteration:\n",
      "[141]\ttrain-merror:0.164478\tvalid-merror:0.233815\n",
      "\n",
      "Will train until valid error hasn't decreased in 50 rounds.\n",
      "Stopping. Best iteration:\n",
      "[219]\ttrain-merror:0.137005\tvalid-merror:0.230673\n",
      "\n",
      "Will train until valid error hasn't decreased in 50 rounds.\n",
      "Stopping. Best iteration:\n",
      "[200]\ttrain-merror:0.140138\tvalid-merror:0.224073\n",
      "\n",
      "Will train until valid error hasn't decreased in 50 rounds.\n",
      "Stopping. Best iteration:\n",
      "[272]\ttrain-merror:0.119518\tvalid-merror:0.236255\n",
      "\n",
      "Will train until valid error hasn't decreased in 50 rounds.\n",
      "Stopping. Best iteration:\n",
      "[215]\ttrain-merror:0.136783\tvalid-merror:0.234684\n",
      "\n"
     ]
    },
    {
     "name": "stdout",
     "output_type": "stream",
     "text": [
      "Accuracy: 0.7597 +/- 0.0046\n",
      "Starting training 182 params of 324\n"
     ]
    },
    {
     "name": "stderr",
     "output_type": "stream",
     "text": [
      "Will train until valid error hasn't decreased in 50 rounds.\n",
      "Stopping. Best iteration:\n",
      "[327]\ttrain-merror:0.159378\tvalid-merror:0.233187\n",
      "\n",
      "Will train until valid error hasn't decreased in 50 rounds.\n",
      "Stopping. Best iteration:\n",
      "[198]\ttrain-merror:0.192009\tvalid-merror:0.244815\n",
      "\n",
      "Will train until valid error hasn't decreased in 50 rounds.\n",
      "Stopping. Best iteration:\n",
      "[283]\ttrain-merror:0.170066\tvalid-merror:0.236958\n",
      "\n",
      "Will train until valid error hasn't decreased in 50 rounds.\n",
      "Stopping. Best iteration:\n",
      "[249]\ttrain-merror:0.175454\tvalid-merror:0.252278\n",
      "\n",
      "Will train until valid error hasn't decreased in 50 rounds.\n",
      "Stopping. Best iteration:\n",
      "[285]\ttrain-merror:0.169041\tvalid-merror:0.237512\n",
      "\n"
     ]
    },
    {
     "name": "stdout",
     "output_type": "stream",
     "text": [
      "Accuracy: 0.7519 +/- 0.0057\n",
      "Starting training 183 params of 324\n"
     ]
    },
    {
     "name": "stderr",
     "output_type": "stream",
     "text": [
      "Will train until valid error hasn't decreased in 50 rounds.\n",
      "Stopping. Best iteration:\n",
      "[756]\ttrain-merror:0.191897\tvalid-merror:0.251414\n",
      "\n",
      "Will train until valid error hasn't decreased in 50 rounds.\n",
      "Stopping. Best iteration:\n",
      "[377]\ttrain-merror:0.231089\tvalid-merror:0.265242\n",
      "\n",
      "Will train until valid error hasn't decreased in 50 rounds.\n",
      "Stopping. Best iteration:\n",
      "[575]\ttrain-merror:0.209247\tvalid-merror:0.254557\n",
      "\n",
      "Will train until valid error hasn't decreased in 50 rounds.\n",
      "Stopping. Best iteration:\n",
      "[626]\ttrain-merror:0.201641\tvalid-merror:0.262645\n",
      "\n",
      "Will train until valid error hasn't decreased in 50 rounds.\n",
      "Stopping. Best iteration:\n",
      "[372]\ttrain-merror:0.232160\tvalid-merror:0.268615\n",
      "\n"
     ]
    },
    {
     "name": "stdout",
     "output_type": "stream",
     "text": [
      "Accuracy: 0.7328 +/- 0.0054\n",
      "Starting training 184 params of 324\n"
     ]
    },
    {
     "name": "stderr",
     "output_type": "stream",
     "text": [
      "Will train until valid error hasn't decreased in 50 rounds.\n",
      "Stopping. Best iteration:\n",
      "[136]\ttrain-merror:0.112679\tvalid-merror:0.230987\n",
      "\n",
      "Will train until valid error hasn't decreased in 50 rounds.\n",
      "Stopping. Best iteration:\n",
      "[211]\ttrain-merror:0.081791\tvalid-merror:0.231930\n",
      "\n",
      "Will train until valid error hasn't decreased in 50 rounds.\n",
      "Stopping. Best iteration:\n",
      "[268]\ttrain-merror:0.063871\tvalid-merror:0.228158\n",
      "\n",
      "Will train until valid error hasn't decreased in 50 rounds.\n",
      "Stopping. Best iteration:\n",
      "[168]\ttrain-merror:0.096962\tvalid-merror:0.237512\n",
      "\n",
      "Will train until valid error hasn't decreased in 50 rounds.\n",
      "Stopping. Best iteration:\n",
      "[242]\ttrain-merror:0.072965\tvalid-merror:0.228715\n",
      "\n"
     ]
    },
    {
     "name": "stdout",
     "output_type": "stream",
     "text": [
      "Accuracy: 0.7599 +/- 0.0038\n",
      "Starting training 185 params of 324\n"
     ]
    },
    {
     "name": "stderr",
     "output_type": "stream",
     "text": [
      "Will train until valid error hasn't decreased in 50 rounds.\n",
      "Stopping. Best iteration:\n",
      "[160]\ttrain-merror:0.155606\tvalid-merror:0.235701\n",
      "\n",
      "Will train until valid error hasn't decreased in 50 rounds.\n",
      "Stopping. Best iteration:\n",
      "[313]\ttrain-merror:0.104247\tvalid-merror:0.240415\n",
      "\n",
      "Will train until valid error hasn't decreased in 50 rounds.\n",
      "Stopping. Best iteration:\n",
      "[171]\ttrain-merror:0.148380\tvalid-merror:0.238215\n",
      "\n",
      "Will train until valid error hasn't decreased in 50 rounds.\n",
      "Stopping. Best iteration:\n",
      "[153]\ttrain-merror:0.155936\tvalid-merror:0.254791\n",
      "\n",
      "Will train until valid error hasn't decreased in 50 rounds.\n",
      "Stopping. Best iteration:\n",
      "[189]\ttrain-merror:0.140937\tvalid-merror:0.243481\n",
      "\n"
     ]
    },
    {
     "name": "stdout",
     "output_type": "stream",
     "text": [
      "Accuracy: 0.7533 +/- 0.0048\n",
      "Starting training 186 params of 324\n"
     ]
    },
    {
     "name": "stderr",
     "output_type": "stream",
     "text": [
      "Will train until valid error hasn't decreased in 50 rounds.\n",
      "Stopping. Best iteration:\n",
      "[459]\ttrain-merror:0.165945\tvalid-merror:0.244186\n",
      "\n",
      "Will train until valid error hasn't decreased in 50 rounds.\n",
      "Stopping. Best iteration:\n",
      "[257]\ttrain-merror:0.204303\tvalid-merror:0.257385\n",
      "\n",
      "Will train until valid error hasn't decreased in 50 rounds.\n",
      "Stopping. Best iteration:\n",
      "[634]\ttrain-merror:0.142373\tvalid-merror:0.239158\n",
      "\n",
      "Will train until valid error hasn't decreased in 50 rounds.\n",
      "Stopping. Best iteration:\n",
      "[484]\ttrain-merror:0.159497\tvalid-merror:0.253849\n",
      "\n",
      "Will train until valid error hasn't decreased in 50 rounds.\n",
      "Stopping. Best iteration:\n",
      "[331]\ttrain-merror:0.189568\tvalid-merror:0.255419\n",
      "\n"
     ]
    },
    {
     "name": "stdout",
     "output_type": "stream",
     "text": [
      "Accuracy: 0.7418 +/- 0.0050\n",
      "Starting training 187 params of 324\n"
     ]
    },
    {
     "name": "stderr",
     "output_type": "stream",
     "text": [
      "Will train until valid error hasn't decreased in 50 rounds.\n",
      "Stopping. Best iteration:\n",
      "[100]\ttrain-merror:0.063325\tvalid-merror:0.239472\n",
      "\n",
      "Will train until valid error hasn't decreased in 50 rounds.\n",
      "Stopping. Best iteration:\n",
      "[158]\ttrain-merror:0.037194\tvalid-merror:0.241672\n",
      "\n",
      "Will train until valid error hasn't decreased in 50 rounds.\n",
      "Stopping. Best iteration:\n",
      "[187]\ttrain-merror:0.027099\tvalid-merror:0.233187\n",
      "\n",
      "Will train until valid error hasn't decreased in 50 rounds.\n",
      "Stopping. Best iteration:\n",
      "[74]\ttrain-merror:0.084008\tvalid-merror:0.243167\n",
      "\n",
      "Will train until valid error hasn't decreased in 50 rounds.\n",
      "Stopping. Best iteration:\n",
      "[62]\ttrain-merror:0.097263\tvalid-merror:0.240025\n",
      "\n"
     ]
    },
    {
     "name": "stdout",
     "output_type": "stream",
     "text": [
      "Accuracy: 0.7534 +/- 0.0030\n",
      "Starting training 188 params of 324\n"
     ]
    },
    {
     "name": "stderr",
     "output_type": "stream",
     "text": [
      "Will train until valid error hasn't decreased in 50 rounds.\n",
      "Stopping. Best iteration:\n",
      "[237]\ttrain-merror:0.051799\tvalid-merror:0.238215\n",
      "\n",
      "Will train until valid error hasn't decreased in 50 rounds.\n",
      "Stopping. Best iteration:\n",
      "[179]\ttrain-merror:0.072466\tvalid-merror:0.236644\n",
      "\n",
      "Will train until valid error hasn't decreased in 50 rounds.\n",
      "Stopping. Best iteration:\n",
      "[104]\ttrain-merror:0.113040\tvalid-merror:0.233187\n",
      "\n",
      "Will train until valid error hasn't decreased in 50 rounds.\n",
      "Stopping. Best iteration:\n",
      "[122]\ttrain-merror:0.099476\tvalid-merror:0.242538\n",
      "\n",
      "Will train until valid error hasn't decreased in 50 rounds.\n",
      "Stopping. Best iteration:\n",
      "[187]\ttrain-merror:0.067274\tvalid-merror:0.235313\n",
      "\n"
     ]
    },
    {
     "name": "stdout",
     "output_type": "stream",
     "text": [
      "Accuracy: 0.7522 +/- 0.0033\n",
      "Starting training 189 params of 324\n"
     ]
    },
    {
     "name": "stderr",
     "output_type": "stream",
     "text": [
      "Will train until valid error hasn't decreased in 50 rounds.\n",
      "Stopping. Best iteration:\n",
      "[312]\ttrain-merror:0.113622\tvalid-merror:0.235701\n",
      "\n",
      "Will train until valid error hasn't decreased in 50 rounds.\n",
      "Stopping. Best iteration:\n",
      "[266]\ttrain-merror:0.124572\tvalid-merror:0.242615\n",
      "\n",
      "Will train until valid error hasn't decreased in 50 rounds.\n",
      "Stopping. Best iteration:\n",
      "[165]\ttrain-merror:0.164897\tvalid-merror:0.245129\n",
      "\n",
      "Will train until valid error hasn't decreased in 50 rounds.\n",
      "Stopping. Best iteration:\n",
      "[367]\ttrain-merror:0.095635\tvalid-merror:0.240339\n",
      "\n",
      "Will train until valid error hasn't decreased in 50 rounds.\n",
      "Stopping. Best iteration:\n",
      "[308]\ttrain-merror:0.113916\tvalid-merror:0.242538\n",
      "\n"
     ]
    },
    {
     "name": "stdout",
     "output_type": "stream",
     "text": [
      "Accuracy: 0.7523 +/- 0.0035\n",
      "Starting training 190 params of 324\n"
     ]
    },
    {
     "name": "stderr",
     "output_type": "stream",
     "text": [
      "Will train until valid error hasn't decreased in 50 rounds.\n",
      "Stopping. Best iteration:\n",
      "[75]\ttrain-merror:0.029340\tvalid-merror:0.240729\n",
      "\n",
      "Will train until valid error hasn't decreased in 50 rounds.\n",
      "Stopping. Best iteration:\n",
      "[89]\ttrain-merror:0.023923\tvalid-merror:0.238844\n",
      "\n",
      "Will train until valid error hasn't decreased in 50 rounds.\n",
      "Stopping. Best iteration:\n",
      "[79]\ttrain-merror:0.026924\tvalid-merror:0.237586\n",
      "\n",
      "Will train until valid error hasn't decreased in 50 rounds.\n",
      "Stopping. Best iteration:\n",
      "[65]\ttrain-merror:0.037081\tvalid-merror:0.243795\n",
      "\n",
      "Will train until valid error hasn't decreased in 50 rounds.\n",
      "Stopping. Best iteration:\n",
      "[35]\ttrain-merror:0.079598\tvalid-merror:0.246309\n",
      "\n"
     ]
    },
    {
     "name": "stdout",
     "output_type": "stream",
     "text": [
      "Accuracy: 0.7490 +/- 0.0016\n",
      "Starting training 191 params of 324\n"
     ]
    },
    {
     "name": "stderr",
     "output_type": "stream",
     "text": [
      "Will train until valid error hasn't decreased in 50 rounds.\n",
      "Stopping. Best iteration:\n",
      "[151]\ttrain-merror:0.030772\tvalid-merror:0.231930\n",
      "\n",
      "Will train until valid error hasn't decreased in 50 rounds.\n",
      "Stopping. Best iteration:\n",
      "[75]\ttrain-merror:0.076587\tvalid-merror:0.238215\n",
      "\n",
      "Will train until valid error hasn't decreased in 50 rounds.\n",
      "Stopping. Best iteration:\n",
      "[59]\ttrain-merror:0.094112\tvalid-merror:0.240415\n",
      "\n",
      "Will train until valid error hasn't decreased in 50 rounds.\n",
      "Stopping. Best iteration:\n",
      "[100]\ttrain-merror:0.054434\tvalid-merror:0.240968\n",
      "\n",
      "Will train until valid error hasn't decreased in 50 rounds.\n",
      "Stopping. Best iteration:\n",
      "[92]\ttrain-merror:0.061095\tvalid-merror:0.241910\n",
      "\n"
     ]
    },
    {
     "name": "stdout",
     "output_type": "stream",
     "text": [
      "Accuracy: 0.7534 +/- 0.0039\n",
      "Starting training 192 params of 324\n"
     ]
    },
    {
     "name": "stderr",
     "output_type": "stream",
     "text": [
      "Will train until valid error hasn't decreased in 50 rounds.\n",
      "Stopping. Best iteration:\n",
      "[312]\ttrain-merror:0.048655\tvalid-merror:0.227844\n",
      "\n",
      "Will train until valid error hasn't decreased in 50 rounds.\n",
      "Stopping. Best iteration:\n",
      "[113]\ttrain-merror:0.129461\tvalid-merror:0.240101\n",
      "\n",
      "Will train until valid error hasn't decreased in 50 rounds.\n",
      "Stopping. Best iteration:\n",
      "[283]\ttrain-merror:0.054093\tvalid-merror:0.229415\n",
      "\n",
      "Will train until valid error hasn't decreased in 50 rounds.\n",
      "Stopping. Best iteration:\n",
      "[163]\ttrain-merror:0.096892\tvalid-merror:0.238768\n",
      "\n",
      "Will train until valid error hasn't decreased in 50 rounds.\n",
      "Stopping. Best iteration:\n",
      "[228]\ttrain-merror:0.070975\tvalid-merror:0.234998\n",
      "\n"
     ]
    },
    {
     "name": "stdout",
     "output_type": "stream",
     "text": [
      "Accuracy: 0.7586 +/- 0.0046\n",
      "Starting training 193 params of 324\n"
     ]
    },
    {
     "name": "stderr",
     "output_type": "stream",
     "text": [
      "Will train until valid error hasn't decreased in 50 rounds.\n",
      "Stopping. Best iteration:\n",
      "[324]\ttrain-merror:0.103039\tvalid-merror:0.225016\n",
      "\n",
      "Will train until valid error hasn't decreased in 50 rounds.\n",
      "Stopping. Best iteration:\n",
      "[182]\ttrain-merror:0.141894\tvalid-merror:0.230358\n",
      "\n",
      "Will train until valid error hasn't decreased in 50 rounds.\n",
      "Stopping. Best iteration:\n",
      "[151]\ttrain-merror:0.152570\tvalid-merror:0.229730\n",
      "\n",
      "Will train until valid error hasn't decreased in 50 rounds.\n",
      "Stopping. Best iteration:\n",
      "[236]\ttrain-merror:0.122940\tvalid-merror:0.233113\n",
      "\n",
      "Will train until valid error hasn't decreased in 50 rounds.\n",
      "Stopping. Best iteration:\n",
      "[386]\ttrain-merror:0.092550\tvalid-merror:0.227773\n",
      "\n"
     ]
    },
    {
     "name": "stdout",
     "output_type": "stream",
     "text": [
      "Accuracy: 0.7663 +/- 0.0042\n",
      "Starting training 194 params of 324\n"
     ]
    },
    {
     "name": "stderr",
     "output_type": "stream",
     "text": [
      "Will train until valid error hasn't decreased in 50 rounds.\n",
      "Stopping. Best iteration:\n",
      "[257]\ttrain-merror:0.168460\tvalid-merror:0.232872\n",
      "\n",
      "Will train until valid error hasn't decreased in 50 rounds.\n",
      "Stopping. Best iteration:\n",
      "[321]\ttrain-merror:0.154746\tvalid-merror:0.238215\n",
      "\n",
      "Will train until valid error hasn't decreased in 50 rounds.\n",
      "Stopping. Best iteration:\n",
      "[312]\ttrain-merror:0.156097\tvalid-merror:0.225644\n",
      "\n",
      "Will train until valid error hasn't decreased in 50 rounds.\n",
      "Stopping. Best iteration:\n",
      "[264]\ttrain-merror:0.167179\tvalid-merror:0.246623\n",
      "\n",
      "Will train until valid error hasn't decreased in 50 rounds.\n",
      "Stopping. Best iteration:\n",
      "[325]\ttrain-merror:0.153086\tvalid-merror:0.230600\n",
      "\n"
     ]
    },
    {
     "name": "stdout",
     "output_type": "stream",
     "text": [
      "Accuracy: 0.7570 +/- 0.0043\n",
      "Starting training 195 params of 324\n"
     ]
    },
    {
     "name": "stderr",
     "output_type": "stream",
     "text": [
      "Will train until valid error hasn't decreased in 50 rounds.\n",
      "Stopping. Best iteration:\n",
      "[563]\ttrain-merror:0.202166\tvalid-merror:0.248586\n",
      "\n",
      "Will train until valid error hasn't decreased in 50 rounds.\n",
      "Stopping. Best iteration:\n",
      "[628]\ttrain-merror:0.194489\tvalid-merror:0.252357\n",
      "\n",
      "Will train until valid error hasn't decreased in 50 rounds.\n",
      "Stopping. Best iteration:\n",
      "[552]\ttrain-merror:0.203695\tvalid-merror:0.250471\n",
      "\n",
      "Will train until valid error hasn't decreased in 50 rounds.\n",
      "Stopping. Best iteration:\n",
      "[513]\ttrain-merror:0.205028\tvalid-merror:0.259818\n",
      "\n",
      "Will train until valid error hasn't decreased in 50 rounds.\n",
      "Stopping. Best iteration:\n",
      "[307]\ttrain-merror:0.234674\tvalid-merror:0.268300\n",
      "\n"
     ]
    },
    {
     "name": "stdout",
     "output_type": "stream",
     "text": [
      "Accuracy: 0.7381 +/- 0.0066\n",
      "Starting training 196 params of 324\n"
     ]
    },
    {
     "name": "stderr",
     "output_type": "stream",
     "text": [
      "Will train until valid error hasn't decreased in 50 rounds.\n",
      "Stopping. Best iteration:\n",
      "[177]\ttrain-merror:0.083654\tvalid-merror:0.227530\n",
      "\n",
      "Will train until valid error hasn't decreased in 50 rounds.\n",
      "Stopping. Best iteration:\n",
      "[154]\ttrain-merror:0.095202\tvalid-merror:0.234444\n",
      "\n",
      "Will train until valid error hasn't decreased in 50 rounds.\n",
      "Stopping. Best iteration:\n",
      "[150]\ttrain-merror:0.094950\tvalid-merror:0.230358\n",
      "\n",
      "Will train until valid error hasn't decreased in 50 rounds.\n",
      "Stopping. Best iteration:\n",
      "[141]\ttrain-merror:0.097835\tvalid-merror:0.238140\n",
      "\n",
      "Will train until valid error hasn't decreased in 50 rounds.\n",
      "Stopping. Best iteration:\n",
      "[149]\ttrain-merror:0.096635\tvalid-merror:0.232171\n",
      "\n"
     ]
    },
    {
     "name": "stdout",
     "output_type": "stream",
     "text": [
      "Accuracy: 0.7653 +/- 0.0040\n",
      "Starting training 197 params of 324\n"
     ]
    },
    {
     "name": "stderr",
     "output_type": "stream",
     "text": [
      "Will train until valid error hasn't decreased in 50 rounds.\n",
      "Stopping. Best iteration:\n",
      "[323]\ttrain-merror:0.094132\tvalid-merror:0.230987\n",
      "\n",
      "Will train until valid error hasn't decreased in 50 rounds.\n",
      "Stopping. Best iteration:\n",
      "[158]\ttrain-merror:0.146399\tvalid-merror:0.242300\n",
      "\n",
      "Will train until valid error hasn't decreased in 50 rounds.\n",
      "Stopping. Best iteration:\n",
      "[265]\ttrain-merror:0.109792\tvalid-merror:0.231930\n",
      "\n",
      "Will train until valid error hasn't decreased in 50 rounds.\n",
      "Stopping. Best iteration:\n",
      "[124]\ttrain-merror:0.161941\tvalid-merror:0.251649\n",
      "\n",
      "Will train until valid error hasn't decreased in 50 rounds.\n",
      "Stopping. Best iteration:\n",
      "[165]\ttrain-merror:0.144254\tvalid-merror:0.232171\n",
      "\n"
     ]
    },
    {
     "name": "stdout",
     "output_type": "stream",
     "text": [
      "Accuracy: 0.7576 +/- 0.0072\n",
      "Starting training 198 params of 324\n"
     ]
    },
    {
     "name": "stderr",
     "output_type": "stream",
     "text": [
      "Will train until valid error hasn't decreased in 50 rounds.\n",
      "Stopping. Best iteration:\n",
      "[368]\ttrain-merror:0.174048\tvalid-merror:0.242615\n",
      "\n",
      "Will train until valid error hasn't decreased in 50 rounds.\n",
      "Stopping. Best iteration:\n",
      "[502]\ttrain-merror:0.151044\tvalid-merror:0.245129\n",
      "\n",
      "Will train until valid error hasn't decreased in 50 rounds.\n",
      "Stopping. Best iteration:\n",
      "[545]\ttrain-merror:0.144189\tvalid-merror:0.237272\n",
      "\n",
      "Will train until valid error hasn't decreased in 50 rounds.\n",
      "Stopping. Best iteration:\n",
      "[349]\ttrain-merror:0.173813\tvalid-merror:0.252592\n",
      "\n",
      "Will train until valid error hasn't decreased in 50 rounds.\n",
      "Stopping. Best iteration:\n",
      "[485]\ttrain-merror:0.152562\tvalid-merror:0.241596\n",
      "\n"
     ]
    },
    {
     "name": "stdout",
     "output_type": "stream",
     "text": [
      "Accuracy: 0.7503 +/- 0.0068\n",
      "Starting training 199 params of 324\n"
     ]
    },
    {
     "name": "stderr",
     "output_type": "stream",
     "text": [
      "Will train until valid error hasn't decreased in 50 rounds.\n",
      "Stopping. Best iteration:\n",
      "[162]\ttrain-merror:0.028397\tvalid-merror:0.229730\n",
      "\n",
      "Will train until valid error hasn't decreased in 50 rounds.\n",
      "Stopping. Best iteration:\n",
      "[217]\ttrain-merror:0.018579\tvalid-merror:0.232244\n",
      "\n",
      "Will train until valid error hasn't decreased in 50 rounds.\n",
      "Stopping. Best iteration:\n",
      "[117]\ttrain-merror:0.045607\tvalid-merror:0.225330\n",
      "\n",
      "Will train until valid error hasn't decreased in 50 rounds.\n",
      "Stopping. Best iteration:\n",
      "[135]\ttrain-merror:0.037256\tvalid-merror:0.235941\n",
      "\n",
      "Will train until valid error hasn't decreased in 50 rounds.\n",
      "Stopping. Best iteration:\n",
      "[129]\ttrain-merror:0.040916\tvalid-merror:0.234370\n",
      "\n"
     ]
    },
    {
     "name": "stdout",
     "output_type": "stream",
     "text": [
      "Accuracy: 0.7599 +/- 0.0032\n",
      "Starting training 200 params of 324\n"
     ]
    },
    {
     "name": "stderr",
     "output_type": "stream",
     "text": [
      "Will train until valid error hasn't decreased in 50 rounds.\n",
      "Stopping. Best iteration:\n",
      "[156]\ttrain-merror:0.070940\tvalid-merror:0.230044\n",
      "\n",
      "Will train until valid error hasn't decreased in 50 rounds.\n",
      "Stopping. Best iteration:\n",
      "[227]\ttrain-merror:0.046029\tvalid-merror:0.234444\n",
      "\n",
      "Will train until valid error hasn't decreased in 50 rounds.\n",
      "Stopping. Best iteration:\n",
      "[217]\ttrain-merror:0.047283\tvalid-merror:0.226901\n",
      "\n",
      "Will train until valid error hasn't decreased in 50 rounds.\n",
      "Stopping. Best iteration:\n",
      "[113]\ttrain-merror:0.093855\tvalid-merror:0.243795\n",
      "\n",
      "Will train until valid error hasn't decreased in 50 rounds.\n",
      "Stopping. Best iteration:\n",
      "[139]\ttrain-merror:0.079353\tvalid-merror:0.235313\n",
      "\n"
     ]
    },
    {
     "name": "stdout",
     "output_type": "stream",
     "text": [
      "Accuracy: 0.7580 +/- 0.0038\n",
      "Starting training 201 params of 324\n"
     ]
    },
    {
     "name": "stderr",
     "output_type": "stream",
     "text": [
      "Will train until valid error hasn't decreased in 50 rounds.\n",
      "Stopping. Best iteration:\n",
      "[387]\ttrain-merror:0.082012\tvalid-merror:0.231301\n",
      "\n",
      "Will train until valid error hasn't decreased in 50 rounds.\n",
      "Stopping. Best iteration:\n",
      "[346]\ttrain-merror:0.092233\tvalid-merror:0.237901\n",
      "\n",
      "Will train until valid error hasn't decreased in 50 rounds.\n",
      "Stopping. Best iteration:\n",
      "[259]\ttrain-merror:0.115519\tvalid-merror:0.235701\n",
      "\n",
      "Will train until valid error hasn't decreased in 50 rounds.\n",
      "Stopping. Best iteration:\n",
      "[238]\ttrain-merror:0.121089\tvalid-merror:0.241910\n",
      "\n",
      "Will train until valid error hasn't decreased in 50 rounds.\n",
      "Stopping. Best iteration:\n",
      "[300]\ttrain-merror:0.102011\tvalid-merror:0.238140\n",
      "\n"
     ]
    },
    {
     "name": "stdout",
     "output_type": "stream",
     "text": [
      "Accuracy: 0.7584 +/- 0.0035\n",
      "Starting training 202 params of 324\n"
     ]
    },
    {
     "name": "stderr",
     "output_type": "stream",
     "text": [
      "Will train until valid error hasn't decreased in 50 rounds.\n",
      "Stopping. Best iteration:\n",
      "[180]\ttrain-merror:0.004017\tvalid-merror:0.237901\n",
      "\n",
      "Will train until valid error hasn't decreased in 50 rounds.\n",
      "Stopping. Best iteration:\n",
      "[88]\ttrain-merror:0.017567\tvalid-merror:0.234444\n",
      "\n",
      "Will train until valid error hasn't decreased in 50 rounds.\n",
      "Stopping. Best iteration:\n",
      "[67]\ttrain-merror:0.025423\tvalid-merror:0.238529\n",
      "\n",
      "Will train until valid error hasn't decreased in 50 rounds.\n",
      "Stopping. Best iteration:\n",
      "[89]\ttrain-merror:0.015223\tvalid-merror:0.241282\n",
      "\n",
      "Will train until valid error hasn't decreased in 50 rounds.\n",
      "Stopping. Best iteration:\n",
      "[116]\ttrain-merror:0.008937\tvalid-merror:0.239397\n",
      "\n"
     ]
    },
    {
     "name": "stdout",
     "output_type": "stream",
     "text": [
      "Accuracy: 0.7554 +/- 0.0034\n",
      "Starting training 203 params of 324\n"
     ]
    },
    {
     "name": "stderr",
     "output_type": "stream",
     "text": [
      "Will train until valid error hasn't decreased in 50 rounds.\n",
      "Stopping. Best iteration:\n",
      "[91]\ttrain-merror:0.046944\tvalid-merror:0.230358\n",
      "\n",
      "Will train until valid error hasn't decreased in 50 rounds.\n",
      "Stopping. Best iteration:\n",
      "[140]\ttrain-merror:0.024900\tvalid-merror:0.234758\n",
      "\n",
      "Will train until valid error hasn't decreased in 50 rounds.\n",
      "Stopping. Best iteration:\n",
      "[116]\ttrain-merror:0.032546\tvalid-merror:0.230358\n",
      "\n",
      "Will train until valid error hasn't decreased in 50 rounds.\n",
      "Stopping. Best iteration:\n",
      "[118]\ttrain-merror:0.032088\tvalid-merror:0.238140\n",
      "\n",
      "Will train until valid error hasn't decreased in 50 rounds.\n",
      "Stopping. Best iteration:\n",
      "[71]\ttrain-merror:0.063853\tvalid-merror:0.233742\n",
      "\n"
     ]
    },
    {
     "name": "stdout",
     "output_type": "stream",
     "text": [
      "Accuracy: 0.7567 +/- 0.0026\n",
      "Starting training 204 params of 324\n"
     ]
    },
    {
     "name": "stderr",
     "output_type": "stream",
     "text": [
      "Will train until valid error hasn't decreased in 50 rounds.\n",
      "Stopping. Best iteration:\n",
      "[169]\ttrain-merror:0.074991\tvalid-merror:0.230358\n",
      "\n",
      "Will train until valid error hasn't decreased in 50 rounds.\n",
      "Stopping. Best iteration:\n",
      "[154]\ttrain-merror:0.081931\tvalid-merror:0.237272\n",
      "\n",
      "Will train until valid error hasn't decreased in 50 rounds.\n",
      "Stopping. Best iteration:\n",
      "[95]\ttrain-merror:0.122783\tvalid-merror:0.235072\n",
      "\n",
      "Will train until valid error hasn't decreased in 50 rounds.\n",
      "Stopping. Best iteration:\n",
      "[197]\ttrain-merror:0.062011\tvalid-merror:0.234370\n",
      "\n",
      "Will train until valid error hasn't decreased in 50 rounds.\n",
      "Stopping. Best iteration:\n",
      "[144]\ttrain-merror:0.086440\tvalid-merror:0.233113\n",
      "\n"
     ]
    },
    {
     "name": "stdout",
     "output_type": "stream",
     "text": [
      "Accuracy: 0.7616 +/- 0.0038\n",
      "Starting training 205 params of 324\n"
     ]
    },
    {
     "name": "stderr",
     "output_type": "stream",
     "text": [
      "Will train until valid error hasn't decreased in 50 rounds.\n",
      "Stopping. Best iteration:\n",
      "[512]\ttrain-merror:0.076633\tvalid-merror:0.214645\n",
      "\n",
      "Will train until valid error hasn't decreased in 50 rounds.\n",
      "Stopping. Best iteration:\n",
      "[284]\ttrain-merror:0.114409\tvalid-merror:0.222187\n",
      "\n",
      "Will train until valid error hasn't decreased in 50 rounds.\n",
      "Stopping. Best iteration:\n",
      "[312]\ttrain-merror:0.106858\tvalid-merror:0.223444\n",
      "\n",
      "Will train until valid error hasn't decreased in 50 rounds.\n",
      "Stopping. Best iteration:\n",
      "[236]\ttrain-merror:0.124825\tvalid-merror:0.226516\n",
      "\n",
      "Will train until valid error hasn't decreased in 50 rounds.\n",
      "Stopping. Best iteration:\n",
      "[256]\ttrain-merror:0.118908\tvalid-merror:0.226202\n",
      "\n"
     ]
    },
    {
     "name": "stdout",
     "output_type": "stream",
     "text": [
      "Accuracy: 0.7697 +/- 0.0039\n",
      "Starting training 206 params of 324\n"
     ]
    },
    {
     "name": "stderr",
     "output_type": "stream",
     "text": [
      "Will train until valid error hasn't decreased in 50 rounds.\n",
      "Stopping. Best iteration:\n",
      "[386]\ttrain-merror:0.142997\tvalid-merror:0.227216\n",
      "\n",
      "Will train until valid error hasn't decreased in 50 rounds.\n",
      "Stopping. Best iteration:\n",
      "[360]\ttrain-merror:0.149717\tvalid-merror:0.228787\n",
      "\n",
      "Will train until valid error hasn't decreased in 50 rounds.\n",
      "Stopping. Best iteration:\n",
      "[365]\ttrain-merror:0.148799\tvalid-merror:0.222187\n",
      "\n",
      "Will train until valid error hasn't decreased in 50 rounds.\n",
      "Stopping. Best iteration:\n",
      "[277]\ttrain-merror:0.162186\tvalid-merror:0.245994\n",
      "\n",
      "Will train until valid error hasn't decreased in 50 rounds.\n",
      "Stopping. Best iteration:\n",
      "[427]\ttrain-merror:0.137551\tvalid-merror:0.228715\n",
      "\n"
     ]
    },
    {
     "name": "stdout",
     "output_type": "stream",
     "text": [
      "Accuracy: 0.7653 +/- 0.0062\n",
      "Starting training 207 params of 324\n"
     ]
    },
    {
     "name": "stderr",
     "output_type": "stream",
     "text": [
      "Will train until valid error hasn't decreased in 50 rounds.\n",
      "Stopping. Best iteration:\n",
      "[1072]\ttrain-merror:0.165002\tvalid-merror:0.232558\n",
      "\n",
      "Will train until valid error hasn't decreased in 50 rounds.\n",
      "Stopping. Best iteration:\n",
      "[539]\ttrain-merror:0.203849\tvalid-merror:0.252043\n",
      "\n",
      "Will train until valid error hasn't decreased in 50 rounds.\n",
      "Stopping. Best iteration:\n",
      "[643]\ttrain-merror:0.193079\tvalid-merror:0.241043\n",
      "\n",
      "Will train until valid error hasn't decreased in 50 rounds.\n",
      "Stopping. Best iteration:\n",
      "[579]\ttrain-merror:0.195426\tvalid-merror:0.254477\n",
      "\n",
      "Will train until valid error hasn't decreased in 50 rounds.\n",
      "Stopping. Best iteration:\n",
      "[389]\ttrain-merror:0.218650\tvalid-merror:0.263274\n",
      "\n"
     ]
    },
    {
     "name": "stdout",
     "output_type": "stream",
     "text": [
      "Accuracy: 0.7466 +/- 0.0063\n",
      "Starting training 208 params of 324\n"
     ]
    },
    {
     "name": "stderr",
     "output_type": "stream",
     "text": [
      "Will train until valid error hasn't decreased in 50 rounds.\n",
      "Stopping. Best iteration:\n",
      "[221]\ttrain-merror:0.072476\tvalid-merror:0.220930\n",
      "\n",
      "Will train until valid error hasn't decreased in 50 rounds.\n",
      "Stopping. Best iteration:\n",
      "[158]\ttrain-merror:0.094259\tvalid-merror:0.229101\n",
      "\n",
      "Will train until valid error hasn't decreased in 50 rounds.\n",
      "Stopping. Best iteration:\n",
      "[236]\ttrain-merror:0.069598\tvalid-merror:0.224073\n",
      "\n",
      "Will train until valid error hasn't decreased in 50 rounds.\n",
      "Stopping. Best iteration:\n",
      "[228]\ttrain-merror:0.070740\tvalid-merror:0.228087\n",
      "\n",
      "Will train until valid error hasn't decreased in 50 rounds.\n",
      "Stopping. Best iteration:\n",
      "[166]\ttrain-merror:0.090351\tvalid-merror:0.225259\n",
      "\n"
     ]
    },
    {
     "name": "stdout",
     "output_type": "stream",
     "text": [
      "Accuracy: 0.7691 +/- 0.0035\n",
      "Starting training 209 params of 324\n"
     ]
    },
    {
     "name": "stderr",
     "output_type": "stream",
     "text": [
      "Will train until valid error hasn't decreased in 50 rounds.\n",
      "Stopping. Best iteration:\n",
      "[255]\ttrain-merror:0.116556\tvalid-merror:0.226901\n",
      "\n",
      "Will train until valid error hasn't decreased in 50 rounds.\n",
      "Stopping. Best iteration:\n",
      "[228]\ttrain-merror:0.123140\tvalid-merror:0.230987\n",
      "\n",
      "Will train until valid error hasn't decreased in 50 rounds.\n",
      "Stopping. Best iteration:\n",
      "[287]\ttrain-merror:0.109303\tvalid-merror:0.224701\n",
      "\n",
      "Will train until valid error hasn't decreased in 50 rounds.\n",
      "Stopping. Best iteration:\n",
      "[185]\ttrain-merror:0.136348\tvalid-merror:0.240025\n",
      "\n",
      "Will train until valid error hasn't decreased in 50 rounds.\n",
      "Stopping. Best iteration:\n",
      "[252]\ttrain-merror:0.117721\tvalid-merror:0.229972\n",
      "\n"
     ]
    },
    {
     "name": "stdout",
     "output_type": "stream",
     "text": [
      "Accuracy: 0.7644 +/- 0.0049\n",
      "Starting training 210 params of 324\n"
     ]
    },
    {
     "name": "stderr",
     "output_type": "stream",
     "text": [
      "Will train until valid error hasn't decreased in 50 rounds.\n",
      "Stopping. Best iteration:\n",
      "[622]\ttrain-merror:0.141949\tvalid-merror:0.231615\n",
      "\n",
      "Will train until valid error hasn't decreased in 50 rounds.\n",
      "Stopping. Best iteration:\n",
      "[585]\ttrain-merror:0.146330\tvalid-merror:0.240415\n",
      "\n",
      "Will train until valid error hasn't decreased in 50 rounds.\n",
      "Stopping. Best iteration:\n",
      "[293]\ttrain-merror:0.189342\tvalid-merror:0.242300\n",
      "\n",
      "Will train until valid error hasn't decreased in 50 rounds.\n",
      "Stopping. Best iteration:\n",
      "[451]\ttrain-merror:0.160929\tvalid-merror:0.249764\n",
      "\n",
      "Will train until valid error hasn't decreased in 50 rounds.\n",
      "Stopping. Best iteration:\n",
      "[244]\ttrain-merror:0.197563\tvalid-merror:0.254791\n",
      "\n"
     ]
    },
    {
     "name": "stdout",
     "output_type": "stream",
     "text": [
      "Accuracy: 0.7516 +/- 0.0065\n",
      "Starting training 211 params of 324\n"
     ]
    },
    {
     "name": "stderr",
     "output_type": "stream",
     "text": [
      "Will train until valid error hasn't decreased in 50 rounds.\n",
      "Stopping. Best iteration:\n",
      "[153]\ttrain-merror:0.032204\tvalid-merror:0.222187\n",
      "\n",
      "Will train until valid error hasn't decreased in 50 rounds.\n",
      "Stopping. Best iteration:\n",
      "[193]\ttrain-merror:0.024342\tvalid-merror:0.228473\n",
      "\n",
      "Will train until valid error hasn't decreased in 50 rounds.\n",
      "Stopping. Best iteration:\n",
      "[190]\ttrain-merror:0.024934\tvalid-merror:0.225959\n",
      "\n",
      "Will train until valid error hasn't decreased in 50 rounds.\n",
      "Stopping. Best iteration:\n",
      "[150]\ttrain-merror:0.032682\tvalid-merror:0.230600\n",
      "\n",
      "Will train until valid error hasn't decreased in 50 rounds.\n",
      "Stopping. Best iteration:\n",
      "[137]\ttrain-merror:0.037565\tvalid-merror:0.231228\n",
      "\n"
     ]
    },
    {
     "name": "stdout",
     "output_type": "stream",
     "text": [
      "Accuracy: 0.7624 +/- 0.0046\n",
      "Starting training 212 params of 324\n"
     ]
    },
    {
     "name": "stderr",
     "output_type": "stream",
     "text": [
      "Will train until valid error hasn't decreased in 50 rounds.\n",
      "Stopping. Best iteration:\n",
      "[162]\ttrain-merror:0.072476\tvalid-merror:0.228787\n",
      "\n",
      "Will train until valid error hasn't decreased in 50 rounds.\n",
      "Stopping. Best iteration:\n",
      "[195]\ttrain-merror:0.063177\tvalid-merror:0.230044\n",
      "\n",
      "Will train until valid error hasn't decreased in 50 rounds.\n",
      "Stopping. Best iteration:\n",
      "[161]\ttrain-merror:0.072426\tvalid-merror:0.229730\n",
      "\n",
      "Will train until valid error hasn't decreased in 50 rounds.\n",
      "Stopping. Best iteration:\n",
      "[150]\ttrain-merror:0.076606\tvalid-merror:0.233428\n",
      "\n",
      "Will train until valid error hasn't decreased in 50 rounds.\n",
      "Stopping. Best iteration:\n",
      "[173]\ttrain-merror:0.068915\tvalid-merror:0.229972\n",
      "\n"
     ]
    },
    {
     "name": "stdout",
     "output_type": "stream",
     "text": [
      "Accuracy: 0.7640 +/- 0.0027\n",
      "Starting training 213 params of 324\n"
     ]
    },
    {
     "name": "stderr",
     "output_type": "stream",
     "text": [
      "Will train until valid error hasn't decreased in 50 rounds.\n",
      "Stopping. Best iteration:\n",
      "[250]\ttrain-merror:0.121691\tvalid-merror:0.232558\n",
      "\n",
      "Will train until valid error hasn't decreased in 50 rounds.\n",
      "Stopping. Best iteration:\n",
      "[241]\ttrain-merror:0.125725\tvalid-merror:0.243872\n",
      "\n",
      "Will train until valid error hasn't decreased in 50 rounds.\n",
      "Stopping. Best iteration:\n",
      "[419]\ttrain-merror:0.081680\tvalid-merror:0.221559\n",
      "\n",
      "Will train until valid error hasn't decreased in 50 rounds.\n",
      "Stopping. Best iteration:\n",
      "[270]\ttrain-merror:0.115258\tvalid-merror:0.239083\n",
      "\n",
      "Will train until valid error hasn't decreased in 50 rounds.\n",
      "Stopping. Best iteration:\n",
      "[307]\ttrain-merror:0.107911\tvalid-merror:0.233428\n",
      "\n"
     ]
    },
    {
     "name": "stdout",
     "output_type": "stream",
     "text": [
      "Accuracy: 0.7603 +/- 0.0050\n",
      "Starting training 214 params of 324\n"
     ]
    },
    {
     "name": "stderr",
     "output_type": "stream",
     "text": [
      "Will train until valid error hasn't decreased in 50 rounds.\n",
      "Stopping. Best iteration:\n",
      "[113]\ttrain-merror:0.009256\tvalid-merror:0.229415\n",
      "\n",
      "Will train until valid error hasn't decreased in 50 rounds.\n",
      "Stopping. Best iteration:\n",
      "[86]\ttrain-merror:0.018055\tvalid-merror:0.226901\n",
      "\n",
      "Will train until valid error hasn't decreased in 50 rounds.\n",
      "Stopping. Best iteration:\n",
      "[103]\ttrain-merror:0.012118\tvalid-merror:0.232244\n",
      "\n",
      "Will train until valid error hasn't decreased in 50 rounds.\n",
      "Stopping. Best iteration:\n",
      "[59]\ttrain-merror:0.028352\tvalid-merror:0.239397\n",
      "\n",
      "Will train until valid error hasn't decreased in 50 rounds.\n",
      "Stopping. Best iteration:\n",
      "[107]\ttrain-merror:0.011241\tvalid-merror:0.233428\n",
      "\n"
     ]
    },
    {
     "name": "stdout",
     "output_type": "stream",
     "text": [
      "Accuracy: 0.7572 +/- 0.0047\n",
      "Starting training 215 params of 324\n"
     ]
    },
    {
     "name": "stderr",
     "output_type": "stream",
     "text": [
      "Will train until valid error hasn't decreased in 50 rounds.\n",
      "Stopping. Best iteration:\n",
      "[142]\ttrain-merror:0.024345\tvalid-merror:0.224073\n",
      "\n",
      "Will train until valid error hasn't decreased in 50 rounds.\n",
      "Stopping. Best iteration:\n",
      "[159]\ttrain-merror:0.020849\tvalid-merror:0.228473\n",
      "\n",
      "Will train until valid error hasn't decreased in 50 rounds.\n",
      "Stopping. Best iteration:\n",
      "[197]\ttrain-merror:0.013549\tvalid-merror:0.228787\n",
      "\n",
      "Will train until valid error hasn't decreased in 50 rounds.\n",
      "Stopping. Best iteration:\n",
      "[136]\ttrain-merror:0.025873\tvalid-merror:0.238454\n",
      "\n",
      "Will train until valid error hasn't decreased in 50 rounds.\n",
      "Stopping. Best iteration:\n",
      "[124]\ttrain-merror:0.031490\tvalid-merror:0.231228\n",
      "\n"
     ]
    },
    {
     "name": "stdout",
     "output_type": "stream",
     "text": [
      "Accuracy: 0.7604 +/- 0.0039\n",
      "Starting training 216 params of 324\n"
     ]
    },
    {
     "name": "stderr",
     "output_type": "stream",
     "text": [
      "Will train until valid error hasn't decreased in 50 rounds.\n",
      "Stopping. Best iteration:\n",
      "[239]\ttrain-merror:0.047118\tvalid-merror:0.225330\n",
      "\n",
      "Will train until valid error hasn't decreased in 50 rounds.\n",
      "Stopping. Best iteration:\n",
      "[163]\ttrain-merror:0.077006\tvalid-merror:0.232244\n",
      "\n",
      "Will train until valid error hasn't decreased in 50 rounds.\n",
      "Stopping. Best iteration:\n",
      "[131]\ttrain-merror:0.092436\tvalid-merror:0.221873\n",
      "\n",
      "Will train until valid error hasn't decreased in 50 rounds.\n",
      "Stopping. Best iteration:\n",
      "[164]\ttrain-merror:0.074546\tvalid-merror:0.231543\n",
      "\n",
      "Will train until valid error hasn't decreased in 50 rounds.\n",
      "Stopping. Best iteration:\n",
      "[190]\ttrain-merror:0.063259\tvalid-merror:0.231857\n",
      "\n"
     ]
    },
    {
     "name": "stdout",
     "output_type": "stream",
     "text": [
      "Accuracy: 0.7660 +/- 0.0035\n",
      "Starting training 217 params of 324\n"
     ]
    },
    {
     "name": "stderr",
     "output_type": "stream",
     "text": [
      "Will train until valid error hasn't decreased in 50 rounds.\n",
      "Stopping. Best iteration:\n",
      "[268]\ttrain-merror:0.150646\tvalid-merror:0.226587\n",
      "\n",
      "Will train until valid error hasn't decreased in 50 rounds.\n",
      "Stopping. Best iteration:\n",
      "[188]\ttrain-merror:0.171684\tvalid-merror:0.236644\n",
      "\n",
      "Will train until valid error hasn't decreased in 50 rounds.\n",
      "Stopping. Best iteration:\n",
      "[188]\ttrain-merror:0.171812\tvalid-merror:0.229415\n",
      "\n",
      "Will train until valid error hasn't decreased in 50 rounds.\n",
      "Stopping. Best iteration:\n",
      "[262]\ttrain-merror:0.151362\tvalid-merror:0.240339\n",
      "\n",
      "Will train until valid error hasn't decreased in 50 rounds.\n",
      "Stopping. Best iteration:\n",
      "[196]\ttrain-merror:0.168168\tvalid-merror:0.239397\n",
      "\n"
     ]
    },
    {
     "name": "stdout",
     "output_type": "stream",
     "text": [
      "Accuracy: 0.7586 +/- 0.0019\n",
      "Starting training 218 params of 324\n"
     ]
    },
    {
     "name": "stderr",
     "output_type": "stream",
     "text": [
      "Will train until valid error hasn't decreased in 50 rounds.\n",
      "Stopping. Best iteration:\n",
      "[305]\ttrain-merror:0.184038\tvalid-merror:0.236329\n",
      "\n",
      "Will train until valid error hasn't decreased in 50 rounds.\n",
      "Stopping. Best iteration:\n",
      "[432]\ttrain-merror:0.167004\tvalid-merror:0.238529\n",
      "\n",
      "Will train until valid error hasn't decreased in 50 rounds.\n",
      "Stopping. Best iteration:\n",
      "[277]\ttrain-merror:0.190425\tvalid-merror:0.235072\n",
      "\n",
      "Will train until valid error hasn't decreased in 50 rounds.\n",
      "Stopping. Best iteration:\n",
      "[233]\ttrain-merror:0.196404\tvalid-merror:0.252592\n",
      "\n",
      "Will train until valid error hasn't decreased in 50 rounds.\n",
      "Stopping. Best iteration:\n",
      "[437]\ttrain-merror:0.165654\tvalid-merror:0.237512\n",
      "\n"
     ]
    },
    {
     "name": "stdout",
     "output_type": "stream",
     "text": [
      "Accuracy: 0.7512 +/- 0.0074\n",
      "Starting training 219 params of 324\n"
     ]
    },
    {
     "name": "stderr",
     "output_type": "stream",
     "text": [
      "Will train until valid error hasn't decreased in 50 rounds.\n",
      "Stopping. Best iteration:\n",
      "[347]\ttrain-merror:0.248760\tvalid-merror:0.274356\n",
      "\n",
      "Will train until valid error hasn't decreased in 50 rounds.\n",
      "Stopping. Best iteration:\n",
      "[471]\ttrain-merror:0.231927\tvalid-merror:0.266499\n",
      "\n",
      "Will train until valid error hasn't decreased in 50 rounds.\n",
      "Stopping. Best iteration:\n",
      "[371]\ttrain-merror:0.244413\tvalid-merror:0.266185\n",
      "\n",
      "Will train until valid error hasn't decreased in 50 rounds.\n",
      "Stopping. Best iteration:\n",
      "[506]\ttrain-merror:0.224546\tvalid-merror:0.269243\n",
      "\n",
      "Will train until valid error hasn't decreased in 50 rounds.\n",
      "Stopping. Best iteration:\n",
      "[402]\ttrain-merror:0.240539\tvalid-merror:0.271128\n",
      "\n"
     ]
    },
    {
     "name": "stdout",
     "output_type": "stream",
     "text": [
      "Accuracy: 0.7232 +/- 0.0048\n",
      "Starting training 220 params of 324\n"
     ]
    },
    {
     "name": "stderr",
     "output_type": "stream",
     "text": [
      "Will train until valid error hasn't decreased in 50 rounds.\n",
      "Stopping. Best iteration:\n",
      "[162]\ttrain-merror:0.133985\tvalid-merror:0.235072\n",
      "\n",
      "Will train until valid error hasn't decreased in 50 rounds.\n",
      "Stopping. Best iteration:\n",
      "[266]\ttrain-merror:0.104771\tvalid-merror:0.235072\n",
      "\n",
      "Will train until valid error hasn't decreased in 50 rounds.\n",
      "Stopping. Best iteration:\n",
      "[234]\ttrain-merror:0.111678\tvalid-merror:0.230358\n",
      "\n",
      "Will train until valid error hasn't decreased in 50 rounds.\n",
      "Stopping. Best iteration:\n",
      "[140]\ttrain-merror:0.142668\tvalid-merror:0.245680\n",
      "\n",
      "Will train until valid error hasn't decreased in 50 rounds.\n",
      "Stopping. Best iteration:\n",
      "[114]\ttrain-merror:0.156961\tvalid-merror:0.239397\n",
      "\n"
     ]
    },
    {
     "name": "stdout",
     "output_type": "stream",
     "text": [
      "Accuracy: 0.7575 +/- 0.0048\n",
      "Starting training 221 params of 324\n"
     ]
    },
    {
     "name": "stderr",
     "output_type": "stream",
     "text": [
      "Will train until valid error hasn't decreased in 50 rounds.\n",
      "Stopping. Best iteration:\n",
      "[271]\ttrain-merror:0.144638\tvalid-merror:0.231930\n",
      "\n",
      "Will train until valid error hasn't decreased in 50 rounds.\n",
      "Stopping. Best iteration:\n",
      "[266]\ttrain-merror:0.145352\tvalid-merror:0.235387\n",
      "\n",
      "Will train until valid error hasn't decreased in 50 rounds.\n",
      "Stopping. Best iteration:\n",
      "[196]\ttrain-merror:0.165735\tvalid-merror:0.234444\n",
      "\n",
      "Will train until valid error hasn't decreased in 50 rounds.\n",
      "Stopping. Best iteration:\n",
      "[176]\ttrain-merror:0.172835\tvalid-merror:0.250393\n",
      "\n",
      "Will train until valid error hasn't decreased in 50 rounds.\n",
      "Stopping. Best iteration:\n",
      "[321]\ttrain-merror:0.132942\tvalid-merror:0.234684\n",
      "\n"
     ]
    },
    {
     "name": "stdout",
     "output_type": "stream",
     "text": [
      "Accuracy: 0.7533 +/- 0.0051\n",
      "Starting training 222 params of 324\n"
     ]
    },
    {
     "name": "stderr",
     "output_type": "stream",
     "text": [
      "Will train until valid error hasn't decreased in 50 rounds.\n",
      "Stopping. Best iteration:\n",
      "[506]\ttrain-merror:0.181418\tvalid-merror:0.247014\n",
      "\n",
      "Will train until valid error hasn't decreased in 50 rounds.\n",
      "Stopping. Best iteration:\n",
      "[434]\ttrain-merror:0.190263\tvalid-merror:0.248272\n",
      "\n",
      "Will train until valid error hasn't decreased in 50 rounds.\n",
      "Stopping. Best iteration:\n",
      "[589]\ttrain-merror:0.171707\tvalid-merror:0.239472\n",
      "\n",
      "Will train until valid error hasn't decreased in 50 rounds.\n",
      "Stopping. Best iteration:\n",
      "[449]\ttrain-merror:0.188652\tvalid-merror:0.260132\n",
      "\n",
      "Will train until valid error hasn't decreased in 50 rounds.\n",
      "Stopping. Best iteration:\n",
      "[206]\ttrain-merror:0.236140\tvalid-merror:0.269871\n",
      "\n"
     ]
    },
    {
     "name": "stdout",
     "output_type": "stream",
     "text": [
      "Accuracy: 0.7398 +/- 0.0074\n",
      "Starting training 223 params of 324\n"
     ]
    },
    {
     "name": "stderr",
     "output_type": "stream",
     "text": [
      "Will train until valid error hasn't decreased in 50 rounds.\n",
      "Stopping. Best iteration:\n",
      "[150]\ttrain-merror:0.080685\tvalid-merror:0.229101\n",
      "\n",
      "Will train until valid error hasn't decreased in 50 rounds.\n",
      "Stopping. Best iteration:\n",
      "[254]\ttrain-merror:0.050953\tvalid-merror:0.235701\n",
      "\n",
      "Will train until valid error hasn't decreased in 50 rounds.\n",
      "Stopping. Best iteration:\n",
      "[78]\ttrain-merror:0.124284\tvalid-merror:0.229415\n",
      "\n",
      "Will train until valid error hasn't decreased in 50 rounds.\n",
      "Stopping. Best iteration:\n",
      "[111]\ttrain-merror:0.099616\tvalid-merror:0.240968\n",
      "\n",
      "Will train until valid error hasn't decreased in 50 rounds.\n",
      "Stopping. Best iteration:\n",
      "[119]\ttrain-merror:0.095587\tvalid-merror:0.234998\n",
      "\n"
     ]
    },
    {
     "name": "stdout",
     "output_type": "stream",
     "text": [
      "Accuracy: 0.7556 +/- 0.0033\n",
      "Starting training 224 params of 324\n"
     ]
    },
    {
     "name": "stderr",
     "output_type": "stream",
     "text": [
      "Will train until valid error hasn't decreased in 50 rounds.\n",
      "Stopping. Best iteration:\n",
      "[193]\ttrain-merror:0.104820\tvalid-merror:0.235072\n",
      "\n",
      "Will train until valid error hasn't decreased in 50 rounds.\n",
      "Stopping. Best iteration:\n",
      "[119]\ttrain-merror:0.137703\tvalid-merror:0.243243\n",
      "\n",
      "Will train until valid error hasn't decreased in 50 rounds.\n",
      "Stopping. Best iteration:\n",
      "[109]\ttrain-merror:0.145516\tvalid-merror:0.234129\n",
      "\n",
      "Will train until valid error hasn't decreased in 50 rounds.\n",
      "Stopping. Best iteration:\n",
      "[117]\ttrain-merror:0.139735\tvalid-merror:0.251021\n",
      "\n",
      "Will train until valid error hasn't decreased in 50 rounds.\n",
      "Stopping. Best iteration:\n",
      "[244]\ttrain-merror:0.087767\tvalid-merror:0.235313\n",
      "\n"
     ]
    },
    {
     "name": "stdout",
     "output_type": "stream",
     "text": [
      "Accuracy: 0.7545 +/- 0.0057\n",
      "Starting training 225 params of 324\n"
     ]
    },
    {
     "name": "stderr",
     "output_type": "stream",
     "text": [
      "Will train until valid error hasn't decreased in 50 rounds.\n",
      "Stopping. Best iteration:\n",
      "[196]\ttrain-merror:0.179078\tvalid-merror:0.242300\n",
      "\n",
      "Will train until valid error hasn't decreased in 50 rounds.\n",
      "Stopping. Best iteration:\n",
      "[232]\ttrain-merror:0.166795\tvalid-merror:0.241043\n",
      "\n",
      "Will train until valid error hasn't decreased in 50 rounds.\n",
      "Stopping. Best iteration:\n",
      "[390]\ttrain-merror:0.129592\tvalid-merror:0.234758\n",
      "\n",
      "Will train until valid error hasn't decreased in 50 rounds.\n",
      "Stopping. Best iteration:\n",
      "[343]\ttrain-merror:0.135510\tvalid-merror:0.246937\n",
      "\n",
      "Will train until valid error hasn't decreased in 50 rounds.\n",
      "Stopping. Best iteration:\n",
      "[451]\ttrain-merror:0.117686\tvalid-merror:0.236255\n",
      "\n"
     ]
    },
    {
     "name": "stdout",
     "output_type": "stream",
     "text": [
      "Accuracy: 0.7525 +/- 0.0055\n",
      "Starting training 226 params of 324\n"
     ]
    },
    {
     "name": "stderr",
     "output_type": "stream",
     "text": [
      "Will train until valid error hasn't decreased in 50 rounds.\n",
      "Stopping. Best iteration:\n",
      "[88]\ttrain-merror:0.068495\tvalid-merror:0.230358\n",
      "\n",
      "Will train until valid error hasn't decreased in 50 rounds.\n",
      "Stopping. Best iteration:\n",
      "[53]\ttrain-merror:0.103548\tvalid-merror:0.241672\n",
      "\n",
      "Will train until valid error hasn't decreased in 50 rounds.\n",
      "Stopping. Best iteration:\n",
      "[159]\ttrain-merror:0.036877\tvalid-merror:0.232558\n",
      "\n",
      "Will train until valid error hasn't decreased in 50 rounds.\n",
      "Stopping. Best iteration:\n",
      "[64]\ttrain-merror:0.087709\tvalid-merror:0.240339\n",
      "\n",
      "Will train until valid error hasn't decreased in 50 rounds.\n",
      "Stopping. Best iteration:\n",
      "[107]\ttrain-merror:0.056068\tvalid-merror:0.237198\n",
      "\n"
     ]
    },
    {
     "name": "stdout",
     "output_type": "stream",
     "text": [
      "Accuracy: 0.7547 +/- 0.0035\n",
      "Starting training 227 params of 324\n"
     ]
    },
    {
     "name": "stderr",
     "output_type": "stream",
     "text": [
      "Will train until valid error hasn't decreased in 50 rounds.\n",
      "Stopping. Best iteration:\n",
      "[162]\ttrain-merror:0.065002\tvalid-merror:0.229415\n",
      "\n",
      "Will train until valid error hasn't decreased in 50 rounds.\n",
      "Stopping. Best iteration:\n",
      "[164]\ttrain-merror:0.065656\tvalid-merror:0.233187\n",
      "\n",
      "Will train until valid error hasn't decreased in 50 rounds.\n",
      "Stopping. Best iteration:\n",
      "[190]\ttrain-merror:0.054651\tvalid-merror:0.233187\n",
      "\n",
      "Will train until valid error hasn't decreased in 50 rounds.\n",
      "Stopping. Best iteration:\n",
      "[106]\ttrain-merror:0.094553\tvalid-merror:0.245994\n",
      "\n",
      "Will train until valid error hasn't decreased in 50 rounds.\n",
      "Stopping. Best iteration:\n",
      "[104]\ttrain-merror:0.096181\tvalid-merror:0.237826\n",
      "\n"
     ]
    },
    {
     "name": "stdout",
     "output_type": "stream",
     "text": [
      "Accuracy: 0.7568 +/- 0.0047\n",
      "Starting training 228 params of 324\n"
     ]
    },
    {
     "name": "stderr",
     "output_type": "stream",
     "text": [
      "Will train until valid error hasn't decreased in 50 rounds.\n",
      "Stopping. Best iteration:\n",
      "[236]\ttrain-merror:0.104506\tvalid-merror:0.221873\n",
      "\n",
      "Will train until valid error hasn't decreased in 50 rounds.\n",
      "Stopping. Best iteration:\n",
      "[212]\ttrain-merror:0.114025\tvalid-merror:0.228473\n",
      "\n",
      "Will train until valid error hasn't decreased in 50 rounds.\n",
      "Stopping. Best iteration:\n",
      "[150]\ttrain-merror:0.140907\tvalid-merror:0.233815\n",
      "\n",
      "Will train until valid error hasn't decreased in 50 rounds.\n",
      "Stopping. Best iteration:\n",
      "[215]\ttrain-merror:0.113443\tvalid-merror:0.238140\n",
      "\n",
      "Will train until valid error hasn't decreased in 50 rounds.\n",
      "Stopping. Best iteration:\n",
      "[275]\ttrain-merror:0.093423\tvalid-merror:0.234056\n",
      "\n"
     ]
    },
    {
     "name": "stdout",
     "output_type": "stream",
     "text": [
      "Accuracy: 0.7621 +/- 0.0032\n",
      "Starting training 229 params of 324\n"
     ]
    },
    {
     "name": "stderr",
     "output_type": "stream",
     "text": [
      "Will train until valid error hasn't decreased in 50 rounds.\n",
      "Stopping. Best iteration:\n",
      "[340]\ttrain-merror:0.129410\tvalid-merror:0.226901\n",
      "\n",
      "Will train until valid error hasn't decreased in 50 rounds.\n",
      "Stopping. Best iteration:\n",
      "[344]\ttrain-merror:0.131522\tvalid-merror:0.226587\n",
      "\n",
      "Will train until valid error hasn't decreased in 50 rounds.\n",
      "Stopping. Best iteration:\n",
      "[323]\ttrain-merror:0.133608\tvalid-merror:0.219359\n",
      "\n",
      "Will train until valid error hasn't decreased in 50 rounds.\n",
      "Stopping. Best iteration:\n",
      "[325]\ttrain-merror:0.132123\tvalid-merror:0.235313\n",
      "\n",
      "Will train until valid error hasn't decreased in 50 rounds.\n",
      "Stopping. Best iteration:\n",
      "[320]\ttrain-merror:0.132942\tvalid-merror:0.224631\n",
      "\n"
     ]
    },
    {
     "name": "stdout",
     "output_type": "stream",
     "text": [
      "Accuracy: 0.7665 +/- 0.0033\n",
      "Starting training 230 params of 324\n"
     ]
    },
    {
     "name": "stderr",
     "output_type": "stream",
     "text": [
      "Will train until valid error hasn't decreased in 50 rounds.\n",
      "Stopping. Best iteration:\n",
      "[391]\ttrain-merror:0.162382\tvalid-merror:0.228473\n",
      "\n",
      "Will train until valid error hasn't decreased in 50 rounds.\n",
      "Stopping. Best iteration:\n",
      "[249]\ttrain-merror:0.188273\tvalid-merror:0.242300\n",
      "\n",
      "Will train until valid error hasn't decreased in 50 rounds.\n",
      "Stopping. Best iteration:\n",
      "[346]\ttrain-merror:0.170170\tvalid-merror:0.229730\n",
      "\n",
      "Will train until valid error hasn't decreased in 50 rounds.\n",
      "Stopping. Best iteration:\n",
      "[253]\ttrain-merror:0.183659\tvalid-merror:0.247251\n",
      "\n",
      "Will train until valid error hasn't decreased in 50 rounds.\n",
      "Stopping. Best iteration:\n",
      "[313]\ttrain-merror:0.174487\tvalid-merror:0.236883\n",
      "\n"
     ]
    },
    {
     "name": "stdout",
     "output_type": "stream",
     "text": [
      "Accuracy: 0.7559 +/- 0.0051\n",
      "Starting training 231 params of 324\n"
     ]
    },
    {
     "name": "stderr",
     "output_type": "stream",
     "text": [
      "Will train until valid error hasn't decreased in 50 rounds.\n",
      "Stopping. Best iteration:\n",
      "[264]\ttrain-merror:0.252183\tvalid-merror:0.272470\n",
      "\n",
      "Will train until valid error hasn't decreased in 50 rounds.\n",
      "Stopping. Best iteration:\n",
      "[428]\ttrain-merror:0.228644\tvalid-merror:0.261471\n",
      "\n",
      "Will train until valid error hasn't decreased in 50 rounds.\n",
      "Stopping. Best iteration:\n",
      "[707]\ttrain-merror:0.202612\tvalid-merror:0.245757\n",
      "\n",
      "Will train until valid error hasn't decreased in 50 rounds.\n",
      "Stopping. Best iteration:\n",
      "[420]\ttrain-merror:0.223883\tvalid-merror:0.265473\n",
      "\n",
      "Will train until valid error hasn't decreased in 50 rounds.\n",
      "Stopping. Best iteration:\n",
      "[584]\ttrain-merror:0.210550\tvalid-merror:0.254163\n",
      "\n"
     ]
    },
    {
     "name": "stdout",
     "output_type": "stream",
     "text": [
      "Accuracy: 0.7327 +/- 0.0114\n",
      "Starting training 232 params of 324\n"
     ]
    },
    {
     "name": "stderr",
     "output_type": "stream",
     "text": [
      "Will train until valid error hasn't decreased in 50 rounds.\n",
      "Stopping. Best iteration:\n",
      "[262]\ttrain-merror:0.094481\tvalid-merror:0.225330\n",
      "\n",
      "Will train until valid error hasn't decreased in 50 rounds.\n",
      "Stopping. Best iteration:\n",
      "[179]\ttrain-merror:0.119229\tvalid-merror:0.229415\n",
      "\n",
      "Will train until valid error hasn't decreased in 50 rounds.\n",
      "Stopping. Best iteration:\n",
      "[255]\ttrain-merror:0.097395\tvalid-merror:0.223444\n",
      "\n",
      "Will train until valid error hasn't decreased in 50 rounds.\n",
      "Stopping. Best iteration:\n",
      "[190]\ttrain-merror:0.114211\tvalid-merror:0.234998\n",
      "\n",
      "Will train until valid error hasn't decreased in 50 rounds.\n",
      "Stopping. Best iteration:\n",
      "[173]\ttrain-merror:0.121561\tvalid-merror:0.228401\n",
      "\n"
     ]
    },
    {
     "name": "stdout",
     "output_type": "stream",
     "text": [
      "Accuracy: 0.7645 +/- 0.0033\n",
      "Starting training 233 params of 324\n"
     ]
    },
    {
     "name": "stderr",
     "output_type": "stream",
     "text": [
      "Will train until valid error hasn't decreased in 50 rounds.\n",
      "Stopping. Best iteration:\n",
      "[271]\ttrain-merror:0.135662\tvalid-merror:0.227844\n",
      "\n",
      "Will train until valid error hasn't decreased in 50 rounds.\n",
      "Stopping. Best iteration:\n",
      "[247]\ttrain-merror:0.140951\tvalid-merror:0.234444\n",
      "\n",
      "Will train until valid error hasn't decreased in 50 rounds.\n",
      "Stopping. Best iteration:\n",
      "[278]\ttrain-merror:0.133922\tvalid-merror:0.227844\n",
      "\n",
      "Will train until valid error hasn't decreased in 50 rounds.\n",
      "Stopping. Best iteration:\n",
      "[155]\ttrain-merror:0.168575\tvalid-merror:0.247565\n",
      "\n",
      "Will train until valid error hasn't decreased in 50 rounds.\n",
      "Stopping. Best iteration:\n",
      "[231]\ttrain-merror:0.145685\tvalid-merror:0.230600\n",
      "\n"
     ]
    },
    {
     "name": "stdout",
     "output_type": "stream",
     "text": [
      "Accuracy: 0.7573 +/- 0.0055\n",
      "Starting training 234 params of 324\n"
     ]
    },
    {
     "name": "stderr",
     "output_type": "stream",
     "text": [
      "Will train until valid error hasn't decreased in 50 rounds.\n",
      "Stopping. Best iteration:\n",
      "[496]\ttrain-merror:0.172651\tvalid-merror:0.240415\n",
      "\n",
      "Will train until valid error hasn't decreased in 50 rounds.\n",
      "Stopping. Best iteration:\n",
      "[546]\ttrain-merror:0.167947\tvalid-merror:0.241986\n",
      "\n",
      "Will train until valid error hasn't decreased in 50 rounds.\n",
      "Stopping. Best iteration:\n",
      "[481]\ttrain-merror:0.175548\tvalid-merror:0.240101\n",
      "\n",
      "Will train until valid error hasn't decreased in 50 rounds.\n",
      "Stopping. Best iteration:\n",
      "[438]\ttrain-merror:0.179888\tvalid-merror:0.250079\n",
      "\n",
      "Will train until valid error hasn't decreased in 50 rounds.\n",
      "Stopping. Best iteration:\n",
      "[536]\ttrain-merror:0.166946\tvalid-merror:0.240339\n",
      "\n"
     ]
    },
    {
     "name": "stdout",
     "output_type": "stream",
     "text": [
      "Accuracy: 0.7507 +/- 0.0042\n",
      "Starting training 235 params of 324\n"
     ]
    },
    {
     "name": "stderr",
     "output_type": "stream",
     "text": [
      "Will train until valid error hasn't decreased in 50 rounds.\n",
      "Stopping. Best iteration:\n",
      "[125]\ttrain-merror:0.078205\tvalid-merror:0.226901\n",
      "\n",
      "Will train until valid error hasn't decreased in 50 rounds.\n",
      "Stopping. Best iteration:\n",
      "[90]\ttrain-merror:0.101069\tvalid-merror:0.234444\n",
      "\n",
      "Will train until valid error hasn't decreased in 50 rounds.\n",
      "Stopping. Best iteration:\n",
      "[132]\ttrain-merror:0.076198\tvalid-merror:0.230358\n",
      "\n",
      "Will train until valid error hasn't decreased in 50 rounds.\n",
      "Stopping. Best iteration:\n",
      "[110]\ttrain-merror:0.087500\tvalid-merror:0.236255\n",
      "\n",
      "Will train until valid error hasn't decreased in 50 rounds.\n",
      "Stopping. Best iteration:\n",
      "[211]\ttrain-merror:0.049155\tvalid-merror:0.230914\n",
      "\n"
     ]
    },
    {
     "name": "stdout",
     "output_type": "stream",
     "text": [
      "Accuracy: 0.7604 +/- 0.0033\n",
      "Starting training 236 params of 324\n"
     ]
    },
    {
     "name": "stderr",
     "output_type": "stream",
     "text": [
      "Will train until valid error hasn't decreased in 50 rounds.\n",
      "Stopping. Best iteration:\n",
      "[252]\ttrain-merror:0.072127\tvalid-merror:0.227530\n",
      "\n",
      "Will train until valid error hasn't decreased in 50 rounds.\n",
      "Stopping. Best iteration:\n",
      "[134]\ttrain-merror:0.116889\tvalid-merror:0.236329\n",
      "\n",
      "Will train until valid error hasn't decreased in 50 rounds.\n",
      "Stopping. Best iteration:\n",
      "[352]\ttrain-merror:0.050845\tvalid-merror:0.227530\n",
      "\n",
      "Will train until valid error hasn't decreased in 50 rounds.\n",
      "Stopping. Best iteration:\n",
      "[213]\ttrain-merror:0.084358\tvalid-merror:0.240025\n",
      "\n",
      "Will train until valid error hasn't decreased in 50 rounds.\n",
      "Stopping. Best iteration:\n",
      "[178]\ttrain-merror:0.095936\tvalid-merror:0.233113\n",
      "\n"
     ]
    },
    {
     "name": "stdout",
     "output_type": "stream",
     "text": [
      "Accuracy: 0.7607 +/- 0.0018\n",
      "Starting training 237 params of 324\n"
     ]
    },
    {
     "name": "stderr",
     "output_type": "stream",
     "text": [
      "Will train until valid error hasn't decreased in 50 rounds.\n",
      "Stopping. Best iteration:\n",
      "[285]\ttrain-merror:0.137373\tvalid-merror:0.232244\n",
      "\n",
      "Will train until valid error hasn't decreased in 50 rounds.\n",
      "Stopping. Best iteration:\n",
      "[305]\ttrain-merror:0.134316\tvalid-merror:0.235072\n",
      "\n",
      "Will train until valid error hasn't decreased in 50 rounds.\n",
      "Stopping. Best iteration:\n",
      "[397]\ttrain-merror:0.113109\tvalid-merror:0.228787\n",
      "\n",
      "Will train until valid error hasn't decreased in 50 rounds.\n",
      "Stopping. Best iteration:\n",
      "[412]\ttrain-merror:0.108973\tvalid-merror:0.240025\n",
      "\n",
      "Will train until valid error hasn't decreased in 50 rounds.\n",
      "Stopping. Best iteration:\n",
      "[470]\ttrain-merror:0.100021\tvalid-merror:0.229658\n",
      "\n"
     ]
    },
    {
     "name": "stdout",
     "output_type": "stream",
     "text": [
      "Accuracy: 0.7611 +/- 0.0030\n",
      "Starting training 238 params of 324\n"
     ]
    },
    {
     "name": "stderr",
     "output_type": "stream",
     "text": [
      "Will train until valid error hasn't decreased in 50 rounds.\n",
      "Stopping. Best iteration:\n",
      "[129]\ttrain-merror:0.033461\tvalid-merror:0.226587\n",
      "\n",
      "Will train until valid error hasn't decreased in 50 rounds.\n",
      "Stopping. Best iteration:\n",
      "[121]\ttrain-merror:0.036914\tvalid-merror:0.236015\n",
      "\n",
      "Will train until valid error hasn't decreased in 50 rounds.\n",
      "Stopping. Best iteration:\n",
      "[95]\ttrain-merror:0.047109\tvalid-merror:0.231301\n",
      "\n",
      "Will train until valid error hasn't decreased in 50 rounds.\n",
      "Stopping. Best iteration:\n",
      "[263]\ttrain-merror:0.014141\tvalid-merror:0.234056\n",
      "\n",
      "Will train until valid error hasn't decreased in 50 rounds.\n",
      "Stopping. Best iteration:\n",
      "[67]\ttrain-merror:0.068356\tvalid-merror:0.231228\n",
      "\n"
     ]
    },
    {
     "name": "stdout",
     "output_type": "stream",
     "text": [
      "Accuracy: 0.7582 +/- 0.0017\n",
      "Starting training 239 params of 324\n"
     ]
    },
    {
     "name": "stderr",
     "output_type": "stream",
     "text": [
      "Will train until valid error hasn't decreased in 50 rounds.\n",
      "Stopping. Best iteration:\n",
      "[112]\ttrain-merror:0.071987\tvalid-merror:0.227216\n",
      "\n",
      "Will train until valid error hasn't decreased in 50 rounds.\n",
      "Stopping. Best iteration:\n",
      "[192]\ttrain-merror:0.040407\tvalid-merror:0.230987\n",
      "\n",
      "Will train until valid error hasn't decreased in 50 rounds.\n",
      "Stopping. Best iteration:\n",
      "[70]\ttrain-merror:0.104379\tvalid-merror:0.232872\n",
      "\n",
      "Will train until valid error hasn't decreased in 50 rounds.\n",
      "Stopping. Best iteration:\n",
      "[159]\ttrain-merror:0.049546\tvalid-merror:0.241282\n",
      "\n",
      "Will train until valid error hasn't decreased in 50 rounds.\n",
      "Stopping. Best iteration:\n",
      "[76]\ttrain-merror:0.100475\tvalid-merror:0.234684\n",
      "\n"
     ]
    },
    {
     "name": "stdout",
     "output_type": "stream",
     "text": [
      "Accuracy: 0.7616 +/- 0.0040\n",
      "Starting training 240 params of 324\n"
     ]
    },
    {
     "name": "stderr",
     "output_type": "stream",
     "text": [
      "Will train until valid error hasn't decreased in 50 rounds.\n",
      "Stopping. Best iteration:\n",
      "[223]\ttrain-merror:0.088683\tvalid-merror:0.221559\n",
      "\n",
      "Will train until valid error hasn't decreased in 50 rounds.\n",
      "Stopping. Best iteration:\n",
      "[239]\ttrain-merror:0.085388\tvalid-merror:0.228473\n",
      "\n",
      "Will train until valid error hasn't decreased in 50 rounds.\n",
      "Stopping. Best iteration:\n",
      "[232]\ttrain-merror:0.084439\tvalid-merror:0.226273\n",
      "\n",
      "Will train until valid error hasn't decreased in 50 rounds.\n",
      "Stopping. Best iteration:\n",
      "[173]\ttrain-merror:0.107996\tvalid-merror:0.237198\n",
      "\n",
      "Will train until valid error hasn't decreased in 50 rounds.\n",
      "Stopping. Best iteration:\n",
      "[200]\ttrain-merror:0.096844\tvalid-merror:0.229343\n",
      "\n"
     ]
    },
    {
     "name": "stdout",
     "output_type": "stream",
     "text": [
      "Accuracy: 0.7666 +/- 0.0037\n",
      "Starting training 241 params of 324\n"
     ]
    },
    {
     "name": "stderr",
     "output_type": "stream",
     "text": [
      "Will train until valid error hasn't decreased in 50 rounds.\n",
      "Stopping. Best iteration:\n",
      "[301]\ttrain-merror:0.136430\tvalid-merror:0.221559\n",
      "\n",
      "Will train until valid error hasn't decreased in 50 rounds.\n",
      "Stopping. Best iteration:\n",
      "[250]\ttrain-merror:0.147133\tvalid-merror:0.225959\n",
      "\n",
      "Will train until valid error hasn't decreased in 50 rounds.\n",
      "Stopping. Best iteration:\n",
      "[465]\ttrain-merror:0.114262\tvalid-merror:0.216530\n",
      "\n",
      "Will train until valid error hasn't decreased in 50 rounds.\n",
      "Stopping. Best iteration:\n",
      "[224]\ttrain-merror:0.152654\tvalid-merror:0.235627\n",
      "\n",
      "Will train until valid error hasn't decreased in 50 rounds.\n",
      "Stopping. Best iteration:\n",
      "[292]\ttrain-merror:0.138284\tvalid-merror:0.224003\n",
      "\n"
     ]
    },
    {
     "name": "stdout",
     "output_type": "stream",
     "text": [
      "Accuracy: 0.7665 +/- 0.0042\n",
      "Starting training 242 params of 324\n"
     ]
    },
    {
     "name": "stderr",
     "output_type": "stream",
     "text": [
      "Will train until valid error hasn't decreased in 50 rounds.\n",
      "Stopping. Best iteration:\n",
      "[418]\ttrain-merror:0.158680\tvalid-merror:0.231930\n",
      "\n",
      "Will train until valid error hasn't decreased in 50 rounds.\n",
      "Stopping. Best iteration:\n",
      "[229]\ttrain-merror:0.190613\tvalid-merror:0.241358\n",
      "\n",
      "Will train until valid error hasn't decreased in 50 rounds.\n",
      "Stopping. Best iteration:\n",
      "[324]\ttrain-merror:0.171393\tvalid-merror:0.228787\n",
      "\n",
      "Will train until valid error hasn't decreased in 50 rounds.\n",
      "Stopping. Best iteration:\n",
      "[296]\ttrain-merror:0.174825\tvalid-merror:0.244738\n",
      "\n",
      "Will train until valid error hasn't decreased in 50 rounds.\n",
      "Stopping. Best iteration:\n",
      "[470]\ttrain-merror:0.152458\tvalid-merror:0.225573\n",
      "\n"
     ]
    },
    {
     "name": "stdout",
     "output_type": "stream",
     "text": [
      "Accuracy: 0.7594 +/- 0.0055\n",
      "Starting training 243 params of 324\n"
     ]
    },
    {
     "name": "stderr",
     "output_type": "stream",
     "text": [
      "Will train until valid error hasn't decreased in 50 rounds.\n",
      "Stopping. Best iteration:\n",
      "[595]\ttrain-merror:0.208278\tvalid-merror:0.245129\n",
      "\n",
      "Will train until valid error hasn't decreased in 50 rounds.\n",
      "Stopping. Best iteration:\n",
      "[670]\ttrain-merror:0.203674\tvalid-merror:0.247329\n",
      "\n",
      "Will train until valid error hasn't decreased in 50 rounds.\n",
      "Stopping. Best iteration:\n",
      "[448]\ttrain-merror:0.220492\tvalid-merror:0.252671\n",
      "\n",
      "Will train until valid error hasn't decreased in 50 rounds.\n",
      "Stopping. Best iteration:\n",
      "[552]\ttrain-merror:0.207647\tvalid-merror:0.256362\n",
      "\n",
      "Will train until valid error hasn't decreased in 50 rounds.\n",
      "Stopping. Best iteration:\n",
      "[693]\ttrain-merror:0.200531\tvalid-merror:0.255105\n",
      "\n"
     ]
    },
    {
     "name": "stdout",
     "output_type": "stream",
     "text": [
      "Accuracy: 0.7423 +/- 0.0055\n",
      "Starting training 244 params of 324\n"
     ]
    },
    {
     "name": "stderr",
     "output_type": "stream",
     "text": [
      "Will train until valid error hasn't decreased in 50 rounds.\n",
      "Stopping. Best iteration:\n",
      "[214]\ttrain-merror:0.106462\tvalid-merror:0.223444\n",
      "\n",
      "Will train until valid error hasn't decreased in 50 rounds.\n",
      "Stopping. Best iteration:\n",
      "[233]\ttrain-merror:0.102535\tvalid-merror:0.226901\n",
      "\n",
      "Will train until valid error hasn't decreased in 50 rounds.\n",
      "Stopping. Best iteration:\n",
      "[287]\ttrain-merror:0.090725\tvalid-merror:0.223130\n",
      "\n",
      "Will train until valid error hasn't decreased in 50 rounds.\n",
      "Stopping. Best iteration:\n",
      "[323]\ttrain-merror:0.082297\tvalid-merror:0.230914\n",
      "\n",
      "Will train until valid error hasn't decreased in 50 rounds.\n",
      "Stopping. Best iteration:\n",
      "[250]\ttrain-merror:0.098450\tvalid-merror:0.227144\n",
      "\n"
     ]
    },
    {
     "name": "stdout",
     "output_type": "stream",
     "text": [
      "Accuracy: 0.7680 +/- 0.0025\n",
      "Starting training 245 params of 324\n"
     ]
    },
    {
     "name": "stderr",
     "output_type": "stream",
     "text": [
      "Will train until valid error hasn't decreased in 50 rounds.\n",
      "Stopping. Best iteration:\n",
      "[239]\ttrain-merror:0.142473\tvalid-merror:0.228787\n",
      "\n",
      "Will train until valid error hasn't decreased in 50 rounds.\n",
      "Stopping. Best iteration:\n",
      "[206]\ttrain-merror:0.150241\tvalid-merror:0.235072\n",
      "\n",
      "Will train until valid error hasn't decreased in 50 rounds.\n",
      "Stopping. Best iteration:\n",
      "[261]\ttrain-merror:0.139230\tvalid-merror:0.226901\n",
      "\n",
      "Will train until valid error hasn't decreased in 50 rounds.\n",
      "Stopping. Best iteration:\n",
      "[314]\ttrain-merror:0.126187\tvalid-merror:0.239711\n",
      "\n",
      "Will train until valid error hasn't decreased in 50 rounds.\n",
      "Stopping. Best iteration:\n",
      "[351]\ttrain-merror:0.121771\tvalid-merror:0.225888\n",
      "\n"
     ]
    },
    {
     "name": "stdout",
     "output_type": "stream",
     "text": [
      "Accuracy: 0.7637 +/- 0.0036\n",
      "Starting training 246 params of 324\n"
     ]
    },
    {
     "name": "stderr",
     "output_type": "stream",
     "text": [
      "Will train until valid error hasn't decreased in 50 rounds.\n",
      "Stopping. Best iteration:\n",
      "[605]\ttrain-merror:0.161858\tvalid-merror:0.231615\n",
      "\n",
      "Will train until valid error hasn't decreased in 50 rounds.\n",
      "Stopping. Best iteration:\n",
      "[241]\ttrain-merror:0.210554\tvalid-merror:0.254871\n",
      "\n",
      "Will train until valid error hasn't decreased in 50 rounds.\n",
      "Stopping. Best iteration:\n",
      "[611]\ttrain-merror:0.162662\tvalid-merror:0.232244\n",
      "\n",
      "Will train until valid error hasn't decreased in 50 rounds.\n",
      "Stopping. Best iteration:\n",
      "[365]\ttrain-merror:0.187675\tvalid-merror:0.255419\n",
      "\n",
      "Will train until valid error hasn't decreased in 50 rounds.\n",
      "Stopping. Best iteration:\n",
      "[558]\ttrain-merror:0.167400\tvalid-merror:0.243167\n",
      "\n"
     ]
    },
    {
     "name": "stdout",
     "output_type": "stream",
     "text": [
      "Accuracy: 0.7512 +/- 0.0086\n",
      "Starting training 247 params of 324\n"
     ]
    },
    {
     "name": "stderr",
     "output_type": "stream",
     "text": [
      "Will train until valid error hasn't decreased in 50 rounds.\n",
      "Stopping. Best iteration:\n",
      "[186]\ttrain-merror:0.053371\tvalid-merror:0.223759\n",
      "\n",
      "Will train until valid error hasn't decreased in 50 rounds.\n",
      "Stopping. Best iteration:\n",
      "[121]\ttrain-merror:0.078543\tvalid-merror:0.228473\n",
      "\n",
      "Will train until valid error hasn't decreased in 50 rounds.\n",
      "Stopping. Best iteration:\n",
      "[121]\ttrain-merror:0.077595\tvalid-merror:0.229730\n",
      "\n",
      "Will train until valid error hasn't decreased in 50 rounds.\n",
      "Stopping. Best iteration:\n",
      "[136]\ttrain-merror:0.071229\tvalid-merror:0.232799\n",
      "\n",
      "Will train until valid error hasn't decreased in 50 rounds.\n",
      "Stopping. Best iteration:\n",
      "[114]\ttrain-merror:0.080890\tvalid-merror:0.226830\n",
      "\n"
     ]
    },
    {
     "name": "stdout",
     "output_type": "stream",
     "text": [
      "Accuracy: 0.7642 +/- 0.0029\n",
      "Starting training 248 params of 324\n"
     ]
    },
    {
     "name": "stderr",
     "output_type": "stream",
     "text": [
      "Will train until valid error hasn't decreased in 50 rounds.\n",
      "Stopping. Best iteration:\n",
      "[111]\ttrain-merror:0.123996\tvalid-merror:0.230987\n",
      "\n",
      "Will train until valid error hasn't decreased in 50 rounds.\n",
      "Stopping. Best iteration:\n",
      "[228]\ttrain-merror:0.081616\tvalid-merror:0.232558\n",
      "\n",
      "Will train until valid error hasn't decreased in 50 rounds.\n",
      "Stopping. Best iteration:\n",
      "[205]\ttrain-merror:0.084509\tvalid-merror:0.225644\n",
      "\n",
      "Will train until valid error hasn't decreased in 50 rounds.\n",
      "Stopping. Best iteration:\n",
      "[192]\ttrain-merror:0.090817\tvalid-merror:0.238768\n",
      "\n",
      "Will train until valid error hasn't decreased in 50 rounds.\n",
      "Stopping. Best iteration:\n",
      "[186]\ttrain-merror:0.093493\tvalid-merror:0.231857\n",
      "\n"
     ]
    },
    {
     "name": "stdout",
     "output_type": "stream",
     "text": [
      "Accuracy: 0.7626 +/- 0.0032\n",
      "Starting training 249 params of 324\n"
     ]
    },
    {
     "name": "stderr",
     "output_type": "stream",
     "text": [
      "Will train until valid error hasn't decreased in 50 rounds.\n",
      "Stopping. Best iteration:\n",
      "[385]\ttrain-merror:0.117429\tvalid-merror:0.226901\n",
      "\n",
      "Will train until valid error hasn't decreased in 50 rounds.\n",
      "Stopping. Best iteration:\n",
      "[289]\ttrain-merror:0.137005\tvalid-merror:0.236958\n",
      "\n",
      "Will train until valid error hasn't decreased in 50 rounds.\n",
      "Stopping. Best iteration:\n",
      "[354]\ttrain-merror:0.122783\tvalid-merror:0.227530\n",
      "\n",
      "Will train until valid error hasn't decreased in 50 rounds.\n",
      "Stopping. Best iteration:\n",
      "[256]\ttrain-merror:0.146823\tvalid-merror:0.247251\n",
      "\n",
      "Will train until valid error hasn't decreased in 50 rounds.\n",
      "Stopping. Best iteration:\n",
      "[504]\ttrain-merror:0.098450\tvalid-merror:0.228715\n",
      "\n"
     ]
    },
    {
     "name": "stdout",
     "output_type": "stream",
     "text": [
      "Accuracy: 0.7622 +/- 0.0063\n",
      "Starting training 250 params of 324\n"
     ]
    },
    {
     "name": "stderr",
     "output_type": "stream",
     "text": [
      "Will train until valid error hasn't decreased in 50 rounds.\n",
      "Stopping. Best iteration:\n",
      "[119]\ttrain-merror:0.031680\tvalid-merror:0.229730\n",
      "\n",
      "Will train until valid error hasn't decreased in 50 rounds.\n",
      "Stopping. Best iteration:\n",
      "[105]\ttrain-merror:0.037682\tvalid-merror:0.230358\n",
      "\n",
      "Will train until valid error hasn't decreased in 50 rounds.\n",
      "Stopping. Best iteration:\n",
      "[152]\ttrain-merror:0.023991\tvalid-merror:0.227216\n",
      "\n",
      "Will train until valid error hasn't decreased in 50 rounds.\n",
      "Stopping. Best iteration:\n",
      "[90]\ttrain-merror:0.044693\tvalid-merror:0.237826\n",
      "\n",
      "Will train until valid error hasn't decreased in 50 rounds.\n",
      "Stopping. Best iteration:\n",
      "[102]\ttrain-merror:0.039659\tvalid-merror:0.226202\n",
      "\n"
     ]
    },
    {
     "name": "stdout",
     "output_type": "stream",
     "text": [
      "Accuracy: 0.7612 +/- 0.0019\n",
      "Starting training 251 params of 324\n"
     ]
    },
    {
     "name": "stderr",
     "output_type": "stream",
     "text": [
      "Will train until valid error hasn't decreased in 50 rounds.\n",
      "Stopping. Best iteration:\n",
      "[177]\ttrain-merror:0.039015\tvalid-merror:0.227216\n",
      "\n",
      "Will train until valid error hasn't decreased in 50 rounds.\n",
      "Stopping. Best iteration:\n",
      "[197]\ttrain-merror:0.034295\tvalid-merror:0.224387\n",
      "\n",
      "Will train until valid error hasn't decreased in 50 rounds.\n",
      "Stopping. Best iteration:\n",
      "[98]\ttrain-merror:0.071937\tvalid-merror:0.223130\n",
      "\n",
      "Will train until valid error hasn't decreased in 50 rounds.\n",
      "Stopping. Best iteration:\n",
      "[102]\ttrain-merror:0.070461\tvalid-merror:0.240653\n",
      "\n",
      "Will train until valid error hasn't decreased in 50 rounds.\n",
      "Stopping. Best iteration:\n",
      "[127]\ttrain-merror:0.058442\tvalid-merror:0.228401\n",
      "\n"
     ]
    },
    {
     "name": "stdout",
     "output_type": "stream",
     "text": [
      "Accuracy: 0.7654 +/- 0.0042\n",
      "Starting training 252 params of 324\n"
     ]
    },
    {
     "name": "stderr",
     "output_type": "stream",
     "text": [
      "Will train until valid error hasn't decreased in 50 rounds.\n",
      "Stopping. Best iteration:\n",
      "[236]\ttrain-merror:0.079078\tvalid-merror:0.224073\n",
      "\n",
      "Will train until valid error hasn't decreased in 50 rounds.\n",
      "Stopping. Best iteration:\n",
      "[309]\ttrain-merror:0.062723\tvalid-merror:0.226901\n",
      "\n",
      "Will train until valid error hasn't decreased in 50 rounds.\n",
      "Stopping. Best iteration:\n",
      "[193]\ttrain-merror:0.092646\tvalid-merror:0.223759\n",
      "\n",
      "Will train until valid error hasn't decreased in 50 rounds.\n",
      "Stopping. Best iteration:\n",
      "[159]\ttrain-merror:0.106948\tvalid-merror:0.233428\n",
      "\n",
      "Will train until valid error hasn't decreased in 50 rounds.\n",
      "Stopping. Best iteration:\n",
      "[283]\ttrain-merror:0.066576\tvalid-merror:0.227144\n",
      "\n"
     ]
    },
    {
     "name": "stdout",
     "output_type": "stream",
     "text": [
      "Accuracy: 0.7687 +/- 0.0049\n",
      "Starting training 253 params of 324\n"
     ]
    },
    {
     "name": "stderr",
     "output_type": "stream",
     "text": [
      "Will train until valid error hasn't decreased in 50 rounds.\n",
      "Stopping. Best iteration:\n",
      "[173]\ttrain-merror:0.170520\tvalid-merror:0.237272\n",
      "\n",
      "Will train until valid error hasn't decreased in 50 rounds.\n",
      "Stopping. Best iteration:\n",
      "[257]\ttrain-merror:0.148355\tvalid-merror:0.231930\n",
      "\n",
      "Will train until valid error hasn't decreased in 50 rounds.\n",
      "Stopping. Best iteration:\n",
      "[255]\ttrain-merror:0.149532\tvalid-merror:0.230673\n",
      "\n",
      "Will train until valid error hasn't decreased in 50 rounds.\n",
      "Stopping. Best iteration:\n",
      "[303]\ttrain-merror:0.136767\tvalid-merror:0.238454\n",
      "\n",
      "Will train until valid error hasn't decreased in 50 rounds.\n",
      "Stopping. Best iteration:\n",
      "[205]\ttrain-merror:0.158532\tvalid-merror:0.238454\n",
      "\n"
     ]
    },
    {
     "name": "stdout",
     "output_type": "stream",
     "text": [
      "Accuracy: 0.7577 +/- 0.0024\n",
      "Starting training 254 params of 324\n"
     ]
    },
    {
     "name": "stderr",
     "output_type": "stream",
     "text": [
      "Will train until valid error hasn't decreased in 50 rounds.\n",
      "Stopping. Best iteration:\n",
      "[360]\ttrain-merror:0.171498\tvalid-merror:0.234444\n",
      "\n",
      "Will train until valid error hasn't decreased in 50 rounds.\n",
      "Stopping. Best iteration:\n",
      "[415]\ttrain-merror:0.161766\tvalid-merror:0.238215\n",
      "\n",
      "Will train until valid error hasn't decreased in 50 rounds.\n",
      "Stopping. Best iteration:\n",
      "[261]\ttrain-merror:0.187596\tvalid-merror:0.239786\n",
      "\n",
      "Will train until valid error hasn't decreased in 50 rounds.\n",
      "Stopping. Best iteration:\n",
      "[341]\ttrain-merror:0.172346\tvalid-merror:0.249450\n",
      "\n"
     ]
    }
   ],
   "source": [
    "serch = []\n",
    "ite = 1\n",
    "for params in grid:\n",
    "    print(\"Starting training {} params of {}\".format(ite, 324))\n",
    "    ite += 1\n",
    "    accuracies = []\n",
    "    for train_index, test_index in cv:\n",
    "        X_train = X[train_index]\n",
    "        X_test = X[test_index]\n",
    "        y_train = y[train_index]\n",
    "        y_test = y[test_index]\n",
    "        \n",
    "        X_t, X_v, y_t, y_v = train_test_split(X_train, y_train, test_size=0.1, random_state=0)\n",
    "        \n",
    "        dtrain = xgb.DMatrix(X_t, y_t)\n",
    "        dvalid = xgb.DMatrix(X_v, y_v)\n",
    "        dtest = xgb.DMatrix(X_test)\n",
    "        watchlist = [(dtrain, 'train'), (dvalid, 'valid')]\n",
    "        gbm = xgb.train(params, dtrain, num_trees, evals=watchlist, early_stopping_rounds=50, verbose_eval=False)\n",
    "        \n",
    "        if hasattr(gbm, 'best_iteration'):\n",
    "            preds = gbm.predict(dtest, ntree_limit = gbm.best_iteration).astype('int64')\n",
    "        else:\n",
    "            preds = gbm.predict(dtest).astype('int64')\n",
    "        accuracies.append(accuracy_score(y_test, preds))\n",
    "    print(\"Accuracy: {:.4f} +/- {:.4f}\".format(np.mean(accuracies), np.std(accuracies)))\n",
    "    serch.append((np.mean(accuracies), np.std(accuracies), params))"
   ]
  }
 ],
 "metadata": {
  "kernelspec": {
   "display_name": "Python 2",
   "language": "python",
   "name": "python2"
  },
  "language_info": {
   "codemirror_mode": {
    "name": "ipython",
    "version": 2
   },
   "file_extension": ".py",
   "mimetype": "text/x-python",
   "name": "python",
   "nbconvert_exporter": "python",
   "pygments_lexer": "ipython2",
   "version": "2.7.6"
  }
 },
 "nbformat": 4,
 "nbformat_minor": 0
}
